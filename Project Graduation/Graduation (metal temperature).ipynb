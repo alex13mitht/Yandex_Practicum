{
 "cells": [
  {
   "attachments": {},
   "cell_type": "markdown",
   "metadata": {},
   "source": [
    "# Модель определения условий для минимальной температуры"
   ]
  },
  {
   "attachments": {},
   "cell_type": "markdown",
   "metadata": {},
   "source": [
    "У металлурнического комбината стоит задача по снижению затрат энергии на нагрев металла. Одним из способов достижения цели является снижение температуры плавления сплава при розливе путем дабавления в сплав различных присадок. разработаем модель машинного обучения, которая по условиям процесса поможет определить температуры сплава на выходе."
   ]
  },
  {
   "attachments": {},
   "cell_type": "markdown",
   "metadata": {},
   "source": [
    "## краткий план работы"
   ]
  },
  {
   "attachments": {},
   "cell_type": "markdown",
   "metadata": {},
   "source": [
    "## План проекта\n",
    "**1. Проведение обзора данных (EDA)**\n",
    "\n",
    "**Подготовка данных:** \n",
    "* Импорт необходимых библиотек;\n",
    "* Чтение файлов и сохранение полученных данных в переменные;\n",
    "* Получение общей информации о таблицах (head, info, describe);\n",
    "* Корректировка наименований столбцов (при необходимости).\n",
    "\n",
    "**Анализ данных:**\n",
    "* Графическое представление данных из таблиц;\n",
    "* Проверка данных на аномалии.\n",
    "\n",
    "**Предобработка данных:**\n",
    "* Корректировка типов данных (при необходимости);\n",
    "* Заполнение пропусков / удаление дубликатов (при наличии);\n",
    "* Выделение признаков и таргета;\n",
    "* Соединение таблиц.\n",
    "\n",
    "**Исследование итоговой таблицы с данными:**\n",
    "* корреляционный анализ\n",
    "* графический анализ\n",
    "* выводы\n",
    "\n",
    "**2. Построение модели машинного обучения**\n",
    "\n",
    "**Обучение модели:**\n",
    "* Разделение данных на обучающую и тестовую выборки;\n",
    "* Масштабирование данных;\n",
    "* Обучение модели линейной регрессии;\n",
    "* Обучение модели градиентного бустинга с перебором гиперпараметров;\n",
    "* Константная модели.\n",
    "* Выбор лучшей модели\n",
    "\n",
    "**Проверка моделей:**\n",
    "* Тестирование лучшей модели на тестовой выборке;\n",
    "* Если MAE на тестовых данных > 6.8 - доработка модели.\n",
    "* Анализ важности факторов\n",
    "\n",
    "**3. Общий вывод**"
   ]
  },
  {
   "attachments": {},
   "cell_type": "markdown",
   "metadata": {},
   "source": [
    "## Импорт библиотек"
   ]
  },
  {
   "cell_type": "code",
   "execution_count": 1,
   "metadata": {},
   "outputs": [],
   "source": [
    "import pandas as pd\n",
    "import numpy as np\n",
    "import matplotlib.pyplot as plt\n",
    "import matplotlib\n",
    "import seaborn as sns\n",
    "from sklearn.linear_model import LinearRegression\n",
    "from sklearn.linear_model import Lasso\n",
    "from sklearn.metrics import mean_absolute_error\n",
    "from sklearn.model_selection import cross_val_score\n",
    "from sklearn.model_selection import train_test_split\n",
    "from sklearn.model_selection import GridSearchCV\n",
    "from sklearn.ensemble import RandomForestRegressor\n",
    "from sklearn.preprocessing import StandardScaler\n",
    "from scipy.stats import shapiro\n",
    "from catboost import CatBoostRegressor\n",
    "\n",
    "Global_random = 261222"
   ]
  },
  {
   "attachments": {},
   "cell_type": "markdown",
   "metadata": {},
   "source": [
    "## Чтение файлов"
   ]
  },
  {
   "cell_type": "code",
   "execution_count": 2,
   "metadata": {},
   "outputs": [
    {
     "data": {
      "text/plain": [
       "'/datasets/final_steel/data_arc.csv'"
      ]
     },
     "execution_count": 2,
     "metadata": {},
     "output_type": "execute_result"
    }
   ],
   "source": [
    "base_adr = '/datasets/final_steel/data_'\n",
    "base_adr+\"arc.csv\""
   ]
  },
  {
   "cell_type": "code",
   "execution_count": 3,
   "metadata": {},
   "outputs": [],
   "source": [
    "df_arc = pd.read_csv(base_adr+\"arc.csv\")\n",
    "df_bulk = pd.read_csv(base_adr+\"bulk.csv\")\n",
    "df_bulk_time = pd.read_csv(base_adr+\"bulk_time.csv\")\n",
    "df_gas = pd.read_csv(base_adr+\"gas.csv\")\n",
    "df_temp = pd.read_csv(base_adr+\"temp.csv\")\n",
    "df_wire = pd.read_csv(base_adr+\"wire.csv\")\n",
    "df_wire_time = pd.read_csv(base_adr+\"wire_time.csv\")"
   ]
  },
  {
   "attachments": {},
   "cell_type": "markdown",
   "metadata": {},
   "source": [
    "## Предобработка данных"
   ]
  },
  {
   "attachments": {},
   "cell_type": "markdown",
   "metadata": {},
   "source": [
    "### Знакомимся с содержимым таблиц"
   ]
  },
  {
   "cell_type": "code",
   "execution_count": 4,
   "metadata": {},
   "outputs": [
    {
     "data": {
      "text/html": [
       "<div>\n",
       "<style scoped>\n",
       "    .dataframe tbody tr th:only-of-type {\n",
       "        vertical-align: middle;\n",
       "    }\n",
       "\n",
       "    .dataframe tbody tr th {\n",
       "        vertical-align: top;\n",
       "    }\n",
       "\n",
       "    .dataframe thead th {\n",
       "        text-align: right;\n",
       "    }\n",
       "</style>\n",
       "<table border=\"1\" class=\"dataframe\">\n",
       "  <thead>\n",
       "    <tr style=\"text-align: right;\">\n",
       "      <th></th>\n",
       "      <th>key</th>\n",
       "      <th>Начало нагрева дугой</th>\n",
       "      <th>Конец нагрева дугой</th>\n",
       "      <th>Активная мощность</th>\n",
       "      <th>Реактивная мощность</th>\n",
       "    </tr>\n",
       "  </thead>\n",
       "  <tbody>\n",
       "    <tr>\n",
       "      <th>0</th>\n",
       "      <td>1</td>\n",
       "      <td>2019-05-03 11:02:14</td>\n",
       "      <td>2019-05-03 11:06:02</td>\n",
       "      <td>0.976059</td>\n",
       "      <td>0.687084</td>\n",
       "    </tr>\n",
       "    <tr>\n",
       "      <th>1</th>\n",
       "      <td>1</td>\n",
       "      <td>2019-05-03 11:07:28</td>\n",
       "      <td>2019-05-03 11:10:33</td>\n",
       "      <td>0.805607</td>\n",
       "      <td>0.520285</td>\n",
       "    </tr>\n",
       "    <tr>\n",
       "      <th>2</th>\n",
       "      <td>1</td>\n",
       "      <td>2019-05-03 11:11:44</td>\n",
       "      <td>2019-05-03 11:14:36</td>\n",
       "      <td>0.744363</td>\n",
       "      <td>0.498805</td>\n",
       "    </tr>\n",
       "    <tr>\n",
       "      <th>3</th>\n",
       "      <td>1</td>\n",
       "      <td>2019-05-03 11:18:14</td>\n",
       "      <td>2019-05-03 11:24:19</td>\n",
       "      <td>1.659363</td>\n",
       "      <td>1.062669</td>\n",
       "    </tr>\n",
       "    <tr>\n",
       "      <th>4</th>\n",
       "      <td>1</td>\n",
       "      <td>2019-05-03 11:26:09</td>\n",
       "      <td>2019-05-03 11:28:37</td>\n",
       "      <td>0.692755</td>\n",
       "      <td>0.414397</td>\n",
       "    </tr>\n",
       "    <tr>\n",
       "      <th>...</th>\n",
       "      <td>...</td>\n",
       "      <td>...</td>\n",
       "      <td>...</td>\n",
       "      <td>...</td>\n",
       "      <td>...</td>\n",
       "    </tr>\n",
       "    <tr>\n",
       "      <th>14871</th>\n",
       "      <td>3241</td>\n",
       "      <td>2019-09-01 03:58:58</td>\n",
       "      <td>2019-09-01 04:01:35</td>\n",
       "      <td>0.533670</td>\n",
       "      <td>0.354439</td>\n",
       "    </tr>\n",
       "    <tr>\n",
       "      <th>14872</th>\n",
       "      <td>3241</td>\n",
       "      <td>2019-09-01 04:05:04</td>\n",
       "      <td>2019-09-01 04:08:04</td>\n",
       "      <td>0.676604</td>\n",
       "      <td>0.523631</td>\n",
       "    </tr>\n",
       "    <tr>\n",
       "      <th>14873</th>\n",
       "      <td>3241</td>\n",
       "      <td>2019-09-01 04:16:41</td>\n",
       "      <td>2019-09-01 04:19:45</td>\n",
       "      <td>0.733899</td>\n",
       "      <td>0.475654</td>\n",
       "    </tr>\n",
       "    <tr>\n",
       "      <th>14874</th>\n",
       "      <td>3241</td>\n",
       "      <td>2019-09-01 04:31:51</td>\n",
       "      <td>2019-09-01 04:32:48</td>\n",
       "      <td>0.220694</td>\n",
       "      <td>0.145768</td>\n",
       "    </tr>\n",
       "    <tr>\n",
       "      <th>14875</th>\n",
       "      <td>3241</td>\n",
       "      <td>2019-09-01 04:34:47</td>\n",
       "      <td>2019-09-01 04:36:08</td>\n",
       "      <td>0.306580</td>\n",
       "      <td>0.196708</td>\n",
       "    </tr>\n",
       "  </tbody>\n",
       "</table>\n",
       "<p>14876 rows × 5 columns</p>\n",
       "</div>"
      ],
      "text/plain": [
       "        key Начало нагрева дугой  Конец нагрева дугой  Активная мощность  \\\n",
       "0         1  2019-05-03 11:02:14  2019-05-03 11:06:02           0.976059   \n",
       "1         1  2019-05-03 11:07:28  2019-05-03 11:10:33           0.805607   \n",
       "2         1  2019-05-03 11:11:44  2019-05-03 11:14:36           0.744363   \n",
       "3         1  2019-05-03 11:18:14  2019-05-03 11:24:19           1.659363   \n",
       "4         1  2019-05-03 11:26:09  2019-05-03 11:28:37           0.692755   \n",
       "...     ...                  ...                  ...                ...   \n",
       "14871  3241  2019-09-01 03:58:58  2019-09-01 04:01:35           0.533670   \n",
       "14872  3241  2019-09-01 04:05:04  2019-09-01 04:08:04           0.676604   \n",
       "14873  3241  2019-09-01 04:16:41  2019-09-01 04:19:45           0.733899   \n",
       "14874  3241  2019-09-01 04:31:51  2019-09-01 04:32:48           0.220694   \n",
       "14875  3241  2019-09-01 04:34:47  2019-09-01 04:36:08           0.306580   \n",
       "\n",
       "       Реактивная мощность  \n",
       "0                 0.687084  \n",
       "1                 0.520285  \n",
       "2                 0.498805  \n",
       "3                 1.062669  \n",
       "4                 0.414397  \n",
       "...                    ...  \n",
       "14871             0.354439  \n",
       "14872             0.523631  \n",
       "14873             0.475654  \n",
       "14874             0.145768  \n",
       "14875             0.196708  \n",
       "\n",
       "[14876 rows x 5 columns]"
      ]
     },
     "execution_count": 4,
     "metadata": {},
     "output_type": "execute_result"
    }
   ],
   "source": [
    "df_arc"
   ]
  },
  {
   "cell_type": "code",
   "execution_count": 5,
   "metadata": {},
   "outputs": [
    {
     "name": "stdout",
     "output_type": "stream",
     "text": [
      "<class 'pandas.core.frame.DataFrame'>\n",
      "RangeIndex: 14876 entries, 0 to 14875\n",
      "Data columns (total 5 columns):\n",
      " #   Column                Non-Null Count  Dtype  \n",
      "---  ------                --------------  -----  \n",
      " 0   key                   14876 non-null  int64  \n",
      " 1   Начало нагрева дугой  14876 non-null  object \n",
      " 2   Конец нагрева дугой   14876 non-null  object \n",
      " 3   Активная мощность     14876 non-null  float64\n",
      " 4   Реактивная мощность   14876 non-null  float64\n",
      "dtypes: float64(2), int64(1), object(2)\n",
      "memory usage: 581.2+ KB\n"
     ]
    }
   ],
   "source": [
    "df_arc.info()"
   ]
  },
  {
   "cell_type": "code",
   "execution_count": 6,
   "metadata": {},
   "outputs": [
    {
     "data": {
      "text/html": [
       "<div>\n",
       "<style scoped>\n",
       "    .dataframe tbody tr th:only-of-type {\n",
       "        vertical-align: middle;\n",
       "    }\n",
       "\n",
       "    .dataframe tbody tr th {\n",
       "        vertical-align: top;\n",
       "    }\n",
       "\n",
       "    .dataframe thead th {\n",
       "        text-align: right;\n",
       "    }\n",
       "</style>\n",
       "<table border=\"1\" class=\"dataframe\">\n",
       "  <thead>\n",
       "    <tr style=\"text-align: right;\">\n",
       "      <th></th>\n",
       "      <th>key</th>\n",
       "      <th>Активная мощность</th>\n",
       "      <th>Реактивная мощность</th>\n",
       "    </tr>\n",
       "  </thead>\n",
       "  <tbody>\n",
       "    <tr>\n",
       "      <th>count</th>\n",
       "      <td>14876.000000</td>\n",
       "      <td>14876.000000</td>\n",
       "      <td>14876.000000</td>\n",
       "    </tr>\n",
       "    <tr>\n",
       "      <th>mean</th>\n",
       "      <td>1615.220422</td>\n",
       "      <td>0.670441</td>\n",
       "      <td>0.452592</td>\n",
       "    </tr>\n",
       "    <tr>\n",
       "      <th>std</th>\n",
       "      <td>934.571502</td>\n",
       "      <td>0.408159</td>\n",
       "      <td>5.878702</td>\n",
       "    </tr>\n",
       "    <tr>\n",
       "      <th>min</th>\n",
       "      <td>1.000000</td>\n",
       "      <td>0.030002</td>\n",
       "      <td>-715.504924</td>\n",
       "    </tr>\n",
       "    <tr>\n",
       "      <th>25%</th>\n",
       "      <td>806.000000</td>\n",
       "      <td>0.395297</td>\n",
       "      <td>0.290991</td>\n",
       "    </tr>\n",
       "    <tr>\n",
       "      <th>50%</th>\n",
       "      <td>1617.000000</td>\n",
       "      <td>0.555517</td>\n",
       "      <td>0.415962</td>\n",
       "    </tr>\n",
       "    <tr>\n",
       "      <th>75%</th>\n",
       "      <td>2429.000000</td>\n",
       "      <td>0.857034</td>\n",
       "      <td>0.637371</td>\n",
       "    </tr>\n",
       "    <tr>\n",
       "      <th>max</th>\n",
       "      <td>3241.000000</td>\n",
       "      <td>3.731596</td>\n",
       "      <td>2.676388</td>\n",
       "    </tr>\n",
       "  </tbody>\n",
       "</table>\n",
       "</div>"
      ],
      "text/plain": [
       "                key  Активная мощность  Реактивная мощность\n",
       "count  14876.000000       14876.000000         14876.000000\n",
       "mean    1615.220422           0.670441             0.452592\n",
       "std      934.571502           0.408159             5.878702\n",
       "min        1.000000           0.030002          -715.504924\n",
       "25%      806.000000           0.395297             0.290991\n",
       "50%     1617.000000           0.555517             0.415962\n",
       "75%     2429.000000           0.857034             0.637371\n",
       "max     3241.000000           3.731596             2.676388"
      ]
     },
     "execution_count": 6,
     "metadata": {},
     "output_type": "execute_result"
    }
   ],
   "source": [
    "df_arc.describe()"
   ]
  },
  {
   "cell_type": "code",
   "execution_count": 7,
   "metadata": {},
   "outputs": [
    {
     "data": {
      "text/html": [
       "<div>\n",
       "<style scoped>\n",
       "    .dataframe tbody tr th:only-of-type {\n",
       "        vertical-align: middle;\n",
       "    }\n",
       "\n",
       "    .dataframe tbody tr th {\n",
       "        vertical-align: top;\n",
       "    }\n",
       "\n",
       "    .dataframe thead th {\n",
       "        text-align: right;\n",
       "    }\n",
       "</style>\n",
       "<table border=\"1\" class=\"dataframe\">\n",
       "  <thead>\n",
       "    <tr style=\"text-align: right;\">\n",
       "      <th></th>\n",
       "      <th>Начало нагрева дугой</th>\n",
       "    </tr>\n",
       "    <tr>\n",
       "      <th>key</th>\n",
       "      <th></th>\n",
       "    </tr>\n",
       "  </thead>\n",
       "  <tbody>\n",
       "    <tr>\n",
       "      <th>1</th>\n",
       "      <td>5</td>\n",
       "    </tr>\n",
       "    <tr>\n",
       "      <th>2</th>\n",
       "      <td>4</td>\n",
       "    </tr>\n",
       "    <tr>\n",
       "      <th>3</th>\n",
       "      <td>5</td>\n",
       "    </tr>\n",
       "    <tr>\n",
       "      <th>4</th>\n",
       "      <td>4</td>\n",
       "    </tr>\n",
       "    <tr>\n",
       "      <th>5</th>\n",
       "      <td>4</td>\n",
       "    </tr>\n",
       "    <tr>\n",
       "      <th>...</th>\n",
       "      <td>...</td>\n",
       "    </tr>\n",
       "    <tr>\n",
       "      <th>3237</th>\n",
       "      <td>5</td>\n",
       "    </tr>\n",
       "    <tr>\n",
       "      <th>3238</th>\n",
       "      <td>3</td>\n",
       "    </tr>\n",
       "    <tr>\n",
       "      <th>3239</th>\n",
       "      <td>8</td>\n",
       "    </tr>\n",
       "    <tr>\n",
       "      <th>3240</th>\n",
       "      <td>5</td>\n",
       "    </tr>\n",
       "    <tr>\n",
       "      <th>3241</th>\n",
       "      <td>5</td>\n",
       "    </tr>\n",
       "  </tbody>\n",
       "</table>\n",
       "<p>3214 rows × 1 columns</p>\n",
       "</div>"
      ],
      "text/plain": [
       "      Начало нагрева дугой\n",
       "key                       \n",
       "1                        5\n",
       "2                        4\n",
       "3                        5\n",
       "4                        4\n",
       "5                        4\n",
       "...                    ...\n",
       "3237                     5\n",
       "3238                     3\n",
       "3239                     8\n",
       "3240                     5\n",
       "3241                     5\n",
       "\n",
       "[3214 rows x 1 columns]"
      ]
     },
     "execution_count": 7,
     "metadata": {},
     "output_type": "execute_result"
    }
   ],
   "source": [
    "df_arc[['Начало нагрева дугой', 'key']].groupby('key').agg('count')"
   ]
  },
  {
   "cell_type": "code",
   "execution_count": 8,
   "metadata": {},
   "outputs": [
    {
     "data": {
      "text/html": [
       "<div>\n",
       "<style scoped>\n",
       "    .dataframe tbody tr th:only-of-type {\n",
       "        vertical-align: middle;\n",
       "    }\n",
       "\n",
       "    .dataframe tbody tr th {\n",
       "        vertical-align: top;\n",
       "    }\n",
       "\n",
       "    .dataframe thead th {\n",
       "        text-align: right;\n",
       "    }\n",
       "</style>\n",
       "<table border=\"1\" class=\"dataframe\">\n",
       "  <thead>\n",
       "    <tr style=\"text-align: right;\">\n",
       "      <th></th>\n",
       "      <th>key</th>\n",
       "      <th>Bulk 1</th>\n",
       "      <th>Bulk 2</th>\n",
       "      <th>Bulk 3</th>\n",
       "      <th>Bulk 4</th>\n",
       "      <th>Bulk 5</th>\n",
       "      <th>Bulk 6</th>\n",
       "      <th>Bulk 7</th>\n",
       "      <th>Bulk 8</th>\n",
       "      <th>Bulk 9</th>\n",
       "      <th>Bulk 10</th>\n",
       "      <th>Bulk 11</th>\n",
       "      <th>Bulk 12</th>\n",
       "      <th>Bulk 13</th>\n",
       "      <th>Bulk 14</th>\n",
       "      <th>Bulk 15</th>\n",
       "    </tr>\n",
       "  </thead>\n",
       "  <tbody>\n",
       "    <tr>\n",
       "      <th>0</th>\n",
       "      <td>1</td>\n",
       "      <td>NaN</td>\n",
       "      <td>NaN</td>\n",
       "      <td>NaN</td>\n",
       "      <td>43.0</td>\n",
       "      <td>NaN</td>\n",
       "      <td>NaN</td>\n",
       "      <td>NaN</td>\n",
       "      <td>NaN</td>\n",
       "      <td>NaN</td>\n",
       "      <td>NaN</td>\n",
       "      <td>NaN</td>\n",
       "      <td>206.0</td>\n",
       "      <td>NaN</td>\n",
       "      <td>150.0</td>\n",
       "      <td>154.0</td>\n",
       "    </tr>\n",
       "    <tr>\n",
       "      <th>1</th>\n",
       "      <td>2</td>\n",
       "      <td>NaN</td>\n",
       "      <td>NaN</td>\n",
       "      <td>NaN</td>\n",
       "      <td>73.0</td>\n",
       "      <td>NaN</td>\n",
       "      <td>NaN</td>\n",
       "      <td>NaN</td>\n",
       "      <td>NaN</td>\n",
       "      <td>NaN</td>\n",
       "      <td>NaN</td>\n",
       "      <td>NaN</td>\n",
       "      <td>206.0</td>\n",
       "      <td>NaN</td>\n",
       "      <td>149.0</td>\n",
       "      <td>154.0</td>\n",
       "    </tr>\n",
       "    <tr>\n",
       "      <th>2</th>\n",
       "      <td>3</td>\n",
       "      <td>NaN</td>\n",
       "      <td>NaN</td>\n",
       "      <td>NaN</td>\n",
       "      <td>34.0</td>\n",
       "      <td>NaN</td>\n",
       "      <td>NaN</td>\n",
       "      <td>NaN</td>\n",
       "      <td>NaN</td>\n",
       "      <td>NaN</td>\n",
       "      <td>NaN</td>\n",
       "      <td>NaN</td>\n",
       "      <td>205.0</td>\n",
       "      <td>NaN</td>\n",
       "      <td>152.0</td>\n",
       "      <td>153.0</td>\n",
       "    </tr>\n",
       "    <tr>\n",
       "      <th>3</th>\n",
       "      <td>4</td>\n",
       "      <td>NaN</td>\n",
       "      <td>NaN</td>\n",
       "      <td>NaN</td>\n",
       "      <td>81.0</td>\n",
       "      <td>NaN</td>\n",
       "      <td>NaN</td>\n",
       "      <td>NaN</td>\n",
       "      <td>NaN</td>\n",
       "      <td>NaN</td>\n",
       "      <td>NaN</td>\n",
       "      <td>NaN</td>\n",
       "      <td>207.0</td>\n",
       "      <td>NaN</td>\n",
       "      <td>153.0</td>\n",
       "      <td>154.0</td>\n",
       "    </tr>\n",
       "    <tr>\n",
       "      <th>4</th>\n",
       "      <td>5</td>\n",
       "      <td>NaN</td>\n",
       "      <td>NaN</td>\n",
       "      <td>NaN</td>\n",
       "      <td>78.0</td>\n",
       "      <td>NaN</td>\n",
       "      <td>NaN</td>\n",
       "      <td>NaN</td>\n",
       "      <td>NaN</td>\n",
       "      <td>NaN</td>\n",
       "      <td>NaN</td>\n",
       "      <td>NaN</td>\n",
       "      <td>203.0</td>\n",
       "      <td>NaN</td>\n",
       "      <td>151.0</td>\n",
       "      <td>152.0</td>\n",
       "    </tr>\n",
       "    <tr>\n",
       "      <th>...</th>\n",
       "      <td>...</td>\n",
       "      <td>...</td>\n",
       "      <td>...</td>\n",
       "      <td>...</td>\n",
       "      <td>...</td>\n",
       "      <td>...</td>\n",
       "      <td>...</td>\n",
       "      <td>...</td>\n",
       "      <td>...</td>\n",
       "      <td>...</td>\n",
       "      <td>...</td>\n",
       "      <td>...</td>\n",
       "      <td>...</td>\n",
       "      <td>...</td>\n",
       "      <td>...</td>\n",
       "      <td>...</td>\n",
       "    </tr>\n",
       "    <tr>\n",
       "      <th>3124</th>\n",
       "      <td>3237</td>\n",
       "      <td>NaN</td>\n",
       "      <td>NaN</td>\n",
       "      <td>170.0</td>\n",
       "      <td>NaN</td>\n",
       "      <td>NaN</td>\n",
       "      <td>NaN</td>\n",
       "      <td>NaN</td>\n",
       "      <td>NaN</td>\n",
       "      <td>NaN</td>\n",
       "      <td>NaN</td>\n",
       "      <td>NaN</td>\n",
       "      <td>252.0</td>\n",
       "      <td>NaN</td>\n",
       "      <td>130.0</td>\n",
       "      <td>206.0</td>\n",
       "    </tr>\n",
       "    <tr>\n",
       "      <th>3125</th>\n",
       "      <td>3238</td>\n",
       "      <td>NaN</td>\n",
       "      <td>NaN</td>\n",
       "      <td>126.0</td>\n",
       "      <td>NaN</td>\n",
       "      <td>NaN</td>\n",
       "      <td>NaN</td>\n",
       "      <td>NaN</td>\n",
       "      <td>NaN</td>\n",
       "      <td>NaN</td>\n",
       "      <td>NaN</td>\n",
       "      <td>NaN</td>\n",
       "      <td>254.0</td>\n",
       "      <td>NaN</td>\n",
       "      <td>108.0</td>\n",
       "      <td>106.0</td>\n",
       "    </tr>\n",
       "    <tr>\n",
       "      <th>3126</th>\n",
       "      <td>3239</td>\n",
       "      <td>NaN</td>\n",
       "      <td>NaN</td>\n",
       "      <td>NaN</td>\n",
       "      <td>NaN</td>\n",
       "      <td>NaN</td>\n",
       "      <td>114.0</td>\n",
       "      <td>NaN</td>\n",
       "      <td>NaN</td>\n",
       "      <td>NaN</td>\n",
       "      <td>NaN</td>\n",
       "      <td>NaN</td>\n",
       "      <td>158.0</td>\n",
       "      <td>NaN</td>\n",
       "      <td>270.0</td>\n",
       "      <td>88.0</td>\n",
       "    </tr>\n",
       "    <tr>\n",
       "      <th>3127</th>\n",
       "      <td>3240</td>\n",
       "      <td>NaN</td>\n",
       "      <td>NaN</td>\n",
       "      <td>NaN</td>\n",
       "      <td>NaN</td>\n",
       "      <td>NaN</td>\n",
       "      <td>26.0</td>\n",
       "      <td>NaN</td>\n",
       "      <td>NaN</td>\n",
       "      <td>NaN</td>\n",
       "      <td>NaN</td>\n",
       "      <td>NaN</td>\n",
       "      <td>NaN</td>\n",
       "      <td>NaN</td>\n",
       "      <td>192.0</td>\n",
       "      <td>54.0</td>\n",
       "    </tr>\n",
       "    <tr>\n",
       "      <th>3128</th>\n",
       "      <td>3241</td>\n",
       "      <td>NaN</td>\n",
       "      <td>NaN</td>\n",
       "      <td>NaN</td>\n",
       "      <td>NaN</td>\n",
       "      <td>NaN</td>\n",
       "      <td>NaN</td>\n",
       "      <td>NaN</td>\n",
       "      <td>NaN</td>\n",
       "      <td>NaN</td>\n",
       "      <td>NaN</td>\n",
       "      <td>NaN</td>\n",
       "      <td>NaN</td>\n",
       "      <td>NaN</td>\n",
       "      <td>180.0</td>\n",
       "      <td>52.0</td>\n",
       "    </tr>\n",
       "  </tbody>\n",
       "</table>\n",
       "<p>3129 rows × 16 columns</p>\n",
       "</div>"
      ],
      "text/plain": [
       "       key  Bulk 1  Bulk 2  Bulk 3  Bulk 4  Bulk 5  Bulk 6  Bulk 7  Bulk 8  \\\n",
       "0        1     NaN     NaN     NaN    43.0     NaN     NaN     NaN     NaN   \n",
       "1        2     NaN     NaN     NaN    73.0     NaN     NaN     NaN     NaN   \n",
       "2        3     NaN     NaN     NaN    34.0     NaN     NaN     NaN     NaN   \n",
       "3        4     NaN     NaN     NaN    81.0     NaN     NaN     NaN     NaN   \n",
       "4        5     NaN     NaN     NaN    78.0     NaN     NaN     NaN     NaN   \n",
       "...    ...     ...     ...     ...     ...     ...     ...     ...     ...   \n",
       "3124  3237     NaN     NaN   170.0     NaN     NaN     NaN     NaN     NaN   \n",
       "3125  3238     NaN     NaN   126.0     NaN     NaN     NaN     NaN     NaN   \n",
       "3126  3239     NaN     NaN     NaN     NaN     NaN   114.0     NaN     NaN   \n",
       "3127  3240     NaN     NaN     NaN     NaN     NaN    26.0     NaN     NaN   \n",
       "3128  3241     NaN     NaN     NaN     NaN     NaN     NaN     NaN     NaN   \n",
       "\n",
       "      Bulk 9  Bulk 10  Bulk 11  Bulk 12  Bulk 13  Bulk 14  Bulk 15  \n",
       "0        NaN      NaN      NaN    206.0      NaN    150.0    154.0  \n",
       "1        NaN      NaN      NaN    206.0      NaN    149.0    154.0  \n",
       "2        NaN      NaN      NaN    205.0      NaN    152.0    153.0  \n",
       "3        NaN      NaN      NaN    207.0      NaN    153.0    154.0  \n",
       "4        NaN      NaN      NaN    203.0      NaN    151.0    152.0  \n",
       "...      ...      ...      ...      ...      ...      ...      ...  \n",
       "3124     NaN      NaN      NaN    252.0      NaN    130.0    206.0  \n",
       "3125     NaN      NaN      NaN    254.0      NaN    108.0    106.0  \n",
       "3126     NaN      NaN      NaN    158.0      NaN    270.0     88.0  \n",
       "3127     NaN      NaN      NaN      NaN      NaN    192.0     54.0  \n",
       "3128     NaN      NaN      NaN      NaN      NaN    180.0     52.0  \n",
       "\n",
       "[3129 rows x 16 columns]"
      ]
     },
     "execution_count": 8,
     "metadata": {},
     "output_type": "execute_result"
    }
   ],
   "source": [
    "df_bulk"
   ]
  },
  {
   "cell_type": "code",
   "execution_count": 9,
   "metadata": {},
   "outputs": [
    {
     "name": "stdout",
     "output_type": "stream",
     "text": [
      "<class 'pandas.core.frame.DataFrame'>\n",
      "RangeIndex: 3129 entries, 0 to 3128\n",
      "Data columns (total 16 columns):\n",
      " #   Column   Non-Null Count  Dtype  \n",
      "---  ------   --------------  -----  \n",
      " 0   key      3129 non-null   int64  \n",
      " 1   Bulk 1   252 non-null    float64\n",
      " 2   Bulk 2   22 non-null     float64\n",
      " 3   Bulk 3   1298 non-null   float64\n",
      " 4   Bulk 4   1014 non-null   float64\n",
      " 5   Bulk 5   77 non-null     float64\n",
      " 6   Bulk 6   576 non-null    float64\n",
      " 7   Bulk 7   25 non-null     float64\n",
      " 8   Bulk 8   1 non-null      float64\n",
      " 9   Bulk 9   19 non-null     float64\n",
      " 10  Bulk 10  176 non-null    float64\n",
      " 11  Bulk 11  177 non-null    float64\n",
      " 12  Bulk 12  2450 non-null   float64\n",
      " 13  Bulk 13  18 non-null     float64\n",
      " 14  Bulk 14  2806 non-null   float64\n",
      " 15  Bulk 15  2248 non-null   float64\n",
      "dtypes: float64(15), int64(1)\n",
      "memory usage: 391.2 KB\n"
     ]
    }
   ],
   "source": [
    "df_bulk.info()"
   ]
  },
  {
   "cell_type": "code",
   "execution_count": 10,
   "metadata": {},
   "outputs": [
    {
     "data": {
      "text/html": [
       "<div>\n",
       "<style scoped>\n",
       "    .dataframe tbody tr th:only-of-type {\n",
       "        vertical-align: middle;\n",
       "    }\n",
       "\n",
       "    .dataframe tbody tr th {\n",
       "        vertical-align: top;\n",
       "    }\n",
       "\n",
       "    .dataframe thead th {\n",
       "        text-align: right;\n",
       "    }\n",
       "</style>\n",
       "<table border=\"1\" class=\"dataframe\">\n",
       "  <thead>\n",
       "    <tr style=\"text-align: right;\">\n",
       "      <th></th>\n",
       "      <th>key</th>\n",
       "      <th>Bulk 1</th>\n",
       "      <th>Bulk 2</th>\n",
       "      <th>Bulk 3</th>\n",
       "      <th>Bulk 4</th>\n",
       "      <th>Bulk 5</th>\n",
       "      <th>Bulk 6</th>\n",
       "      <th>Bulk 7</th>\n",
       "      <th>Bulk 8</th>\n",
       "      <th>Bulk 9</th>\n",
       "      <th>Bulk 10</th>\n",
       "      <th>Bulk 11</th>\n",
       "      <th>Bulk 12</th>\n",
       "      <th>Bulk 13</th>\n",
       "      <th>Bulk 14</th>\n",
       "      <th>Bulk 15</th>\n",
       "    </tr>\n",
       "  </thead>\n",
       "  <tbody>\n",
       "    <tr>\n",
       "      <th>count</th>\n",
       "      <td>3129.000000</td>\n",
       "      <td>252.000000</td>\n",
       "      <td>22.000000</td>\n",
       "      <td>1298.000000</td>\n",
       "      <td>1014.000000</td>\n",
       "      <td>77.000000</td>\n",
       "      <td>576.000000</td>\n",
       "      <td>25.000000</td>\n",
       "      <td>1.0</td>\n",
       "      <td>19.000000</td>\n",
       "      <td>176.000000</td>\n",
       "      <td>177.000000</td>\n",
       "      <td>2450.000000</td>\n",
       "      <td>18.000000</td>\n",
       "      <td>2806.000000</td>\n",
       "      <td>2248.000000</td>\n",
       "    </tr>\n",
       "    <tr>\n",
       "      <th>mean</th>\n",
       "      <td>1624.383509</td>\n",
       "      <td>39.242063</td>\n",
       "      <td>253.045455</td>\n",
       "      <td>113.879045</td>\n",
       "      <td>104.394477</td>\n",
       "      <td>107.025974</td>\n",
       "      <td>118.925347</td>\n",
       "      <td>305.600000</td>\n",
       "      <td>49.0</td>\n",
       "      <td>76.315789</td>\n",
       "      <td>83.284091</td>\n",
       "      <td>76.819209</td>\n",
       "      <td>260.471020</td>\n",
       "      <td>181.111111</td>\n",
       "      <td>170.284747</td>\n",
       "      <td>160.513345</td>\n",
       "    </tr>\n",
       "    <tr>\n",
       "      <th>std</th>\n",
       "      <td>933.337642</td>\n",
       "      <td>18.277654</td>\n",
       "      <td>21.180578</td>\n",
       "      <td>75.483494</td>\n",
       "      <td>48.184126</td>\n",
       "      <td>81.790646</td>\n",
       "      <td>72.057776</td>\n",
       "      <td>191.022904</td>\n",
       "      <td>NaN</td>\n",
       "      <td>21.720581</td>\n",
       "      <td>26.060347</td>\n",
       "      <td>59.655365</td>\n",
       "      <td>120.649269</td>\n",
       "      <td>46.088009</td>\n",
       "      <td>65.868652</td>\n",
       "      <td>51.765319</td>\n",
       "    </tr>\n",
       "    <tr>\n",
       "      <th>min</th>\n",
       "      <td>1.000000</td>\n",
       "      <td>10.000000</td>\n",
       "      <td>228.000000</td>\n",
       "      <td>6.000000</td>\n",
       "      <td>12.000000</td>\n",
       "      <td>11.000000</td>\n",
       "      <td>17.000000</td>\n",
       "      <td>47.000000</td>\n",
       "      <td>49.0</td>\n",
       "      <td>63.000000</td>\n",
       "      <td>24.000000</td>\n",
       "      <td>8.000000</td>\n",
       "      <td>53.000000</td>\n",
       "      <td>151.000000</td>\n",
       "      <td>16.000000</td>\n",
       "      <td>1.000000</td>\n",
       "    </tr>\n",
       "    <tr>\n",
       "      <th>25%</th>\n",
       "      <td>816.000000</td>\n",
       "      <td>27.000000</td>\n",
       "      <td>242.000000</td>\n",
       "      <td>58.000000</td>\n",
       "      <td>72.000000</td>\n",
       "      <td>70.000000</td>\n",
       "      <td>69.750000</td>\n",
       "      <td>155.000000</td>\n",
       "      <td>49.0</td>\n",
       "      <td>66.000000</td>\n",
       "      <td>64.000000</td>\n",
       "      <td>25.000000</td>\n",
       "      <td>204.000000</td>\n",
       "      <td>153.250000</td>\n",
       "      <td>119.000000</td>\n",
       "      <td>105.000000</td>\n",
       "    </tr>\n",
       "    <tr>\n",
       "      <th>50%</th>\n",
       "      <td>1622.000000</td>\n",
       "      <td>31.000000</td>\n",
       "      <td>251.500000</td>\n",
       "      <td>97.500000</td>\n",
       "      <td>102.000000</td>\n",
       "      <td>86.000000</td>\n",
       "      <td>100.000000</td>\n",
       "      <td>298.000000</td>\n",
       "      <td>49.0</td>\n",
       "      <td>68.000000</td>\n",
       "      <td>86.500000</td>\n",
       "      <td>64.000000</td>\n",
       "      <td>208.000000</td>\n",
       "      <td>155.500000</td>\n",
       "      <td>151.000000</td>\n",
       "      <td>160.000000</td>\n",
       "    </tr>\n",
       "    <tr>\n",
       "      <th>75%</th>\n",
       "      <td>2431.000000</td>\n",
       "      <td>46.000000</td>\n",
       "      <td>257.750000</td>\n",
       "      <td>152.000000</td>\n",
       "      <td>133.000000</td>\n",
       "      <td>132.000000</td>\n",
       "      <td>157.000000</td>\n",
       "      <td>406.000000</td>\n",
       "      <td>49.0</td>\n",
       "      <td>70.500000</td>\n",
       "      <td>102.000000</td>\n",
       "      <td>106.000000</td>\n",
       "      <td>316.000000</td>\n",
       "      <td>203.500000</td>\n",
       "      <td>205.750000</td>\n",
       "      <td>205.000000</td>\n",
       "    </tr>\n",
       "    <tr>\n",
       "      <th>max</th>\n",
       "      <td>3241.000000</td>\n",
       "      <td>185.000000</td>\n",
       "      <td>325.000000</td>\n",
       "      <td>454.000000</td>\n",
       "      <td>281.000000</td>\n",
       "      <td>603.000000</td>\n",
       "      <td>503.000000</td>\n",
       "      <td>772.000000</td>\n",
       "      <td>49.0</td>\n",
       "      <td>147.000000</td>\n",
       "      <td>159.000000</td>\n",
       "      <td>313.000000</td>\n",
       "      <td>1849.000000</td>\n",
       "      <td>305.000000</td>\n",
       "      <td>636.000000</td>\n",
       "      <td>405.000000</td>\n",
       "    </tr>\n",
       "  </tbody>\n",
       "</table>\n",
       "</div>"
      ],
      "text/plain": [
       "               key      Bulk 1      Bulk 2       Bulk 3       Bulk 4  \\\n",
       "count  3129.000000  252.000000   22.000000  1298.000000  1014.000000   \n",
       "mean   1624.383509   39.242063  253.045455   113.879045   104.394477   \n",
       "std     933.337642   18.277654   21.180578    75.483494    48.184126   \n",
       "min       1.000000   10.000000  228.000000     6.000000    12.000000   \n",
       "25%     816.000000   27.000000  242.000000    58.000000    72.000000   \n",
       "50%    1622.000000   31.000000  251.500000    97.500000   102.000000   \n",
       "75%    2431.000000   46.000000  257.750000   152.000000   133.000000   \n",
       "max    3241.000000  185.000000  325.000000   454.000000   281.000000   \n",
       "\n",
       "           Bulk 5      Bulk 6      Bulk 7  Bulk 8      Bulk 9     Bulk 10  \\\n",
       "count   77.000000  576.000000   25.000000     1.0   19.000000  176.000000   \n",
       "mean   107.025974  118.925347  305.600000    49.0   76.315789   83.284091   \n",
       "std     81.790646   72.057776  191.022904     NaN   21.720581   26.060347   \n",
       "min     11.000000   17.000000   47.000000    49.0   63.000000   24.000000   \n",
       "25%     70.000000   69.750000  155.000000    49.0   66.000000   64.000000   \n",
       "50%     86.000000  100.000000  298.000000    49.0   68.000000   86.500000   \n",
       "75%    132.000000  157.000000  406.000000    49.0   70.500000  102.000000   \n",
       "max    603.000000  503.000000  772.000000    49.0  147.000000  159.000000   \n",
       "\n",
       "          Bulk 11      Bulk 12     Bulk 13      Bulk 14      Bulk 15  \n",
       "count  177.000000  2450.000000   18.000000  2806.000000  2248.000000  \n",
       "mean    76.819209   260.471020  181.111111   170.284747   160.513345  \n",
       "std     59.655365   120.649269   46.088009    65.868652    51.765319  \n",
       "min      8.000000    53.000000  151.000000    16.000000     1.000000  \n",
       "25%     25.000000   204.000000  153.250000   119.000000   105.000000  \n",
       "50%     64.000000   208.000000  155.500000   151.000000   160.000000  \n",
       "75%    106.000000   316.000000  203.500000   205.750000   205.000000  \n",
       "max    313.000000  1849.000000  305.000000   636.000000   405.000000  "
      ]
     },
     "execution_count": 10,
     "metadata": {},
     "output_type": "execute_result"
    }
   ],
   "source": [
    "df_bulk.describe()"
   ]
  },
  {
   "cell_type": "code",
   "execution_count": 11,
   "metadata": {},
   "outputs": [
    {
     "data": {
      "text/html": [
       "<div>\n",
       "<style scoped>\n",
       "    .dataframe tbody tr th:only-of-type {\n",
       "        vertical-align: middle;\n",
       "    }\n",
       "\n",
       "    .dataframe tbody tr th {\n",
       "        vertical-align: top;\n",
       "    }\n",
       "\n",
       "    .dataframe thead th {\n",
       "        text-align: right;\n",
       "    }\n",
       "</style>\n",
       "<table border=\"1\" class=\"dataframe\">\n",
       "  <thead>\n",
       "    <tr style=\"text-align: right;\">\n",
       "      <th></th>\n",
       "      <th>key</th>\n",
       "      <th>Газ 1</th>\n",
       "    </tr>\n",
       "  </thead>\n",
       "  <tbody>\n",
       "    <tr>\n",
       "      <th>0</th>\n",
       "      <td>1</td>\n",
       "      <td>29.749986</td>\n",
       "    </tr>\n",
       "    <tr>\n",
       "      <th>1</th>\n",
       "      <td>2</td>\n",
       "      <td>12.555561</td>\n",
       "    </tr>\n",
       "    <tr>\n",
       "      <th>2</th>\n",
       "      <td>3</td>\n",
       "      <td>28.554793</td>\n",
       "    </tr>\n",
       "    <tr>\n",
       "      <th>3</th>\n",
       "      <td>4</td>\n",
       "      <td>18.841219</td>\n",
       "    </tr>\n",
       "    <tr>\n",
       "      <th>4</th>\n",
       "      <td>5</td>\n",
       "      <td>5.413692</td>\n",
       "    </tr>\n",
       "    <tr>\n",
       "      <th>...</th>\n",
       "      <td>...</td>\n",
       "      <td>...</td>\n",
       "    </tr>\n",
       "    <tr>\n",
       "      <th>3234</th>\n",
       "      <td>3237</td>\n",
       "      <td>5.543905</td>\n",
       "    </tr>\n",
       "    <tr>\n",
       "      <th>3235</th>\n",
       "      <td>3238</td>\n",
       "      <td>6.745669</td>\n",
       "    </tr>\n",
       "    <tr>\n",
       "      <th>3236</th>\n",
       "      <td>3239</td>\n",
       "      <td>16.023518</td>\n",
       "    </tr>\n",
       "    <tr>\n",
       "      <th>3237</th>\n",
       "      <td>3240</td>\n",
       "      <td>11.863103</td>\n",
       "    </tr>\n",
       "    <tr>\n",
       "      <th>3238</th>\n",
       "      <td>3241</td>\n",
       "      <td>12.680959</td>\n",
       "    </tr>\n",
       "  </tbody>\n",
       "</table>\n",
       "<p>3239 rows × 2 columns</p>\n",
       "</div>"
      ],
      "text/plain": [
       "       key      Газ 1\n",
       "0        1  29.749986\n",
       "1        2  12.555561\n",
       "2        3  28.554793\n",
       "3        4  18.841219\n",
       "4        5   5.413692\n",
       "...    ...        ...\n",
       "3234  3237   5.543905\n",
       "3235  3238   6.745669\n",
       "3236  3239  16.023518\n",
       "3237  3240  11.863103\n",
       "3238  3241  12.680959\n",
       "\n",
       "[3239 rows x 2 columns]"
      ]
     },
     "execution_count": 11,
     "metadata": {},
     "output_type": "execute_result"
    }
   ],
   "source": [
    "df_gas"
   ]
  },
  {
   "cell_type": "code",
   "execution_count": 12,
   "metadata": {},
   "outputs": [
    {
     "name": "stdout",
     "output_type": "stream",
     "text": [
      "<class 'pandas.core.frame.DataFrame'>\n",
      "RangeIndex: 3239 entries, 0 to 3238\n",
      "Data columns (total 2 columns):\n",
      " #   Column  Non-Null Count  Dtype  \n",
      "---  ------  --------------  -----  \n",
      " 0   key     3239 non-null   int64  \n",
      " 1   Газ 1   3239 non-null   float64\n",
      "dtypes: float64(1), int64(1)\n",
      "memory usage: 50.7 KB\n"
     ]
    }
   ],
   "source": [
    "df_gas.info()"
   ]
  },
  {
   "cell_type": "code",
   "execution_count": 13,
   "metadata": {},
   "outputs": [
    {
     "data": {
      "text/html": [
       "<div>\n",
       "<style scoped>\n",
       "    .dataframe tbody tr th:only-of-type {\n",
       "        vertical-align: middle;\n",
       "    }\n",
       "\n",
       "    .dataframe tbody tr th {\n",
       "        vertical-align: top;\n",
       "    }\n",
       "\n",
       "    .dataframe thead th {\n",
       "        text-align: right;\n",
       "    }\n",
       "</style>\n",
       "<table border=\"1\" class=\"dataframe\">\n",
       "  <thead>\n",
       "    <tr style=\"text-align: right;\">\n",
       "      <th></th>\n",
       "      <th>key</th>\n",
       "      <th>Газ 1</th>\n",
       "    </tr>\n",
       "  </thead>\n",
       "  <tbody>\n",
       "    <tr>\n",
       "      <th>count</th>\n",
       "      <td>3239.000000</td>\n",
       "      <td>3239.000000</td>\n",
       "    </tr>\n",
       "    <tr>\n",
       "      <th>mean</th>\n",
       "      <td>1621.861377</td>\n",
       "      <td>11.002062</td>\n",
       "    </tr>\n",
       "    <tr>\n",
       "      <th>std</th>\n",
       "      <td>935.386334</td>\n",
       "      <td>6.220327</td>\n",
       "    </tr>\n",
       "    <tr>\n",
       "      <th>min</th>\n",
       "      <td>1.000000</td>\n",
       "      <td>0.008399</td>\n",
       "    </tr>\n",
       "    <tr>\n",
       "      <th>25%</th>\n",
       "      <td>812.500000</td>\n",
       "      <td>7.043089</td>\n",
       "    </tr>\n",
       "    <tr>\n",
       "      <th>50%</th>\n",
       "      <td>1622.000000</td>\n",
       "      <td>9.836267</td>\n",
       "    </tr>\n",
       "    <tr>\n",
       "      <th>75%</th>\n",
       "      <td>2431.500000</td>\n",
       "      <td>13.769915</td>\n",
       "    </tr>\n",
       "    <tr>\n",
       "      <th>max</th>\n",
       "      <td>3241.000000</td>\n",
       "      <td>77.995040</td>\n",
       "    </tr>\n",
       "  </tbody>\n",
       "</table>\n",
       "</div>"
      ],
      "text/plain": [
       "               key        Газ 1\n",
       "count  3239.000000  3239.000000\n",
       "mean   1621.861377    11.002062\n",
       "std     935.386334     6.220327\n",
       "min       1.000000     0.008399\n",
       "25%     812.500000     7.043089\n",
       "50%    1622.000000     9.836267\n",
       "75%    2431.500000    13.769915\n",
       "max    3241.000000    77.995040"
      ]
     },
     "execution_count": 13,
     "metadata": {},
     "output_type": "execute_result"
    }
   ],
   "source": [
    "df_gas.describe()"
   ]
  },
  {
   "cell_type": "code",
   "execution_count": 14,
   "metadata": {},
   "outputs": [
    {
     "data": {
      "text/html": [
       "<div>\n",
       "<style scoped>\n",
       "    .dataframe tbody tr th:only-of-type {\n",
       "        vertical-align: middle;\n",
       "    }\n",
       "\n",
       "    .dataframe tbody tr th {\n",
       "        vertical-align: top;\n",
       "    }\n",
       "\n",
       "    .dataframe thead th {\n",
       "        text-align: right;\n",
       "    }\n",
       "</style>\n",
       "<table border=\"1\" class=\"dataframe\">\n",
       "  <thead>\n",
       "    <tr style=\"text-align: right;\">\n",
       "      <th></th>\n",
       "      <th>key</th>\n",
       "      <th>Время замера</th>\n",
       "      <th>Температура</th>\n",
       "    </tr>\n",
       "  </thead>\n",
       "  <tbody>\n",
       "    <tr>\n",
       "      <th>0</th>\n",
       "      <td>1</td>\n",
       "      <td>2019-05-03 11:16:18</td>\n",
       "      <td>1571.0</td>\n",
       "    </tr>\n",
       "    <tr>\n",
       "      <th>1</th>\n",
       "      <td>1</td>\n",
       "      <td>2019-05-03 11:25:53</td>\n",
       "      <td>1604.0</td>\n",
       "    </tr>\n",
       "    <tr>\n",
       "      <th>2</th>\n",
       "      <td>1</td>\n",
       "      <td>2019-05-03 11:29:11</td>\n",
       "      <td>1618.0</td>\n",
       "    </tr>\n",
       "    <tr>\n",
       "      <th>3</th>\n",
       "      <td>1</td>\n",
       "      <td>2019-05-03 11:30:01</td>\n",
       "      <td>1601.0</td>\n",
       "    </tr>\n",
       "    <tr>\n",
       "      <th>4</th>\n",
       "      <td>1</td>\n",
       "      <td>2019-05-03 11:30:39</td>\n",
       "      <td>1613.0</td>\n",
       "    </tr>\n",
       "    <tr>\n",
       "      <th>...</th>\n",
       "      <td>...</td>\n",
       "      <td>...</td>\n",
       "      <td>...</td>\n",
       "    </tr>\n",
       "    <tr>\n",
       "      <th>15902</th>\n",
       "      <td>3241</td>\n",
       "      <td>2019-09-01 04:03:30</td>\n",
       "      <td>1586.0</td>\n",
       "    </tr>\n",
       "    <tr>\n",
       "      <th>15903</th>\n",
       "      <td>3241</td>\n",
       "      <td>2019-09-01 04:16:12</td>\n",
       "      <td>NaN</td>\n",
       "    </tr>\n",
       "    <tr>\n",
       "      <th>15904</th>\n",
       "      <td>3241</td>\n",
       "      <td>2019-09-01 04:22:39</td>\n",
       "      <td>NaN</td>\n",
       "    </tr>\n",
       "    <tr>\n",
       "      <th>15905</th>\n",
       "      <td>3241</td>\n",
       "      <td>2019-09-01 04:33:42</td>\n",
       "      <td>NaN</td>\n",
       "    </tr>\n",
       "    <tr>\n",
       "      <th>15906</th>\n",
       "      <td>3241</td>\n",
       "      <td>2019-09-01 04:38:08</td>\n",
       "      <td>NaN</td>\n",
       "    </tr>\n",
       "  </tbody>\n",
       "</table>\n",
       "<p>15907 rows × 3 columns</p>\n",
       "</div>"
      ],
      "text/plain": [
       "        key         Время замера  Температура\n",
       "0         1  2019-05-03 11:16:18       1571.0\n",
       "1         1  2019-05-03 11:25:53       1604.0\n",
       "2         1  2019-05-03 11:29:11       1618.0\n",
       "3         1  2019-05-03 11:30:01       1601.0\n",
       "4         1  2019-05-03 11:30:39       1613.0\n",
       "...     ...                  ...          ...\n",
       "15902  3241  2019-09-01 04:03:30       1586.0\n",
       "15903  3241  2019-09-01 04:16:12          NaN\n",
       "15904  3241  2019-09-01 04:22:39          NaN\n",
       "15905  3241  2019-09-01 04:33:42          NaN\n",
       "15906  3241  2019-09-01 04:38:08          NaN\n",
       "\n",
       "[15907 rows x 3 columns]"
      ]
     },
     "execution_count": 14,
     "metadata": {},
     "output_type": "execute_result"
    }
   ],
   "source": [
    "df_temp"
   ]
  },
  {
   "cell_type": "code",
   "execution_count": 15,
   "metadata": {},
   "outputs": [
    {
     "name": "stdout",
     "output_type": "stream",
     "text": [
      "<class 'pandas.core.frame.DataFrame'>\n",
      "RangeIndex: 15907 entries, 0 to 15906\n",
      "Data columns (total 3 columns):\n",
      " #   Column        Non-Null Count  Dtype  \n",
      "---  ------        --------------  -----  \n",
      " 0   key           15907 non-null  int64  \n",
      " 1   Время замера  15907 non-null  object \n",
      " 2   Температура   13006 non-null  float64\n",
      "dtypes: float64(1), int64(1), object(1)\n",
      "memory usage: 372.9+ KB\n"
     ]
    }
   ],
   "source": [
    "df_temp.info()"
   ]
  },
  {
   "cell_type": "code",
   "execution_count": 16,
   "metadata": {},
   "outputs": [
    {
     "data": {
      "text/html": [
       "<div>\n",
       "<style scoped>\n",
       "    .dataframe tbody tr th:only-of-type {\n",
       "        vertical-align: middle;\n",
       "    }\n",
       "\n",
       "    .dataframe tbody tr th {\n",
       "        vertical-align: top;\n",
       "    }\n",
       "\n",
       "    .dataframe thead th {\n",
       "        text-align: right;\n",
       "    }\n",
       "</style>\n",
       "<table border=\"1\" class=\"dataframe\">\n",
       "  <thead>\n",
       "    <tr style=\"text-align: right;\">\n",
       "      <th></th>\n",
       "      <th>key</th>\n",
       "      <th>Температура</th>\n",
       "    </tr>\n",
       "  </thead>\n",
       "  <tbody>\n",
       "    <tr>\n",
       "      <th>count</th>\n",
       "      <td>15907.000000</td>\n",
       "      <td>13006.000000</td>\n",
       "    </tr>\n",
       "    <tr>\n",
       "      <th>mean</th>\n",
       "      <td>1607.880870</td>\n",
       "      <td>1591.840920</td>\n",
       "    </tr>\n",
       "    <tr>\n",
       "      <th>std</th>\n",
       "      <td>942.212073</td>\n",
       "      <td>21.375851</td>\n",
       "    </tr>\n",
       "    <tr>\n",
       "      <th>min</th>\n",
       "      <td>1.000000</td>\n",
       "      <td>1191.000000</td>\n",
       "    </tr>\n",
       "    <tr>\n",
       "      <th>25%</th>\n",
       "      <td>790.000000</td>\n",
       "      <td>1581.000000</td>\n",
       "    </tr>\n",
       "    <tr>\n",
       "      <th>50%</th>\n",
       "      <td>1618.000000</td>\n",
       "      <td>1591.000000</td>\n",
       "    </tr>\n",
       "    <tr>\n",
       "      <th>75%</th>\n",
       "      <td>2427.000000</td>\n",
       "      <td>1601.000000</td>\n",
       "    </tr>\n",
       "    <tr>\n",
       "      <th>max</th>\n",
       "      <td>3241.000000</td>\n",
       "      <td>1705.000000</td>\n",
       "    </tr>\n",
       "  </tbody>\n",
       "</table>\n",
       "</div>"
      ],
      "text/plain": [
       "                key   Температура\n",
       "count  15907.000000  13006.000000\n",
       "mean    1607.880870   1591.840920\n",
       "std      942.212073     21.375851\n",
       "min        1.000000   1191.000000\n",
       "25%      790.000000   1581.000000\n",
       "50%     1618.000000   1591.000000\n",
       "75%     2427.000000   1601.000000\n",
       "max     3241.000000   1705.000000"
      ]
     },
     "execution_count": 16,
     "metadata": {},
     "output_type": "execute_result"
    }
   ],
   "source": [
    "df_temp.describe()"
   ]
  },
  {
   "attachments": {},
   "cell_type": "markdown",
   "metadata": {},
   "source": [
    "есть сильные выбросы по температуре"
   ]
  },
  {
   "cell_type": "code",
   "execution_count": 17,
   "metadata": {},
   "outputs": [
    {
     "data": {
      "text/html": [
       "<div>\n",
       "<style scoped>\n",
       "    .dataframe tbody tr th:only-of-type {\n",
       "        vertical-align: middle;\n",
       "    }\n",
       "\n",
       "    .dataframe tbody tr th {\n",
       "        vertical-align: top;\n",
       "    }\n",
       "\n",
       "    .dataframe thead th {\n",
       "        text-align: right;\n",
       "    }\n",
       "</style>\n",
       "<table border=\"1\" class=\"dataframe\">\n",
       "  <thead>\n",
       "    <tr style=\"text-align: right;\">\n",
       "      <th></th>\n",
       "      <th>key</th>\n",
       "      <th>Wire 1</th>\n",
       "      <th>Wire 2</th>\n",
       "      <th>Wire 3</th>\n",
       "      <th>Wire 4</th>\n",
       "      <th>Wire 5</th>\n",
       "      <th>Wire 6</th>\n",
       "      <th>Wire 7</th>\n",
       "      <th>Wire 8</th>\n",
       "      <th>Wire 9</th>\n",
       "    </tr>\n",
       "  </thead>\n",
       "  <tbody>\n",
       "    <tr>\n",
       "      <th>0</th>\n",
       "      <td>1</td>\n",
       "      <td>60.059998</td>\n",
       "      <td>NaN</td>\n",
       "      <td>NaN</td>\n",
       "      <td>NaN</td>\n",
       "      <td>NaN</td>\n",
       "      <td>NaN</td>\n",
       "      <td>NaN</td>\n",
       "      <td>NaN</td>\n",
       "      <td>NaN</td>\n",
       "    </tr>\n",
       "    <tr>\n",
       "      <th>1</th>\n",
       "      <td>2</td>\n",
       "      <td>96.052315</td>\n",
       "      <td>NaN</td>\n",
       "      <td>NaN</td>\n",
       "      <td>NaN</td>\n",
       "      <td>NaN</td>\n",
       "      <td>NaN</td>\n",
       "      <td>NaN</td>\n",
       "      <td>NaN</td>\n",
       "      <td>NaN</td>\n",
       "    </tr>\n",
       "    <tr>\n",
       "      <th>2</th>\n",
       "      <td>3</td>\n",
       "      <td>91.160157</td>\n",
       "      <td>NaN</td>\n",
       "      <td>NaN</td>\n",
       "      <td>NaN</td>\n",
       "      <td>NaN</td>\n",
       "      <td>NaN</td>\n",
       "      <td>NaN</td>\n",
       "      <td>NaN</td>\n",
       "      <td>NaN</td>\n",
       "    </tr>\n",
       "    <tr>\n",
       "      <th>3</th>\n",
       "      <td>4</td>\n",
       "      <td>89.063515</td>\n",
       "      <td>NaN</td>\n",
       "      <td>NaN</td>\n",
       "      <td>NaN</td>\n",
       "      <td>NaN</td>\n",
       "      <td>NaN</td>\n",
       "      <td>NaN</td>\n",
       "      <td>NaN</td>\n",
       "      <td>NaN</td>\n",
       "    </tr>\n",
       "    <tr>\n",
       "      <th>4</th>\n",
       "      <td>5</td>\n",
       "      <td>89.238236</td>\n",
       "      <td>9.11456</td>\n",
       "      <td>NaN</td>\n",
       "      <td>NaN</td>\n",
       "      <td>NaN</td>\n",
       "      <td>NaN</td>\n",
       "      <td>NaN</td>\n",
       "      <td>NaN</td>\n",
       "      <td>NaN</td>\n",
       "    </tr>\n",
       "    <tr>\n",
       "      <th>...</th>\n",
       "      <td>...</td>\n",
       "      <td>...</td>\n",
       "      <td>...</td>\n",
       "      <td>...</td>\n",
       "      <td>...</td>\n",
       "      <td>...</td>\n",
       "      <td>...</td>\n",
       "      <td>...</td>\n",
       "      <td>...</td>\n",
       "      <td>...</td>\n",
       "    </tr>\n",
       "    <tr>\n",
       "      <th>3076</th>\n",
       "      <td>3237</td>\n",
       "      <td>38.088959</td>\n",
       "      <td>NaN</td>\n",
       "      <td>NaN</td>\n",
       "      <td>NaN</td>\n",
       "      <td>NaN</td>\n",
       "      <td>NaN</td>\n",
       "      <td>NaN</td>\n",
       "      <td>NaN</td>\n",
       "      <td>NaN</td>\n",
       "    </tr>\n",
       "    <tr>\n",
       "      <th>3077</th>\n",
       "      <td>3238</td>\n",
       "      <td>56.128799</td>\n",
       "      <td>NaN</td>\n",
       "      <td>NaN</td>\n",
       "      <td>NaN</td>\n",
       "      <td>NaN</td>\n",
       "      <td>NaN</td>\n",
       "      <td>NaN</td>\n",
       "      <td>NaN</td>\n",
       "      <td>NaN</td>\n",
       "    </tr>\n",
       "    <tr>\n",
       "      <th>3078</th>\n",
       "      <td>3239</td>\n",
       "      <td>143.357761</td>\n",
       "      <td>NaN</td>\n",
       "      <td>NaN</td>\n",
       "      <td>NaN</td>\n",
       "      <td>NaN</td>\n",
       "      <td>NaN</td>\n",
       "      <td>NaN</td>\n",
       "      <td>NaN</td>\n",
       "      <td>NaN</td>\n",
       "    </tr>\n",
       "    <tr>\n",
       "      <th>3079</th>\n",
       "      <td>3240</td>\n",
       "      <td>34.070400</td>\n",
       "      <td>NaN</td>\n",
       "      <td>NaN</td>\n",
       "      <td>NaN</td>\n",
       "      <td>NaN</td>\n",
       "      <td>NaN</td>\n",
       "      <td>NaN</td>\n",
       "      <td>NaN</td>\n",
       "      <td>NaN</td>\n",
       "    </tr>\n",
       "    <tr>\n",
       "      <th>3080</th>\n",
       "      <td>3241</td>\n",
       "      <td>63.117595</td>\n",
       "      <td>NaN</td>\n",
       "      <td>NaN</td>\n",
       "      <td>NaN</td>\n",
       "      <td>NaN</td>\n",
       "      <td>NaN</td>\n",
       "      <td>NaN</td>\n",
       "      <td>NaN</td>\n",
       "      <td>NaN</td>\n",
       "    </tr>\n",
       "  </tbody>\n",
       "</table>\n",
       "<p>3081 rows × 10 columns</p>\n",
       "</div>"
      ],
      "text/plain": [
       "       key      Wire 1   Wire 2  Wire 3  Wire 4  Wire 5  Wire 6  Wire 7  \\\n",
       "0        1   60.059998      NaN     NaN     NaN     NaN     NaN     NaN   \n",
       "1        2   96.052315      NaN     NaN     NaN     NaN     NaN     NaN   \n",
       "2        3   91.160157      NaN     NaN     NaN     NaN     NaN     NaN   \n",
       "3        4   89.063515      NaN     NaN     NaN     NaN     NaN     NaN   \n",
       "4        5   89.238236  9.11456     NaN     NaN     NaN     NaN     NaN   \n",
       "...    ...         ...      ...     ...     ...     ...     ...     ...   \n",
       "3076  3237   38.088959      NaN     NaN     NaN     NaN     NaN     NaN   \n",
       "3077  3238   56.128799      NaN     NaN     NaN     NaN     NaN     NaN   \n",
       "3078  3239  143.357761      NaN     NaN     NaN     NaN     NaN     NaN   \n",
       "3079  3240   34.070400      NaN     NaN     NaN     NaN     NaN     NaN   \n",
       "3080  3241   63.117595      NaN     NaN     NaN     NaN     NaN     NaN   \n",
       "\n",
       "      Wire 8  Wire 9  \n",
       "0        NaN     NaN  \n",
       "1        NaN     NaN  \n",
       "2        NaN     NaN  \n",
       "3        NaN     NaN  \n",
       "4        NaN     NaN  \n",
       "...      ...     ...  \n",
       "3076     NaN     NaN  \n",
       "3077     NaN     NaN  \n",
       "3078     NaN     NaN  \n",
       "3079     NaN     NaN  \n",
       "3080     NaN     NaN  \n",
       "\n",
       "[3081 rows x 10 columns]"
      ]
     },
     "execution_count": 17,
     "metadata": {},
     "output_type": "execute_result"
    }
   ],
   "source": [
    "df_wire"
   ]
  },
  {
   "cell_type": "code",
   "execution_count": 18,
   "metadata": {},
   "outputs": [
    {
     "name": "stdout",
     "output_type": "stream",
     "text": [
      "<class 'pandas.core.frame.DataFrame'>\n",
      "RangeIndex: 3081 entries, 0 to 3080\n",
      "Data columns (total 10 columns):\n",
      " #   Column  Non-Null Count  Dtype  \n",
      "---  ------  --------------  -----  \n",
      " 0   key     3081 non-null   int64  \n",
      " 1   Wire 1  3055 non-null   float64\n",
      " 2   Wire 2  1079 non-null   float64\n",
      " 3   Wire 3  63 non-null     float64\n",
      " 4   Wire 4  14 non-null     float64\n",
      " 5   Wire 5  1 non-null      float64\n",
      " 6   Wire 6  73 non-null     float64\n",
      " 7   Wire 7  11 non-null     float64\n",
      " 8   Wire 8  19 non-null     float64\n",
      " 9   Wire 9  29 non-null     float64\n",
      "dtypes: float64(9), int64(1)\n",
      "memory usage: 240.8 KB\n"
     ]
    }
   ],
   "source": [
    "df_wire.info()"
   ]
  },
  {
   "cell_type": "code",
   "execution_count": 19,
   "metadata": {},
   "outputs": [
    {
     "data": {
      "text/html": [
       "<div>\n",
       "<style scoped>\n",
       "    .dataframe tbody tr th:only-of-type {\n",
       "        vertical-align: middle;\n",
       "    }\n",
       "\n",
       "    .dataframe tbody tr th {\n",
       "        vertical-align: top;\n",
       "    }\n",
       "\n",
       "    .dataframe thead th {\n",
       "        text-align: right;\n",
       "    }\n",
       "</style>\n",
       "<table border=\"1\" class=\"dataframe\">\n",
       "  <thead>\n",
       "    <tr style=\"text-align: right;\">\n",
       "      <th></th>\n",
       "      <th>key</th>\n",
       "      <th>Wire 1</th>\n",
       "      <th>Wire 2</th>\n",
       "      <th>Wire 3</th>\n",
       "      <th>Wire 4</th>\n",
       "      <th>Wire 5</th>\n",
       "      <th>Wire 6</th>\n",
       "      <th>Wire 7</th>\n",
       "      <th>Wire 8</th>\n",
       "      <th>Wire 9</th>\n",
       "    </tr>\n",
       "  </thead>\n",
       "  <tbody>\n",
       "    <tr>\n",
       "      <th>count</th>\n",
       "      <td>3081.000000</td>\n",
       "      <td>3055.000000</td>\n",
       "      <td>1079.000000</td>\n",
       "      <td>63.000000</td>\n",
       "      <td>14.000000</td>\n",
       "      <td>1.000</td>\n",
       "      <td>73.000000</td>\n",
       "      <td>11.000000</td>\n",
       "      <td>19.000000</td>\n",
       "      <td>29.000000</td>\n",
       "    </tr>\n",
       "    <tr>\n",
       "      <th>mean</th>\n",
       "      <td>1623.426485</td>\n",
       "      <td>100.895853</td>\n",
       "      <td>50.577323</td>\n",
       "      <td>189.482681</td>\n",
       "      <td>57.442841</td>\n",
       "      <td>15.132</td>\n",
       "      <td>48.016974</td>\n",
       "      <td>10.039007</td>\n",
       "      <td>53.625193</td>\n",
       "      <td>34.155752</td>\n",
       "    </tr>\n",
       "    <tr>\n",
       "      <th>std</th>\n",
       "      <td>932.996726</td>\n",
       "      <td>42.012518</td>\n",
       "      <td>39.320216</td>\n",
       "      <td>99.513444</td>\n",
       "      <td>28.824667</td>\n",
       "      <td>NaN</td>\n",
       "      <td>33.919845</td>\n",
       "      <td>8.610584</td>\n",
       "      <td>16.881728</td>\n",
       "      <td>19.931616</td>\n",
       "    </tr>\n",
       "    <tr>\n",
       "      <th>min</th>\n",
       "      <td>1.000000</td>\n",
       "      <td>1.918800</td>\n",
       "      <td>0.030160</td>\n",
       "      <td>0.144144</td>\n",
       "      <td>24.148801</td>\n",
       "      <td>15.132</td>\n",
       "      <td>0.034320</td>\n",
       "      <td>0.234208</td>\n",
       "      <td>45.076721</td>\n",
       "      <td>4.622800</td>\n",
       "    </tr>\n",
       "    <tr>\n",
       "      <th>25%</th>\n",
       "      <td>823.000000</td>\n",
       "      <td>72.115684</td>\n",
       "      <td>20.193680</td>\n",
       "      <td>95.135044</td>\n",
       "      <td>40.807002</td>\n",
       "      <td>15.132</td>\n",
       "      <td>25.053600</td>\n",
       "      <td>6.762756</td>\n",
       "      <td>46.094879</td>\n",
       "      <td>22.058401</td>\n",
       "    </tr>\n",
       "    <tr>\n",
       "      <th>50%</th>\n",
       "      <td>1619.000000</td>\n",
       "      <td>100.158234</td>\n",
       "      <td>40.142956</td>\n",
       "      <td>235.194977</td>\n",
       "      <td>45.234282</td>\n",
       "      <td>15.132</td>\n",
       "      <td>42.076324</td>\n",
       "      <td>9.017009</td>\n",
       "      <td>46.279999</td>\n",
       "      <td>30.066399</td>\n",
       "    </tr>\n",
       "    <tr>\n",
       "      <th>75%</th>\n",
       "      <td>2434.000000</td>\n",
       "      <td>126.060483</td>\n",
       "      <td>70.227558</td>\n",
       "      <td>276.252014</td>\n",
       "      <td>76.124619</td>\n",
       "      <td>15.132</td>\n",
       "      <td>64.212723</td>\n",
       "      <td>11.886057</td>\n",
       "      <td>48.089603</td>\n",
       "      <td>43.862003</td>\n",
       "    </tr>\n",
       "    <tr>\n",
       "      <th>max</th>\n",
       "      <td>3241.000000</td>\n",
       "      <td>330.314424</td>\n",
       "      <td>282.780152</td>\n",
       "      <td>385.008668</td>\n",
       "      <td>113.231044</td>\n",
       "      <td>15.132</td>\n",
       "      <td>180.454575</td>\n",
       "      <td>32.847674</td>\n",
       "      <td>102.762401</td>\n",
       "      <td>90.053604</td>\n",
       "    </tr>\n",
       "  </tbody>\n",
       "</table>\n",
       "</div>"
      ],
      "text/plain": [
       "               key       Wire 1       Wire 2      Wire 3      Wire 4  Wire 5  \\\n",
       "count  3081.000000  3055.000000  1079.000000   63.000000   14.000000   1.000   \n",
       "mean   1623.426485   100.895853    50.577323  189.482681   57.442841  15.132   \n",
       "std     932.996726    42.012518    39.320216   99.513444   28.824667     NaN   \n",
       "min       1.000000     1.918800     0.030160    0.144144   24.148801  15.132   \n",
       "25%     823.000000    72.115684    20.193680   95.135044   40.807002  15.132   \n",
       "50%    1619.000000   100.158234    40.142956  235.194977   45.234282  15.132   \n",
       "75%    2434.000000   126.060483    70.227558  276.252014   76.124619  15.132   \n",
       "max    3241.000000   330.314424   282.780152  385.008668  113.231044  15.132   \n",
       "\n",
       "           Wire 6     Wire 7      Wire 8     Wire 9  \n",
       "count   73.000000  11.000000   19.000000  29.000000  \n",
       "mean    48.016974  10.039007   53.625193  34.155752  \n",
       "std     33.919845   8.610584   16.881728  19.931616  \n",
       "min      0.034320   0.234208   45.076721   4.622800  \n",
       "25%     25.053600   6.762756   46.094879  22.058401  \n",
       "50%     42.076324   9.017009   46.279999  30.066399  \n",
       "75%     64.212723  11.886057   48.089603  43.862003  \n",
       "max    180.454575  32.847674  102.762401  90.053604  "
      ]
     },
     "execution_count": 19,
     "metadata": {},
     "output_type": "execute_result"
    }
   ],
   "source": [
    "df_wire.describe()"
   ]
  },
  {
   "cell_type": "code",
   "execution_count": 20,
   "metadata": {},
   "outputs": [
    {
     "data": {
      "text/html": [
       "<div>\n",
       "<style scoped>\n",
       "    .dataframe tbody tr th:only-of-type {\n",
       "        vertical-align: middle;\n",
       "    }\n",
       "\n",
       "    .dataframe tbody tr th {\n",
       "        vertical-align: top;\n",
       "    }\n",
       "\n",
       "    .dataframe thead th {\n",
       "        text-align: right;\n",
       "    }\n",
       "</style>\n",
       "<table border=\"1\" class=\"dataframe\">\n",
       "  <thead>\n",
       "    <tr style=\"text-align: right;\">\n",
       "      <th></th>\n",
       "      <th>key</th>\n",
       "      <th>Wire 1</th>\n",
       "      <th>Wire 2</th>\n",
       "      <th>Wire 3</th>\n",
       "      <th>Wire 4</th>\n",
       "      <th>Wire 5</th>\n",
       "      <th>Wire 6</th>\n",
       "      <th>Wire 7</th>\n",
       "      <th>Wire 8</th>\n",
       "      <th>Wire 9</th>\n",
       "    </tr>\n",
       "  </thead>\n",
       "  <tbody>\n",
       "    <tr>\n",
       "      <th>0</th>\n",
       "      <td>1</td>\n",
       "      <td>2019-05-03 11:11:41</td>\n",
       "      <td>NaN</td>\n",
       "      <td>NaN</td>\n",
       "      <td>NaN</td>\n",
       "      <td>NaN</td>\n",
       "      <td>NaN</td>\n",
       "      <td>NaN</td>\n",
       "      <td>NaN</td>\n",
       "      <td>NaN</td>\n",
       "    </tr>\n",
       "    <tr>\n",
       "      <th>1</th>\n",
       "      <td>2</td>\n",
       "      <td>2019-05-03 11:46:10</td>\n",
       "      <td>NaN</td>\n",
       "      <td>NaN</td>\n",
       "      <td>NaN</td>\n",
       "      <td>NaN</td>\n",
       "      <td>NaN</td>\n",
       "      <td>NaN</td>\n",
       "      <td>NaN</td>\n",
       "      <td>NaN</td>\n",
       "    </tr>\n",
       "    <tr>\n",
       "      <th>2</th>\n",
       "      <td>3</td>\n",
       "      <td>2019-05-03 12:13:47</td>\n",
       "      <td>NaN</td>\n",
       "      <td>NaN</td>\n",
       "      <td>NaN</td>\n",
       "      <td>NaN</td>\n",
       "      <td>NaN</td>\n",
       "      <td>NaN</td>\n",
       "      <td>NaN</td>\n",
       "      <td>NaN</td>\n",
       "    </tr>\n",
       "    <tr>\n",
       "      <th>3</th>\n",
       "      <td>4</td>\n",
       "      <td>2019-05-03 12:48:05</td>\n",
       "      <td>NaN</td>\n",
       "      <td>NaN</td>\n",
       "      <td>NaN</td>\n",
       "      <td>NaN</td>\n",
       "      <td>NaN</td>\n",
       "      <td>NaN</td>\n",
       "      <td>NaN</td>\n",
       "      <td>NaN</td>\n",
       "    </tr>\n",
       "    <tr>\n",
       "      <th>4</th>\n",
       "      <td>5</td>\n",
       "      <td>2019-05-03 13:18:15</td>\n",
       "      <td>2019-05-03 13:32:06</td>\n",
       "      <td>NaN</td>\n",
       "      <td>NaN</td>\n",
       "      <td>NaN</td>\n",
       "      <td>NaN</td>\n",
       "      <td>NaN</td>\n",
       "      <td>NaN</td>\n",
       "      <td>NaN</td>\n",
       "    </tr>\n",
       "    <tr>\n",
       "      <th>...</th>\n",
       "      <td>...</td>\n",
       "      <td>...</td>\n",
       "      <td>...</td>\n",
       "      <td>...</td>\n",
       "      <td>...</td>\n",
       "      <td>...</td>\n",
       "      <td>...</td>\n",
       "      <td>...</td>\n",
       "      <td>...</td>\n",
       "      <td>...</td>\n",
       "    </tr>\n",
       "    <tr>\n",
       "      <th>3076</th>\n",
       "      <td>3237</td>\n",
       "      <td>2019-08-31 22:50:20</td>\n",
       "      <td>NaN</td>\n",
       "      <td>NaN</td>\n",
       "      <td>NaN</td>\n",
       "      <td>NaN</td>\n",
       "      <td>NaN</td>\n",
       "      <td>NaN</td>\n",
       "      <td>NaN</td>\n",
       "      <td>NaN</td>\n",
       "    </tr>\n",
       "    <tr>\n",
       "      <th>3077</th>\n",
       "      <td>3238</td>\n",
       "      <td>2019-08-31 23:38:24</td>\n",
       "      <td>NaN</td>\n",
       "      <td>NaN</td>\n",
       "      <td>NaN</td>\n",
       "      <td>NaN</td>\n",
       "      <td>NaN</td>\n",
       "      <td>NaN</td>\n",
       "      <td>NaN</td>\n",
       "      <td>NaN</td>\n",
       "    </tr>\n",
       "    <tr>\n",
       "      <th>3078</th>\n",
       "      <td>3239</td>\n",
       "      <td>2019-09-01 01:50:43</td>\n",
       "      <td>NaN</td>\n",
       "      <td>NaN</td>\n",
       "      <td>NaN</td>\n",
       "      <td>NaN</td>\n",
       "      <td>NaN</td>\n",
       "      <td>NaN</td>\n",
       "      <td>NaN</td>\n",
       "      <td>NaN</td>\n",
       "    </tr>\n",
       "    <tr>\n",
       "      <th>3079</th>\n",
       "      <td>3240</td>\n",
       "      <td>2019-09-01 03:12:02</td>\n",
       "      <td>NaN</td>\n",
       "      <td>NaN</td>\n",
       "      <td>NaN</td>\n",
       "      <td>NaN</td>\n",
       "      <td>NaN</td>\n",
       "      <td>NaN</td>\n",
       "      <td>NaN</td>\n",
       "      <td>NaN</td>\n",
       "    </tr>\n",
       "    <tr>\n",
       "      <th>3080</th>\n",
       "      <td>3241</td>\n",
       "      <td>2019-09-01 04:16:01</td>\n",
       "      <td>NaN</td>\n",
       "      <td>NaN</td>\n",
       "      <td>NaN</td>\n",
       "      <td>NaN</td>\n",
       "      <td>NaN</td>\n",
       "      <td>NaN</td>\n",
       "      <td>NaN</td>\n",
       "      <td>NaN</td>\n",
       "    </tr>\n",
       "  </tbody>\n",
       "</table>\n",
       "<p>3081 rows × 10 columns</p>\n",
       "</div>"
      ],
      "text/plain": [
       "       key               Wire 1               Wire 2 Wire 3 Wire 4 Wire 5  \\\n",
       "0        1  2019-05-03 11:11:41                  NaN    NaN    NaN    NaN   \n",
       "1        2  2019-05-03 11:46:10                  NaN    NaN    NaN    NaN   \n",
       "2        3  2019-05-03 12:13:47                  NaN    NaN    NaN    NaN   \n",
       "3        4  2019-05-03 12:48:05                  NaN    NaN    NaN    NaN   \n",
       "4        5  2019-05-03 13:18:15  2019-05-03 13:32:06    NaN    NaN    NaN   \n",
       "...    ...                  ...                  ...    ...    ...    ...   \n",
       "3076  3237  2019-08-31 22:50:20                  NaN    NaN    NaN    NaN   \n",
       "3077  3238  2019-08-31 23:38:24                  NaN    NaN    NaN    NaN   \n",
       "3078  3239  2019-09-01 01:50:43                  NaN    NaN    NaN    NaN   \n",
       "3079  3240  2019-09-01 03:12:02                  NaN    NaN    NaN    NaN   \n",
       "3080  3241  2019-09-01 04:16:01                  NaN    NaN    NaN    NaN   \n",
       "\n",
       "     Wire 6 Wire 7 Wire 8 Wire 9  \n",
       "0       NaN    NaN    NaN    NaN  \n",
       "1       NaN    NaN    NaN    NaN  \n",
       "2       NaN    NaN    NaN    NaN  \n",
       "3       NaN    NaN    NaN    NaN  \n",
       "4       NaN    NaN    NaN    NaN  \n",
       "...     ...    ...    ...    ...  \n",
       "3076    NaN    NaN    NaN    NaN  \n",
       "3077    NaN    NaN    NaN    NaN  \n",
       "3078    NaN    NaN    NaN    NaN  \n",
       "3079    NaN    NaN    NaN    NaN  \n",
       "3080    NaN    NaN    NaN    NaN  \n",
       "\n",
       "[3081 rows x 10 columns]"
      ]
     },
     "execution_count": 20,
     "metadata": {},
     "output_type": "execute_result"
    }
   ],
   "source": [
    "df_wire_time"
   ]
  },
  {
   "cell_type": "code",
   "execution_count": 21,
   "metadata": {},
   "outputs": [
    {
     "name": "stdout",
     "output_type": "stream",
     "text": [
      "<class 'pandas.core.frame.DataFrame'>\n",
      "RangeIndex: 3081 entries, 0 to 3080\n",
      "Data columns (total 10 columns):\n",
      " #   Column  Non-Null Count  Dtype \n",
      "---  ------  --------------  ----- \n",
      " 0   key     3081 non-null   int64 \n",
      " 1   Wire 1  3055 non-null   object\n",
      " 2   Wire 2  1079 non-null   object\n",
      " 3   Wire 3  63 non-null     object\n",
      " 4   Wire 4  14 non-null     object\n",
      " 5   Wire 5  1 non-null      object\n",
      " 6   Wire 6  73 non-null     object\n",
      " 7   Wire 7  11 non-null     object\n",
      " 8   Wire 8  19 non-null     object\n",
      " 9   Wire 9  29 non-null     object\n",
      "dtypes: int64(1), object(9)\n",
      "memory usage: 240.8+ KB\n"
     ]
    }
   ],
   "source": [
    "df_wire_time.info()"
   ]
  },
  {
   "cell_type": "code",
   "execution_count": 22,
   "metadata": {},
   "outputs": [
    {
     "data": {
      "text/html": [
       "<div>\n",
       "<style scoped>\n",
       "    .dataframe tbody tr th:only-of-type {\n",
       "        vertical-align: middle;\n",
       "    }\n",
       "\n",
       "    .dataframe tbody tr th {\n",
       "        vertical-align: top;\n",
       "    }\n",
       "\n",
       "    .dataframe thead th {\n",
       "        text-align: right;\n",
       "    }\n",
       "</style>\n",
       "<table border=\"1\" class=\"dataframe\">\n",
       "  <thead>\n",
       "    <tr style=\"text-align: right;\">\n",
       "      <th></th>\n",
       "      <th>key</th>\n",
       "    </tr>\n",
       "  </thead>\n",
       "  <tbody>\n",
       "    <tr>\n",
       "      <th>count</th>\n",
       "      <td>3081.000000</td>\n",
       "    </tr>\n",
       "    <tr>\n",
       "      <th>mean</th>\n",
       "      <td>1623.426485</td>\n",
       "    </tr>\n",
       "    <tr>\n",
       "      <th>std</th>\n",
       "      <td>932.996726</td>\n",
       "    </tr>\n",
       "    <tr>\n",
       "      <th>min</th>\n",
       "      <td>1.000000</td>\n",
       "    </tr>\n",
       "    <tr>\n",
       "      <th>25%</th>\n",
       "      <td>823.000000</td>\n",
       "    </tr>\n",
       "    <tr>\n",
       "      <th>50%</th>\n",
       "      <td>1619.000000</td>\n",
       "    </tr>\n",
       "    <tr>\n",
       "      <th>75%</th>\n",
       "      <td>2434.000000</td>\n",
       "    </tr>\n",
       "    <tr>\n",
       "      <th>max</th>\n",
       "      <td>3241.000000</td>\n",
       "    </tr>\n",
       "  </tbody>\n",
       "</table>\n",
       "</div>"
      ],
      "text/plain": [
       "               key\n",
       "count  3081.000000\n",
       "mean   1623.426485\n",
       "std     932.996726\n",
       "min       1.000000\n",
       "25%     823.000000\n",
       "50%    1619.000000\n",
       "75%    2434.000000\n",
       "max    3241.000000"
      ]
     },
     "execution_count": 22,
     "metadata": {},
     "output_type": "execute_result"
    }
   ],
   "source": [
    "df_wire_time.describe()"
   ]
  },
  {
   "attachments": {},
   "cell_type": "markdown",
   "metadata": {},
   "source": [
    "#### Вывод"
   ]
  },
  {
   "attachments": {},
   "cell_type": "markdown",
   "metadata": {},
   "source": [
    "Отобразили информацию о Таблицах стандартными методами. \n",
    "\n",
    "Есть выбросы по температуре и мощности. будем их убирать. пропущенные данные в присадках будем заполнять нулями. в датах присадок будем заполнять 1 числом первого месяца наблюдений \n",
    "\n",
    "Теперь перейдем к более детальному рассмотрению"
   ]
  },
  {
   "attachments": {},
   "cell_type": "markdown",
   "metadata": {},
   "source": [
    "### Детальный обзор данных и их обработка"
   ]
  },
  {
   "attachments": {},
   "cell_type": "markdown",
   "metadata": {},
   "source": [
    "#### Температура"
   ]
  },
  {
   "attachments": {},
   "cell_type": "markdown",
   "metadata": {},
   "source": [
    "Для начала рассмотрим таблицу Temp, так как меньшая температура и является нашей целью."
   ]
  },
  {
   "cell_type": "code",
   "execution_count": 23,
   "metadata": {},
   "outputs": [
    {
     "data": {
      "text/html": [
       "<div>\n",
       "<style scoped>\n",
       "    .dataframe tbody tr th:only-of-type {\n",
       "        vertical-align: middle;\n",
       "    }\n",
       "\n",
       "    .dataframe tbody tr th {\n",
       "        vertical-align: top;\n",
       "    }\n",
       "\n",
       "    .dataframe thead th {\n",
       "        text-align: right;\n",
       "    }\n",
       "</style>\n",
       "<table border=\"1\" class=\"dataframe\">\n",
       "  <thead>\n",
       "    <tr style=\"text-align: right;\">\n",
       "      <th></th>\n",
       "      <th>key</th>\n",
       "      <th>Время замера</th>\n",
       "      <th>Температура</th>\n",
       "    </tr>\n",
       "  </thead>\n",
       "  <tbody>\n",
       "    <tr>\n",
       "      <th>0</th>\n",
       "      <td>1</td>\n",
       "      <td>2019-05-03 11:16:18</td>\n",
       "      <td>1571.0</td>\n",
       "    </tr>\n",
       "    <tr>\n",
       "      <th>1</th>\n",
       "      <td>1</td>\n",
       "      <td>2019-05-03 11:25:53</td>\n",
       "      <td>1604.0</td>\n",
       "    </tr>\n",
       "    <tr>\n",
       "      <th>2</th>\n",
       "      <td>1</td>\n",
       "      <td>2019-05-03 11:29:11</td>\n",
       "      <td>1618.0</td>\n",
       "    </tr>\n",
       "    <tr>\n",
       "      <th>3</th>\n",
       "      <td>1</td>\n",
       "      <td>2019-05-03 11:30:01</td>\n",
       "      <td>1601.0</td>\n",
       "    </tr>\n",
       "    <tr>\n",
       "      <th>4</th>\n",
       "      <td>1</td>\n",
       "      <td>2019-05-03 11:30:39</td>\n",
       "      <td>1613.0</td>\n",
       "    </tr>\n",
       "    <tr>\n",
       "      <th>...</th>\n",
       "      <td>...</td>\n",
       "      <td>...</td>\n",
       "      <td>...</td>\n",
       "    </tr>\n",
       "    <tr>\n",
       "      <th>15902</th>\n",
       "      <td>3241</td>\n",
       "      <td>2019-09-01 04:03:30</td>\n",
       "      <td>1586.0</td>\n",
       "    </tr>\n",
       "    <tr>\n",
       "      <th>15903</th>\n",
       "      <td>3241</td>\n",
       "      <td>2019-09-01 04:16:12</td>\n",
       "      <td>NaN</td>\n",
       "    </tr>\n",
       "    <tr>\n",
       "      <th>15904</th>\n",
       "      <td>3241</td>\n",
       "      <td>2019-09-01 04:22:39</td>\n",
       "      <td>NaN</td>\n",
       "    </tr>\n",
       "    <tr>\n",
       "      <th>15905</th>\n",
       "      <td>3241</td>\n",
       "      <td>2019-09-01 04:33:42</td>\n",
       "      <td>NaN</td>\n",
       "    </tr>\n",
       "    <tr>\n",
       "      <th>15906</th>\n",
       "      <td>3241</td>\n",
       "      <td>2019-09-01 04:38:08</td>\n",
       "      <td>NaN</td>\n",
       "    </tr>\n",
       "  </tbody>\n",
       "</table>\n",
       "<p>15907 rows × 3 columns</p>\n",
       "</div>"
      ],
      "text/plain": [
       "        key         Время замера  Температура\n",
       "0         1  2019-05-03 11:16:18       1571.0\n",
       "1         1  2019-05-03 11:25:53       1604.0\n",
       "2         1  2019-05-03 11:29:11       1618.0\n",
       "3         1  2019-05-03 11:30:01       1601.0\n",
       "4         1  2019-05-03 11:30:39       1613.0\n",
       "...     ...                  ...          ...\n",
       "15902  3241  2019-09-01 04:03:30       1586.0\n",
       "15903  3241  2019-09-01 04:16:12          NaN\n",
       "15904  3241  2019-09-01 04:22:39          NaN\n",
       "15905  3241  2019-09-01 04:33:42          NaN\n",
       "15906  3241  2019-09-01 04:38:08          NaN\n",
       "\n",
       "[15907 rows x 3 columns]"
      ]
     },
     "execution_count": 23,
     "metadata": {},
     "output_type": "execute_result"
    }
   ],
   "source": [
    "df_temp"
   ]
  },
  {
   "cell_type": "code",
   "execution_count": 24,
   "metadata": {},
   "outputs": [
    {
     "data": {
      "text/plain": [
       "key                0\n",
       "Время замера       0\n",
       "Температура     2901\n",
       "dtype: int64"
      ]
     },
     "execution_count": 24,
     "metadata": {},
     "output_type": "execute_result"
    }
   ],
   "source": [
    "df_temp.isna().sum()"
   ]
  },
  {
   "attachments": {},
   "cell_type": "markdown",
   "metadata": {},
   "source": [
    "для нас ключи, в которых последняя запись без измерения температуры, не интересны, попытаемся их выделить. по идее при проверке строки с ключем можно смотреть на предыдущий индекс, если там другой ключ, то можно посмотреть есть ли значение температуры у прошлой строки. если оно отсутствует - это наш искомый ключ, от которого нужно избавиться.\n",
    "\n"
   ]
  },
  {
   "cell_type": "code",
   "execution_count": 25,
   "metadata": {},
   "outputs": [],
   "source": [
    "actual_key = df_temp.loc[0,'key']\n",
    "empty_list= []\n",
    "def empty_temp_key(row):\n",
    "    #print (row['key'], actual_key)\n",
    "    global actual_key\n",
    "    if row['key'] != actual_key:\n",
    "        actual_key = row['key']\n",
    "        #print(row.name)\n",
    "        prev_ind = row.name - 1\n",
    "        if np.isnan(df_temp.loc[prev_ind, 'Температура']):\n",
    "            empty_list.append(df_temp.loc[prev_ind, 'key'])\n",
    "        "
   ]
  },
  {
   "cell_type": "code",
   "execution_count": 26,
   "metadata": {
    "scrolled": true
   },
   "outputs": [
    {
     "data": {
      "text/plain": [
       "[2500,\n",
       " 2501,\n",
       " 2502,\n",
       " 2503,\n",
       " 2504,\n",
       " 2505,\n",
       " 2506,\n",
       " 2507,\n",
       " 2508,\n",
       " 2509,\n",
       " 2510,\n",
       " 2511,\n",
       " 2512,\n",
       " 2513,\n",
       " 2514,\n",
       " 2515,\n",
       " 2516,\n",
       " 2517,\n",
       " 2518,\n",
       " 2519,\n",
       " 2520,\n",
       " 2521,\n",
       " 2522,\n",
       " 2523,\n",
       " 2524,\n",
       " 2525,\n",
       " 2526,\n",
       " 2527,\n",
       " 2528,\n",
       " 2529,\n",
       " 2530,\n",
       " 2531,\n",
       " 2532,\n",
       " 2533,\n",
       " 2534,\n",
       " 2535,\n",
       " 2536,\n",
       " 2537,\n",
       " 2538,\n",
       " 2539,\n",
       " 2540,\n",
       " 2541,\n",
       " 2542,\n",
       " 2543,\n",
       " 2544,\n",
       " 2545,\n",
       " 2546,\n",
       " 2547,\n",
       " 2548,\n",
       " 2549,\n",
       " 2550,\n",
       " 2551,\n",
       " 2552,\n",
       " 2553,\n",
       " 2554,\n",
       " 2555,\n",
       " 2556,\n",
       " 2557,\n",
       " 2558,\n",
       " 2559,\n",
       " 2560,\n",
       " 2561,\n",
       " 2562,\n",
       " 2563,\n",
       " 2564,\n",
       " 2565,\n",
       " 2566,\n",
       " 2567,\n",
       " 2568,\n",
       " 2569,\n",
       " 2570,\n",
       " 2571,\n",
       " 2572,\n",
       " 2573,\n",
       " 2574,\n",
       " 2575,\n",
       " 2576,\n",
       " 2577,\n",
       " 2578,\n",
       " 2579,\n",
       " 2580,\n",
       " 2581,\n",
       " 2582,\n",
       " 2583,\n",
       " 2584,\n",
       " 2585,\n",
       " 2586,\n",
       " 2587,\n",
       " 2588,\n",
       " 2589,\n",
       " 2590,\n",
       " 2591,\n",
       " 2592,\n",
       " 2593,\n",
       " 2594,\n",
       " 2595,\n",
       " 2596,\n",
       " 2597,\n",
       " 2598,\n",
       " 2599,\n",
       " 2600,\n",
       " 2601,\n",
       " 2602,\n",
       " 2603,\n",
       " 2604,\n",
       " 2605,\n",
       " 2606,\n",
       " 2607,\n",
       " 2608,\n",
       " 2609,\n",
       " 2610,\n",
       " 2611,\n",
       " 2612,\n",
       " 2613,\n",
       " 2614,\n",
       " 2615,\n",
       " 2616,\n",
       " 2617,\n",
       " 2618,\n",
       " 2619,\n",
       " 2620,\n",
       " 2621,\n",
       " 2622,\n",
       " 2623,\n",
       " 2624,\n",
       " 2625,\n",
       " 2626,\n",
       " 2627,\n",
       " 2628,\n",
       " 2629,\n",
       " 2630,\n",
       " 2631,\n",
       " 2632,\n",
       " 2633,\n",
       " 2634,\n",
       " 2635,\n",
       " 2636,\n",
       " 2637,\n",
       " 2638,\n",
       " 2639,\n",
       " 2640,\n",
       " 2641,\n",
       " 2642,\n",
       " 2643,\n",
       " 2644,\n",
       " 2645,\n",
       " 2646,\n",
       " 2647,\n",
       " 2648,\n",
       " 2649,\n",
       " 2650,\n",
       " 2651,\n",
       " 2652,\n",
       " 2653,\n",
       " 2654,\n",
       " 2655,\n",
       " 2656,\n",
       " 2657,\n",
       " 2658,\n",
       " 2659,\n",
       " 2660,\n",
       " 2661,\n",
       " 2662,\n",
       " 2663,\n",
       " 2664,\n",
       " 2665,\n",
       " 2666,\n",
       " 2667,\n",
       " 2668,\n",
       " 2669,\n",
       " 2670,\n",
       " 2671,\n",
       " 2672,\n",
       " 2673,\n",
       " 2674,\n",
       " 2675,\n",
       " 2676,\n",
       " 2677,\n",
       " 2678,\n",
       " 2679,\n",
       " 2680,\n",
       " 2681,\n",
       " 2682,\n",
       " 2684,\n",
       " 2685,\n",
       " 2686,\n",
       " 2687,\n",
       " 2688,\n",
       " 2689,\n",
       " 2690,\n",
       " 2691,\n",
       " 2692,\n",
       " 2693,\n",
       " 2694,\n",
       " 2695,\n",
       " 2696,\n",
       " 2697,\n",
       " 2698,\n",
       " 2699,\n",
       " 2700,\n",
       " 2701,\n",
       " 2702,\n",
       " 2703,\n",
       " 2704,\n",
       " 2705,\n",
       " 2706,\n",
       " 2707,\n",
       " 2708,\n",
       " 2709,\n",
       " 2710,\n",
       " 2711,\n",
       " 2712,\n",
       " 2713,\n",
       " 2714,\n",
       " 2715,\n",
       " 2716,\n",
       " 2717,\n",
       " 2718,\n",
       " 2719,\n",
       " 2720,\n",
       " 2721,\n",
       " 2722,\n",
       " 2723,\n",
       " 2724,\n",
       " 2725,\n",
       " 2726,\n",
       " 2727,\n",
       " 2728,\n",
       " 2729,\n",
       " 2730,\n",
       " 2731,\n",
       " 2732,\n",
       " 2733,\n",
       " 2734,\n",
       " 2735,\n",
       " 2736,\n",
       " 2737,\n",
       " 2738,\n",
       " 2739,\n",
       " 2740,\n",
       " 2741,\n",
       " 2742,\n",
       " 2743,\n",
       " 2744,\n",
       " 2745,\n",
       " 2746,\n",
       " 2747,\n",
       " 2748,\n",
       " 2749,\n",
       " 2750,\n",
       " 2751,\n",
       " 2752,\n",
       " 2753,\n",
       " 2754,\n",
       " 2755,\n",
       " 2756,\n",
       " 2757,\n",
       " 2758,\n",
       " 2759,\n",
       " 2760,\n",
       " 2761,\n",
       " 2762,\n",
       " 2763,\n",
       " 2764,\n",
       " 2765,\n",
       " 2766,\n",
       " 2767,\n",
       " 2768,\n",
       " 2769,\n",
       " 2770,\n",
       " 2771,\n",
       " 2772,\n",
       " 2773,\n",
       " 2774,\n",
       " 2775,\n",
       " 2776,\n",
       " 2777,\n",
       " 2778,\n",
       " 2779,\n",
       " 2780,\n",
       " 2781,\n",
       " 2782,\n",
       " 2783,\n",
       " 2784,\n",
       " 2785,\n",
       " 2786,\n",
       " 2787,\n",
       " 2788,\n",
       " 2789,\n",
       " 2790,\n",
       " 2791,\n",
       " 2792,\n",
       " 2793,\n",
       " 2794,\n",
       " 2795,\n",
       " 2796,\n",
       " 2797,\n",
       " 2798,\n",
       " 2799,\n",
       " 2800,\n",
       " 2801,\n",
       " 2802,\n",
       " 2803,\n",
       " 2804,\n",
       " 2805,\n",
       " 2806,\n",
       " 2807,\n",
       " 2808,\n",
       " 2809,\n",
       " 2810,\n",
       " 2811,\n",
       " 2812,\n",
       " 2813,\n",
       " 2814,\n",
       " 2815,\n",
       " 2816,\n",
       " 2817,\n",
       " 2818,\n",
       " 2819,\n",
       " 2820,\n",
       " 2821,\n",
       " 2822,\n",
       " 2823,\n",
       " 2824,\n",
       " 2825,\n",
       " 2826,\n",
       " 2827,\n",
       " 2828,\n",
       " 2829,\n",
       " 2830,\n",
       " 2831,\n",
       " 2832,\n",
       " 2833,\n",
       " 2834,\n",
       " 2835,\n",
       " 2836,\n",
       " 2837,\n",
       " 2838,\n",
       " 2839,\n",
       " 2840,\n",
       " 2841,\n",
       " 2842,\n",
       " 2843,\n",
       " 2844,\n",
       " 2845,\n",
       " 2846,\n",
       " 2847,\n",
       " 2848,\n",
       " 2849,\n",
       " 2850,\n",
       " 2851,\n",
       " 2852,\n",
       " 2853,\n",
       " 2854,\n",
       " 2855,\n",
       " 2856,\n",
       " 2857,\n",
       " 2858,\n",
       " 2859,\n",
       " 2860,\n",
       " 2861,\n",
       " 2862,\n",
       " 2863,\n",
       " 2864,\n",
       " 2865,\n",
       " 2866,\n",
       " 2867,\n",
       " 2868,\n",
       " 2869,\n",
       " 2870,\n",
       " 2871,\n",
       " 2872,\n",
       " 2873,\n",
       " 2874,\n",
       " 2875,\n",
       " 2876,\n",
       " 2877,\n",
       " 2878,\n",
       " 2879,\n",
       " 2880,\n",
       " 2881,\n",
       " 2882,\n",
       " 2883,\n",
       " 2884,\n",
       " 2885,\n",
       " 2886,\n",
       " 2887,\n",
       " 2888,\n",
       " 2889,\n",
       " 2890,\n",
       " 2891,\n",
       " 2892,\n",
       " 2893,\n",
       " 2894,\n",
       " 2895,\n",
       " 2896,\n",
       " 2897,\n",
       " 2898,\n",
       " 2899,\n",
       " 2900,\n",
       " 2901,\n",
       " 2902,\n",
       " 2903,\n",
       " 2904,\n",
       " 2905,\n",
       " 2906,\n",
       " 2907,\n",
       " 2908,\n",
       " 2909,\n",
       " 2910,\n",
       " 2911,\n",
       " 2912,\n",
       " 2913,\n",
       " 2914,\n",
       " 2915,\n",
       " 2916,\n",
       " 2917,\n",
       " 2918,\n",
       " 2919,\n",
       " 2920,\n",
       " 2921,\n",
       " 2922,\n",
       " 2923,\n",
       " 2924,\n",
       " 2925,\n",
       " 2926,\n",
       " 2927,\n",
       " 2928,\n",
       " 2929,\n",
       " 2930,\n",
       " 2931,\n",
       " 2932,\n",
       " 2933,\n",
       " 2934,\n",
       " 2935,\n",
       " 2936,\n",
       " 2937,\n",
       " 2938,\n",
       " 2939,\n",
       " 2940,\n",
       " 2941,\n",
       " 2942,\n",
       " 2943,\n",
       " 2944,\n",
       " 2945,\n",
       " 2946,\n",
       " 2947,\n",
       " 2948,\n",
       " 2949,\n",
       " 2950,\n",
       " 2951,\n",
       " 2952,\n",
       " 2953,\n",
       " 2954,\n",
       " 2955,\n",
       " 2956,\n",
       " 2957,\n",
       " 2958,\n",
       " 2959,\n",
       " 2960,\n",
       " 2961,\n",
       " 2962,\n",
       " 2963,\n",
       " 2964,\n",
       " 2965,\n",
       " 2966,\n",
       " 2967,\n",
       " 2968,\n",
       " 2969,\n",
       " 2970,\n",
       " 2971,\n",
       " 2972,\n",
       " 2973,\n",
       " 2974,\n",
       " 2975,\n",
       " 2976,\n",
       " 2977,\n",
       " 2978,\n",
       " 2979,\n",
       " 2980,\n",
       " 2981,\n",
       " 2982,\n",
       " 2983,\n",
       " 2984,\n",
       " 2985,\n",
       " 2986,\n",
       " 2987,\n",
       " 2988,\n",
       " 2989,\n",
       " 2990,\n",
       " 2991,\n",
       " 2992,\n",
       " 2993,\n",
       " 2994,\n",
       " 2995,\n",
       " 2996,\n",
       " 2997,\n",
       " 2998,\n",
       " 2999,\n",
       " 3000,\n",
       " 3001,\n",
       " 3002,\n",
       " 3003,\n",
       " 3004,\n",
       " 3005,\n",
       " 3006,\n",
       " 3007,\n",
       " 3008,\n",
       " 3009,\n",
       " 3010,\n",
       " 3011,\n",
       " 3012,\n",
       " 3013,\n",
       " 3014,\n",
       " 3015,\n",
       " 3016,\n",
       " 3017,\n",
       " 3018,\n",
       " 3019,\n",
       " 3020,\n",
       " 3021,\n",
       " 3022,\n",
       " 3023,\n",
       " 3024,\n",
       " 3025,\n",
       " 3026,\n",
       " 3027,\n",
       " 3028,\n",
       " 3029,\n",
       " 3030,\n",
       " 3031,\n",
       " 3032,\n",
       " 3033,\n",
       " 3034,\n",
       " 3035,\n",
       " 3036,\n",
       " 3037,\n",
       " 3038,\n",
       " 3039,\n",
       " 3040,\n",
       " 3041,\n",
       " 3042,\n",
       " 3043,\n",
       " 3044,\n",
       " 3045,\n",
       " 3046,\n",
       " 3047,\n",
       " 3048,\n",
       " 3049,\n",
       " 3050,\n",
       " 3051,\n",
       " 3052,\n",
       " 3053,\n",
       " 3054,\n",
       " 3055,\n",
       " 3056,\n",
       " 3057,\n",
       " 3058,\n",
       " 3059,\n",
       " 3060,\n",
       " 3061,\n",
       " 3062,\n",
       " 3063,\n",
       " 3064,\n",
       " 3065,\n",
       " 3066,\n",
       " 3067,\n",
       " 3068,\n",
       " 3069,\n",
       " 3070,\n",
       " 3071,\n",
       " 3072,\n",
       " 3073,\n",
       " 3074,\n",
       " 3075,\n",
       " 3076,\n",
       " 3077,\n",
       " 3078,\n",
       " 3079,\n",
       " 3080,\n",
       " 3081,\n",
       " 3082,\n",
       " 3083,\n",
       " 3084,\n",
       " 3085,\n",
       " 3086,\n",
       " 3087,\n",
       " 3088,\n",
       " 3089,\n",
       " 3090,\n",
       " 3091,\n",
       " 3092,\n",
       " 3093,\n",
       " 3094,\n",
       " 3095,\n",
       " 3096,\n",
       " 3097,\n",
       " 3098,\n",
       " 3099,\n",
       " 3100,\n",
       " 3101,\n",
       " 3102,\n",
       " 3103,\n",
       " 3104,\n",
       " 3105,\n",
       " 3106,\n",
       " 3107,\n",
       " 3108,\n",
       " 3109,\n",
       " 3110,\n",
       " 3111,\n",
       " 3112,\n",
       " 3113,\n",
       " 3114,\n",
       " 3115,\n",
       " 3116,\n",
       " 3117,\n",
       " 3118,\n",
       " 3119,\n",
       " 3120,\n",
       " 3121,\n",
       " 3122,\n",
       " 3123,\n",
       " 3124,\n",
       " 3125,\n",
       " 3126,\n",
       " 3127,\n",
       " 3128,\n",
       " 3129,\n",
       " 3130,\n",
       " 3131,\n",
       " 3132,\n",
       " 3133,\n",
       " 3134,\n",
       " 3135,\n",
       " 3136,\n",
       " 3137,\n",
       " 3138,\n",
       " 3139,\n",
       " 3140,\n",
       " 3141,\n",
       " 3142,\n",
       " 3143,\n",
       " 3144,\n",
       " 3145,\n",
       " 3146,\n",
       " 3147,\n",
       " 3148,\n",
       " 3149,\n",
       " 3150,\n",
       " 3151,\n",
       " 3152,\n",
       " 3153,\n",
       " 3154,\n",
       " 3155,\n",
       " 3156,\n",
       " 3157,\n",
       " 3158,\n",
       " 3159,\n",
       " 3160,\n",
       " 3161,\n",
       " 3162,\n",
       " 3163,\n",
       " 3164,\n",
       " 3165,\n",
       " 3166,\n",
       " 3167,\n",
       " 3168,\n",
       " 3169,\n",
       " 3170,\n",
       " 3171,\n",
       " 3172,\n",
       " 3173,\n",
       " 3174,\n",
       " 3175,\n",
       " 3176,\n",
       " 3177,\n",
       " 3178,\n",
       " 3179,\n",
       " 3180,\n",
       " 3181,\n",
       " 3182,\n",
       " 3183,\n",
       " 3184,\n",
       " 3185,\n",
       " 3186,\n",
       " 3187,\n",
       " 3188,\n",
       " 3189,\n",
       " 3190,\n",
       " 3191,\n",
       " 3192,\n",
       " 3193,\n",
       " 3194,\n",
       " 3195,\n",
       " 3196,\n",
       " 3197,\n",
       " 3198,\n",
       " 3199,\n",
       " 3201,\n",
       " 3202,\n",
       " 3203,\n",
       " 3204,\n",
       " 3205,\n",
       " 3206,\n",
       " 3208,\n",
       " 3209,\n",
       " 3210,\n",
       " 3211,\n",
       " 3212,\n",
       " 3213,\n",
       " 3214,\n",
       " 3215,\n",
       " 3216,\n",
       " 3217,\n",
       " 3218,\n",
       " 3219,\n",
       " 3220,\n",
       " 3221,\n",
       " 3222,\n",
       " 3223,\n",
       " 3224,\n",
       " 3225,\n",
       " 3226,\n",
       " 3227,\n",
       " 3228,\n",
       " 3229,\n",
       " 3230,\n",
       " 3231,\n",
       " 3232,\n",
       " 3233,\n",
       " 3234,\n",
       " 3235,\n",
       " 3236,\n",
       " 3237,\n",
       " 3238,\n",
       " 3239,\n",
       " 3240]"
      ]
     },
     "execution_count": 26,
     "metadata": {},
     "output_type": "execute_result"
    }
   ],
   "source": [
    "df_temp.apply(empty_temp_key, axis = 1)\n",
    "empty_list"
   ]
  },
  {
   "attachments": {},
   "cell_type": "markdown",
   "metadata": {},
   "source": [
    "И вот стоило для этого изобретать функцию, когда это можно было глазами по таблице увидеть. удаляем все записи где ключ не менее 2500 "
   ]
  },
  {
   "cell_type": "code",
   "execution_count": 27,
   "metadata": {},
   "outputs": [
    {
     "name": "stdout",
     "output_type": "stream",
     "text": [
      "<class 'pandas.core.frame.DataFrame'>\n",
      "Int64Index: 12267 entries, 0 to 12266\n",
      "Data columns (total 3 columns):\n",
      " #   Column        Non-Null Count  Dtype  \n",
      "---  ------        --------------  -----  \n",
      " 0   key           12267 non-null  int64  \n",
      " 1   Время замера  12267 non-null  object \n",
      " 2   Температура   12267 non-null  float64\n",
      "dtypes: float64(1), int64(1), object(1)\n",
      "memory usage: 383.3+ KB\n"
     ]
    }
   ],
   "source": [
    "df_temp = df_temp.drop (df_temp[df_temp['key']>=2500].index)\n",
    "df_temp.info()"
   ]
  },
  {
   "attachments": {},
   "cell_type": "markdown",
   "metadata": {},
   "source": [
    "Ну или это можно сделать правильней циклом как со слишком низкими температурами ниже."
   ]
  },
  {
   "attachments": {},
   "cell_type": "markdown",
   "metadata": {},
   "source": [
    "теперь отбросим ключи, в которых температура плавления опустилась ниже 1450 градусов"
   ]
  },
  {
   "cell_type": "code",
   "execution_count": 28,
   "metadata": {},
   "outputs": [],
   "source": [
    "low_temp = list(df_temp[df_temp['Температура']<1450]['key'])"
   ]
  },
  {
   "cell_type": "code",
   "execution_count": 29,
   "metadata": {},
   "outputs": [],
   "source": [
    "for res in low_temp:\n",
    "    df_temp = df_temp.drop(df_temp[df_temp['key']==res].index)"
   ]
  },
  {
   "cell_type": "code",
   "execution_count": 30,
   "metadata": {},
   "outputs": [
    {
     "name": "stdout",
     "output_type": "stream",
     "text": [
      "<class 'pandas.core.frame.DataFrame'>\n",
      "Int64Index: 12223 entries, 0 to 12266\n",
      "Data columns (total 3 columns):\n",
      " #   Column        Non-Null Count  Dtype  \n",
      "---  ------        --------------  -----  \n",
      " 0   key           12223 non-null  int64  \n",
      " 1   Время замера  12223 non-null  object \n",
      " 2   Температура   12223 non-null  float64\n",
      "dtypes: float64(1), int64(1), object(1)\n",
      "memory usage: 382.0+ KB\n"
     ]
    }
   ],
   "source": [
    "df_temp.info()"
   ]
  },
  {
   "cell_type": "code",
   "execution_count": 31,
   "metadata": {},
   "outputs": [
    {
     "data": {
      "text/html": [
       "<div>\n",
       "<style scoped>\n",
       "    .dataframe tbody tr th:only-of-type {\n",
       "        vertical-align: middle;\n",
       "    }\n",
       "\n",
       "    .dataframe tbody tr th {\n",
       "        vertical-align: top;\n",
       "    }\n",
       "\n",
       "    .dataframe thead th {\n",
       "        text-align: right;\n",
       "    }\n",
       "</style>\n",
       "<table border=\"1\" class=\"dataframe\">\n",
       "  <thead>\n",
       "    <tr style=\"text-align: right;\">\n",
       "      <th></th>\n",
       "      <th>Время замера</th>\n",
       "      <th>Температура</th>\n",
       "    </tr>\n",
       "    <tr>\n",
       "      <th>key</th>\n",
       "      <th></th>\n",
       "      <th></th>\n",
       "    </tr>\n",
       "  </thead>\n",
       "  <tbody>\n",
       "    <tr>\n",
       "      <th>1</th>\n",
       "      <td>5</td>\n",
       "      <td>5</td>\n",
       "    </tr>\n",
       "    <tr>\n",
       "      <th>2</th>\n",
       "      <td>6</td>\n",
       "      <td>6</td>\n",
       "    </tr>\n",
       "    <tr>\n",
       "      <th>3</th>\n",
       "      <td>5</td>\n",
       "      <td>5</td>\n",
       "    </tr>\n",
       "    <tr>\n",
       "      <th>4</th>\n",
       "      <td>3</td>\n",
       "      <td>3</td>\n",
       "    </tr>\n",
       "    <tr>\n",
       "      <th>5</th>\n",
       "      <td>2</td>\n",
       "      <td>2</td>\n",
       "    </tr>\n",
       "    <tr>\n",
       "      <th>6</th>\n",
       "      <td>5</td>\n",
       "      <td>5</td>\n",
       "    </tr>\n",
       "    <tr>\n",
       "      <th>7</th>\n",
       "      <td>5</td>\n",
       "      <td>5</td>\n",
       "    </tr>\n",
       "    <tr>\n",
       "      <th>8</th>\n",
       "      <td>4</td>\n",
       "      <td>4</td>\n",
       "    </tr>\n",
       "    <tr>\n",
       "      <th>9</th>\n",
       "      <td>5</td>\n",
       "      <td>5</td>\n",
       "    </tr>\n",
       "    <tr>\n",
       "      <th>10</th>\n",
       "      <td>8</td>\n",
       "      <td>8</td>\n",
       "    </tr>\n",
       "    <tr>\n",
       "      <th>11</th>\n",
       "      <td>4</td>\n",
       "      <td>4</td>\n",
       "    </tr>\n",
       "    <tr>\n",
       "      <th>12</th>\n",
       "      <td>7</td>\n",
       "      <td>7</td>\n",
       "    </tr>\n",
       "    <tr>\n",
       "      <th>13</th>\n",
       "      <td>7</td>\n",
       "      <td>7</td>\n",
       "    </tr>\n",
       "    <tr>\n",
       "      <th>14</th>\n",
       "      <td>6</td>\n",
       "      <td>6</td>\n",
       "    </tr>\n",
       "    <tr>\n",
       "      <th>15</th>\n",
       "      <td>6</td>\n",
       "      <td>6</td>\n",
       "    </tr>\n",
       "    <tr>\n",
       "      <th>16</th>\n",
       "      <td>4</td>\n",
       "      <td>4</td>\n",
       "    </tr>\n",
       "    <tr>\n",
       "      <th>17</th>\n",
       "      <td>6</td>\n",
       "      <td>6</td>\n",
       "    </tr>\n",
       "    <tr>\n",
       "      <th>18</th>\n",
       "      <td>7</td>\n",
       "      <td>7</td>\n",
       "    </tr>\n",
       "    <tr>\n",
       "      <th>19</th>\n",
       "      <td>8</td>\n",
       "      <td>8</td>\n",
       "    </tr>\n",
       "    <tr>\n",
       "      <th>20</th>\n",
       "      <td>5</td>\n",
       "      <td>5</td>\n",
       "    </tr>\n",
       "  </tbody>\n",
       "</table>\n",
       "</div>"
      ],
      "text/plain": [
       "     Время замера  Температура\n",
       "key                           \n",
       "1               5            5\n",
       "2               6            6\n",
       "3               5            5\n",
       "4               3            3\n",
       "5               2            2\n",
       "6               5            5\n",
       "7               5            5\n",
       "8               4            4\n",
       "9               5            5\n",
       "10              8            8\n",
       "11              4            4\n",
       "12              7            7\n",
       "13              7            7\n",
       "14              6            6\n",
       "15              6            6\n",
       "16              4            4\n",
       "17              6            6\n",
       "18              7            7\n",
       "19              8            8\n",
       "20              5            5"
      ]
     },
     "execution_count": 31,
     "metadata": {},
     "output_type": "execute_result"
    }
   ],
   "source": [
    "df_temp.groupby('key').count().head(20)"
   ]
  },
  {
   "attachments": {},
   "cell_type": "markdown",
   "metadata": {},
   "source": [
    "#### Мощность нагрева"
   ]
  },
  {
   "cell_type": "code",
   "execution_count": 32,
   "metadata": {},
   "outputs": [
    {
     "data": {
      "text/html": [
       "<div>\n",
       "<style scoped>\n",
       "    .dataframe tbody tr th:only-of-type {\n",
       "        vertical-align: middle;\n",
       "    }\n",
       "\n",
       "    .dataframe tbody tr th {\n",
       "        vertical-align: top;\n",
       "    }\n",
       "\n",
       "    .dataframe thead th {\n",
       "        text-align: right;\n",
       "    }\n",
       "</style>\n",
       "<table border=\"1\" class=\"dataframe\">\n",
       "  <thead>\n",
       "    <tr style=\"text-align: right;\">\n",
       "      <th></th>\n",
       "      <th>Начало нагрева дугой</th>\n",
       "      <th>Конец нагрева дугой</th>\n",
       "      <th>Активная мощность</th>\n",
       "      <th>Реактивная мощность</th>\n",
       "    </tr>\n",
       "    <tr>\n",
       "      <th>key</th>\n",
       "      <th></th>\n",
       "      <th></th>\n",
       "      <th></th>\n",
       "      <th></th>\n",
       "    </tr>\n",
       "  </thead>\n",
       "  <tbody>\n",
       "    <tr>\n",
       "      <th>1</th>\n",
       "      <td>5</td>\n",
       "      <td>5</td>\n",
       "      <td>5</td>\n",
       "      <td>5</td>\n",
       "    </tr>\n",
       "    <tr>\n",
       "      <th>2</th>\n",
       "      <td>4</td>\n",
       "      <td>4</td>\n",
       "      <td>4</td>\n",
       "      <td>4</td>\n",
       "    </tr>\n",
       "    <tr>\n",
       "      <th>3</th>\n",
       "      <td>5</td>\n",
       "      <td>5</td>\n",
       "      <td>5</td>\n",
       "      <td>5</td>\n",
       "    </tr>\n",
       "    <tr>\n",
       "      <th>4</th>\n",
       "      <td>4</td>\n",
       "      <td>4</td>\n",
       "      <td>4</td>\n",
       "      <td>4</td>\n",
       "    </tr>\n",
       "    <tr>\n",
       "      <th>5</th>\n",
       "      <td>4</td>\n",
       "      <td>4</td>\n",
       "      <td>4</td>\n",
       "      <td>4</td>\n",
       "    </tr>\n",
       "    <tr>\n",
       "      <th>6</th>\n",
       "      <td>4</td>\n",
       "      <td>4</td>\n",
       "      <td>4</td>\n",
       "      <td>4</td>\n",
       "    </tr>\n",
       "    <tr>\n",
       "      <th>7</th>\n",
       "      <td>4</td>\n",
       "      <td>4</td>\n",
       "      <td>4</td>\n",
       "      <td>4</td>\n",
       "    </tr>\n",
       "    <tr>\n",
       "      <th>8</th>\n",
       "      <td>4</td>\n",
       "      <td>4</td>\n",
       "      <td>4</td>\n",
       "      <td>4</td>\n",
       "    </tr>\n",
       "    <tr>\n",
       "      <th>9</th>\n",
       "      <td>5</td>\n",
       "      <td>5</td>\n",
       "      <td>5</td>\n",
       "      <td>5</td>\n",
       "    </tr>\n",
       "    <tr>\n",
       "      <th>10</th>\n",
       "      <td>6</td>\n",
       "      <td>6</td>\n",
       "      <td>6</td>\n",
       "      <td>6</td>\n",
       "    </tr>\n",
       "    <tr>\n",
       "      <th>11</th>\n",
       "      <td>5</td>\n",
       "      <td>5</td>\n",
       "      <td>5</td>\n",
       "      <td>5</td>\n",
       "    </tr>\n",
       "    <tr>\n",
       "      <th>12</th>\n",
       "      <td>4</td>\n",
       "      <td>4</td>\n",
       "      <td>4</td>\n",
       "      <td>4</td>\n",
       "    </tr>\n",
       "    <tr>\n",
       "      <th>13</th>\n",
       "      <td>6</td>\n",
       "      <td>6</td>\n",
       "      <td>6</td>\n",
       "      <td>6</td>\n",
       "    </tr>\n",
       "    <tr>\n",
       "      <th>14</th>\n",
       "      <td>6</td>\n",
       "      <td>6</td>\n",
       "      <td>6</td>\n",
       "      <td>6</td>\n",
       "    </tr>\n",
       "    <tr>\n",
       "      <th>15</th>\n",
       "      <td>5</td>\n",
       "      <td>5</td>\n",
       "      <td>5</td>\n",
       "      <td>5</td>\n",
       "    </tr>\n",
       "    <tr>\n",
       "      <th>16</th>\n",
       "      <td>3</td>\n",
       "      <td>3</td>\n",
       "      <td>3</td>\n",
       "      <td>3</td>\n",
       "    </tr>\n",
       "    <tr>\n",
       "      <th>17</th>\n",
       "      <td>5</td>\n",
       "      <td>5</td>\n",
       "      <td>5</td>\n",
       "      <td>5</td>\n",
       "    </tr>\n",
       "    <tr>\n",
       "      <th>18</th>\n",
       "      <td>5</td>\n",
       "      <td>5</td>\n",
       "      <td>5</td>\n",
       "      <td>5</td>\n",
       "    </tr>\n",
       "    <tr>\n",
       "      <th>19</th>\n",
       "      <td>3</td>\n",
       "      <td>3</td>\n",
       "      <td>3</td>\n",
       "      <td>3</td>\n",
       "    </tr>\n",
       "    <tr>\n",
       "      <th>20</th>\n",
       "      <td>5</td>\n",
       "      <td>5</td>\n",
       "      <td>5</td>\n",
       "      <td>5</td>\n",
       "    </tr>\n",
       "  </tbody>\n",
       "</table>\n",
       "</div>"
      ],
      "text/plain": [
       "     Начало нагрева дугой  Конец нагрева дугой  Активная мощность  \\\n",
       "key                                                                 \n",
       "1                       5                    5                  5   \n",
       "2                       4                    4                  4   \n",
       "3                       5                    5                  5   \n",
       "4                       4                    4                  4   \n",
       "5                       4                    4                  4   \n",
       "6                       4                    4                  4   \n",
       "7                       4                    4                  4   \n",
       "8                       4                    4                  4   \n",
       "9                       5                    5                  5   \n",
       "10                      6                    6                  6   \n",
       "11                      5                    5                  5   \n",
       "12                      4                    4                  4   \n",
       "13                      6                    6                  6   \n",
       "14                      6                    6                  6   \n",
       "15                      5                    5                  5   \n",
       "16                      3                    3                  3   \n",
       "17                      5                    5                  5   \n",
       "18                      5                    5                  5   \n",
       "19                      3                    3                  3   \n",
       "20                      5                    5                  5   \n",
       "\n",
       "     Реактивная мощность  \n",
       "key                       \n",
       "1                      5  \n",
       "2                      4  \n",
       "3                      5  \n",
       "4                      4  \n",
       "5                      4  \n",
       "6                      4  \n",
       "7                      4  \n",
       "8                      4  \n",
       "9                      5  \n",
       "10                     6  \n",
       "11                     5  \n",
       "12                     4  \n",
       "13                     6  \n",
       "14                     6  \n",
       "15                     5  \n",
       "16                     3  \n",
       "17                     5  \n",
       "18                     5  \n",
       "19                     3  \n",
       "20                     5  "
      ]
     },
     "execution_count": 32,
     "metadata": {},
     "output_type": "execute_result"
    }
   ],
   "source": [
    "df_arc.groupby('key').count().head(20)"
   ]
  },
  {
   "attachments": {},
   "cell_type": "markdown",
   "metadata": {},
   "source": [
    "по количеству записей для каждого ключа таблицы не сходятся, будем приводить к виду \"уникальности\" ключа\n",
    "\n",
    "для начала посчитаем полную мощность, а на основе нее потребление энергии, так как мощность это мгновенный показатель"
   ]
  },
  {
   "cell_type": "code",
   "execution_count": 33,
   "metadata": {},
   "outputs": [
    {
     "data": {
      "text/html": [
       "<div>\n",
       "<style scoped>\n",
       "    .dataframe tbody tr th:only-of-type {\n",
       "        vertical-align: middle;\n",
       "    }\n",
       "\n",
       "    .dataframe tbody tr th {\n",
       "        vertical-align: top;\n",
       "    }\n",
       "\n",
       "    .dataframe thead th {\n",
       "        text-align: right;\n",
       "    }\n",
       "</style>\n",
       "<table border=\"1\" class=\"dataframe\">\n",
       "  <thead>\n",
       "    <tr style=\"text-align: right;\">\n",
       "      <th></th>\n",
       "      <th>key</th>\n",
       "      <th>Начало нагрева дугой</th>\n",
       "      <th>Конец нагрева дугой</th>\n",
       "      <th>Активная мощность</th>\n",
       "      <th>Реактивная мощность</th>\n",
       "    </tr>\n",
       "  </thead>\n",
       "  <tbody>\n",
       "    <tr>\n",
       "      <th>0</th>\n",
       "      <td>1</td>\n",
       "      <td>2019-05-03 11:02:14</td>\n",
       "      <td>2019-05-03 11:06:02</td>\n",
       "      <td>0.976059</td>\n",
       "      <td>0.687084</td>\n",
       "    </tr>\n",
       "    <tr>\n",
       "      <th>1</th>\n",
       "      <td>1</td>\n",
       "      <td>2019-05-03 11:07:28</td>\n",
       "      <td>2019-05-03 11:10:33</td>\n",
       "      <td>0.805607</td>\n",
       "      <td>0.520285</td>\n",
       "    </tr>\n",
       "    <tr>\n",
       "      <th>2</th>\n",
       "      <td>1</td>\n",
       "      <td>2019-05-03 11:11:44</td>\n",
       "      <td>2019-05-03 11:14:36</td>\n",
       "      <td>0.744363</td>\n",
       "      <td>0.498805</td>\n",
       "    </tr>\n",
       "    <tr>\n",
       "      <th>3</th>\n",
       "      <td>1</td>\n",
       "      <td>2019-05-03 11:18:14</td>\n",
       "      <td>2019-05-03 11:24:19</td>\n",
       "      <td>1.659363</td>\n",
       "      <td>1.062669</td>\n",
       "    </tr>\n",
       "    <tr>\n",
       "      <th>4</th>\n",
       "      <td>1</td>\n",
       "      <td>2019-05-03 11:26:09</td>\n",
       "      <td>2019-05-03 11:28:37</td>\n",
       "      <td>0.692755</td>\n",
       "      <td>0.414397</td>\n",
       "    </tr>\n",
       "    <tr>\n",
       "      <th>...</th>\n",
       "      <td>...</td>\n",
       "      <td>...</td>\n",
       "      <td>...</td>\n",
       "      <td>...</td>\n",
       "      <td>...</td>\n",
       "    </tr>\n",
       "    <tr>\n",
       "      <th>14871</th>\n",
       "      <td>3241</td>\n",
       "      <td>2019-09-01 03:58:58</td>\n",
       "      <td>2019-09-01 04:01:35</td>\n",
       "      <td>0.533670</td>\n",
       "      <td>0.354439</td>\n",
       "    </tr>\n",
       "    <tr>\n",
       "      <th>14872</th>\n",
       "      <td>3241</td>\n",
       "      <td>2019-09-01 04:05:04</td>\n",
       "      <td>2019-09-01 04:08:04</td>\n",
       "      <td>0.676604</td>\n",
       "      <td>0.523631</td>\n",
       "    </tr>\n",
       "    <tr>\n",
       "      <th>14873</th>\n",
       "      <td>3241</td>\n",
       "      <td>2019-09-01 04:16:41</td>\n",
       "      <td>2019-09-01 04:19:45</td>\n",
       "      <td>0.733899</td>\n",
       "      <td>0.475654</td>\n",
       "    </tr>\n",
       "    <tr>\n",
       "      <th>14874</th>\n",
       "      <td>3241</td>\n",
       "      <td>2019-09-01 04:31:51</td>\n",
       "      <td>2019-09-01 04:32:48</td>\n",
       "      <td>0.220694</td>\n",
       "      <td>0.145768</td>\n",
       "    </tr>\n",
       "    <tr>\n",
       "      <th>14875</th>\n",
       "      <td>3241</td>\n",
       "      <td>2019-09-01 04:34:47</td>\n",
       "      <td>2019-09-01 04:36:08</td>\n",
       "      <td>0.306580</td>\n",
       "      <td>0.196708</td>\n",
       "    </tr>\n",
       "  </tbody>\n",
       "</table>\n",
       "<p>14876 rows × 5 columns</p>\n",
       "</div>"
      ],
      "text/plain": [
       "        key Начало нагрева дугой  Конец нагрева дугой  Активная мощность  \\\n",
       "0         1  2019-05-03 11:02:14  2019-05-03 11:06:02           0.976059   \n",
       "1         1  2019-05-03 11:07:28  2019-05-03 11:10:33           0.805607   \n",
       "2         1  2019-05-03 11:11:44  2019-05-03 11:14:36           0.744363   \n",
       "3         1  2019-05-03 11:18:14  2019-05-03 11:24:19           1.659363   \n",
       "4         1  2019-05-03 11:26:09  2019-05-03 11:28:37           0.692755   \n",
       "...     ...                  ...                  ...                ...   \n",
       "14871  3241  2019-09-01 03:58:58  2019-09-01 04:01:35           0.533670   \n",
       "14872  3241  2019-09-01 04:05:04  2019-09-01 04:08:04           0.676604   \n",
       "14873  3241  2019-09-01 04:16:41  2019-09-01 04:19:45           0.733899   \n",
       "14874  3241  2019-09-01 04:31:51  2019-09-01 04:32:48           0.220694   \n",
       "14875  3241  2019-09-01 04:34:47  2019-09-01 04:36:08           0.306580   \n",
       "\n",
       "       Реактивная мощность  \n",
       "0                 0.687084  \n",
       "1                 0.520285  \n",
       "2                 0.498805  \n",
       "3                 1.062669  \n",
       "4                 0.414397  \n",
       "...                    ...  \n",
       "14871             0.354439  \n",
       "14872             0.523631  \n",
       "14873             0.475654  \n",
       "14874             0.145768  \n",
       "14875             0.196708  \n",
       "\n",
       "[14876 rows x 5 columns]"
      ]
     },
     "execution_count": 33,
     "metadata": {},
     "output_type": "execute_result"
    }
   ],
   "source": [
    "df_arc"
   ]
  },
  {
   "cell_type": "code",
   "execution_count": 34,
   "metadata": {},
   "outputs": [
    {
     "data": {
      "text/plain": [
       "<AxesSubplot:>"
      ]
     },
     "execution_count": 34,
     "metadata": {},
     "output_type": "execute_result"
    },
    {
     "data": {
      "image/png": "[encoded data removed]",
      "text/plain": [
       "<Figure size 432x288 with 1 Axes>"
      ]
     },
     "metadata": {
      "needs_background": "light"
     },
     "output_type": "display_data"
    }
   ],
   "source": [
    "df_arc.drop('key', axis = 1).boxplot()"
   ]
  },
  {
   "cell_type": "code",
   "execution_count": 35,
   "metadata": {},
   "outputs": [],
   "source": [
    "df_arc = df_arc.drop(df_arc[df_arc['Реактивная мощность']<-100].index)"
   ]
  },
  {
   "cell_type": "code",
   "execution_count": 36,
   "metadata": {},
   "outputs": [
    {
     "data": {
      "text/plain": [
       "<AxesSubplot:>"
      ]
     },
     "execution_count": 36,
     "metadata": {},
     "output_type": "execute_result"
    },
    {
     "data": {
      "image/png": "[encoded data removed]",
      "text/plain": [
       "<Figure size 432x288 with 1 Axes>"
      ]
     },
     "metadata": {
      "needs_background": "light"
     },
     "output_type": "display_data"
    }
   ],
   "source": [
    "df_arc.drop('key', axis = 1).boxplot()"
   ]
  },
  {
   "cell_type": "code",
   "execution_count": 37,
   "metadata": {},
   "outputs": [],
   "source": [
    "df_arc['Полная мощность'] = ((df_arc['Активная мощность'])**2 + (df_arc['Реактивная мощность'])**2)**(1/2)"
   ]
  },
  {
   "cell_type": "code",
   "execution_count": 38,
   "metadata": {},
   "outputs": [
    {
     "data": {
      "text/html": [
       "<div>\n",
       "<style scoped>\n",
       "    .dataframe tbody tr th:only-of-type {\n",
       "        vertical-align: middle;\n",
       "    }\n",
       "\n",
       "    .dataframe tbody tr th {\n",
       "        vertical-align: top;\n",
       "    }\n",
       "\n",
       "    .dataframe thead th {\n",
       "        text-align: right;\n",
       "    }\n",
       "</style>\n",
       "<table border=\"1\" class=\"dataframe\">\n",
       "  <thead>\n",
       "    <tr style=\"text-align: right;\">\n",
       "      <th></th>\n",
       "      <th>key</th>\n",
       "      <th>Начало нагрева дугой</th>\n",
       "      <th>Конец нагрева дугой</th>\n",
       "      <th>Активная мощность</th>\n",
       "      <th>Реактивная мощность</th>\n",
       "      <th>Полная мощность</th>\n",
       "    </tr>\n",
       "  </thead>\n",
       "  <tbody>\n",
       "    <tr>\n",
       "      <th>0</th>\n",
       "      <td>1</td>\n",
       "      <td>2019-05-03 11:02:14</td>\n",
       "      <td>2019-05-03 11:06:02</td>\n",
       "      <td>0.976059</td>\n",
       "      <td>0.687084</td>\n",
       "      <td>1.193639</td>\n",
       "    </tr>\n",
       "    <tr>\n",
       "      <th>1</th>\n",
       "      <td>1</td>\n",
       "      <td>2019-05-03 11:07:28</td>\n",
       "      <td>2019-05-03 11:10:33</td>\n",
       "      <td>0.805607</td>\n",
       "      <td>0.520285</td>\n",
       "      <td>0.959010</td>\n",
       "    </tr>\n",
       "    <tr>\n",
       "      <th>2</th>\n",
       "      <td>1</td>\n",
       "      <td>2019-05-03 11:11:44</td>\n",
       "      <td>2019-05-03 11:14:36</td>\n",
       "      <td>0.744363</td>\n",
       "      <td>0.498805</td>\n",
       "      <td>0.896038</td>\n",
       "    </tr>\n",
       "    <tr>\n",
       "      <th>3</th>\n",
       "      <td>1</td>\n",
       "      <td>2019-05-03 11:18:14</td>\n",
       "      <td>2019-05-03 11:24:19</td>\n",
       "      <td>1.659363</td>\n",
       "      <td>1.062669</td>\n",
       "      <td>1.970470</td>\n",
       "    </tr>\n",
       "    <tr>\n",
       "      <th>4</th>\n",
       "      <td>1</td>\n",
       "      <td>2019-05-03 11:26:09</td>\n",
       "      <td>2019-05-03 11:28:37</td>\n",
       "      <td>0.692755</td>\n",
       "      <td>0.414397</td>\n",
       "      <td>0.807239</td>\n",
       "    </tr>\n",
       "    <tr>\n",
       "      <th>...</th>\n",
       "      <td>...</td>\n",
       "      <td>...</td>\n",
       "      <td>...</td>\n",
       "      <td>...</td>\n",
       "      <td>...</td>\n",
       "      <td>...</td>\n",
       "    </tr>\n",
       "    <tr>\n",
       "      <th>14871</th>\n",
       "      <td>3241</td>\n",
       "      <td>2019-09-01 03:58:58</td>\n",
       "      <td>2019-09-01 04:01:35</td>\n",
       "      <td>0.533670</td>\n",
       "      <td>0.354439</td>\n",
       "      <td>0.640648</td>\n",
       "    </tr>\n",
       "    <tr>\n",
       "      <th>14872</th>\n",
       "      <td>3241</td>\n",
       "      <td>2019-09-01 04:05:04</td>\n",
       "      <td>2019-09-01 04:08:04</td>\n",
       "      <td>0.676604</td>\n",
       "      <td>0.523631</td>\n",
       "      <td>0.855559</td>\n",
       "    </tr>\n",
       "    <tr>\n",
       "      <th>14873</th>\n",
       "      <td>3241</td>\n",
       "      <td>2019-09-01 04:16:41</td>\n",
       "      <td>2019-09-01 04:19:45</td>\n",
       "      <td>0.733899</td>\n",
       "      <td>0.475654</td>\n",
       "      <td>0.874560</td>\n",
       "    </tr>\n",
       "    <tr>\n",
       "      <th>14874</th>\n",
       "      <td>3241</td>\n",
       "      <td>2019-09-01 04:31:51</td>\n",
       "      <td>2019-09-01 04:32:48</td>\n",
       "      <td>0.220694</td>\n",
       "      <td>0.145768</td>\n",
       "      <td>0.264489</td>\n",
       "    </tr>\n",
       "    <tr>\n",
       "      <th>14875</th>\n",
       "      <td>3241</td>\n",
       "      <td>2019-09-01 04:34:47</td>\n",
       "      <td>2019-09-01 04:36:08</td>\n",
       "      <td>0.306580</td>\n",
       "      <td>0.196708</td>\n",
       "      <td>0.364260</td>\n",
       "    </tr>\n",
       "  </tbody>\n",
       "</table>\n",
       "<p>14875 rows × 6 columns</p>\n",
       "</div>"
      ],
      "text/plain": [
       "        key Начало нагрева дугой  Конец нагрева дугой  Активная мощность  \\\n",
       "0         1  2019-05-03 11:02:14  2019-05-03 11:06:02           0.976059   \n",
       "1         1  2019-05-03 11:07:28  2019-05-03 11:10:33           0.805607   \n",
       "2         1  2019-05-03 11:11:44  2019-05-03 11:14:36           0.744363   \n",
       "3         1  2019-05-03 11:18:14  2019-05-03 11:24:19           1.659363   \n",
       "4         1  2019-05-03 11:26:09  2019-05-03 11:28:37           0.692755   \n",
       "...     ...                  ...                  ...                ...   \n",
       "14871  3241  2019-09-01 03:58:58  2019-09-01 04:01:35           0.533670   \n",
       "14872  3241  2019-09-01 04:05:04  2019-09-01 04:08:04           0.676604   \n",
       "14873  3241  2019-09-01 04:16:41  2019-09-01 04:19:45           0.733899   \n",
       "14874  3241  2019-09-01 04:31:51  2019-09-01 04:32:48           0.220694   \n",
       "14875  3241  2019-09-01 04:34:47  2019-09-01 04:36:08           0.306580   \n",
       "\n",
       "       Реактивная мощность  Полная мощность  \n",
       "0                 0.687084         1.193639  \n",
       "1                 0.520285         0.959010  \n",
       "2                 0.498805         0.896038  \n",
       "3                 1.062669         1.970470  \n",
       "4                 0.414397         0.807239  \n",
       "...                    ...              ...  \n",
       "14871             0.354439         0.640648  \n",
       "14872             0.523631         0.855559  \n",
       "14873             0.475654         0.874560  \n",
       "14874             0.145768         0.264489  \n",
       "14875             0.196708         0.364260  \n",
       "\n",
       "[14875 rows x 6 columns]"
      ]
     },
     "execution_count": 38,
     "metadata": {},
     "output_type": "execute_result"
    }
   ],
   "source": [
    "df_arc"
   ]
  },
  {
   "attachments": {},
   "cell_type": "markdown",
   "metadata": {},
   "source": [
    "потребление энергии будем считать по формуле Полная_мощность*время нагрева. Приведением единиц измерения заниматься не будем, тут это не важно, главное что единицы измерения одинаковы. нужно посчитать количество секунду нагрева"
   ]
  },
  {
   "cell_type": "code",
   "execution_count": 39,
   "metadata": {},
   "outputs": [],
   "source": [
    "df_arc['Конец нагрева дугой'] = pd.to_datetime(df_arc['Конец нагрева дугой'])\n",
    "df_arc['Начало нагрева дугой'] = pd.to_datetime(df_arc['Начало нагрева дугой'])"
   ]
  },
  {
   "cell_type": "code",
   "execution_count": 40,
   "metadata": {},
   "outputs": [],
   "source": [
    "df_arc['Время нагрева'] = (df_arc['Конец нагрева дугой']) - (df_arc['Начало нагрева дугой'])"
   ]
  },
  {
   "cell_type": "code",
   "execution_count": 41,
   "metadata": {},
   "outputs": [],
   "source": [
    "df_arc['Время нагрева'] = df_arc['Время нагрева'].dt.total_seconds()"
   ]
  },
  {
   "cell_type": "code",
   "execution_count": 42,
   "metadata": {},
   "outputs": [
    {
     "data": {
      "text/plain": [
       "0        228.0\n",
       "1        185.0\n",
       "2        172.0\n",
       "3        365.0\n",
       "4        148.0\n",
       "         ...  \n",
       "14871    157.0\n",
       "14872    180.0\n",
       "14873    184.0\n",
       "14874     57.0\n",
       "14875     81.0\n",
       "Name: Время нагрева, Length: 14875, dtype: float64"
      ]
     },
     "execution_count": 42,
     "metadata": {},
     "output_type": "execute_result"
    }
   ],
   "source": [
    "df_arc['Время нагрева']"
   ]
  },
  {
   "cell_type": "code",
   "execution_count": 43,
   "metadata": {},
   "outputs": [],
   "source": [
    "df_arc['Энергия'] = df_arc['Время нагрева']*df_arc['Полная мощность']"
   ]
  },
  {
   "cell_type": "code",
   "execution_count": 44,
   "metadata": {},
   "outputs": [
    {
     "data": {
      "text/html": [
       "<div>\n",
       "<style scoped>\n",
       "    .dataframe tbody tr th:only-of-type {\n",
       "        vertical-align: middle;\n",
       "    }\n",
       "\n",
       "    .dataframe tbody tr th {\n",
       "        vertical-align: top;\n",
       "    }\n",
       "\n",
       "    .dataframe thead th {\n",
       "        text-align: right;\n",
       "    }\n",
       "</style>\n",
       "<table border=\"1\" class=\"dataframe\">\n",
       "  <thead>\n",
       "    <tr style=\"text-align: right;\">\n",
       "      <th></th>\n",
       "      <th>key</th>\n",
       "      <th>Начало нагрева дугой</th>\n",
       "      <th>Конец нагрева дугой</th>\n",
       "      <th>Активная мощность</th>\n",
       "      <th>Реактивная мощность</th>\n",
       "      <th>Полная мощность</th>\n",
       "      <th>Время нагрева</th>\n",
       "      <th>Энергия</th>\n",
       "    </tr>\n",
       "  </thead>\n",
       "  <tbody>\n",
       "    <tr>\n",
       "      <th>0</th>\n",
       "      <td>1</td>\n",
       "      <td>2019-05-03 11:02:14</td>\n",
       "      <td>2019-05-03 11:06:02</td>\n",
       "      <td>0.976059</td>\n",
       "      <td>0.687084</td>\n",
       "      <td>1.193639</td>\n",
       "      <td>228.0</td>\n",
       "      <td>272.149755</td>\n",
       "    </tr>\n",
       "    <tr>\n",
       "      <th>1</th>\n",
       "      <td>1</td>\n",
       "      <td>2019-05-03 11:07:28</td>\n",
       "      <td>2019-05-03 11:10:33</td>\n",
       "      <td>0.805607</td>\n",
       "      <td>0.520285</td>\n",
       "      <td>0.959010</td>\n",
       "      <td>185.0</td>\n",
       "      <td>177.416785</td>\n",
       "    </tr>\n",
       "    <tr>\n",
       "      <th>2</th>\n",
       "      <td>1</td>\n",
       "      <td>2019-05-03 11:11:44</td>\n",
       "      <td>2019-05-03 11:14:36</td>\n",
       "      <td>0.744363</td>\n",
       "      <td>0.498805</td>\n",
       "      <td>0.896038</td>\n",
       "      <td>172.0</td>\n",
       "      <td>154.118502</td>\n",
       "    </tr>\n",
       "    <tr>\n",
       "      <th>3</th>\n",
       "      <td>1</td>\n",
       "      <td>2019-05-03 11:18:14</td>\n",
       "      <td>2019-05-03 11:24:19</td>\n",
       "      <td>1.659363</td>\n",
       "      <td>1.062669</td>\n",
       "      <td>1.970470</td>\n",
       "      <td>365.0</td>\n",
       "      <td>719.221394</td>\n",
       "    </tr>\n",
       "    <tr>\n",
       "      <th>4</th>\n",
       "      <td>1</td>\n",
       "      <td>2019-05-03 11:26:09</td>\n",
       "      <td>2019-05-03 11:28:37</td>\n",
       "      <td>0.692755</td>\n",
       "      <td>0.414397</td>\n",
       "      <td>0.807239</td>\n",
       "      <td>148.0</td>\n",
       "      <td>119.471318</td>\n",
       "    </tr>\n",
       "    <tr>\n",
       "      <th>...</th>\n",
       "      <td>...</td>\n",
       "      <td>...</td>\n",
       "      <td>...</td>\n",
       "      <td>...</td>\n",
       "      <td>...</td>\n",
       "      <td>...</td>\n",
       "      <td>...</td>\n",
       "      <td>...</td>\n",
       "    </tr>\n",
       "    <tr>\n",
       "      <th>14871</th>\n",
       "      <td>3241</td>\n",
       "      <td>2019-09-01 03:58:58</td>\n",
       "      <td>2019-09-01 04:01:35</td>\n",
       "      <td>0.533670</td>\n",
       "      <td>0.354439</td>\n",
       "      <td>0.640648</td>\n",
       "      <td>157.0</td>\n",
       "      <td>100.581755</td>\n",
       "    </tr>\n",
       "    <tr>\n",
       "      <th>14872</th>\n",
       "      <td>3241</td>\n",
       "      <td>2019-09-01 04:05:04</td>\n",
       "      <td>2019-09-01 04:08:04</td>\n",
       "      <td>0.676604</td>\n",
       "      <td>0.523631</td>\n",
       "      <td>0.855559</td>\n",
       "      <td>180.0</td>\n",
       "      <td>154.000682</td>\n",
       "    </tr>\n",
       "    <tr>\n",
       "      <th>14873</th>\n",
       "      <td>3241</td>\n",
       "      <td>2019-09-01 04:16:41</td>\n",
       "      <td>2019-09-01 04:19:45</td>\n",
       "      <td>0.733899</td>\n",
       "      <td>0.475654</td>\n",
       "      <td>0.874560</td>\n",
       "      <td>184.0</td>\n",
       "      <td>160.919002</td>\n",
       "    </tr>\n",
       "    <tr>\n",
       "      <th>14874</th>\n",
       "      <td>3241</td>\n",
       "      <td>2019-09-01 04:31:51</td>\n",
       "      <td>2019-09-01 04:32:48</td>\n",
       "      <td>0.220694</td>\n",
       "      <td>0.145768</td>\n",
       "      <td>0.264489</td>\n",
       "      <td>57.0</td>\n",
       "      <td>15.075853</td>\n",
       "    </tr>\n",
       "    <tr>\n",
       "      <th>14875</th>\n",
       "      <td>3241</td>\n",
       "      <td>2019-09-01 04:34:47</td>\n",
       "      <td>2019-09-01 04:36:08</td>\n",
       "      <td>0.306580</td>\n",
       "      <td>0.196708</td>\n",
       "      <td>0.364260</td>\n",
       "      <td>81.0</td>\n",
       "      <td>29.505051</td>\n",
       "    </tr>\n",
       "  </tbody>\n",
       "</table>\n",
       "<p>14875 rows × 8 columns</p>\n",
       "</div>"
      ],
      "text/plain": [
       "        key Начало нагрева дугой Конец нагрева дугой  Активная мощность  \\\n",
       "0         1  2019-05-03 11:02:14 2019-05-03 11:06:02           0.976059   \n",
       "1         1  2019-05-03 11:07:28 2019-05-03 11:10:33           0.805607   \n",
       "2         1  2019-05-03 11:11:44 2019-05-03 11:14:36           0.744363   \n",
       "3         1  2019-05-03 11:18:14 2019-05-03 11:24:19           1.659363   \n",
       "4         1  2019-05-03 11:26:09 2019-05-03 11:28:37           0.692755   \n",
       "...     ...                  ...                 ...                ...   \n",
       "14871  3241  2019-09-01 03:58:58 2019-09-01 04:01:35           0.533670   \n",
       "14872  3241  2019-09-01 04:05:04 2019-09-01 04:08:04           0.676604   \n",
       "14873  3241  2019-09-01 04:16:41 2019-09-01 04:19:45           0.733899   \n",
       "14874  3241  2019-09-01 04:31:51 2019-09-01 04:32:48           0.220694   \n",
       "14875  3241  2019-09-01 04:34:47 2019-09-01 04:36:08           0.306580   \n",
       "\n",
       "       Реактивная мощность  Полная мощность  Время нагрева     Энергия  \n",
       "0                 0.687084         1.193639          228.0  272.149755  \n",
       "1                 0.520285         0.959010          185.0  177.416785  \n",
       "2                 0.498805         0.896038          172.0  154.118502  \n",
       "3                 1.062669         1.970470          365.0  719.221394  \n",
       "4                 0.414397         0.807239          148.0  119.471318  \n",
       "...                    ...              ...            ...         ...  \n",
       "14871             0.354439         0.640648          157.0  100.581755  \n",
       "14872             0.523631         0.855559          180.0  154.000682  \n",
       "14873             0.475654         0.874560          184.0  160.919002  \n",
       "14874             0.145768         0.264489           57.0   15.075853  \n",
       "14875             0.196708         0.364260           81.0   29.505051  \n",
       "\n",
       "[14875 rows x 8 columns]"
      ]
     },
     "execution_count": 44,
     "metadata": {},
     "output_type": "execute_result"
    }
   ],
   "source": [
    "df_arc"
   ]
  },
  {
   "attachments": {},
   "cell_type": "markdown",
   "metadata": {},
   "source": [
    "#### Сводная таблица Нагрева"
   ]
  },
  {
   "attachments": {},
   "cell_type": "markdown",
   "metadata": {},
   "source": [
    "Итак, в сводной таблице нам нужно будет следующее - ключ, время начала первого нагрева, время конца последнего нагрева, суммарное время всех нагревов, суммарная затраченная энергия нагревов"
   ]
  },
  {
   "cell_type": "code",
   "execution_count": 45,
   "metadata": {},
   "outputs": [],
   "source": [
    "df_arc_pivot  =pd.pivot_table(df_arc, values=['Начало нагрева дугой','Конец нагрева дугой','Время нагрева','Энергия'],\n",
    "               index=['key'],\n",
    "               aggfunc={\n",
    "                   'Начало нагрева дугой':np.min,\n",
    "                   'Конец нагрева дугой':np.max,\n",
    "                   'Время нагрева':np.sum,\n",
    "                   'Энергия':np.sum})"
   ]
  },
  {
   "cell_type": "code",
   "execution_count": 46,
   "metadata": {},
   "outputs": [],
   "source": [
    "df_arc_pivot = df_arc_pivot.reset_index()"
   ]
  },
  {
   "cell_type": "code",
   "execution_count": 47,
   "metadata": {},
   "outputs": [
    {
     "data": {
      "text/html": [
       "<div>\n",
       "<style scoped>\n",
       "    .dataframe tbody tr th:only-of-type {\n",
       "        vertical-align: middle;\n",
       "    }\n",
       "\n",
       "    .dataframe tbody tr th {\n",
       "        vertical-align: top;\n",
       "    }\n",
       "\n",
       "    .dataframe thead th {\n",
       "        text-align: right;\n",
       "    }\n",
       "</style>\n",
       "<table border=\"1\" class=\"dataframe\">\n",
       "  <thead>\n",
       "    <tr style=\"text-align: right;\">\n",
       "      <th></th>\n",
       "      <th>key</th>\n",
       "      <th>Время нагрева</th>\n",
       "      <th>Конец нагрева дугой</th>\n",
       "      <th>Начало нагрева дугой</th>\n",
       "      <th>Энергия</th>\n",
       "    </tr>\n",
       "  </thead>\n",
       "  <tbody>\n",
       "    <tr>\n",
       "      <th>0</th>\n",
       "      <td>1</td>\n",
       "      <td>1098.0</td>\n",
       "      <td>2019-05-03 11:28:37</td>\n",
       "      <td>2019-05-03 11:02:14</td>\n",
       "      <td>1442.377754</td>\n",
       "    </tr>\n",
       "    <tr>\n",
       "      <th>1</th>\n",
       "      <td>2</td>\n",
       "      <td>811.0</td>\n",
       "      <td>2019-05-03 11:53:18</td>\n",
       "      <td>2019-05-03 11:34:14</td>\n",
       "      <td>881.233565</td>\n",
       "    </tr>\n",
       "    <tr>\n",
       "      <th>2</th>\n",
       "      <td>3</td>\n",
       "      <td>655.0</td>\n",
       "      <td>2019-05-03 12:32:19</td>\n",
       "      <td>2019-05-03 12:06:54</td>\n",
       "      <td>525.066777</td>\n",
       "    </tr>\n",
       "    <tr>\n",
       "      <th>3</th>\n",
       "      <td>4</td>\n",
       "      <td>741.0</td>\n",
       "      <td>2019-05-03 12:57:50</td>\n",
       "      <td>2019-05-03 12:39:37</td>\n",
       "      <td>796.911309</td>\n",
       "    </tr>\n",
       "    <tr>\n",
       "      <th>4</th>\n",
       "      <td>5</td>\n",
       "      <td>869.0</td>\n",
       "      <td>2019-05-03 13:33:55</td>\n",
       "      <td>2019-05-03 13:11:13</td>\n",
       "      <td>1199.137958</td>\n",
       "    </tr>\n",
       "    <tr>\n",
       "      <th>...</th>\n",
       "      <td>...</td>\n",
       "      <td>...</td>\n",
       "      <td>...</td>\n",
       "      <td>...</td>\n",
       "      <td>...</td>\n",
       "    </tr>\n",
       "    <tr>\n",
       "      <th>3209</th>\n",
       "      <td>3237</td>\n",
       "      <td>909.0</td>\n",
       "      <td>2019-08-31 23:03:48</td>\n",
       "      <td>2019-08-31 22:41:18</td>\n",
       "      <td>958.336236</td>\n",
       "    </tr>\n",
       "    <tr>\n",
       "      <th>3210</th>\n",
       "      <td>3238</td>\n",
       "      <td>546.0</td>\n",
       "      <td>2019-08-31 23:41:28</td>\n",
       "      <td>2019-08-31 23:26:18</td>\n",
       "      <td>555.867370</td>\n",
       "    </tr>\n",
       "    <tr>\n",
       "      <th>3211</th>\n",
       "      <td>3239</td>\n",
       "      <td>1216.0</td>\n",
       "      <td>2019-09-01 02:15:43</td>\n",
       "      <td>2019-09-01 01:26:53</td>\n",
       "      <td>1013.067719</td>\n",
       "    </tr>\n",
       "    <tr>\n",
       "      <th>3212</th>\n",
       "      <td>3240</td>\n",
       "      <td>839.0</td>\n",
       "      <td>2019-09-01 03:34:08</td>\n",
       "      <td>2019-09-01 02:35:24</td>\n",
       "      <td>729.208940</td>\n",
       "    </tr>\n",
       "    <tr>\n",
       "      <th>3213</th>\n",
       "      <td>3241</td>\n",
       "      <td>659.0</td>\n",
       "      <td>2019-09-01 04:36:08</td>\n",
       "      <td>2019-09-01 03:58:58</td>\n",
       "      <td>460.082343</td>\n",
       "    </tr>\n",
       "  </tbody>\n",
       "</table>\n",
       "<p>3214 rows × 5 columns</p>\n",
       "</div>"
      ],
      "text/plain": [
       "       key  Время нагрева Конец нагрева дугой Начало нагрева дугой  \\\n",
       "0        1         1098.0 2019-05-03 11:28:37  2019-05-03 11:02:14   \n",
       "1        2          811.0 2019-05-03 11:53:18  2019-05-03 11:34:14   \n",
       "2        3          655.0 2019-05-03 12:32:19  2019-05-03 12:06:54   \n",
       "3        4          741.0 2019-05-03 12:57:50  2019-05-03 12:39:37   \n",
       "4        5          869.0 2019-05-03 13:33:55  2019-05-03 13:11:13   \n",
       "...    ...            ...                 ...                  ...   \n",
       "3209  3237          909.0 2019-08-31 23:03:48  2019-08-31 22:41:18   \n",
       "3210  3238          546.0 2019-08-31 23:41:28  2019-08-31 23:26:18   \n",
       "3211  3239         1216.0 2019-09-01 02:15:43  2019-09-01 01:26:53   \n",
       "3212  3240          839.0 2019-09-01 03:34:08  2019-09-01 02:35:24   \n",
       "3213  3241          659.0 2019-09-01 04:36:08  2019-09-01 03:58:58   \n",
       "\n",
       "          Энергия  \n",
       "0     1442.377754  \n",
       "1      881.233565  \n",
       "2      525.066777  \n",
       "3      796.911309  \n",
       "4     1199.137958  \n",
       "...           ...  \n",
       "3209   958.336236  \n",
       "3210   555.867370  \n",
       "3211  1013.067719  \n",
       "3212   729.208940  \n",
       "3213   460.082343  \n",
       "\n",
       "[3214 rows x 5 columns]"
      ]
     },
     "execution_count": 47,
     "metadata": {},
     "output_type": "execute_result"
    }
   ],
   "source": [
    "df_arc_pivot"
   ]
  },
  {
   "attachments": {},
   "cell_type": "markdown",
   "metadata": {},
   "source": [
    "ну вот. так более пригодно"
   ]
  },
  {
   "attachments": {},
   "cell_type": "markdown",
   "metadata": {},
   "source": [
    "#### Сводная таблица температур"
   ]
  },
  {
   "cell_type": "code",
   "execution_count": 48,
   "metadata": {},
   "outputs": [
    {
     "data": {
      "text/html": [
       "<div>\n",
       "<style scoped>\n",
       "    .dataframe tbody tr th:only-of-type {\n",
       "        vertical-align: middle;\n",
       "    }\n",
       "\n",
       "    .dataframe tbody tr th {\n",
       "        vertical-align: top;\n",
       "    }\n",
       "\n",
       "    .dataframe thead th {\n",
       "        text-align: right;\n",
       "    }\n",
       "</style>\n",
       "<table border=\"1\" class=\"dataframe\">\n",
       "  <thead>\n",
       "    <tr style=\"text-align: right;\">\n",
       "      <th></th>\n",
       "      <th>key</th>\n",
       "      <th>Время замера</th>\n",
       "      <th>Температура</th>\n",
       "    </tr>\n",
       "  </thead>\n",
       "  <tbody>\n",
       "    <tr>\n",
       "      <th>0</th>\n",
       "      <td>1</td>\n",
       "      <td>2019-05-03 11:16:18</td>\n",
       "      <td>1571.0</td>\n",
       "    </tr>\n",
       "    <tr>\n",
       "      <th>1</th>\n",
       "      <td>1</td>\n",
       "      <td>2019-05-03 11:25:53</td>\n",
       "      <td>1604.0</td>\n",
       "    </tr>\n",
       "    <tr>\n",
       "      <th>2</th>\n",
       "      <td>1</td>\n",
       "      <td>2019-05-03 11:29:11</td>\n",
       "      <td>1618.0</td>\n",
       "    </tr>\n",
       "    <tr>\n",
       "      <th>3</th>\n",
       "      <td>1</td>\n",
       "      <td>2019-05-03 11:30:01</td>\n",
       "      <td>1601.0</td>\n",
       "    </tr>\n",
       "    <tr>\n",
       "      <th>4</th>\n",
       "      <td>1</td>\n",
       "      <td>2019-05-03 11:30:39</td>\n",
       "      <td>1613.0</td>\n",
       "    </tr>\n",
       "    <tr>\n",
       "      <th>...</th>\n",
       "      <td>...</td>\n",
       "      <td>...</td>\n",
       "      <td>...</td>\n",
       "    </tr>\n",
       "    <tr>\n",
       "      <th>12262</th>\n",
       "      <td>2498</td>\n",
       "      <td>2019-08-06 02:19:26</td>\n",
       "      <td>1593.0</td>\n",
       "    </tr>\n",
       "    <tr>\n",
       "      <th>12263</th>\n",
       "      <td>2498</td>\n",
       "      <td>2019-08-06 02:25:31</td>\n",
       "      <td>1594.0</td>\n",
       "    </tr>\n",
       "    <tr>\n",
       "      <th>12264</th>\n",
       "      <td>2499</td>\n",
       "      <td>2019-08-06 02:40:25</td>\n",
       "      <td>1569.0</td>\n",
       "    </tr>\n",
       "    <tr>\n",
       "      <th>12265</th>\n",
       "      <td>2499</td>\n",
       "      <td>2019-08-06 02:54:24</td>\n",
       "      <td>1604.0</td>\n",
       "    </tr>\n",
       "    <tr>\n",
       "      <th>12266</th>\n",
       "      <td>2499</td>\n",
       "      <td>2019-08-06 03:00:28</td>\n",
       "      <td>1603.0</td>\n",
       "    </tr>\n",
       "  </tbody>\n",
       "</table>\n",
       "<p>12223 rows × 3 columns</p>\n",
       "</div>"
      ],
      "text/plain": [
       "        key         Время замера  Температура\n",
       "0         1  2019-05-03 11:16:18       1571.0\n",
       "1         1  2019-05-03 11:25:53       1604.0\n",
       "2         1  2019-05-03 11:29:11       1618.0\n",
       "3         1  2019-05-03 11:30:01       1601.0\n",
       "4         1  2019-05-03 11:30:39       1613.0\n",
       "...     ...                  ...          ...\n",
       "12262  2498  2019-08-06 02:19:26       1593.0\n",
       "12263  2498  2019-08-06 02:25:31       1594.0\n",
       "12264  2499  2019-08-06 02:40:25       1569.0\n",
       "12265  2499  2019-08-06 02:54:24       1604.0\n",
       "12266  2499  2019-08-06 03:00:28       1603.0\n",
       "\n",
       "[12223 rows x 3 columns]"
      ]
     },
     "execution_count": 48,
     "metadata": {},
     "output_type": "execute_result"
    }
   ],
   "source": [
    "df_temp"
   ]
  },
  {
   "attachments": {},
   "cell_type": "markdown",
   "metadata": {},
   "source": [
    "теперь тут сводную сделаем"
   ]
  },
  {
   "cell_type": "code",
   "execution_count": 49,
   "metadata": {},
   "outputs": [],
   "source": [
    "df_temp_pivot = pd.pivot_table(df_temp, values=['Время замера','Температура'],\n",
    "               index=['key'],\n",
    "               aggfunc={\n",
    "                   'first','last'})"
   ]
  },
  {
   "cell_type": "code",
   "execution_count": 50,
   "metadata": {},
   "outputs": [],
   "source": [
    "df_temp_pivot = df_temp_pivot.reset_index()"
   ]
  },
  {
   "cell_type": "code",
   "execution_count": 51,
   "metadata": {},
   "outputs": [],
   "source": [
    "df_temp_pivot.columns = ['key' ,'Время замера first' , 'Время замера last','Температура first', 'Температура last' ]"
   ]
  },
  {
   "cell_type": "code",
   "execution_count": 52,
   "metadata": {},
   "outputs": [
    {
     "data": {
      "text/html": [
       "<div>\n",
       "<style scoped>\n",
       "    .dataframe tbody tr th:only-of-type {\n",
       "        vertical-align: middle;\n",
       "    }\n",
       "\n",
       "    .dataframe tbody tr th {\n",
       "        vertical-align: top;\n",
       "    }\n",
       "\n",
       "    .dataframe thead th {\n",
       "        text-align: right;\n",
       "    }\n",
       "</style>\n",
       "<table border=\"1\" class=\"dataframe\">\n",
       "  <thead>\n",
       "    <tr style=\"text-align: right;\">\n",
       "      <th></th>\n",
       "      <th>key</th>\n",
       "      <th>Время замера first</th>\n",
       "      <th>Время замера last</th>\n",
       "      <th>Температура first</th>\n",
       "      <th>Температура last</th>\n",
       "    </tr>\n",
       "  </thead>\n",
       "  <tbody>\n",
       "    <tr>\n",
       "      <th>0</th>\n",
       "      <td>1</td>\n",
       "      <td>2019-05-03 11:16:18</td>\n",
       "      <td>2019-05-03 11:30:39</td>\n",
       "      <td>1571.0</td>\n",
       "      <td>1613.0</td>\n",
       "    </tr>\n",
       "    <tr>\n",
       "      <th>1</th>\n",
       "      <td>2</td>\n",
       "      <td>2019-05-03 11:37:27</td>\n",
       "      <td>2019-05-03 11:59:12</td>\n",
       "      <td>1581.0</td>\n",
       "      <td>1602.0</td>\n",
       "    </tr>\n",
       "    <tr>\n",
       "      <th>2</th>\n",
       "      <td>3</td>\n",
       "      <td>2019-05-03 12:13:17</td>\n",
       "      <td>2019-05-03 12:34:57</td>\n",
       "      <td>1596.0</td>\n",
       "      <td>1599.0</td>\n",
       "    </tr>\n",
       "    <tr>\n",
       "      <th>3</th>\n",
       "      <td>4</td>\n",
       "      <td>2019-05-03 12:52:57</td>\n",
       "      <td>2019-05-03 12:59:25</td>\n",
       "      <td>1601.0</td>\n",
       "      <td>1625.0</td>\n",
       "    </tr>\n",
       "    <tr>\n",
       "      <th>4</th>\n",
       "      <td>5</td>\n",
       "      <td>2019-05-03 13:23:19</td>\n",
       "      <td>2019-05-03 13:36:01</td>\n",
       "      <td>1576.0</td>\n",
       "      <td>1602.0</td>\n",
       "    </tr>\n",
       "    <tr>\n",
       "      <th>...</th>\n",
       "      <td>...</td>\n",
       "      <td>...</td>\n",
       "      <td>...</td>\n",
       "      <td>...</td>\n",
       "      <td>...</td>\n",
       "    </tr>\n",
       "    <tr>\n",
       "      <th>2467</th>\n",
       "      <td>2495</td>\n",
       "      <td>2019-08-06 00:35:45</td>\n",
       "      <td>2019-08-06 00:54:42</td>\n",
       "      <td>1570.0</td>\n",
       "      <td>1591.0</td>\n",
       "    </tr>\n",
       "    <tr>\n",
       "      <th>2468</th>\n",
       "      <td>2496</td>\n",
       "      <td>2019-08-06 01:02:54</td>\n",
       "      <td>2019-08-06 01:29:52</td>\n",
       "      <td>1554.0</td>\n",
       "      <td>1591.0</td>\n",
       "    </tr>\n",
       "    <tr>\n",
       "      <th>2469</th>\n",
       "      <td>2497</td>\n",
       "      <td>2019-08-06 01:41:53</td>\n",
       "      <td>2019-08-06 01:53:50</td>\n",
       "      <td>1571.0</td>\n",
       "      <td>1589.0</td>\n",
       "    </tr>\n",
       "    <tr>\n",
       "      <th>2470</th>\n",
       "      <td>2498</td>\n",
       "      <td>2019-08-06 02:03:49</td>\n",
       "      <td>2019-08-06 02:25:31</td>\n",
       "      <td>1591.0</td>\n",
       "      <td>1594.0</td>\n",
       "    </tr>\n",
       "    <tr>\n",
       "      <th>2471</th>\n",
       "      <td>2499</td>\n",
       "      <td>2019-08-06 02:40:25</td>\n",
       "      <td>2019-08-06 03:00:28</td>\n",
       "      <td>1569.0</td>\n",
       "      <td>1603.0</td>\n",
       "    </tr>\n",
       "  </tbody>\n",
       "</table>\n",
       "<p>2472 rows × 5 columns</p>\n",
       "</div>"
      ],
      "text/plain": [
       "       key   Время замера first    Время замера last  Температура first  \\\n",
       "0        1  2019-05-03 11:16:18  2019-05-03 11:30:39             1571.0   \n",
       "1        2  2019-05-03 11:37:27  2019-05-03 11:59:12             1581.0   \n",
       "2        3  2019-05-03 12:13:17  2019-05-03 12:34:57             1596.0   \n",
       "3        4  2019-05-03 12:52:57  2019-05-03 12:59:25             1601.0   \n",
       "4        5  2019-05-03 13:23:19  2019-05-03 13:36:01             1576.0   \n",
       "...    ...                  ...                  ...                ...   \n",
       "2467  2495  2019-08-06 00:35:45  2019-08-06 00:54:42             1570.0   \n",
       "2468  2496  2019-08-06 01:02:54  2019-08-06 01:29:52             1554.0   \n",
       "2469  2497  2019-08-06 01:41:53  2019-08-06 01:53:50             1571.0   \n",
       "2470  2498  2019-08-06 02:03:49  2019-08-06 02:25:31             1591.0   \n",
       "2471  2499  2019-08-06 02:40:25  2019-08-06 03:00:28             1569.0   \n",
       "\n",
       "      Температура last  \n",
       "0               1613.0  \n",
       "1               1602.0  \n",
       "2               1599.0  \n",
       "3               1625.0  \n",
       "4               1602.0  \n",
       "...                ...  \n",
       "2467            1591.0  \n",
       "2468            1591.0  \n",
       "2469            1589.0  \n",
       "2470            1594.0  \n",
       "2471            1603.0  \n",
       "\n",
       "[2472 rows x 5 columns]"
      ]
     },
     "execution_count": 52,
     "metadata": {},
     "output_type": "execute_result"
    }
   ],
   "source": [
    "df_temp_pivot"
   ]
  },
  {
   "attachments": {},
   "cell_type": "markdown",
   "metadata": {},
   "source": [
    "теперь у нас все таблицы с ключом как уникальным идентификатором. таблицы можно объединять. но сначала избавимся от NAN и выбросов"
   ]
  },
  {
   "attachments": {},
   "cell_type": "markdown",
   "metadata": {},
   "source": [
    "#### Твердые присадки"
   ]
  },
  {
   "cell_type": "code",
   "execution_count": 53,
   "metadata": {
    "scrolled": true
   },
   "outputs": [
    {
     "data": {
      "text/html": [
       "<div>\n",
       "<style scoped>\n",
       "    .dataframe tbody tr th:only-of-type {\n",
       "        vertical-align: middle;\n",
       "    }\n",
       "\n",
       "    .dataframe tbody tr th {\n",
       "        vertical-align: top;\n",
       "    }\n",
       "\n",
       "    .dataframe thead th {\n",
       "        text-align: right;\n",
       "    }\n",
       "</style>\n",
       "<table border=\"1\" class=\"dataframe\">\n",
       "  <thead>\n",
       "    <tr style=\"text-align: right;\">\n",
       "      <th></th>\n",
       "      <th>key</th>\n",
       "      <th>Bulk 1</th>\n",
       "      <th>Bulk 2</th>\n",
       "      <th>Bulk 3</th>\n",
       "      <th>Bulk 4</th>\n",
       "      <th>Bulk 5</th>\n",
       "      <th>Bulk 6</th>\n",
       "      <th>Bulk 7</th>\n",
       "      <th>Bulk 8</th>\n",
       "      <th>Bulk 9</th>\n",
       "      <th>Bulk 10</th>\n",
       "      <th>Bulk 11</th>\n",
       "      <th>Bulk 12</th>\n",
       "      <th>Bulk 13</th>\n",
       "      <th>Bulk 14</th>\n",
       "      <th>Bulk 15</th>\n",
       "    </tr>\n",
       "  </thead>\n",
       "  <tbody>\n",
       "    <tr>\n",
       "      <th>0</th>\n",
       "      <td>1</td>\n",
       "      <td>NaN</td>\n",
       "      <td>NaN</td>\n",
       "      <td>NaN</td>\n",
       "      <td>43.0</td>\n",
       "      <td>NaN</td>\n",
       "      <td>NaN</td>\n",
       "      <td>NaN</td>\n",
       "      <td>NaN</td>\n",
       "      <td>NaN</td>\n",
       "      <td>NaN</td>\n",
       "      <td>NaN</td>\n",
       "      <td>206.0</td>\n",
       "      <td>NaN</td>\n",
       "      <td>150.0</td>\n",
       "      <td>154.0</td>\n",
       "    </tr>\n",
       "    <tr>\n",
       "      <th>1</th>\n",
       "      <td>2</td>\n",
       "      <td>NaN</td>\n",
       "      <td>NaN</td>\n",
       "      <td>NaN</td>\n",
       "      <td>73.0</td>\n",
       "      <td>NaN</td>\n",
       "      <td>NaN</td>\n",
       "      <td>NaN</td>\n",
       "      <td>NaN</td>\n",
       "      <td>NaN</td>\n",
       "      <td>NaN</td>\n",
       "      <td>NaN</td>\n",
       "      <td>206.0</td>\n",
       "      <td>NaN</td>\n",
       "      <td>149.0</td>\n",
       "      <td>154.0</td>\n",
       "    </tr>\n",
       "    <tr>\n",
       "      <th>2</th>\n",
       "      <td>3</td>\n",
       "      <td>NaN</td>\n",
       "      <td>NaN</td>\n",
       "      <td>NaN</td>\n",
       "      <td>34.0</td>\n",
       "      <td>NaN</td>\n",
       "      <td>NaN</td>\n",
       "      <td>NaN</td>\n",
       "      <td>NaN</td>\n",
       "      <td>NaN</td>\n",
       "      <td>NaN</td>\n",
       "      <td>NaN</td>\n",
       "      <td>205.0</td>\n",
       "      <td>NaN</td>\n",
       "      <td>152.0</td>\n",
       "      <td>153.0</td>\n",
       "    </tr>\n",
       "    <tr>\n",
       "      <th>3</th>\n",
       "      <td>4</td>\n",
       "      <td>NaN</td>\n",
       "      <td>NaN</td>\n",
       "      <td>NaN</td>\n",
       "      <td>81.0</td>\n",
       "      <td>NaN</td>\n",
       "      <td>NaN</td>\n",
       "      <td>NaN</td>\n",
       "      <td>NaN</td>\n",
       "      <td>NaN</td>\n",
       "      <td>NaN</td>\n",
       "      <td>NaN</td>\n",
       "      <td>207.0</td>\n",
       "      <td>NaN</td>\n",
       "      <td>153.0</td>\n",
       "      <td>154.0</td>\n",
       "    </tr>\n",
       "    <tr>\n",
       "      <th>4</th>\n",
       "      <td>5</td>\n",
       "      <td>NaN</td>\n",
       "      <td>NaN</td>\n",
       "      <td>NaN</td>\n",
       "      <td>78.0</td>\n",
       "      <td>NaN</td>\n",
       "      <td>NaN</td>\n",
       "      <td>NaN</td>\n",
       "      <td>NaN</td>\n",
       "      <td>NaN</td>\n",
       "      <td>NaN</td>\n",
       "      <td>NaN</td>\n",
       "      <td>203.0</td>\n",
       "      <td>NaN</td>\n",
       "      <td>151.0</td>\n",
       "      <td>152.0</td>\n",
       "    </tr>\n",
       "    <tr>\n",
       "      <th>...</th>\n",
       "      <td>...</td>\n",
       "      <td>...</td>\n",
       "      <td>...</td>\n",
       "      <td>...</td>\n",
       "      <td>...</td>\n",
       "      <td>...</td>\n",
       "      <td>...</td>\n",
       "      <td>...</td>\n",
       "      <td>...</td>\n",
       "      <td>...</td>\n",
       "      <td>...</td>\n",
       "      <td>...</td>\n",
       "      <td>...</td>\n",
       "      <td>...</td>\n",
       "      <td>...</td>\n",
       "      <td>...</td>\n",
       "    </tr>\n",
       "    <tr>\n",
       "      <th>3124</th>\n",
       "      <td>3237</td>\n",
       "      <td>NaN</td>\n",
       "      <td>NaN</td>\n",
       "      <td>170.0</td>\n",
       "      <td>NaN</td>\n",
       "      <td>NaN</td>\n",
       "      <td>NaN</td>\n",
       "      <td>NaN</td>\n",
       "      <td>NaN</td>\n",
       "      <td>NaN</td>\n",
       "      <td>NaN</td>\n",
       "      <td>NaN</td>\n",
       "      <td>252.0</td>\n",
       "      <td>NaN</td>\n",
       "      <td>130.0</td>\n",
       "      <td>206.0</td>\n",
       "    </tr>\n",
       "    <tr>\n",
       "      <th>3125</th>\n",
       "      <td>3238</td>\n",
       "      <td>NaN</td>\n",
       "      <td>NaN</td>\n",
       "      <td>126.0</td>\n",
       "      <td>NaN</td>\n",
       "      <td>NaN</td>\n",
       "      <td>NaN</td>\n",
       "      <td>NaN</td>\n",
       "      <td>NaN</td>\n",
       "      <td>NaN</td>\n",
       "      <td>NaN</td>\n",
       "      <td>NaN</td>\n",
       "      <td>254.0</td>\n",
       "      <td>NaN</td>\n",
       "      <td>108.0</td>\n",
       "      <td>106.0</td>\n",
       "    </tr>\n",
       "    <tr>\n",
       "      <th>3126</th>\n",
       "      <td>3239</td>\n",
       "      <td>NaN</td>\n",
       "      <td>NaN</td>\n",
       "      <td>NaN</td>\n",
       "      <td>NaN</td>\n",
       "      <td>NaN</td>\n",
       "      <td>114.0</td>\n",
       "      <td>NaN</td>\n",
       "      <td>NaN</td>\n",
       "      <td>NaN</td>\n",
       "      <td>NaN</td>\n",
       "      <td>NaN</td>\n",
       "      <td>158.0</td>\n",
       "      <td>NaN</td>\n",
       "      <td>270.0</td>\n",
       "      <td>88.0</td>\n",
       "    </tr>\n",
       "    <tr>\n",
       "      <th>3127</th>\n",
       "      <td>3240</td>\n",
       "      <td>NaN</td>\n",
       "      <td>NaN</td>\n",
       "      <td>NaN</td>\n",
       "      <td>NaN</td>\n",
       "      <td>NaN</td>\n",
       "      <td>26.0</td>\n",
       "      <td>NaN</td>\n",
       "      <td>NaN</td>\n",
       "      <td>NaN</td>\n",
       "      <td>NaN</td>\n",
       "      <td>NaN</td>\n",
       "      <td>NaN</td>\n",
       "      <td>NaN</td>\n",
       "      <td>192.0</td>\n",
       "      <td>54.0</td>\n",
       "    </tr>\n",
       "    <tr>\n",
       "      <th>3128</th>\n",
       "      <td>3241</td>\n",
       "      <td>NaN</td>\n",
       "      <td>NaN</td>\n",
       "      <td>NaN</td>\n",
       "      <td>NaN</td>\n",
       "      <td>NaN</td>\n",
       "      <td>NaN</td>\n",
       "      <td>NaN</td>\n",
       "      <td>NaN</td>\n",
       "      <td>NaN</td>\n",
       "      <td>NaN</td>\n",
       "      <td>NaN</td>\n",
       "      <td>NaN</td>\n",
       "      <td>NaN</td>\n",
       "      <td>180.0</td>\n",
       "      <td>52.0</td>\n",
       "    </tr>\n",
       "  </tbody>\n",
       "</table>\n",
       "<p>3129 rows × 16 columns</p>\n",
       "</div>"
      ],
      "text/plain": [
       "       key  Bulk 1  Bulk 2  Bulk 3  Bulk 4  Bulk 5  Bulk 6  Bulk 7  Bulk 8  \\\n",
       "0        1     NaN     NaN     NaN    43.0     NaN     NaN     NaN     NaN   \n",
       "1        2     NaN     NaN     NaN    73.0     NaN     NaN     NaN     NaN   \n",
       "2        3     NaN     NaN     NaN    34.0     NaN     NaN     NaN     NaN   \n",
       "3        4     NaN     NaN     NaN    81.0     NaN     NaN     NaN     NaN   \n",
       "4        5     NaN     NaN     NaN    78.0     NaN     NaN     NaN     NaN   \n",
       "...    ...     ...     ...     ...     ...     ...     ...     ...     ...   \n",
       "3124  3237     NaN     NaN   170.0     NaN     NaN     NaN     NaN     NaN   \n",
       "3125  3238     NaN     NaN   126.0     NaN     NaN     NaN     NaN     NaN   \n",
       "3126  3239     NaN     NaN     NaN     NaN     NaN   114.0     NaN     NaN   \n",
       "3127  3240     NaN     NaN     NaN     NaN     NaN    26.0     NaN     NaN   \n",
       "3128  3241     NaN     NaN     NaN     NaN     NaN     NaN     NaN     NaN   \n",
       "\n",
       "      Bulk 9  Bulk 10  Bulk 11  Bulk 12  Bulk 13  Bulk 14  Bulk 15  \n",
       "0        NaN      NaN      NaN    206.0      NaN    150.0    154.0  \n",
       "1        NaN      NaN      NaN    206.0      NaN    149.0    154.0  \n",
       "2        NaN      NaN      NaN    205.0      NaN    152.0    153.0  \n",
       "3        NaN      NaN      NaN    207.0      NaN    153.0    154.0  \n",
       "4        NaN      NaN      NaN    203.0      NaN    151.0    152.0  \n",
       "...      ...      ...      ...      ...      ...      ...      ...  \n",
       "3124     NaN      NaN      NaN    252.0      NaN    130.0    206.0  \n",
       "3125     NaN      NaN      NaN    254.0      NaN    108.0    106.0  \n",
       "3126     NaN      NaN      NaN    158.0      NaN    270.0     88.0  \n",
       "3127     NaN      NaN      NaN      NaN      NaN    192.0     54.0  \n",
       "3128     NaN      NaN      NaN      NaN      NaN    180.0     52.0  \n",
       "\n",
       "[3129 rows x 16 columns]"
      ]
     },
     "execution_count": 53,
     "metadata": {},
     "output_type": "execute_result"
    }
   ],
   "source": [
    "df_bulk"
   ]
  },
  {
   "cell_type": "code",
   "execution_count": 54,
   "metadata": {},
   "outputs": [
    {
     "name": "stdout",
     "output_type": "stream",
     "text": [
      "<class 'pandas.core.frame.DataFrame'>\n",
      "RangeIndex: 3129 entries, 0 to 3128\n",
      "Data columns (total 16 columns):\n",
      " #   Column   Non-Null Count  Dtype  \n",
      "---  ------   --------------  -----  \n",
      " 0   key      3129 non-null   int64  \n",
      " 1   Bulk 1   252 non-null    float64\n",
      " 2   Bulk 2   22 non-null     float64\n",
      " 3   Bulk 3   1298 non-null   float64\n",
      " 4   Bulk 4   1014 non-null   float64\n",
      " 5   Bulk 5   77 non-null     float64\n",
      " 6   Bulk 6   576 non-null    float64\n",
      " 7   Bulk 7   25 non-null     float64\n",
      " 8   Bulk 8   1 non-null      float64\n",
      " 9   Bulk 9   19 non-null     float64\n",
      " 10  Bulk 10  176 non-null    float64\n",
      " 11  Bulk 11  177 non-null    float64\n",
      " 12  Bulk 12  2450 non-null   float64\n",
      " 13  Bulk 13  18 non-null     float64\n",
      " 14  Bulk 14  2806 non-null   float64\n",
      " 15  Bulk 15  2248 non-null   float64\n",
      "dtypes: float64(15), int64(1)\n",
      "memory usage: 391.2 KB\n"
     ]
    }
   ],
   "source": [
    "df_bulk.info()"
   ]
  },
  {
   "cell_type": "code",
   "execution_count": 55,
   "metadata": {},
   "outputs": [
    {
     "data": {
      "image/png": "[encoded data removed]",
      "text/plain": [
       "<Figure size 1080x720 with 1 Axes>"
      ]
     },
     "metadata": {
      "needs_background": "light"
     },
     "output_type": "display_data"
    }
   ],
   "source": [
    "df_bulk.boxplot(figsize = (15,10));"
   ]
  },
  {
   "cell_type": "code",
   "execution_count": 56,
   "metadata": {
    "scrolled": false
   },
   "outputs": [
    {
     "data": {
      "image/png": "[encoded data removed]",
      "text/plain": [
       "<Figure size 1080x648 with 1 Axes>"
      ]
     },
     "metadata": {
      "needs_background": "light"
     },
     "output_type": "display_data"
    }
   ],
   "source": [
    "df_bulk = df_bulk.drop(df_bulk[df_bulk['Bulk 12']>1000].index)\n",
    "df_bulk.drop('key', axis = 1).boxplot(figsize = (15,9));"
   ]
  },
  {
   "attachments": {},
   "cell_type": "markdown",
   "metadata": {},
   "source": [
    "#### проводные присадки"
   ]
  },
  {
   "cell_type": "code",
   "execution_count": 57,
   "metadata": {
    "scrolled": false
   },
   "outputs": [
    {
     "data": {
      "image/png": "[encoded data removed]",
      "text/plain": [
       "<Figure size 1080x648 with 1 Axes>"
      ]
     },
     "metadata": {
      "needs_background": "light"
     },
     "output_type": "display_data"
    }
   ],
   "source": [
    "df_wire = df_wire.drop('Wire 5', axis = 1)\n",
    "df_wire.drop('key', axis = 1).boxplot(figsize = (15,9));"
   ]
  },
  {
   "attachments": {},
   "cell_type": "markdown",
   "metadata": {},
   "source": [
    "тоже не вижу сильно выдающихся значений. то что методом boxplot отмечено как выбросы для одной операции укладывается в норму для другой.\n",
    "\n",
    "Такой аспект лучше уточнять у того, кто в курсе технологии процесса"
   ]
  },
  {
   "attachments": {},
   "cell_type": "markdown",
   "metadata": {},
   "source": [
    "### Заполнение пропусков"
   ]
  },
  {
   "attachments": {},
   "cell_type": "markdown",
   "metadata": {},
   "source": [
    "#### Твердые присадки"
   ]
  },
  {
   "cell_type": "code",
   "execution_count": 58,
   "metadata": {},
   "outputs": [
    {
     "data": {
      "text/html": [
       "<div>\n",
       "<style scoped>\n",
       "    .dataframe tbody tr th:only-of-type {\n",
       "        vertical-align: middle;\n",
       "    }\n",
       "\n",
       "    .dataframe tbody tr th {\n",
       "        vertical-align: top;\n",
       "    }\n",
       "\n",
       "    .dataframe thead th {\n",
       "        text-align: right;\n",
       "    }\n",
       "</style>\n",
       "<table border=\"1\" class=\"dataframe\">\n",
       "  <thead>\n",
       "    <tr style=\"text-align: right;\">\n",
       "      <th></th>\n",
       "      <th>key</th>\n",
       "      <th>Bulk 1</th>\n",
       "      <th>Bulk 2</th>\n",
       "      <th>Bulk 3</th>\n",
       "      <th>Bulk 4</th>\n",
       "      <th>Bulk 5</th>\n",
       "      <th>Bulk 6</th>\n",
       "      <th>Bulk 7</th>\n",
       "      <th>Bulk 8</th>\n",
       "      <th>Bulk 9</th>\n",
       "      <th>Bulk 10</th>\n",
       "      <th>Bulk 11</th>\n",
       "      <th>Bulk 12</th>\n",
       "      <th>Bulk 13</th>\n",
       "      <th>Bulk 14</th>\n",
       "      <th>Bulk 15</th>\n",
       "    </tr>\n",
       "  </thead>\n",
       "  <tbody>\n",
       "    <tr>\n",
       "      <th>0</th>\n",
       "      <td>1</td>\n",
       "      <td>0.0</td>\n",
       "      <td>0.0</td>\n",
       "      <td>0.0</td>\n",
       "      <td>43.0</td>\n",
       "      <td>0.0</td>\n",
       "      <td>0.0</td>\n",
       "      <td>0.0</td>\n",
       "      <td>0.0</td>\n",
       "      <td>0.0</td>\n",
       "      <td>0.0</td>\n",
       "      <td>0.0</td>\n",
       "      <td>206.0</td>\n",
       "      <td>0.0</td>\n",
       "      <td>150.0</td>\n",
       "      <td>154.0</td>\n",
       "    </tr>\n",
       "    <tr>\n",
       "      <th>1</th>\n",
       "      <td>2</td>\n",
       "      <td>0.0</td>\n",
       "      <td>0.0</td>\n",
       "      <td>0.0</td>\n",
       "      <td>73.0</td>\n",
       "      <td>0.0</td>\n",
       "      <td>0.0</td>\n",
       "      <td>0.0</td>\n",
       "      <td>0.0</td>\n",
       "      <td>0.0</td>\n",
       "      <td>0.0</td>\n",
       "      <td>0.0</td>\n",
       "      <td>206.0</td>\n",
       "      <td>0.0</td>\n",
       "      <td>149.0</td>\n",
       "      <td>154.0</td>\n",
       "    </tr>\n",
       "    <tr>\n",
       "      <th>2</th>\n",
       "      <td>3</td>\n",
       "      <td>0.0</td>\n",
       "      <td>0.0</td>\n",
       "      <td>0.0</td>\n",
       "      <td>34.0</td>\n",
       "      <td>0.0</td>\n",
       "      <td>0.0</td>\n",
       "      <td>0.0</td>\n",
       "      <td>0.0</td>\n",
       "      <td>0.0</td>\n",
       "      <td>0.0</td>\n",
       "      <td>0.0</td>\n",
       "      <td>205.0</td>\n",
       "      <td>0.0</td>\n",
       "      <td>152.0</td>\n",
       "      <td>153.0</td>\n",
       "    </tr>\n",
       "    <tr>\n",
       "      <th>3</th>\n",
       "      <td>4</td>\n",
       "      <td>0.0</td>\n",
       "      <td>0.0</td>\n",
       "      <td>0.0</td>\n",
       "      <td>81.0</td>\n",
       "      <td>0.0</td>\n",
       "      <td>0.0</td>\n",
       "      <td>0.0</td>\n",
       "      <td>0.0</td>\n",
       "      <td>0.0</td>\n",
       "      <td>0.0</td>\n",
       "      <td>0.0</td>\n",
       "      <td>207.0</td>\n",
       "      <td>0.0</td>\n",
       "      <td>153.0</td>\n",
       "      <td>154.0</td>\n",
       "    </tr>\n",
       "    <tr>\n",
       "      <th>4</th>\n",
       "      <td>5</td>\n",
       "      <td>0.0</td>\n",
       "      <td>0.0</td>\n",
       "      <td>0.0</td>\n",
       "      <td>78.0</td>\n",
       "      <td>0.0</td>\n",
       "      <td>0.0</td>\n",
       "      <td>0.0</td>\n",
       "      <td>0.0</td>\n",
       "      <td>0.0</td>\n",
       "      <td>0.0</td>\n",
       "      <td>0.0</td>\n",
       "      <td>203.0</td>\n",
       "      <td>0.0</td>\n",
       "      <td>151.0</td>\n",
       "      <td>152.0</td>\n",
       "    </tr>\n",
       "    <tr>\n",
       "      <th>...</th>\n",
       "      <td>...</td>\n",
       "      <td>...</td>\n",
       "      <td>...</td>\n",
       "      <td>...</td>\n",
       "      <td>...</td>\n",
       "      <td>...</td>\n",
       "      <td>...</td>\n",
       "      <td>...</td>\n",
       "      <td>...</td>\n",
       "      <td>...</td>\n",
       "      <td>...</td>\n",
       "      <td>...</td>\n",
       "      <td>...</td>\n",
       "      <td>...</td>\n",
       "      <td>...</td>\n",
       "      <td>...</td>\n",
       "    </tr>\n",
       "    <tr>\n",
       "      <th>3124</th>\n",
       "      <td>3237</td>\n",
       "      <td>0.0</td>\n",
       "      <td>0.0</td>\n",
       "      <td>170.0</td>\n",
       "      <td>0.0</td>\n",
       "      <td>0.0</td>\n",
       "      <td>0.0</td>\n",
       "      <td>0.0</td>\n",
       "      <td>0.0</td>\n",
       "      <td>0.0</td>\n",
       "      <td>0.0</td>\n",
       "      <td>0.0</td>\n",
       "      <td>252.0</td>\n",
       "      <td>0.0</td>\n",
       "      <td>130.0</td>\n",
       "      <td>206.0</td>\n",
       "    </tr>\n",
       "    <tr>\n",
       "      <th>3125</th>\n",
       "      <td>3238</td>\n",
       "      <td>0.0</td>\n",
       "      <td>0.0</td>\n",
       "      <td>126.0</td>\n",
       "      <td>0.0</td>\n",
       "      <td>0.0</td>\n",
       "      <td>0.0</td>\n",
       "      <td>0.0</td>\n",
       "      <td>0.0</td>\n",
       "      <td>0.0</td>\n",
       "      <td>0.0</td>\n",
       "      <td>0.0</td>\n",
       "      <td>254.0</td>\n",
       "      <td>0.0</td>\n",
       "      <td>108.0</td>\n",
       "      <td>106.0</td>\n",
       "    </tr>\n",
       "    <tr>\n",
       "      <th>3126</th>\n",
       "      <td>3239</td>\n",
       "      <td>0.0</td>\n",
       "      <td>0.0</td>\n",
       "      <td>0.0</td>\n",
       "      <td>0.0</td>\n",
       "      <td>0.0</td>\n",
       "      <td>114.0</td>\n",
       "      <td>0.0</td>\n",
       "      <td>0.0</td>\n",
       "      <td>0.0</td>\n",
       "      <td>0.0</td>\n",
       "      <td>0.0</td>\n",
       "      <td>158.0</td>\n",
       "      <td>0.0</td>\n",
       "      <td>270.0</td>\n",
       "      <td>88.0</td>\n",
       "    </tr>\n",
       "    <tr>\n",
       "      <th>3127</th>\n",
       "      <td>3240</td>\n",
       "      <td>0.0</td>\n",
       "      <td>0.0</td>\n",
       "      <td>0.0</td>\n",
       "      <td>0.0</td>\n",
       "      <td>0.0</td>\n",
       "      <td>26.0</td>\n",
       "      <td>0.0</td>\n",
       "      <td>0.0</td>\n",
       "      <td>0.0</td>\n",
       "      <td>0.0</td>\n",
       "      <td>0.0</td>\n",
       "      <td>0.0</td>\n",
       "      <td>0.0</td>\n",
       "      <td>192.0</td>\n",
       "      <td>54.0</td>\n",
       "    </tr>\n",
       "    <tr>\n",
       "      <th>3128</th>\n",
       "      <td>3241</td>\n",
       "      <td>0.0</td>\n",
       "      <td>0.0</td>\n",
       "      <td>0.0</td>\n",
       "      <td>0.0</td>\n",
       "      <td>0.0</td>\n",
       "      <td>0.0</td>\n",
       "      <td>0.0</td>\n",
       "      <td>0.0</td>\n",
       "      <td>0.0</td>\n",
       "      <td>0.0</td>\n",
       "      <td>0.0</td>\n",
       "      <td>0.0</td>\n",
       "      <td>0.0</td>\n",
       "      <td>180.0</td>\n",
       "      <td>52.0</td>\n",
       "    </tr>\n",
       "  </tbody>\n",
       "</table>\n",
       "<p>3128 rows × 16 columns</p>\n",
       "</div>"
      ],
      "text/plain": [
       "       key  Bulk 1  Bulk 2  Bulk 3  Bulk 4  Bulk 5  Bulk 6  Bulk 7  Bulk 8  \\\n",
       "0        1     0.0     0.0     0.0    43.0     0.0     0.0     0.0     0.0   \n",
       "1        2     0.0     0.0     0.0    73.0     0.0     0.0     0.0     0.0   \n",
       "2        3     0.0     0.0     0.0    34.0     0.0     0.0     0.0     0.0   \n",
       "3        4     0.0     0.0     0.0    81.0     0.0     0.0     0.0     0.0   \n",
       "4        5     0.0     0.0     0.0    78.0     0.0     0.0     0.0     0.0   \n",
       "...    ...     ...     ...     ...     ...     ...     ...     ...     ...   \n",
       "3124  3237     0.0     0.0   170.0     0.0     0.0     0.0     0.0     0.0   \n",
       "3125  3238     0.0     0.0   126.0     0.0     0.0     0.0     0.0     0.0   \n",
       "3126  3239     0.0     0.0     0.0     0.0     0.0   114.0     0.0     0.0   \n",
       "3127  3240     0.0     0.0     0.0     0.0     0.0    26.0     0.0     0.0   \n",
       "3128  3241     0.0     0.0     0.0     0.0     0.0     0.0     0.0     0.0   \n",
       "\n",
       "      Bulk 9  Bulk 10  Bulk 11  Bulk 12  Bulk 13  Bulk 14  Bulk 15  \n",
       "0        0.0      0.0      0.0    206.0      0.0    150.0    154.0  \n",
       "1        0.0      0.0      0.0    206.0      0.0    149.0    154.0  \n",
       "2        0.0      0.0      0.0    205.0      0.0    152.0    153.0  \n",
       "3        0.0      0.0      0.0    207.0      0.0    153.0    154.0  \n",
       "4        0.0      0.0      0.0    203.0      0.0    151.0    152.0  \n",
       "...      ...      ...      ...      ...      ...      ...      ...  \n",
       "3124     0.0      0.0      0.0    252.0      0.0    130.0    206.0  \n",
       "3125     0.0      0.0      0.0    254.0      0.0    108.0    106.0  \n",
       "3126     0.0      0.0      0.0    158.0      0.0    270.0     88.0  \n",
       "3127     0.0      0.0      0.0      0.0      0.0    192.0     54.0  \n",
       "3128     0.0      0.0      0.0      0.0      0.0    180.0     52.0  \n",
       "\n",
       "[3128 rows x 16 columns]"
      ]
     },
     "execution_count": 58,
     "metadata": {},
     "output_type": "execute_result"
    }
   ],
   "source": [
    "df_bulk=df_bulk.fillna(0)\n",
    "\n",
    "df_bulk"
   ]
  },
  {
   "cell_type": "code",
   "execution_count": 59,
   "metadata": {},
   "outputs": [
    {
     "data": {
      "text/plain": [
       "Index(['key', 'Bulk_time 1', 'Bulk_time 2', 'Bulk_time 3', 'Bulk_time 4',\n",
       "       'Bulk_time 5', 'Bulk_time 6', 'Bulk_time 7', 'Bulk_time 8',\n",
       "       'Bulk_time 9', 'Bulk_time 10', 'Bulk_time 11', 'Bulk_time 12',\n",
       "       'Bulk_time 13', 'Bulk_time 14', 'Bulk_time 15'],\n",
       "      dtype='object')"
      ]
     },
     "execution_count": 59,
     "metadata": {},
     "output_type": "execute_result"
    }
   ],
   "source": [
    "df_bulk_time = df_bulk_time.fillna('2019-05-03 00:00:00')\n",
    "df_bulk_time.columns = df_bulk_time.columns.str.replace('Bulk','Bulk_time')\n",
    "df_bulk_time.columns"
   ]
  },
  {
   "attachments": {},
   "cell_type": "markdown",
   "metadata": {},
   "source": [
    "#### Проволочные присадки"
   ]
  },
  {
   "cell_type": "code",
   "execution_count": 60,
   "metadata": {},
   "outputs": [
    {
     "data": {
      "text/html": [
       "<div>\n",
       "<style scoped>\n",
       "    .dataframe tbody tr th:only-of-type {\n",
       "        vertical-align: middle;\n",
       "    }\n",
       "\n",
       "    .dataframe tbody tr th {\n",
       "        vertical-align: top;\n",
       "    }\n",
       "\n",
       "    .dataframe thead th {\n",
       "        text-align: right;\n",
       "    }\n",
       "</style>\n",
       "<table border=\"1\" class=\"dataframe\">\n",
       "  <thead>\n",
       "    <tr style=\"text-align: right;\">\n",
       "      <th></th>\n",
       "      <th>key</th>\n",
       "      <th>Wire 1</th>\n",
       "      <th>Wire 2</th>\n",
       "      <th>Wire 3</th>\n",
       "      <th>Wire 4</th>\n",
       "      <th>Wire 6</th>\n",
       "      <th>Wire 7</th>\n",
       "      <th>Wire 8</th>\n",
       "      <th>Wire 9</th>\n",
       "    </tr>\n",
       "  </thead>\n",
       "  <tbody>\n",
       "    <tr>\n",
       "      <th>0</th>\n",
       "      <td>1</td>\n",
       "      <td>60.059998</td>\n",
       "      <td>0.00000</td>\n",
       "      <td>0.0</td>\n",
       "      <td>0.0</td>\n",
       "      <td>0.0</td>\n",
       "      <td>0.0</td>\n",
       "      <td>0.0</td>\n",
       "      <td>0.0</td>\n",
       "    </tr>\n",
       "    <tr>\n",
       "      <th>1</th>\n",
       "      <td>2</td>\n",
       "      <td>96.052315</td>\n",
       "      <td>0.00000</td>\n",
       "      <td>0.0</td>\n",
       "      <td>0.0</td>\n",
       "      <td>0.0</td>\n",
       "      <td>0.0</td>\n",
       "      <td>0.0</td>\n",
       "      <td>0.0</td>\n",
       "    </tr>\n",
       "    <tr>\n",
       "      <th>2</th>\n",
       "      <td>3</td>\n",
       "      <td>91.160157</td>\n",
       "      <td>0.00000</td>\n",
       "      <td>0.0</td>\n",
       "      <td>0.0</td>\n",
       "      <td>0.0</td>\n",
       "      <td>0.0</td>\n",
       "      <td>0.0</td>\n",
       "      <td>0.0</td>\n",
       "    </tr>\n",
       "    <tr>\n",
       "      <th>3</th>\n",
       "      <td>4</td>\n",
       "      <td>89.063515</td>\n",
       "      <td>0.00000</td>\n",
       "      <td>0.0</td>\n",
       "      <td>0.0</td>\n",
       "      <td>0.0</td>\n",
       "      <td>0.0</td>\n",
       "      <td>0.0</td>\n",
       "      <td>0.0</td>\n",
       "    </tr>\n",
       "    <tr>\n",
       "      <th>4</th>\n",
       "      <td>5</td>\n",
       "      <td>89.238236</td>\n",
       "      <td>9.11456</td>\n",
       "      <td>0.0</td>\n",
       "      <td>0.0</td>\n",
       "      <td>0.0</td>\n",
       "      <td>0.0</td>\n",
       "      <td>0.0</td>\n",
       "      <td>0.0</td>\n",
       "    </tr>\n",
       "    <tr>\n",
       "      <th>...</th>\n",
       "      <td>...</td>\n",
       "      <td>...</td>\n",
       "      <td>...</td>\n",
       "      <td>...</td>\n",
       "      <td>...</td>\n",
       "      <td>...</td>\n",
       "      <td>...</td>\n",
       "      <td>...</td>\n",
       "      <td>...</td>\n",
       "    </tr>\n",
       "    <tr>\n",
       "      <th>3076</th>\n",
       "      <td>3237</td>\n",
       "      <td>38.088959</td>\n",
       "      <td>0.00000</td>\n",
       "      <td>0.0</td>\n",
       "      <td>0.0</td>\n",
       "      <td>0.0</td>\n",
       "      <td>0.0</td>\n",
       "      <td>0.0</td>\n",
       "      <td>0.0</td>\n",
       "    </tr>\n",
       "    <tr>\n",
       "      <th>3077</th>\n",
       "      <td>3238</td>\n",
       "      <td>56.128799</td>\n",
       "      <td>0.00000</td>\n",
       "      <td>0.0</td>\n",
       "      <td>0.0</td>\n",
       "      <td>0.0</td>\n",
       "      <td>0.0</td>\n",
       "      <td>0.0</td>\n",
       "      <td>0.0</td>\n",
       "    </tr>\n",
       "    <tr>\n",
       "      <th>3078</th>\n",
       "      <td>3239</td>\n",
       "      <td>143.357761</td>\n",
       "      <td>0.00000</td>\n",
       "      <td>0.0</td>\n",
       "      <td>0.0</td>\n",
       "      <td>0.0</td>\n",
       "      <td>0.0</td>\n",
       "      <td>0.0</td>\n",
       "      <td>0.0</td>\n",
       "    </tr>\n",
       "    <tr>\n",
       "      <th>3079</th>\n",
       "      <td>3240</td>\n",
       "      <td>34.070400</td>\n",
       "      <td>0.00000</td>\n",
       "      <td>0.0</td>\n",
       "      <td>0.0</td>\n",
       "      <td>0.0</td>\n",
       "      <td>0.0</td>\n",
       "      <td>0.0</td>\n",
       "      <td>0.0</td>\n",
       "    </tr>\n",
       "    <tr>\n",
       "      <th>3080</th>\n",
       "      <td>3241</td>\n",
       "      <td>63.117595</td>\n",
       "      <td>0.00000</td>\n",
       "      <td>0.0</td>\n",
       "      <td>0.0</td>\n",
       "      <td>0.0</td>\n",
       "      <td>0.0</td>\n",
       "      <td>0.0</td>\n",
       "      <td>0.0</td>\n",
       "    </tr>\n",
       "  </tbody>\n",
       "</table>\n",
       "<p>3081 rows × 9 columns</p>\n",
       "</div>"
      ],
      "text/plain": [
       "       key      Wire 1   Wire 2  Wire 3  Wire 4  Wire 6  Wire 7  Wire 8  \\\n",
       "0        1   60.059998  0.00000     0.0     0.0     0.0     0.0     0.0   \n",
       "1        2   96.052315  0.00000     0.0     0.0     0.0     0.0     0.0   \n",
       "2        3   91.160157  0.00000     0.0     0.0     0.0     0.0     0.0   \n",
       "3        4   89.063515  0.00000     0.0     0.0     0.0     0.0     0.0   \n",
       "4        5   89.238236  9.11456     0.0     0.0     0.0     0.0     0.0   \n",
       "...    ...         ...      ...     ...     ...     ...     ...     ...   \n",
       "3076  3237   38.088959  0.00000     0.0     0.0     0.0     0.0     0.0   \n",
       "3077  3238   56.128799  0.00000     0.0     0.0     0.0     0.0     0.0   \n",
       "3078  3239  143.357761  0.00000     0.0     0.0     0.0     0.0     0.0   \n",
       "3079  3240   34.070400  0.00000     0.0     0.0     0.0     0.0     0.0   \n",
       "3080  3241   63.117595  0.00000     0.0     0.0     0.0     0.0     0.0   \n",
       "\n",
       "      Wire 9  \n",
       "0        0.0  \n",
       "1        0.0  \n",
       "2        0.0  \n",
       "3        0.0  \n",
       "4        0.0  \n",
       "...      ...  \n",
       "3076     0.0  \n",
       "3077     0.0  \n",
       "3078     0.0  \n",
       "3079     0.0  \n",
       "3080     0.0  \n",
       "\n",
       "[3081 rows x 9 columns]"
      ]
     },
     "execution_count": 60,
     "metadata": {},
     "output_type": "execute_result"
    }
   ],
   "source": [
    "df_wire = df_wire.fillna(0)\n",
    "df_wire"
   ]
  },
  {
   "cell_type": "code",
   "execution_count": 61,
   "metadata": {},
   "outputs": [
    {
     "data": {
      "text/html": [
       "<div>\n",
       "<style scoped>\n",
       "    .dataframe tbody tr th:only-of-type {\n",
       "        vertical-align: middle;\n",
       "    }\n",
       "\n",
       "    .dataframe tbody tr th {\n",
       "        vertical-align: top;\n",
       "    }\n",
       "\n",
       "    .dataframe thead th {\n",
       "        text-align: right;\n",
       "    }\n",
       "</style>\n",
       "<table border=\"1\" class=\"dataframe\">\n",
       "  <thead>\n",
       "    <tr style=\"text-align: right;\">\n",
       "      <th></th>\n",
       "      <th>key</th>\n",
       "      <th>Wire_time 1</th>\n",
       "      <th>Wire_time 2</th>\n",
       "      <th>Wire_time 3</th>\n",
       "      <th>Wire_time 4</th>\n",
       "      <th>Wire_time 5</th>\n",
       "      <th>Wire_time 6</th>\n",
       "      <th>Wire_time 7</th>\n",
       "      <th>Wire_time 8</th>\n",
       "      <th>Wire_time 9</th>\n",
       "    </tr>\n",
       "  </thead>\n",
       "  <tbody>\n",
       "    <tr>\n",
       "      <th>0</th>\n",
       "      <td>1</td>\n",
       "      <td>2019-05-03 11:11:41</td>\n",
       "      <td>2019-05-03 00:00:00</td>\n",
       "      <td>2019-05-03 00:00:00</td>\n",
       "      <td>2019-05-03 00:00:00</td>\n",
       "      <td>2019-05-03 00:00:00</td>\n",
       "      <td>2019-05-03 00:00:00</td>\n",
       "      <td>2019-05-03 00:00:00</td>\n",
       "      <td>2019-05-03 00:00:00</td>\n",
       "      <td>2019-05-03 00:00:00</td>\n",
       "    </tr>\n",
       "    <tr>\n",
       "      <th>1</th>\n",
       "      <td>2</td>\n",
       "      <td>2019-05-03 11:46:10</td>\n",
       "      <td>2019-05-03 00:00:00</td>\n",
       "      <td>2019-05-03 00:00:00</td>\n",
       "      <td>2019-05-03 00:00:00</td>\n",
       "      <td>2019-05-03 00:00:00</td>\n",
       "      <td>2019-05-03 00:00:00</td>\n",
       "      <td>2019-05-03 00:00:00</td>\n",
       "      <td>2019-05-03 00:00:00</td>\n",
       "      <td>2019-05-03 00:00:00</td>\n",
       "    </tr>\n",
       "    <tr>\n",
       "      <th>2</th>\n",
       "      <td>3</td>\n",
       "      <td>2019-05-03 12:13:47</td>\n",
       "      <td>2019-05-03 00:00:00</td>\n",
       "      <td>2019-05-03 00:00:00</td>\n",
       "      <td>2019-05-03 00:00:00</td>\n",
       "      <td>2019-05-03 00:00:00</td>\n",
       "      <td>2019-05-03 00:00:00</td>\n",
       "      <td>2019-05-03 00:00:00</td>\n",
       "      <td>2019-05-03 00:00:00</td>\n",
       "      <td>2019-05-03 00:00:00</td>\n",
       "    </tr>\n",
       "    <tr>\n",
       "      <th>3</th>\n",
       "      <td>4</td>\n",
       "      <td>2019-05-03 12:48:05</td>\n",
       "      <td>2019-05-03 00:00:00</td>\n",
       "      <td>2019-05-03 00:00:00</td>\n",
       "      <td>2019-05-03 00:00:00</td>\n",
       "      <td>2019-05-03 00:00:00</td>\n",
       "      <td>2019-05-03 00:00:00</td>\n",
       "      <td>2019-05-03 00:00:00</td>\n",
       "      <td>2019-05-03 00:00:00</td>\n",
       "      <td>2019-05-03 00:00:00</td>\n",
       "    </tr>\n",
       "    <tr>\n",
       "      <th>4</th>\n",
       "      <td>5</td>\n",
       "      <td>2019-05-03 13:18:15</td>\n",
       "      <td>2019-05-03 13:32:06</td>\n",
       "      <td>2019-05-03 00:00:00</td>\n",
       "      <td>2019-05-03 00:00:00</td>\n",
       "      <td>2019-05-03 00:00:00</td>\n",
       "      <td>2019-05-03 00:00:00</td>\n",
       "      <td>2019-05-03 00:00:00</td>\n",
       "      <td>2019-05-03 00:00:00</td>\n",
       "      <td>2019-05-03 00:00:00</td>\n",
       "    </tr>\n",
       "    <tr>\n",
       "      <th>...</th>\n",
       "      <td>...</td>\n",
       "      <td>...</td>\n",
       "      <td>...</td>\n",
       "      <td>...</td>\n",
       "      <td>...</td>\n",
       "      <td>...</td>\n",
       "      <td>...</td>\n",
       "      <td>...</td>\n",
       "      <td>...</td>\n",
       "      <td>...</td>\n",
       "    </tr>\n",
       "    <tr>\n",
       "      <th>3076</th>\n",
       "      <td>3237</td>\n",
       "      <td>2019-08-31 22:50:20</td>\n",
       "      <td>2019-05-03 00:00:00</td>\n",
       "      <td>2019-05-03 00:00:00</td>\n",
       "      <td>2019-05-03 00:00:00</td>\n",
       "      <td>2019-05-03 00:00:00</td>\n",
       "      <td>2019-05-03 00:00:00</td>\n",
       "      <td>2019-05-03 00:00:00</td>\n",
       "      <td>2019-05-03 00:00:00</td>\n",
       "      <td>2019-05-03 00:00:00</td>\n",
       "    </tr>\n",
       "    <tr>\n",
       "      <th>3077</th>\n",
       "      <td>3238</td>\n",
       "      <td>2019-08-31 23:38:24</td>\n",
       "      <td>2019-05-03 00:00:00</td>\n",
       "      <td>2019-05-03 00:00:00</td>\n",
       "      <td>2019-05-03 00:00:00</td>\n",
       "      <td>2019-05-03 00:00:00</td>\n",
       "      <td>2019-05-03 00:00:00</td>\n",
       "      <td>2019-05-03 00:00:00</td>\n",
       "      <td>2019-05-03 00:00:00</td>\n",
       "      <td>2019-05-03 00:00:00</td>\n",
       "    </tr>\n",
       "    <tr>\n",
       "      <th>3078</th>\n",
       "      <td>3239</td>\n",
       "      <td>2019-09-01 01:50:43</td>\n",
       "      <td>2019-05-03 00:00:00</td>\n",
       "      <td>2019-05-03 00:00:00</td>\n",
       "      <td>2019-05-03 00:00:00</td>\n",
       "      <td>2019-05-03 00:00:00</td>\n",
       "      <td>2019-05-03 00:00:00</td>\n",
       "      <td>2019-05-03 00:00:00</td>\n",
       "      <td>2019-05-03 00:00:00</td>\n",
       "      <td>2019-05-03 00:00:00</td>\n",
       "    </tr>\n",
       "    <tr>\n",
       "      <th>3079</th>\n",
       "      <td>3240</td>\n",
       "      <td>2019-09-01 03:12:02</td>\n",
       "      <td>2019-05-03 00:00:00</td>\n",
       "      <td>2019-05-03 00:00:00</td>\n",
       "      <td>2019-05-03 00:00:00</td>\n",
       "      <td>2019-05-03 00:00:00</td>\n",
       "      <td>2019-05-03 00:00:00</td>\n",
       "      <td>2019-05-03 00:00:00</td>\n",
       "      <td>2019-05-03 00:00:00</td>\n",
       "      <td>2019-05-03 00:00:00</td>\n",
       "    </tr>\n",
       "    <tr>\n",
       "      <th>3080</th>\n",
       "      <td>3241</td>\n",
       "      <td>2019-09-01 04:16:01</td>\n",
       "      <td>2019-05-03 00:00:00</td>\n",
       "      <td>2019-05-03 00:00:00</td>\n",
       "      <td>2019-05-03 00:00:00</td>\n",
       "      <td>2019-05-03 00:00:00</td>\n",
       "      <td>2019-05-03 00:00:00</td>\n",
       "      <td>2019-05-03 00:00:00</td>\n",
       "      <td>2019-05-03 00:00:00</td>\n",
       "      <td>2019-05-03 00:00:00</td>\n",
       "    </tr>\n",
       "  </tbody>\n",
       "</table>\n",
       "<p>3081 rows × 10 columns</p>\n",
       "</div>"
      ],
      "text/plain": [
       "       key          Wire_time 1          Wire_time 2          Wire_time 3  \\\n",
       "0        1  2019-05-03 11:11:41  2019-05-03 00:00:00  2019-05-03 00:00:00   \n",
       "1        2  2019-05-03 11:46:10  2019-05-03 00:00:00  2019-05-03 00:00:00   \n",
       "2        3  2019-05-03 12:13:47  2019-05-03 00:00:00  2019-05-03 00:00:00   \n",
       "3        4  2019-05-03 12:48:05  2019-05-03 00:00:00  2019-05-03 00:00:00   \n",
       "4        5  2019-05-03 13:18:15  2019-05-03 13:32:06  2019-05-03 00:00:00   \n",
       "...    ...                  ...                  ...                  ...   \n",
       "3076  3237  2019-08-31 22:50:20  2019-05-03 00:00:00  2019-05-03 00:00:00   \n",
       "3077  3238  2019-08-31 23:38:24  2019-05-03 00:00:00  2019-05-03 00:00:00   \n",
       "3078  3239  2019-09-01 01:50:43  2019-05-03 00:00:00  2019-05-03 00:00:00   \n",
       "3079  3240  2019-09-01 03:12:02  2019-05-03 00:00:00  2019-05-03 00:00:00   \n",
       "3080  3241  2019-09-01 04:16:01  2019-05-03 00:00:00  2019-05-03 00:00:00   \n",
       "\n",
       "              Wire_time 4          Wire_time 5          Wire_time 6  \\\n",
       "0     2019-05-03 00:00:00  2019-05-03 00:00:00  2019-05-03 00:00:00   \n",
       "1     2019-05-03 00:00:00  2019-05-03 00:00:00  2019-05-03 00:00:00   \n",
       "2     2019-05-03 00:00:00  2019-05-03 00:00:00  2019-05-03 00:00:00   \n",
       "3     2019-05-03 00:00:00  2019-05-03 00:00:00  2019-05-03 00:00:00   \n",
       "4     2019-05-03 00:00:00  2019-05-03 00:00:00  2019-05-03 00:00:00   \n",
       "...                   ...                  ...                  ...   \n",
       "3076  2019-05-03 00:00:00  2019-05-03 00:00:00  2019-05-03 00:00:00   \n",
       "3077  2019-05-03 00:00:00  2019-05-03 00:00:00  2019-05-03 00:00:00   \n",
       "3078  2019-05-03 00:00:00  2019-05-03 00:00:00  2019-05-03 00:00:00   \n",
       "3079  2019-05-03 00:00:00  2019-05-03 00:00:00  2019-05-03 00:00:00   \n",
       "3080  2019-05-03 00:00:00  2019-05-03 00:00:00  2019-05-03 00:00:00   \n",
       "\n",
       "              Wire_time 7          Wire_time 8          Wire_time 9  \n",
       "0     2019-05-03 00:00:00  2019-05-03 00:00:00  2019-05-03 00:00:00  \n",
       "1     2019-05-03 00:00:00  2019-05-03 00:00:00  2019-05-03 00:00:00  \n",
       "2     2019-05-03 00:00:00  2019-05-03 00:00:00  2019-05-03 00:00:00  \n",
       "3     2019-05-03 00:00:00  2019-05-03 00:00:00  2019-05-03 00:00:00  \n",
       "4     2019-05-03 00:00:00  2019-05-03 00:00:00  2019-05-03 00:00:00  \n",
       "...                   ...                  ...                  ...  \n",
       "3076  2019-05-03 00:00:00  2019-05-03 00:00:00  2019-05-03 00:00:00  \n",
       "3077  2019-05-03 00:00:00  2019-05-03 00:00:00  2019-05-03 00:00:00  \n",
       "3078  2019-05-03 00:00:00  2019-05-03 00:00:00  2019-05-03 00:00:00  \n",
       "3079  2019-05-03 00:00:00  2019-05-03 00:00:00  2019-05-03 00:00:00  \n",
       "3080  2019-05-03 00:00:00  2019-05-03 00:00:00  2019-05-03 00:00:00  \n",
       "\n",
       "[3081 rows x 10 columns]"
      ]
     },
     "execution_count": 61,
     "metadata": {},
     "output_type": "execute_result"
    }
   ],
   "source": [
    "df_wire_time =df_wire_time.fillna('2019-05-03 00:00:00')\n",
    "\n",
    "df_wire_time.columns = df_wire_time.columns.str.replace('Wire','Wire_time')\n",
    "df_wire_time"
   ]
  },
  {
   "attachments": {},
   "cell_type": "markdown",
   "metadata": {},
   "source": [
    "#### Газ"
   ]
  },
  {
   "cell_type": "code",
   "execution_count": 62,
   "metadata": {},
   "outputs": [
    {
     "data": {
      "text/plain": [
       "<AxesSubplot:>"
      ]
     },
     "execution_count": 62,
     "metadata": {},
     "output_type": "execute_result"
    },
    {
     "data": {
      "image/png": "[encoded data removed]",
      "text/plain": [
       "<Figure size 432x288 with 1 Axes>"
      ]
     },
     "metadata": {
      "needs_background": "light"
     },
     "output_type": "display_data"
    }
   ],
   "source": [
    "df_gas.drop('key', axis = 1).boxplot()"
   ]
  },
  {
   "attachments": {},
   "cell_type": "markdown",
   "metadata": {},
   "source": [
    "отрежем все что выше 40"
   ]
  },
  {
   "cell_type": "code",
   "execution_count": 63,
   "metadata": {},
   "outputs": [
    {
     "data": {
      "text/plain": [
       "<AxesSubplot:>"
      ]
     },
     "execution_count": 63,
     "metadata": {},
     "output_type": "execute_result"
    },
    {
     "data": {
      "image/png": "[encoded data removed]",
      "text/plain": [
       "<Figure size 432x288 with 1 Axes>"
      ]
     },
     "metadata": {
      "needs_background": "light"
     },
     "output_type": "display_data"
    }
   ],
   "source": [
    "df_gas = df_gas.drop(df_gas[df_gas['Газ 1']>40].index)\n",
    "df_gas.drop('key', axis = 1).boxplot()"
   ]
  },
  {
   "attachments": {},
   "cell_type": "markdown",
   "metadata": {},
   "source": [
    "### Общая сводная таблица"
   ]
  },
  {
   "attachments": {},
   "cell_type": "markdown",
   "metadata": {},
   "source": [
    "собираем таблицы, будем делать методом inner, чтобы остались только ключи о которых есть полная информация"
   ]
  },
  {
   "cell_type": "code",
   "execution_count": 64,
   "metadata": {},
   "outputs": [
    {
     "data": {
      "text/html": [
       "<div>\n",
       "<style scoped>\n",
       "    .dataframe tbody tr th:only-of-type {\n",
       "        vertical-align: middle;\n",
       "    }\n",
       "\n",
       "    .dataframe tbody tr th {\n",
       "        vertical-align: top;\n",
       "    }\n",
       "\n",
       "    .dataframe thead th {\n",
       "        text-align: right;\n",
       "    }\n",
       "</style>\n",
       "<table border=\"1\" class=\"dataframe\">\n",
       "  <thead>\n",
       "    <tr style=\"text-align: right;\">\n",
       "      <th></th>\n",
       "      <th>key</th>\n",
       "      <th>Время замера first</th>\n",
       "      <th>Время замера last</th>\n",
       "      <th>Температура first</th>\n",
       "      <th>Температура last</th>\n",
       "      <th>Время нагрева</th>\n",
       "      <th>Конец нагрева дугой</th>\n",
       "      <th>Начало нагрева дугой</th>\n",
       "      <th>Энергия</th>\n",
       "      <th>Газ 1</th>\n",
       "      <th>...</th>\n",
       "      <th>Bulk 14</th>\n",
       "      <th>Bulk 15</th>\n",
       "      <th>Wire 1</th>\n",
       "      <th>Wire 2</th>\n",
       "      <th>Wire 3</th>\n",
       "      <th>Wire 4</th>\n",
       "      <th>Wire 6</th>\n",
       "      <th>Wire 7</th>\n",
       "      <th>Wire 8</th>\n",
       "      <th>Wire 9</th>\n",
       "    </tr>\n",
       "  </thead>\n",
       "  <tbody>\n",
       "    <tr>\n",
       "      <th>0</th>\n",
       "      <td>1</td>\n",
       "      <td>2019-05-03 11:16:18</td>\n",
       "      <td>2019-05-03 11:30:39</td>\n",
       "      <td>1571.0</td>\n",
       "      <td>1613.0</td>\n",
       "      <td>1098.0</td>\n",
       "      <td>2019-05-03 11:28:37</td>\n",
       "      <td>2019-05-03 11:02:14</td>\n",
       "      <td>1442.377754</td>\n",
       "      <td>29.749986</td>\n",
       "      <td>...</td>\n",
       "      <td>150.0</td>\n",
       "      <td>154.0</td>\n",
       "      <td>60.059998</td>\n",
       "      <td>0.00000</td>\n",
       "      <td>0.0</td>\n",
       "      <td>0.0</td>\n",
       "      <td>0.0</td>\n",
       "      <td>0.0</td>\n",
       "      <td>0.0</td>\n",
       "      <td>0.0</td>\n",
       "    </tr>\n",
       "    <tr>\n",
       "      <th>1</th>\n",
       "      <td>2</td>\n",
       "      <td>2019-05-03 11:37:27</td>\n",
       "      <td>2019-05-03 11:59:12</td>\n",
       "      <td>1581.0</td>\n",
       "      <td>1602.0</td>\n",
       "      <td>811.0</td>\n",
       "      <td>2019-05-03 11:53:18</td>\n",
       "      <td>2019-05-03 11:34:14</td>\n",
       "      <td>881.233565</td>\n",
       "      <td>12.555561</td>\n",
       "      <td>...</td>\n",
       "      <td>149.0</td>\n",
       "      <td>154.0</td>\n",
       "      <td>96.052315</td>\n",
       "      <td>0.00000</td>\n",
       "      <td>0.0</td>\n",
       "      <td>0.0</td>\n",
       "      <td>0.0</td>\n",
       "      <td>0.0</td>\n",
       "      <td>0.0</td>\n",
       "      <td>0.0</td>\n",
       "    </tr>\n",
       "    <tr>\n",
       "      <th>2</th>\n",
       "      <td>3</td>\n",
       "      <td>2019-05-03 12:13:17</td>\n",
       "      <td>2019-05-03 12:34:57</td>\n",
       "      <td>1596.0</td>\n",
       "      <td>1599.0</td>\n",
       "      <td>655.0</td>\n",
       "      <td>2019-05-03 12:32:19</td>\n",
       "      <td>2019-05-03 12:06:54</td>\n",
       "      <td>525.066777</td>\n",
       "      <td>28.554793</td>\n",
       "      <td>...</td>\n",
       "      <td>152.0</td>\n",
       "      <td>153.0</td>\n",
       "      <td>91.160157</td>\n",
       "      <td>0.00000</td>\n",
       "      <td>0.0</td>\n",
       "      <td>0.0</td>\n",
       "      <td>0.0</td>\n",
       "      <td>0.0</td>\n",
       "      <td>0.0</td>\n",
       "      <td>0.0</td>\n",
       "    </tr>\n",
       "    <tr>\n",
       "      <th>3</th>\n",
       "      <td>4</td>\n",
       "      <td>2019-05-03 12:52:57</td>\n",
       "      <td>2019-05-03 12:59:25</td>\n",
       "      <td>1601.0</td>\n",
       "      <td>1625.0</td>\n",
       "      <td>741.0</td>\n",
       "      <td>2019-05-03 12:57:50</td>\n",
       "      <td>2019-05-03 12:39:37</td>\n",
       "      <td>796.911309</td>\n",
       "      <td>18.841219</td>\n",
       "      <td>...</td>\n",
       "      <td>153.0</td>\n",
       "      <td>154.0</td>\n",
       "      <td>89.063515</td>\n",
       "      <td>0.00000</td>\n",
       "      <td>0.0</td>\n",
       "      <td>0.0</td>\n",
       "      <td>0.0</td>\n",
       "      <td>0.0</td>\n",
       "      <td>0.0</td>\n",
       "      <td>0.0</td>\n",
       "    </tr>\n",
       "    <tr>\n",
       "      <th>4</th>\n",
       "      <td>5</td>\n",
       "      <td>2019-05-03 13:23:19</td>\n",
       "      <td>2019-05-03 13:36:01</td>\n",
       "      <td>1576.0</td>\n",
       "      <td>1602.0</td>\n",
       "      <td>869.0</td>\n",
       "      <td>2019-05-03 13:33:55</td>\n",
       "      <td>2019-05-03 13:11:13</td>\n",
       "      <td>1199.137958</td>\n",
       "      <td>5.413692</td>\n",
       "      <td>...</td>\n",
       "      <td>151.0</td>\n",
       "      <td>152.0</td>\n",
       "      <td>89.238236</td>\n",
       "      <td>9.11456</td>\n",
       "      <td>0.0</td>\n",
       "      <td>0.0</td>\n",
       "      <td>0.0</td>\n",
       "      <td>0.0</td>\n",
       "      <td>0.0</td>\n",
       "      <td>0.0</td>\n",
       "    </tr>\n",
       "    <tr>\n",
       "      <th>...</th>\n",
       "      <td>...</td>\n",
       "      <td>...</td>\n",
       "      <td>...</td>\n",
       "      <td>...</td>\n",
       "      <td>...</td>\n",
       "      <td>...</td>\n",
       "      <td>...</td>\n",
       "      <td>...</td>\n",
       "      <td>...</td>\n",
       "      <td>...</td>\n",
       "      <td>...</td>\n",
       "      <td>...</td>\n",
       "      <td>...</td>\n",
       "      <td>...</td>\n",
       "      <td>...</td>\n",
       "      <td>...</td>\n",
       "      <td>...</td>\n",
       "      <td>...</td>\n",
       "      <td>...</td>\n",
       "      <td>...</td>\n",
       "      <td>...</td>\n",
       "    </tr>\n",
       "    <tr>\n",
       "      <th>2313</th>\n",
       "      <td>2495</td>\n",
       "      <td>2019-08-06 00:35:45</td>\n",
       "      <td>2019-08-06 00:54:42</td>\n",
       "      <td>1570.0</td>\n",
       "      <td>1591.0</td>\n",
       "      <td>723.0</td>\n",
       "      <td>2019-08-06 00:51:13</td>\n",
       "      <td>2019-08-06 00:31:05</td>\n",
       "      <td>778.818234</td>\n",
       "      <td>7.125735</td>\n",
       "      <td>...</td>\n",
       "      <td>129.0</td>\n",
       "      <td>223.0</td>\n",
       "      <td>89.150879</td>\n",
       "      <td>0.00000</td>\n",
       "      <td>0.0</td>\n",
       "      <td>0.0</td>\n",
       "      <td>0.0</td>\n",
       "      <td>0.0</td>\n",
       "      <td>0.0</td>\n",
       "      <td>0.0</td>\n",
       "    </tr>\n",
       "    <tr>\n",
       "      <th>2314</th>\n",
       "      <td>2496</td>\n",
       "      <td>2019-08-06 01:02:54</td>\n",
       "      <td>2019-08-06 01:29:52</td>\n",
       "      <td>1554.0</td>\n",
       "      <td>1591.0</td>\n",
       "      <td>940.0</td>\n",
       "      <td>2019-08-06 01:23:32</td>\n",
       "      <td>2019-08-06 01:00:06</td>\n",
       "      <td>875.261419</td>\n",
       "      <td>9.412616</td>\n",
       "      <td>...</td>\n",
       "      <td>129.0</td>\n",
       "      <td>226.0</td>\n",
       "      <td>114.179527</td>\n",
       "      <td>0.00000</td>\n",
       "      <td>0.0</td>\n",
       "      <td>0.0</td>\n",
       "      <td>0.0</td>\n",
       "      <td>0.0</td>\n",
       "      <td>0.0</td>\n",
       "      <td>0.0</td>\n",
       "    </tr>\n",
       "    <tr>\n",
       "      <th>2315</th>\n",
       "      <td>2497</td>\n",
       "      <td>2019-08-06 01:41:53</td>\n",
       "      <td>2019-08-06 01:53:50</td>\n",
       "      <td>1571.0</td>\n",
       "      <td>1589.0</td>\n",
       "      <td>569.0</td>\n",
       "      <td>2019-08-06 01:50:45</td>\n",
       "      <td>2019-08-06 01:38:01</td>\n",
       "      <td>556.930349</td>\n",
       "      <td>6.271699</td>\n",
       "      <td>...</td>\n",
       "      <td>124.0</td>\n",
       "      <td>226.0</td>\n",
       "      <td>94.086723</td>\n",
       "      <td>9.04800</td>\n",
       "      <td>0.0</td>\n",
       "      <td>0.0</td>\n",
       "      <td>0.0</td>\n",
       "      <td>0.0</td>\n",
       "      <td>0.0</td>\n",
       "      <td>0.0</td>\n",
       "    </tr>\n",
       "    <tr>\n",
       "      <th>2316</th>\n",
       "      <td>2498</td>\n",
       "      <td>2019-08-06 02:03:49</td>\n",
       "      <td>2019-08-06 02:25:31</td>\n",
       "      <td>1591.0</td>\n",
       "      <td>1594.0</td>\n",
       "      <td>750.0</td>\n",
       "      <td>2019-08-06 02:20:24</td>\n",
       "      <td>2019-08-06 01:57:46</td>\n",
       "      <td>767.817794</td>\n",
       "      <td>14.953657</td>\n",
       "      <td>...</td>\n",
       "      <td>129.0</td>\n",
       "      <td>207.0</td>\n",
       "      <td>118.110717</td>\n",
       "      <td>0.00000</td>\n",
       "      <td>0.0</td>\n",
       "      <td>0.0</td>\n",
       "      <td>0.0</td>\n",
       "      <td>0.0</td>\n",
       "      <td>0.0</td>\n",
       "      <td>0.0</td>\n",
       "    </tr>\n",
       "    <tr>\n",
       "      <th>2317</th>\n",
       "      <td>2499</td>\n",
       "      <td>2019-08-06 02:40:25</td>\n",
       "      <td>2019-08-06 03:00:28</td>\n",
       "      <td>1569.0</td>\n",
       "      <td>1603.0</td>\n",
       "      <td>883.0</td>\n",
       "      <td>2019-08-06 02:55:42</td>\n",
       "      <td>2019-08-06 02:32:56</td>\n",
       "      <td>1301.828445</td>\n",
       "      <td>11.336151</td>\n",
       "      <td>...</td>\n",
       "      <td>126.0</td>\n",
       "      <td>227.0</td>\n",
       "      <td>110.160958</td>\n",
       "      <td>50.00528</td>\n",
       "      <td>0.0</td>\n",
       "      <td>0.0</td>\n",
       "      <td>0.0</td>\n",
       "      <td>0.0</td>\n",
       "      <td>0.0</td>\n",
       "      <td>0.0</td>\n",
       "    </tr>\n",
       "  </tbody>\n",
       "</table>\n",
       "<p>2318 rows × 33 columns</p>\n",
       "</div>"
      ],
      "text/plain": [
       "       key   Время замера first    Время замера last  Температура first  \\\n",
       "0        1  2019-05-03 11:16:18  2019-05-03 11:30:39             1571.0   \n",
       "1        2  2019-05-03 11:37:27  2019-05-03 11:59:12             1581.0   \n",
       "2        3  2019-05-03 12:13:17  2019-05-03 12:34:57             1596.0   \n",
       "3        4  2019-05-03 12:52:57  2019-05-03 12:59:25             1601.0   \n",
       "4        5  2019-05-03 13:23:19  2019-05-03 13:36:01             1576.0   \n",
       "...    ...                  ...                  ...                ...   \n",
       "2313  2495  2019-08-06 00:35:45  2019-08-06 00:54:42             1570.0   \n",
       "2314  2496  2019-08-06 01:02:54  2019-08-06 01:29:52             1554.0   \n",
       "2315  2497  2019-08-06 01:41:53  2019-08-06 01:53:50             1571.0   \n",
       "2316  2498  2019-08-06 02:03:49  2019-08-06 02:25:31             1591.0   \n",
       "2317  2499  2019-08-06 02:40:25  2019-08-06 03:00:28             1569.0   \n",
       "\n",
       "      Температура last  Время нагрева Конец нагрева дугой  \\\n",
       "0               1613.0         1098.0 2019-05-03 11:28:37   \n",
       "1               1602.0          811.0 2019-05-03 11:53:18   \n",
       "2               1599.0          655.0 2019-05-03 12:32:19   \n",
       "3               1625.0          741.0 2019-05-03 12:57:50   \n",
       "4               1602.0          869.0 2019-05-03 13:33:55   \n",
       "...                ...            ...                 ...   \n",
       "2313            1591.0          723.0 2019-08-06 00:51:13   \n",
       "2314            1591.0          940.0 2019-08-06 01:23:32   \n",
       "2315            1589.0          569.0 2019-08-06 01:50:45   \n",
       "2316            1594.0          750.0 2019-08-06 02:20:24   \n",
       "2317            1603.0          883.0 2019-08-06 02:55:42   \n",
       "\n",
       "     Начало нагрева дугой      Энергия      Газ 1  ...  Bulk 14  Bulk 15  \\\n",
       "0     2019-05-03 11:02:14  1442.377754  29.749986  ...    150.0    154.0   \n",
       "1     2019-05-03 11:34:14   881.233565  12.555561  ...    149.0    154.0   \n",
       "2     2019-05-03 12:06:54   525.066777  28.554793  ...    152.0    153.0   \n",
       "3     2019-05-03 12:39:37   796.911309  18.841219  ...    153.0    154.0   \n",
       "4     2019-05-03 13:11:13  1199.137958   5.413692  ...    151.0    152.0   \n",
       "...                   ...          ...        ...  ...      ...      ...   \n",
       "2313  2019-08-06 00:31:05   778.818234   7.125735  ...    129.0    223.0   \n",
       "2314  2019-08-06 01:00:06   875.261419   9.412616  ...    129.0    226.0   \n",
       "2315  2019-08-06 01:38:01   556.930349   6.271699  ...    124.0    226.0   \n",
       "2316  2019-08-06 01:57:46   767.817794  14.953657  ...    129.0    207.0   \n",
       "2317  2019-08-06 02:32:56  1301.828445  11.336151  ...    126.0    227.0   \n",
       "\n",
       "          Wire 1    Wire 2  Wire 3  Wire 4  Wire 6  Wire 7  Wire 8  Wire 9  \n",
       "0      60.059998   0.00000     0.0     0.0     0.0     0.0     0.0     0.0  \n",
       "1      96.052315   0.00000     0.0     0.0     0.0     0.0     0.0     0.0  \n",
       "2      91.160157   0.00000     0.0     0.0     0.0     0.0     0.0     0.0  \n",
       "3      89.063515   0.00000     0.0     0.0     0.0     0.0     0.0     0.0  \n",
       "4      89.238236   9.11456     0.0     0.0     0.0     0.0     0.0     0.0  \n",
       "...          ...       ...     ...     ...     ...     ...     ...     ...  \n",
       "2313   89.150879   0.00000     0.0     0.0     0.0     0.0     0.0     0.0  \n",
       "2314  114.179527   0.00000     0.0     0.0     0.0     0.0     0.0     0.0  \n",
       "2315   94.086723   9.04800     0.0     0.0     0.0     0.0     0.0     0.0  \n",
       "2316  118.110717   0.00000     0.0     0.0     0.0     0.0     0.0     0.0  \n",
       "2317  110.160958  50.00528     0.0     0.0     0.0     0.0     0.0     0.0  \n",
       "\n",
       "[2318 rows x 33 columns]"
      ]
     },
     "execution_count": 64,
     "metadata": {},
     "output_type": "execute_result"
    }
   ],
   "source": [
    "df = df_temp_pivot.merge(df_arc_pivot, how = 'inner', on = 'key')\n",
    "df = df.merge( df_gas, how = 'inner', on = 'key')\n",
    "df = df.merge( df_bulk, how = 'inner', on = 'key')\n",
    "#df = df.merge( df_bulk_time, how = 'inner', on = 'key')\n",
    "df = df.merge( df_wire, how = 'inner', on = 'key')\n",
    "#df = df.merge( df_wire_time, how = 'inner', on = 'key')\n",
    "df"
   ]
  },
  {
   "cell_type": "code",
   "execution_count": 65,
   "metadata": {},
   "outputs": [
    {
     "name": "stdout",
     "output_type": "stream",
     "text": [
      "<class 'pandas.core.frame.DataFrame'>\n",
      "Int64Index: 2318 entries, 0 to 2317\n",
      "Data columns (total 33 columns):\n",
      " #   Column                Non-Null Count  Dtype         \n",
      "---  ------                --------------  -----         \n",
      " 0   key                   2318 non-null   int64         \n",
      " 1   Время замера first    2318 non-null   object        \n",
      " 2   Время замера last     2318 non-null   object        \n",
      " 3   Температура first     2318 non-null   float64       \n",
      " 4   Температура last      2318 non-null   float64       \n",
      " 5   Время нагрева         2318 non-null   float64       \n",
      " 6   Конец нагрева дугой   2318 non-null   datetime64[ns]\n",
      " 7   Начало нагрева дугой  2318 non-null   datetime64[ns]\n",
      " 8   Энергия               2318 non-null   float64       \n",
      " 9   Газ 1                 2318 non-null   float64       \n",
      " 10  Bulk 1                2318 non-null   float64       \n",
      " 11  Bulk 2                2318 non-null   float64       \n",
      " 12  Bulk 3                2318 non-null   float64       \n",
      " 13  Bulk 4                2318 non-null   float64       \n",
      " 14  Bulk 5                2318 non-null   float64       \n",
      " 15  Bulk 6                2318 non-null   float64       \n",
      " 16  Bulk 7                2318 non-null   float64       \n",
      " 17  Bulk 8                2318 non-null   float64       \n",
      " 18  Bulk 9                2318 non-null   float64       \n",
      " 19  Bulk 10               2318 non-null   float64       \n",
      " 20  Bulk 11               2318 non-null   float64       \n",
      " 21  Bulk 12               2318 non-null   float64       \n",
      " 22  Bulk 13               2318 non-null   float64       \n",
      " 23  Bulk 14               2318 non-null   float64       \n",
      " 24  Bulk 15               2318 non-null   float64       \n",
      " 25  Wire 1                2318 non-null   float64       \n",
      " 26  Wire 2                2318 non-null   float64       \n",
      " 27  Wire 3                2318 non-null   float64       \n",
      " 28  Wire 4                2318 non-null   float64       \n",
      " 29  Wire 6                2318 non-null   float64       \n",
      " 30  Wire 7                2318 non-null   float64       \n",
      " 31  Wire 8                2318 non-null   float64       \n",
      " 32  Wire 9                2318 non-null   float64       \n",
      "dtypes: datetime64[ns](2), float64(28), int64(1), object(2)\n",
      "memory usage: 615.7+ KB\n"
     ]
    }
   ],
   "source": [
    "df.info()"
   ]
  },
  {
   "cell_type": "code",
   "execution_count": 66,
   "metadata": {},
   "outputs": [
    {
     "data": {
      "text/html": [
       "<div>\n",
       "<style scoped>\n",
       "    .dataframe tbody tr th:only-of-type {\n",
       "        vertical-align: middle;\n",
       "    }\n",
       "\n",
       "    .dataframe tbody tr th {\n",
       "        vertical-align: top;\n",
       "    }\n",
       "\n",
       "    .dataframe thead th {\n",
       "        text-align: right;\n",
       "    }\n",
       "</style>\n",
       "<table border=\"1\" class=\"dataframe\">\n",
       "  <thead>\n",
       "    <tr style=\"text-align: right;\">\n",
       "      <th></th>\n",
       "      <th>key</th>\n",
       "      <th>Температура first</th>\n",
       "      <th>Температура last</th>\n",
       "      <th>Время нагрева</th>\n",
       "      <th>Энергия</th>\n",
       "      <th>Газ 1</th>\n",
       "      <th>Bulk 1</th>\n",
       "      <th>Bulk 2</th>\n",
       "      <th>Bulk 3</th>\n",
       "      <th>Bulk 4</th>\n",
       "      <th>...</th>\n",
       "      <th>Bulk 14</th>\n",
       "      <th>Bulk 15</th>\n",
       "      <th>Wire 1</th>\n",
       "      <th>Wire 2</th>\n",
       "      <th>Wire 3</th>\n",
       "      <th>Wire 4</th>\n",
       "      <th>Wire 6</th>\n",
       "      <th>Wire 7</th>\n",
       "      <th>Wire 8</th>\n",
       "      <th>Wire 9</th>\n",
       "    </tr>\n",
       "  </thead>\n",
       "  <tbody>\n",
       "    <tr>\n",
       "      <th>count</th>\n",
       "      <td>2318.000000</td>\n",
       "      <td>2318.000000</td>\n",
       "      <td>2318.000000</td>\n",
       "      <td>2318.000000</td>\n",
       "      <td>2318.000000</td>\n",
       "      <td>2318.000000</td>\n",
       "      <td>2318.000000</td>\n",
       "      <td>2318.000000</td>\n",
       "      <td>2318.000000</td>\n",
       "      <td>2318.000000</td>\n",
       "      <td>...</td>\n",
       "      <td>2318.000000</td>\n",
       "      <td>2318.000000</td>\n",
       "      <td>2318.000000</td>\n",
       "      <td>2318.000000</td>\n",
       "      <td>2318.000000</td>\n",
       "      <td>2318.000000</td>\n",
       "      <td>2318.000000</td>\n",
       "      <td>2318.000000</td>\n",
       "      <td>2318.000000</td>\n",
       "      <td>2318.000000</td>\n",
       "    </tr>\n",
       "    <tr>\n",
       "      <th>mean</th>\n",
       "      <td>1252.244176</td>\n",
       "      <td>1587.318378</td>\n",
       "      <td>1593.381795</td>\n",
       "      <td>805.508197</td>\n",
       "      <td>899.928861</td>\n",
       "      <td>11.252475</td>\n",
       "      <td>3.272649</td>\n",
       "      <td>1.068162</td>\n",
       "      <td>47.298533</td>\n",
       "      <td>37.207075</td>\n",
       "      <td>...</td>\n",
       "      <td>153.787748</td>\n",
       "      <td>120.257981</td>\n",
       "      <td>102.468853</td>\n",
       "      <td>17.544712</td>\n",
       "      <td>3.129712</td>\n",
       "      <td>0.243876</td>\n",
       "      <td>0.905186</td>\n",
       "      <td>0.005835</td>\n",
       "      <td>0.292943</td>\n",
       "      <td>0.318618</td>\n",
       "    </tr>\n",
       "    <tr>\n",
       "      <th>std</th>\n",
       "      <td>714.682882</td>\n",
       "      <td>23.549808</td>\n",
       "      <td>11.110834</td>\n",
       "      <td>335.603542</td>\n",
       "      <td>645.167426</td>\n",
       "      <td>5.941295</td>\n",
       "      <td>11.698295</td>\n",
       "      <td>16.261077</td>\n",
       "      <td>75.282204</td>\n",
       "      <td>58.676949</td>\n",
       "      <td>...</td>\n",
       "      <td>80.563530</td>\n",
       "      <td>84.599367</td>\n",
       "      <td>43.227215</td>\n",
       "      <td>33.474538</td>\n",
       "      <td>27.820783</td>\n",
       "      <td>4.209850</td>\n",
       "      <td>8.392751</td>\n",
       "      <td>0.204985</td>\n",
       "      <td>4.309765</td>\n",
       "      <td>3.464687</td>\n",
       "    </tr>\n",
       "    <tr>\n",
       "      <th>min</th>\n",
       "      <td>1.000000</td>\n",
       "      <td>1519.000000</td>\n",
       "      <td>1543.000000</td>\n",
       "      <td>57.000000</td>\n",
       "      <td>15.158096</td>\n",
       "      <td>0.008399</td>\n",
       "      <td>0.000000</td>\n",
       "      <td>0.000000</td>\n",
       "      <td>0.000000</td>\n",
       "      <td>0.000000</td>\n",
       "      <td>...</td>\n",
       "      <td>0.000000</td>\n",
       "      <td>0.000000</td>\n",
       "      <td>0.000000</td>\n",
       "      <td>0.000000</td>\n",
       "      <td>0.000000</td>\n",
       "      <td>0.000000</td>\n",
       "      <td>0.000000</td>\n",
       "      <td>0.000000</td>\n",
       "      <td>0.000000</td>\n",
       "      <td>0.000000</td>\n",
       "    </tr>\n",
       "    <tr>\n",
       "      <th>25%</th>\n",
       "      <td>630.250000</td>\n",
       "      <td>1571.000000</td>\n",
       "      <td>1587.000000</td>\n",
       "      <td>581.000000</td>\n",
       "      <td>464.853195</td>\n",
       "      <td>7.271672</td>\n",
       "      <td>0.000000</td>\n",
       "      <td>0.000000</td>\n",
       "      <td>0.000000</td>\n",
       "      <td>0.000000</td>\n",
       "      <td>...</td>\n",
       "      <td>105.000000</td>\n",
       "      <td>0.000000</td>\n",
       "      <td>73.328577</td>\n",
       "      <td>0.000000</td>\n",
       "      <td>0.000000</td>\n",
       "      <td>0.000000</td>\n",
       "      <td>0.000000</td>\n",
       "      <td>0.000000</td>\n",
       "      <td>0.000000</td>\n",
       "      <td>0.000000</td>\n",
       "    </tr>\n",
       "    <tr>\n",
       "      <th>50%</th>\n",
       "      <td>1255.500000</td>\n",
       "      <td>1587.000000</td>\n",
       "      <td>1593.000000</td>\n",
       "      <td>777.500000</td>\n",
       "      <td>767.593080</td>\n",
       "      <td>10.087796</td>\n",
       "      <td>0.000000</td>\n",
       "      <td>0.000000</td>\n",
       "      <td>0.000000</td>\n",
       "      <td>0.000000</td>\n",
       "      <td>...</td>\n",
       "      <td>149.000000</td>\n",
       "      <td>107.000000</td>\n",
       "      <td>101.103600</td>\n",
       "      <td>0.000000</td>\n",
       "      <td>0.000000</td>\n",
       "      <td>0.000000</td>\n",
       "      <td>0.000000</td>\n",
       "      <td>0.000000</td>\n",
       "      <td>0.000000</td>\n",
       "      <td>0.000000</td>\n",
       "    </tr>\n",
       "    <tr>\n",
       "      <th>75%</th>\n",
       "      <td>1867.750000</td>\n",
       "      <td>1603.000000</td>\n",
       "      <td>1598.000000</td>\n",
       "      <td>992.000000</td>\n",
       "      <td>1165.153981</td>\n",
       "      <td>14.169244</td>\n",
       "      <td>0.000000</td>\n",
       "      <td>0.000000</td>\n",
       "      <td>79.750000</td>\n",
       "      <td>77.000000</td>\n",
       "      <td>...</td>\n",
       "      <td>204.000000</td>\n",
       "      <td>204.000000</td>\n",
       "      <td>127.705495</td>\n",
       "      <td>23.102560</td>\n",
       "      <td>0.000000</td>\n",
       "      <td>0.000000</td>\n",
       "      <td>0.000000</td>\n",
       "      <td>0.000000</td>\n",
       "      <td>0.000000</td>\n",
       "      <td>0.000000</td>\n",
       "    </tr>\n",
       "    <tr>\n",
       "      <th>max</th>\n",
       "      <td>2499.000000</td>\n",
       "      <td>1660.000000</td>\n",
       "      <td>1653.000000</td>\n",
       "      <td>4189.000000</td>\n",
       "      <td>10630.980668</td>\n",
       "      <td>39.728826</td>\n",
       "      <td>94.000000</td>\n",
       "      <td>282.000000</td>\n",
       "      <td>454.000000</td>\n",
       "      <td>281.000000</td>\n",
       "      <td>...</td>\n",
       "      <td>450.000000</td>\n",
       "      <td>405.000000</td>\n",
       "      <td>330.314424</td>\n",
       "      <td>282.780152</td>\n",
       "      <td>385.008668</td>\n",
       "      <td>113.231044</td>\n",
       "      <td>180.454575</td>\n",
       "      <td>8.490040</td>\n",
       "      <td>102.762401</td>\n",
       "      <td>62.025600</td>\n",
       "    </tr>\n",
       "  </tbody>\n",
       "</table>\n",
       "<p>8 rows × 29 columns</p>\n",
       "</div>"
      ],
      "text/plain": [
       "               key  Температура first  Температура last  Время нагрева  \\\n",
       "count  2318.000000        2318.000000       2318.000000    2318.000000   \n",
       "mean   1252.244176        1587.318378       1593.381795     805.508197   \n",
       "std     714.682882          23.549808         11.110834     335.603542   \n",
       "min       1.000000        1519.000000       1543.000000      57.000000   \n",
       "25%     630.250000        1571.000000       1587.000000     581.000000   \n",
       "50%    1255.500000        1587.000000       1593.000000     777.500000   \n",
       "75%    1867.750000        1603.000000       1598.000000     992.000000   \n",
       "max    2499.000000        1660.000000       1653.000000    4189.000000   \n",
       "\n",
       "            Энергия        Газ 1       Bulk 1       Bulk 2       Bulk 3  \\\n",
       "count   2318.000000  2318.000000  2318.000000  2318.000000  2318.000000   \n",
       "mean     899.928861    11.252475     3.272649     1.068162    47.298533   \n",
       "std      645.167426     5.941295    11.698295    16.261077    75.282204   \n",
       "min       15.158096     0.008399     0.000000     0.000000     0.000000   \n",
       "25%      464.853195     7.271672     0.000000     0.000000     0.000000   \n",
       "50%      767.593080    10.087796     0.000000     0.000000     0.000000   \n",
       "75%     1165.153981    14.169244     0.000000     0.000000    79.750000   \n",
       "max    10630.980668    39.728826    94.000000   282.000000   454.000000   \n",
       "\n",
       "            Bulk 4  ...      Bulk 14      Bulk 15       Wire 1       Wire 2  \\\n",
       "count  2318.000000  ...  2318.000000  2318.000000  2318.000000  2318.000000   \n",
       "mean     37.207075  ...   153.787748   120.257981   102.468853    17.544712   \n",
       "std      58.676949  ...    80.563530    84.599367    43.227215    33.474538   \n",
       "min       0.000000  ...     0.000000     0.000000     0.000000     0.000000   \n",
       "25%       0.000000  ...   105.000000     0.000000    73.328577     0.000000   \n",
       "50%       0.000000  ...   149.000000   107.000000   101.103600     0.000000   \n",
       "75%      77.000000  ...   204.000000   204.000000   127.705495    23.102560   \n",
       "max     281.000000  ...   450.000000   405.000000   330.314424   282.780152   \n",
       "\n",
       "            Wire 3       Wire 4       Wire 6       Wire 7       Wire 8  \\\n",
       "count  2318.000000  2318.000000  2318.000000  2318.000000  2318.000000   \n",
       "mean      3.129712     0.243876     0.905186     0.005835     0.292943   \n",
       "std      27.820783     4.209850     8.392751     0.204985     4.309765   \n",
       "min       0.000000     0.000000     0.000000     0.000000     0.000000   \n",
       "25%       0.000000     0.000000     0.000000     0.000000     0.000000   \n",
       "50%       0.000000     0.000000     0.000000     0.000000     0.000000   \n",
       "75%       0.000000     0.000000     0.000000     0.000000     0.000000   \n",
       "max     385.008668   113.231044   180.454575     8.490040   102.762401   \n",
       "\n",
       "            Wire 9  \n",
       "count  2318.000000  \n",
       "mean      0.318618  \n",
       "std       3.464687  \n",
       "min       0.000000  \n",
       "25%       0.000000  \n",
       "50%       0.000000  \n",
       "75%       0.000000  \n",
       "max      62.025600  \n",
       "\n",
       "[8 rows x 29 columns]"
      ]
     },
     "execution_count": 66,
     "metadata": {},
     "output_type": "execute_result"
    }
   ],
   "source": [
    "df.describe()"
   ]
  },
  {
   "attachments": {},
   "cell_type": "markdown",
   "metadata": {},
   "source": [
    "### Проверка данных на нормальность"
   ]
  },
  {
   "attachments": {},
   "cell_type": "markdown",
   "metadata": {},
   "source": [
    "Метод Шапиро не работает с Датами и Объектами (в нашем случае теми же датами), так что применим выборочно к некоторым столбцам"
   ]
  },
  {
   "cell_type": "code",
   "execution_count": 67,
   "metadata": {},
   "outputs": [
    {
     "name": "stdout",
     "output_type": "stream",
     "text": [
      "key\n",
      "ShapiroResult(statistic=0.9568048715591431, pvalue=1.1216132818806814e-25)\n",
      "Температура first\n",
      "ShapiroResult(statistic=0.9975656867027283, pvalue=0.0011277325684204698)\n",
      "Температура last\n",
      "ShapiroResult(statistic=0.9607965350151062, pvalue=1.4716145952710741e-24)\n",
      "Время нагрева\n",
      "ShapiroResult(statistic=0.949674129486084, pvalue=1.7158202319183215e-27)\n",
      "Газ 1\n",
      "ShapiroResult(statistic=0.9245885014533997, pvalue=1.2931091727777807e-32)\n",
      "Bulk 1\n",
      "ShapiroResult(statistic=0.30974769592285156, pvalue=0.0)\n",
      "Bulk 2\n",
      "ShapiroResult(statistic=0.037815868854522705, pvalue=0.0)\n",
      "Bulk 3\n",
      "ShapiroResult(statistic=0.6927962303161621, pvalue=0.0)\n",
      "Bulk 4\n",
      "ShapiroResult(statistic=0.6850308179855347, pvalue=0.0)\n",
      "Bulk 5\n",
      "ShapiroResult(statistic=0.09170454740524292, pvalue=0.0)\n",
      "Bulk 6\n",
      "ShapiroResult(statistic=0.47224700450897217, pvalue=0.0)\n",
      "Bulk 7\n",
      "ShapiroResult(statistic=0.02955693006515503, pvalue=0.0)\n",
      "Bulk 8\n",
      "ShapiroResult(statistic=0.005848407745361328, pvalue=0.0)\n",
      "Bulk 9\n",
      "ShapiroResult(statistic=0.04191899299621582, pvalue=0.0)\n",
      "Bulk 10\n",
      "ShapiroResult(statistic=0.2568318247795105, pvalue=0.0)\n",
      "Bulk 11\n",
      "ShapiroResult(statistic=0.19096660614013672, pvalue=0.0)\n",
      "Bulk 12\n",
      "ShapiroResult(statistic=0.9296605587005615, pvalue=1.062744106526161e-31)\n",
      "Bulk 13\n",
      "ShapiroResult(statistic=0.04787147045135498, pvalue=0.0)\n",
      "Bulk 14\n",
      "ShapiroResult(statistic=0.9584087133407593, pvalue=3.0849118138672694e-25)\n",
      "Bulk 15\n",
      "ShapiroResult(statistic=0.8428766131401062, pvalue=4.3159992701204366e-43)\n",
      "Wire 1\n",
      "ShapiroResult(statistic=0.9934744238853455, pvalue=1.229921142709145e-08)\n",
      "Wire 2\n",
      "ShapiroResult(statistic=0.6020690202713013, pvalue=0.0)\n",
      "Wire 3\n",
      "ShapiroResult(statistic=0.08812177181243896, pvalue=0.0)\n",
      "Wire 4\n",
      "ShapiroResult(statistic=0.03218364715576172, pvalue=0.0)\n",
      "Wire 6\n",
      "ShapiroResult(statistic=0.08531755208969116, pvalue=0.0)\n",
      "Wire 7\n",
      "ShapiroResult(statistic=0.01001286506652832, pvalue=0.0)\n",
      "Wire 8\n",
      "ShapiroResult(statistic=0.04110628366470337, pvalue=0.0)\n",
      "Wire 9\n",
      "ShapiroResult(statistic=0.06619179248809814, pvalue=0.0)\n"
     ]
    }
   ],
   "source": [
    "columns = ['key','Температура first', 'Температура last', 'Время нагрева', 'Газ 1',\n",
    "          'Bulk 1', 'Bulk 2', 'Bulk 3', 'Bulk 4', 'Bulk 5', 'Bulk 6', 'Bulk 7', 'Bulk 8', 'Bulk 9', 'Bulk 10',\n",
    "          'Bulk 11', 'Bulk 12', 'Bulk 13', 'Bulk 14', 'Bulk 15',\n",
    "           'Wire 1', 'Wire 2', 'Wire 3', 'Wire 4', 'Wire 6', 'Wire 7', 'Wire 8', 'Wire 9'\n",
    "          ]\n",
    "for column in columns:\n",
    "    print(column)\n",
    "    print(shapiro(df[column]))"
   ]
  },
  {
   "attachments": {},
   "cell_type": "markdown",
   "metadata": {},
   "source": [
    "Тест Шапиро проверяет Гипотезу о нормальности данных. Судя по p-значению гипотеза почти нигде не подтвердилась. считаем данные ненормально распределенными\n"
   ]
  },
  {
   "attachments": {},
   "cell_type": "markdown",
   "metadata": {},
   "source": [
    "### проверка коллинеарности"
   ]
  },
  {
   "cell_type": "raw",
   "metadata": {},
   "source": [
    "\n",
    "sns.pairplot(df[columns])"
   ]
  },
  {
   "attachments": {},
   "cell_type": "markdown",
   "metadata": {},
   "source": [
    "получилось малоинформативно, так что перестанем тратить на это производительность))"
   ]
  },
  {
   "cell_type": "code",
   "execution_count": 68,
   "metadata": {},
   "outputs": [
    {
     "data": {
      "text/html": [
       "<div>\n",
       "<style scoped>\n",
       "    .dataframe tbody tr th:only-of-type {\n",
       "        vertical-align: middle;\n",
       "    }\n",
       "\n",
       "    .dataframe tbody tr th {\n",
       "        vertical-align: top;\n",
       "    }\n",
       "\n",
       "    .dataframe thead th {\n",
       "        text-align: right;\n",
       "    }\n",
       "</style>\n",
       "<table border=\"1\" class=\"dataframe\">\n",
       "  <thead>\n",
       "    <tr style=\"text-align: right;\">\n",
       "      <th></th>\n",
       "      <th>key</th>\n",
       "      <th>Температура first</th>\n",
       "      <th>Температура last</th>\n",
       "      <th>Время нагрева</th>\n",
       "      <th>Газ 1</th>\n",
       "      <th>Bulk 1</th>\n",
       "      <th>Bulk 2</th>\n",
       "      <th>Bulk 3</th>\n",
       "      <th>Bulk 4</th>\n",
       "      <th>Bulk 5</th>\n",
       "      <th>...</th>\n",
       "      <th>Bulk 14</th>\n",
       "      <th>Bulk 15</th>\n",
       "      <th>Wire 1</th>\n",
       "      <th>Wire 2</th>\n",
       "      <th>Wire 3</th>\n",
       "      <th>Wire 4</th>\n",
       "      <th>Wire 6</th>\n",
       "      <th>Wire 7</th>\n",
       "      <th>Wire 8</th>\n",
       "      <th>Wire 9</th>\n",
       "    </tr>\n",
       "  </thead>\n",
       "  <tbody>\n",
       "    <tr>\n",
       "      <th>key</th>\n",
       "      <td>1.000000</td>\n",
       "      <td>-0.030566</td>\n",
       "      <td>-0.098197</td>\n",
       "      <td>-0.033140</td>\n",
       "      <td>-0.025117</td>\n",
       "      <td>-0.062122</td>\n",
       "      <td>-0.012584</td>\n",
       "      <td>0.031890</td>\n",
       "      <td>-0.020431</td>\n",
       "      <td>0.019302</td>\n",
       "      <td>...</td>\n",
       "      <td>-0.137150</td>\n",
       "      <td>0.024014</td>\n",
       "      <td>-0.015291</td>\n",
       "      <td>0.052614</td>\n",
       "      <td>-0.023551</td>\n",
       "      <td>0.021189</td>\n",
       "      <td>-0.049501</td>\n",
       "      <td>0.035308</td>\n",
       "      <td>-0.056445</td>\n",
       "      <td>0.022791</td>\n",
       "    </tr>\n",
       "    <tr>\n",
       "      <th>Температура first</th>\n",
       "      <td>-0.030566</td>\n",
       "      <td>1.000000</td>\n",
       "      <td>0.311435</td>\n",
       "      <td>-0.419992</td>\n",
       "      <td>0.029358</td>\n",
       "      <td>0.057847</td>\n",
       "      <td>0.100523</td>\n",
       "      <td>-0.111800</td>\n",
       "      <td>0.190972</td>\n",
       "      <td>0.034763</td>\n",
       "      <td>...</td>\n",
       "      <td>-0.157877</td>\n",
       "      <td>-0.061117</td>\n",
       "      <td>0.279184</td>\n",
       "      <td>-0.110752</td>\n",
       "      <td>0.019085</td>\n",
       "      <td>0.058230</td>\n",
       "      <td>0.014542</td>\n",
       "      <td>0.036909</td>\n",
       "      <td>-0.029418</td>\n",
       "      <td>-0.001014</td>\n",
       "    </tr>\n",
       "    <tr>\n",
       "      <th>Температура last</th>\n",
       "      <td>-0.098197</td>\n",
       "      <td>0.311435</td>\n",
       "      <td>1.000000</td>\n",
       "      <td>0.236184</td>\n",
       "      <td>0.042027</td>\n",
       "      <td>-0.046976</td>\n",
       "      <td>-0.000019</td>\n",
       "      <td>-0.040148</td>\n",
       "      <td>0.237236</td>\n",
       "      <td>-0.026365</td>\n",
       "      <td>...</td>\n",
       "      <td>0.060615</td>\n",
       "      <td>0.226843</td>\n",
       "      <td>0.299542</td>\n",
       "      <td>-0.239032</td>\n",
       "      <td>-0.034977</td>\n",
       "      <td>-0.011858</td>\n",
       "      <td>-0.012230</td>\n",
       "      <td>-0.050889</td>\n",
       "      <td>-0.014934</td>\n",
       "      <td>-0.031898</td>\n",
       "    </tr>\n",
       "    <tr>\n",
       "      <th>Время нагрева</th>\n",
       "      <td>-0.033140</td>\n",
       "      <td>-0.419992</td>\n",
       "      <td>0.236184</td>\n",
       "      <td>1.000000</td>\n",
       "      <td>0.373261</td>\n",
       "      <td>0.073551</td>\n",
       "      <td>0.017887</td>\n",
       "      <td>0.085236</td>\n",
       "      <td>-0.058464</td>\n",
       "      <td>0.040370</td>\n",
       "      <td>...</td>\n",
       "      <td>0.438953</td>\n",
       "      <td>0.300094</td>\n",
       "      <td>0.041795</td>\n",
       "      <td>0.021990</td>\n",
       "      <td>0.040039</td>\n",
       "      <td>0.022885</td>\n",
       "      <td>0.023698</td>\n",
       "      <td>0.026014</td>\n",
       "      <td>0.006717</td>\n",
       "      <td>-0.000783</td>\n",
       "    </tr>\n",
       "    <tr>\n",
       "      <th>Газ 1</th>\n",
       "      <td>-0.025117</td>\n",
       "      <td>0.029358</td>\n",
       "      <td>0.042027</td>\n",
       "      <td>0.373261</td>\n",
       "      <td>1.000000</td>\n",
       "      <td>0.142500</td>\n",
       "      <td>0.096601</td>\n",
       "      <td>0.058663</td>\n",
       "      <td>-0.013935</td>\n",
       "      <td>0.057448</td>\n",
       "      <td>...</td>\n",
       "      <td>0.297046</td>\n",
       "      <td>0.061813</td>\n",
       "      <td>0.157855</td>\n",
       "      <td>0.065376</td>\n",
       "      <td>0.119486</td>\n",
       "      <td>0.074475</td>\n",
       "      <td>0.049915</td>\n",
       "      <td>0.045630</td>\n",
       "      <td>0.084659</td>\n",
       "      <td>0.019063</td>\n",
       "    </tr>\n",
       "    <tr>\n",
       "      <th>Bulk 1</th>\n",
       "      <td>-0.062122</td>\n",
       "      <td>0.057847</td>\n",
       "      <td>-0.046976</td>\n",
       "      <td>0.073551</td>\n",
       "      <td>0.142500</td>\n",
       "      <td>1.000000</td>\n",
       "      <td>0.175680</td>\n",
       "      <td>-0.007307</td>\n",
       "      <td>0.045989</td>\n",
       "      <td>0.054789</td>\n",
       "      <td>...</td>\n",
       "      <td>0.184752</td>\n",
       "      <td>0.034183</td>\n",
       "      <td>0.064122</td>\n",
       "      <td>-0.045040</td>\n",
       "      <td>0.051351</td>\n",
       "      <td>0.124864</td>\n",
       "      <td>0.126932</td>\n",
       "      <td>0.097279</td>\n",
       "      <td>-0.021714</td>\n",
       "      <td>0.001052</td>\n",
       "    </tr>\n",
       "    <tr>\n",
       "      <th>Bulk 2</th>\n",
       "      <td>-0.012584</td>\n",
       "      <td>0.100523</td>\n",
       "      <td>-0.000019</td>\n",
       "      <td>0.017887</td>\n",
       "      <td>0.096601</td>\n",
       "      <td>0.175680</td>\n",
       "      <td>1.000000</td>\n",
       "      <td>-0.052624</td>\n",
       "      <td>0.047490</td>\n",
       "      <td>0.444637</td>\n",
       "      <td>...</td>\n",
       "      <td>-0.101444</td>\n",
       "      <td>-0.084203</td>\n",
       "      <td>-0.112288</td>\n",
       "      <td>-0.046680</td>\n",
       "      <td>0.466634</td>\n",
       "      <td>0.799651</td>\n",
       "      <td>0.489085</td>\n",
       "      <td>0.447600</td>\n",
       "      <td>-0.004748</td>\n",
       "      <td>-0.006733</td>\n",
       "    </tr>\n",
       "    <tr>\n",
       "      <th>Bulk 3</th>\n",
       "      <td>0.031890</td>\n",
       "      <td>-0.111800</td>\n",
       "      <td>-0.040148</td>\n",
       "      <td>0.085236</td>\n",
       "      <td>0.058663</td>\n",
       "      <td>-0.007307</td>\n",
       "      <td>-0.052624</td>\n",
       "      <td>1.000000</td>\n",
       "      <td>-0.384385</td>\n",
       "      <td>-0.031964</td>\n",
       "      <td>...</td>\n",
       "      <td>0.010597</td>\n",
       "      <td>-0.014506</td>\n",
       "      <td>0.031082</td>\n",
       "      <td>0.114231</td>\n",
       "      <td>0.003283</td>\n",
       "      <td>-0.052624</td>\n",
       "      <td>0.009832</td>\n",
       "      <td>-0.023494</td>\n",
       "      <td>0.027486</td>\n",
       "      <td>0.019206</td>\n",
       "    </tr>\n",
       "    <tr>\n",
       "      <th>Bulk 4</th>\n",
       "      <td>-0.020431</td>\n",
       "      <td>0.190972</td>\n",
       "      <td>0.237236</td>\n",
       "      <td>-0.058464</td>\n",
       "      <td>-0.013935</td>\n",
       "      <td>0.045989</td>\n",
       "      <td>0.047490</td>\n",
       "      <td>-0.384385</td>\n",
       "      <td>1.000000</td>\n",
       "      <td>0.010364</td>\n",
       "      <td>...</td>\n",
       "      <td>-0.121122</td>\n",
       "      <td>0.083721</td>\n",
       "      <td>0.346577</td>\n",
       "      <td>-0.311255</td>\n",
       "      <td>-0.013396</td>\n",
       "      <td>0.028691</td>\n",
       "      <td>-0.034513</td>\n",
       "      <td>0.037204</td>\n",
       "      <td>-0.012376</td>\n",
       "      <td>-0.066533</td>\n",
       "    </tr>\n",
       "    <tr>\n",
       "      <th>Bulk 5</th>\n",
       "      <td>0.019302</td>\n",
       "      <td>0.034763</td>\n",
       "      <td>-0.026365</td>\n",
       "      <td>0.040370</td>\n",
       "      <td>0.057448</td>\n",
       "      <td>0.054789</td>\n",
       "      <td>0.444637</td>\n",
       "      <td>-0.031964</td>\n",
       "      <td>0.010364</td>\n",
       "      <td>1.000000</td>\n",
       "      <td>...</td>\n",
       "      <td>-0.049272</td>\n",
       "      <td>-0.068040</td>\n",
       "      <td>-0.018575</td>\n",
       "      <td>0.042134</td>\n",
       "      <td>0.196128</td>\n",
       "      <td>0.353830</td>\n",
       "      <td>0.205167</td>\n",
       "      <td>0.199123</td>\n",
       "      <td>-0.010710</td>\n",
       "      <td>-0.015186</td>\n",
       "    </tr>\n",
       "    <tr>\n",
       "      <th>Bulk 6</th>\n",
       "      <td>0.026974</td>\n",
       "      <td>-0.171175</td>\n",
       "      <td>-0.264970</td>\n",
       "      <td>0.128233</td>\n",
       "      <td>0.113650</td>\n",
       "      <td>0.000768</td>\n",
       "      <td>-0.031541</td>\n",
       "      <td>-0.052627</td>\n",
       "      <td>-0.331841</td>\n",
       "      <td>0.034584</td>\n",
       "      <td>...</td>\n",
       "      <td>0.176610</td>\n",
       "      <td>-0.106171</td>\n",
       "      <td>-0.351021</td>\n",
       "      <td>0.204648</td>\n",
       "      <td>-0.050350</td>\n",
       "      <td>-0.031541</td>\n",
       "      <td>-0.018777</td>\n",
       "      <td>-0.014081</td>\n",
       "      <td>-0.034566</td>\n",
       "      <td>-0.026475</td>\n",
       "    </tr>\n",
       "    <tr>\n",
       "      <th>Bulk 7</th>\n",
       "      <td>0.042327</td>\n",
       "      <td>0.020593</td>\n",
       "      <td>-0.059125</td>\n",
       "      <td>0.019965</td>\n",
       "      <td>0.048500</td>\n",
       "      <td>0.125091</td>\n",
       "      <td>0.599651</td>\n",
       "      <td>-0.052624</td>\n",
       "      <td>0.026935</td>\n",
       "      <td>0.264313</td>\n",
       "      <td>...</td>\n",
       "      <td>-0.084421</td>\n",
       "      <td>-0.067086</td>\n",
       "      <td>-0.102330</td>\n",
       "      <td>-0.031802</td>\n",
       "      <td>0.256116</td>\n",
       "      <td>0.700084</td>\n",
       "      <td>0.291148</td>\n",
       "      <td>0.446826</td>\n",
       "      <td>-0.004748</td>\n",
       "      <td>-0.006733</td>\n",
       "    </tr>\n",
       "    <tr>\n",
       "      <th>Bulk 8</th>\n",
       "      <td>0.015539</td>\n",
       "      <td>-0.014422</td>\n",
       "      <td>-0.029933</td>\n",
       "      <td>-0.015058</td>\n",
       "      <td>0.012993</td>\n",
       "      <td>-0.006253</td>\n",
       "      <td>-0.001367</td>\n",
       "      <td>0.027966</td>\n",
       "      <td>-0.014707</td>\n",
       "      <td>-0.003084</td>\n",
       "      <td>...</td>\n",
       "      <td>-0.032017</td>\n",
       "      <td>-0.026576</td>\n",
       "      <td>0.032211</td>\n",
       "      <td>0.030068</td>\n",
       "      <td>-0.002609</td>\n",
       "      <td>-0.001367</td>\n",
       "      <td>-0.002822</td>\n",
       "      <td>-0.000610</td>\n",
       "      <td>0.288862</td>\n",
       "      <td>-0.002125</td>\n",
       "    </tr>\n",
       "    <tr>\n",
       "      <th>Bulk 9</th>\n",
       "      <td>-0.056448</td>\n",
       "      <td>-0.029369</td>\n",
       "      <td>-0.015005</td>\n",
       "      <td>0.006639</td>\n",
       "      <td>0.084701</td>\n",
       "      <td>-0.021714</td>\n",
       "      <td>-0.004748</td>\n",
       "      <td>0.027547</td>\n",
       "      <td>-0.012378</td>\n",
       "      <td>-0.010710</td>\n",
       "      <td>...</td>\n",
       "      <td>0.066603</td>\n",
       "      <td>-0.089158</td>\n",
       "      <td>0.011331</td>\n",
       "      <td>0.078915</td>\n",
       "      <td>-0.009060</td>\n",
       "      <td>-0.004748</td>\n",
       "      <td>-0.009799</td>\n",
       "      <td>-0.002120</td>\n",
       "      <td>0.999996</td>\n",
       "      <td>-0.007378</td>\n",
       "    </tr>\n",
       "    <tr>\n",
       "      <th>Bulk 10</th>\n",
       "      <td>0.040043</td>\n",
       "      <td>0.035351</td>\n",
       "      <td>0.048781</td>\n",
       "      <td>-0.019523</td>\n",
       "      <td>-0.001134</td>\n",
       "      <td>-0.025734</td>\n",
       "      <td>-0.016867</td>\n",
       "      <td>-0.067394</td>\n",
       "      <td>-0.042471</td>\n",
       "      <td>-0.038043</td>\n",
       "      <td>...</td>\n",
       "      <td>-0.023168</td>\n",
       "      <td>0.051180</td>\n",
       "      <td>0.071608</td>\n",
       "      <td>-0.114573</td>\n",
       "      <td>-0.032183</td>\n",
       "      <td>-0.016867</td>\n",
       "      <td>-0.020673</td>\n",
       "      <td>-0.007530</td>\n",
       "      <td>-0.018484</td>\n",
       "      <td>-0.026209</td>\n",
       "    </tr>\n",
       "    <tr>\n",
       "      <th>Bulk 11</th>\n",
       "      <td>0.091965</td>\n",
       "      <td>-0.098637</td>\n",
       "      <td>-0.120036</td>\n",
       "      <td>0.067615</td>\n",
       "      <td>0.055266</td>\n",
       "      <td>-0.045549</td>\n",
       "      <td>0.012594</td>\n",
       "      <td>-0.053505</td>\n",
       "      <td>-0.169902</td>\n",
       "      <td>-0.023165</td>\n",
       "      <td>...</td>\n",
       "      <td>0.084840</td>\n",
       "      <td>-0.047510</td>\n",
       "      <td>-0.176248</td>\n",
       "      <td>0.058694</td>\n",
       "      <td>-0.015491</td>\n",
       "      <td>-0.016036</td>\n",
       "      <td>0.009786</td>\n",
       "      <td>-0.007159</td>\n",
       "      <td>-0.017574</td>\n",
       "      <td>-0.024918</td>\n",
       "    </tr>\n",
       "    <tr>\n",
       "      <th>Bulk 12</th>\n",
       "      <td>0.046499</td>\n",
       "      <td>-0.072556</td>\n",
       "      <td>0.239714</td>\n",
       "      <td>0.434963</td>\n",
       "      <td>0.184557</td>\n",
       "      <td>0.255198</td>\n",
       "      <td>-0.089305</td>\n",
       "      <td>0.016118</td>\n",
       "      <td>0.097009</td>\n",
       "      <td>-0.095875</td>\n",
       "      <td>...</td>\n",
       "      <td>0.386800</td>\n",
       "      <td>0.657347</td>\n",
       "      <td>0.175011</td>\n",
       "      <td>-0.121139</td>\n",
       "      <td>-0.128973</td>\n",
       "      <td>-0.089305</td>\n",
       "      <td>-0.043003</td>\n",
       "      <td>-0.039870</td>\n",
       "      <td>-0.067180</td>\n",
       "      <td>-0.029539</td>\n",
       "    </tr>\n",
       "    <tr>\n",
       "      <th>Bulk 13</th>\n",
       "      <td>-0.014564</td>\n",
       "      <td>0.025735</td>\n",
       "      <td>-0.016057</td>\n",
       "      <td>0.049254</td>\n",
       "      <td>0.045486</td>\n",
       "      <td>-0.004258</td>\n",
       "      <td>-0.005131</td>\n",
       "      <td>-0.022388</td>\n",
       "      <td>0.003238</td>\n",
       "      <td>-0.011573</td>\n",
       "      <td>...</td>\n",
       "      <td>-0.072650</td>\n",
       "      <td>0.019015</td>\n",
       "      <td>0.016809</td>\n",
       "      <td>0.009900</td>\n",
       "      <td>-0.009790</td>\n",
       "      <td>-0.005131</td>\n",
       "      <td>-0.010589</td>\n",
       "      <td>-0.002291</td>\n",
       "      <td>-0.005623</td>\n",
       "      <td>-0.007973</td>\n",
       "    </tr>\n",
       "    <tr>\n",
       "      <th>Bulk 14</th>\n",
       "      <td>-0.137150</td>\n",
       "      <td>-0.157877</td>\n",
       "      <td>0.060615</td>\n",
       "      <td>0.438953</td>\n",
       "      <td>0.297046</td>\n",
       "      <td>0.184752</td>\n",
       "      <td>-0.101444</td>\n",
       "      <td>0.010597</td>\n",
       "      <td>-0.121122</td>\n",
       "      <td>-0.049272</td>\n",
       "      <td>...</td>\n",
       "      <td>1.000000</td>\n",
       "      <td>0.188460</td>\n",
       "      <td>-0.049156</td>\n",
       "      <td>0.018262</td>\n",
       "      <td>-0.021302</td>\n",
       "      <td>-0.101444</td>\n",
       "      <td>-0.008119</td>\n",
       "      <td>-0.045289</td>\n",
       "      <td>0.066622</td>\n",
       "      <td>0.025753</td>\n",
       "    </tr>\n",
       "    <tr>\n",
       "      <th>Bulk 15</th>\n",
       "      <td>0.024014</td>\n",
       "      <td>-0.061117</td>\n",
       "      <td>0.226843</td>\n",
       "      <td>0.300094</td>\n",
       "      <td>0.061813</td>\n",
       "      <td>0.034183</td>\n",
       "      <td>-0.084203</td>\n",
       "      <td>-0.014506</td>\n",
       "      <td>0.083721</td>\n",
       "      <td>-0.068040</td>\n",
       "      <td>...</td>\n",
       "      <td>0.188460</td>\n",
       "      <td>1.000000</td>\n",
       "      <td>0.106532</td>\n",
       "      <td>-0.084056</td>\n",
       "      <td>-0.115130</td>\n",
       "      <td>-0.084203</td>\n",
       "      <td>-0.005199</td>\n",
       "      <td>-0.037592</td>\n",
       "      <td>-0.089155</td>\n",
       "      <td>-0.025357</td>\n",
       "    </tr>\n",
       "    <tr>\n",
       "      <th>Wire 1</th>\n",
       "      <td>-0.015291</td>\n",
       "      <td>0.279184</td>\n",
       "      <td>0.299542</td>\n",
       "      <td>0.041795</td>\n",
       "      <td>0.157855</td>\n",
       "      <td>0.064122</td>\n",
       "      <td>-0.112288</td>\n",
       "      <td>0.031082</td>\n",
       "      <td>0.346577</td>\n",
       "      <td>-0.018575</td>\n",
       "      <td>...</td>\n",
       "      <td>-0.049156</td>\n",
       "      <td>0.106532</td>\n",
       "      <td>1.000000</td>\n",
       "      <td>-0.085012</td>\n",
       "      <td>0.015238</td>\n",
       "      <td>-0.111830</td>\n",
       "      <td>-0.077382</td>\n",
       "      <td>-0.049801</td>\n",
       "      <td>0.011283</td>\n",
       "      <td>0.022880</td>\n",
       "    </tr>\n",
       "    <tr>\n",
       "      <th>Wire 2</th>\n",
       "      <td>0.052614</td>\n",
       "      <td>-0.110752</td>\n",
       "      <td>-0.239032</td>\n",
       "      <td>0.021990</td>\n",
       "      <td>0.065376</td>\n",
       "      <td>-0.045040</td>\n",
       "      <td>-0.046680</td>\n",
       "      <td>0.114231</td>\n",
       "      <td>-0.311255</td>\n",
       "      <td>0.042134</td>\n",
       "      <td>...</td>\n",
       "      <td>0.018262</td>\n",
       "      <td>-0.084056</td>\n",
       "      <td>-0.085012</td>\n",
       "      <td>1.000000</td>\n",
       "      <td>0.072041</td>\n",
       "      <td>-0.046680</td>\n",
       "      <td>-0.086859</td>\n",
       "      <td>-0.020840</td>\n",
       "      <td>0.078946</td>\n",
       "      <td>0.145768</td>\n",
       "    </tr>\n",
       "    <tr>\n",
       "      <th>Wire 3</th>\n",
       "      <td>-0.023551</td>\n",
       "      <td>0.019085</td>\n",
       "      <td>-0.034977</td>\n",
       "      <td>0.040039</td>\n",
       "      <td>0.119486</td>\n",
       "      <td>0.051351</td>\n",
       "      <td>0.466634</td>\n",
       "      <td>0.003283</td>\n",
       "      <td>-0.013396</td>\n",
       "      <td>0.196128</td>\n",
       "      <td>...</td>\n",
       "      <td>-0.021302</td>\n",
       "      <td>-0.115130</td>\n",
       "      <td>0.015238</td>\n",
       "      <td>0.072041</td>\n",
       "      <td>1.000000</td>\n",
       "      <td>0.413795</td>\n",
       "      <td>0.297174</td>\n",
       "      <td>0.232008</td>\n",
       "      <td>-0.009060</td>\n",
       "      <td>-0.012846</td>\n",
       "    </tr>\n",
       "    <tr>\n",
       "      <th>Wire 4</th>\n",
       "      <td>0.021189</td>\n",
       "      <td>0.058230</td>\n",
       "      <td>-0.011858</td>\n",
       "      <td>0.022885</td>\n",
       "      <td>0.074475</td>\n",
       "      <td>0.124864</td>\n",
       "      <td>0.799651</td>\n",
       "      <td>-0.052624</td>\n",
       "      <td>0.028691</td>\n",
       "      <td>0.353830</td>\n",
       "      <td>...</td>\n",
       "      <td>-0.101444</td>\n",
       "      <td>-0.084203</td>\n",
       "      <td>-0.111830</td>\n",
       "      <td>-0.046680</td>\n",
       "      <td>0.413795</td>\n",
       "      <td>1.000000</td>\n",
       "      <td>0.389880</td>\n",
       "      <td>0.447793</td>\n",
       "      <td>-0.004748</td>\n",
       "      <td>-0.006733</td>\n",
       "    </tr>\n",
       "    <tr>\n",
       "      <th>Wire 6</th>\n",
       "      <td>-0.049501</td>\n",
       "      <td>0.014542</td>\n",
       "      <td>-0.012230</td>\n",
       "      <td>0.023698</td>\n",
       "      <td>0.049915</td>\n",
       "      <td>0.126932</td>\n",
       "      <td>0.489085</td>\n",
       "      <td>0.009832</td>\n",
       "      <td>-0.034513</td>\n",
       "      <td>0.205167</td>\n",
       "      <td>...</td>\n",
       "      <td>-0.008119</td>\n",
       "      <td>-0.005199</td>\n",
       "      <td>-0.077382</td>\n",
       "      <td>-0.086859</td>\n",
       "      <td>0.297174</td>\n",
       "      <td>0.389880</td>\n",
       "      <td>1.000000</td>\n",
       "      <td>0.219165</td>\n",
       "      <td>-0.009799</td>\n",
       "      <td>-0.013894</td>\n",
       "    </tr>\n",
       "    <tr>\n",
       "      <th>Wire 7</th>\n",
       "      <td>0.035308</td>\n",
       "      <td>0.036909</td>\n",
       "      <td>-0.050889</td>\n",
       "      <td>0.026014</td>\n",
       "      <td>0.045630</td>\n",
       "      <td>0.097279</td>\n",
       "      <td>0.447600</td>\n",
       "      <td>-0.023494</td>\n",
       "      <td>0.037204</td>\n",
       "      <td>0.199123</td>\n",
       "      <td>...</td>\n",
       "      <td>-0.045289</td>\n",
       "      <td>-0.037592</td>\n",
       "      <td>-0.049801</td>\n",
       "      <td>-0.020840</td>\n",
       "      <td>0.232008</td>\n",
       "      <td>0.447793</td>\n",
       "      <td>0.219165</td>\n",
       "      <td>1.000000</td>\n",
       "      <td>-0.002120</td>\n",
       "      <td>-0.003006</td>\n",
       "    </tr>\n",
       "    <tr>\n",
       "      <th>Wire 8</th>\n",
       "      <td>-0.056445</td>\n",
       "      <td>-0.029418</td>\n",
       "      <td>-0.014934</td>\n",
       "      <td>0.006717</td>\n",
       "      <td>0.084659</td>\n",
       "      <td>-0.021714</td>\n",
       "      <td>-0.004748</td>\n",
       "      <td>0.027486</td>\n",
       "      <td>-0.012376</td>\n",
       "      <td>-0.010710</td>\n",
       "      <td>...</td>\n",
       "      <td>0.066622</td>\n",
       "      <td>-0.089155</td>\n",
       "      <td>0.011283</td>\n",
       "      <td>0.078946</td>\n",
       "      <td>-0.009060</td>\n",
       "      <td>-0.004748</td>\n",
       "      <td>-0.009799</td>\n",
       "      <td>-0.002120</td>\n",
       "      <td>1.000000</td>\n",
       "      <td>-0.007378</td>\n",
       "    </tr>\n",
       "    <tr>\n",
       "      <th>Wire 9</th>\n",
       "      <td>0.022791</td>\n",
       "      <td>-0.001014</td>\n",
       "      <td>-0.031898</td>\n",
       "      <td>-0.000783</td>\n",
       "      <td>0.019063</td>\n",
       "      <td>0.001052</td>\n",
       "      <td>-0.006733</td>\n",
       "      <td>0.019206</td>\n",
       "      <td>-0.066533</td>\n",
       "      <td>-0.015186</td>\n",
       "      <td>...</td>\n",
       "      <td>0.025753</td>\n",
       "      <td>-0.025357</td>\n",
       "      <td>0.022880</td>\n",
       "      <td>0.145768</td>\n",
       "      <td>-0.012846</td>\n",
       "      <td>-0.006733</td>\n",
       "      <td>-0.013894</td>\n",
       "      <td>-0.003006</td>\n",
       "      <td>-0.007378</td>\n",
       "      <td>1.000000</td>\n",
       "    </tr>\n",
       "  </tbody>\n",
       "</table>\n",
       "<p>28 rows × 28 columns</p>\n",
       "</div>"
      ],
      "text/plain": [
       "                        key  Температура first  Температура last  \\\n",
       "key                1.000000          -0.030566         -0.098197   \n",
       "Температура first -0.030566           1.000000          0.311435   \n",
       "Температура last  -0.098197           0.311435          1.000000   \n",
       "Время нагрева     -0.033140          -0.419992          0.236184   \n",
       "Газ 1             -0.025117           0.029358          0.042027   \n",
       "Bulk 1            -0.062122           0.057847         -0.046976   \n",
       "Bulk 2            -0.012584           0.100523         -0.000019   \n",
       "Bulk 3             0.031890          -0.111800         -0.040148   \n",
       "Bulk 4            -0.020431           0.190972          0.237236   \n",
       "Bulk 5             0.019302           0.034763         -0.026365   \n",
       "Bulk 6             0.026974          -0.171175         -0.264970   \n",
       "Bulk 7             0.042327           0.020593         -0.059125   \n",
       "Bulk 8             0.015539          -0.014422         -0.029933   \n",
       "Bulk 9            -0.056448          -0.029369         -0.015005   \n",
       "Bulk 10            0.040043           0.035351          0.048781   \n",
       "Bulk 11            0.091965          -0.098637         -0.120036   \n",
       "Bulk 12            0.046499          -0.072556          0.239714   \n",
       "Bulk 13           -0.014564           0.025735         -0.016057   \n",
       "Bulk 14           -0.137150          -0.157877          0.060615   \n",
       "Bulk 15            0.024014          -0.061117          0.226843   \n",
       "Wire 1            -0.015291           0.279184          0.299542   \n",
       "Wire 2             0.052614          -0.110752         -0.239032   \n",
       "Wire 3            -0.023551           0.019085         -0.034977   \n",
       "Wire 4             0.021189           0.058230         -0.011858   \n",
       "Wire 6            -0.049501           0.014542         -0.012230   \n",
       "Wire 7             0.035308           0.036909         -0.050889   \n",
       "Wire 8            -0.056445          -0.029418         -0.014934   \n",
       "Wire 9             0.022791          -0.001014         -0.031898   \n",
       "\n",
       "                   Время нагрева     Газ 1    Bulk 1    Bulk 2    Bulk 3  \\\n",
       "key                    -0.033140 -0.025117 -0.062122 -0.012584  0.031890   \n",
       "Температура first      -0.419992  0.029358  0.057847  0.100523 -0.111800   \n",
       "Температура last        0.236184  0.042027 -0.046976 -0.000019 -0.040148   \n",
       "Время нагрева           1.000000  0.373261  0.073551  0.017887  0.085236   \n",
       "Газ 1                   0.373261  1.000000  0.142500  0.096601  0.058663   \n",
       "Bulk 1                  0.073551  0.142500  1.000000  0.175680 -0.007307   \n",
       "Bulk 2                  0.017887  0.096601  0.175680  1.000000 -0.052624   \n",
       "Bulk 3                  0.085236  0.058663 -0.007307 -0.052624  1.000000   \n",
       "Bulk 4                 -0.058464 -0.013935  0.045989  0.047490 -0.384385   \n",
       "Bulk 5                  0.040370  0.057448  0.054789  0.444637 -0.031964   \n",
       "Bulk 6                  0.128233  0.113650  0.000768 -0.031541 -0.052627   \n",
       "Bulk 7                  0.019965  0.048500  0.125091  0.599651 -0.052624   \n",
       "Bulk 8                 -0.015058  0.012993 -0.006253 -0.001367  0.027966   \n",
       "Bulk 9                  0.006639  0.084701 -0.021714 -0.004748  0.027547   \n",
       "Bulk 10                -0.019523 -0.001134 -0.025734 -0.016867 -0.067394   \n",
       "Bulk 11                 0.067615  0.055266 -0.045549  0.012594 -0.053505   \n",
       "Bulk 12                 0.434963  0.184557  0.255198 -0.089305  0.016118   \n",
       "Bulk 13                 0.049254  0.045486 -0.004258 -0.005131 -0.022388   \n",
       "Bulk 14                 0.438953  0.297046  0.184752 -0.101444  0.010597   \n",
       "Bulk 15                 0.300094  0.061813  0.034183 -0.084203 -0.014506   \n",
       "Wire 1                  0.041795  0.157855  0.064122 -0.112288  0.031082   \n",
       "Wire 2                  0.021990  0.065376 -0.045040 -0.046680  0.114231   \n",
       "Wire 3                  0.040039  0.119486  0.051351  0.466634  0.003283   \n",
       "Wire 4                  0.022885  0.074475  0.124864  0.799651 -0.052624   \n",
       "Wire 6                  0.023698  0.049915  0.126932  0.489085  0.009832   \n",
       "Wire 7                  0.026014  0.045630  0.097279  0.447600 -0.023494   \n",
       "Wire 8                  0.006717  0.084659 -0.021714 -0.004748  0.027486   \n",
       "Wire 9                 -0.000783  0.019063  0.001052 -0.006733  0.019206   \n",
       "\n",
       "                     Bulk 4    Bulk 5  ...   Bulk 14   Bulk 15    Wire 1  \\\n",
       "key               -0.020431  0.019302  ... -0.137150  0.024014 -0.015291   \n",
       "Температура first  0.190972  0.034763  ... -0.157877 -0.061117  0.279184   \n",
       "Температура last   0.237236 -0.026365  ...  0.060615  0.226843  0.299542   \n",
       "Время нагрева     -0.058464  0.040370  ...  0.438953  0.300094  0.041795   \n",
       "Газ 1             -0.013935  0.057448  ...  0.297046  0.061813  0.157855   \n",
       "Bulk 1             0.045989  0.054789  ...  0.184752  0.034183  0.064122   \n",
       "Bulk 2             0.047490  0.444637  ... -0.101444 -0.084203 -0.112288   \n",
       "Bulk 3            -0.384385 -0.031964  ...  0.010597 -0.014506  0.031082   \n",
       "Bulk 4             1.000000  0.010364  ... -0.121122  0.083721  0.346577   \n",
       "Bulk 5             0.010364  1.000000  ... -0.049272 -0.068040 -0.018575   \n",
       "Bulk 6            -0.331841  0.034584  ...  0.176610 -0.106171 -0.351021   \n",
       "Bulk 7             0.026935  0.264313  ... -0.084421 -0.067086 -0.102330   \n",
       "Bulk 8            -0.014707 -0.003084  ... -0.032017 -0.026576  0.032211   \n",
       "Bulk 9            -0.012378 -0.010710  ...  0.066603 -0.089158  0.011331   \n",
       "Bulk 10           -0.042471 -0.038043  ... -0.023168  0.051180  0.071608   \n",
       "Bulk 11           -0.169902 -0.023165  ...  0.084840 -0.047510 -0.176248   \n",
       "Bulk 12            0.097009 -0.095875  ...  0.386800  0.657347  0.175011   \n",
       "Bulk 13            0.003238 -0.011573  ... -0.072650  0.019015  0.016809   \n",
       "Bulk 14           -0.121122 -0.049272  ...  1.000000  0.188460 -0.049156   \n",
       "Bulk 15            0.083721 -0.068040  ...  0.188460  1.000000  0.106532   \n",
       "Wire 1             0.346577 -0.018575  ... -0.049156  0.106532  1.000000   \n",
       "Wire 2            -0.311255  0.042134  ...  0.018262 -0.084056 -0.085012   \n",
       "Wire 3            -0.013396  0.196128  ... -0.021302 -0.115130  0.015238   \n",
       "Wire 4             0.028691  0.353830  ... -0.101444 -0.084203 -0.111830   \n",
       "Wire 6            -0.034513  0.205167  ... -0.008119 -0.005199 -0.077382   \n",
       "Wire 7             0.037204  0.199123  ... -0.045289 -0.037592 -0.049801   \n",
       "Wire 8            -0.012376 -0.010710  ...  0.066622 -0.089155  0.011283   \n",
       "Wire 9            -0.066533 -0.015186  ...  0.025753 -0.025357  0.022880   \n",
       "\n",
       "                     Wire 2    Wire 3    Wire 4    Wire 6    Wire 7    Wire 8  \\\n",
       "key                0.052614 -0.023551  0.021189 -0.049501  0.035308 -0.056445   \n",
       "Температура first -0.110752  0.019085  0.058230  0.014542  0.036909 -0.029418   \n",
       "Температура last  -0.239032 -0.034977 -0.011858 -0.012230 -0.050889 -0.014934   \n",
       "Время нагрева      0.021990  0.040039  0.022885  0.023698  0.026014  0.006717   \n",
       "Газ 1              0.065376  0.119486  0.074475  0.049915  0.045630  0.084659   \n",
       "Bulk 1            -0.045040  0.051351  0.124864  0.126932  0.097279 -0.021714   \n",
       "Bulk 2            -0.046680  0.466634  0.799651  0.489085  0.447600 -0.004748   \n",
       "Bulk 3             0.114231  0.003283 -0.052624  0.009832 -0.023494  0.027486   \n",
       "Bulk 4            -0.311255 -0.013396  0.028691 -0.034513  0.037204 -0.012376   \n",
       "Bulk 5             0.042134  0.196128  0.353830  0.205167  0.199123 -0.010710   \n",
       "Bulk 6             0.204648 -0.050350 -0.031541 -0.018777 -0.014081 -0.034566   \n",
       "Bulk 7            -0.031802  0.256116  0.700084  0.291148  0.446826 -0.004748   \n",
       "Bulk 8             0.030068 -0.002609 -0.001367 -0.002822 -0.000610  0.288862   \n",
       "Bulk 9             0.078915 -0.009060 -0.004748 -0.009799 -0.002120  0.999996   \n",
       "Bulk 10           -0.114573 -0.032183 -0.016867 -0.020673 -0.007530 -0.018484   \n",
       "Bulk 11            0.058694 -0.015491 -0.016036  0.009786 -0.007159 -0.017574   \n",
       "Bulk 12           -0.121139 -0.128973 -0.089305 -0.043003 -0.039870 -0.067180   \n",
       "Bulk 13            0.009900 -0.009790 -0.005131 -0.010589 -0.002291 -0.005623   \n",
       "Bulk 14            0.018262 -0.021302 -0.101444 -0.008119 -0.045289  0.066622   \n",
       "Bulk 15           -0.084056 -0.115130 -0.084203 -0.005199 -0.037592 -0.089155   \n",
       "Wire 1            -0.085012  0.015238 -0.111830 -0.077382 -0.049801  0.011283   \n",
       "Wire 2             1.000000  0.072041 -0.046680 -0.086859 -0.020840  0.078946   \n",
       "Wire 3             0.072041  1.000000  0.413795  0.297174  0.232008 -0.009060   \n",
       "Wire 4            -0.046680  0.413795  1.000000  0.389880  0.447793 -0.004748   \n",
       "Wire 6            -0.086859  0.297174  0.389880  1.000000  0.219165 -0.009799   \n",
       "Wire 7            -0.020840  0.232008  0.447793  0.219165  1.000000 -0.002120   \n",
       "Wire 8             0.078946 -0.009060 -0.004748 -0.009799 -0.002120  1.000000   \n",
       "Wire 9             0.145768 -0.012846 -0.006733 -0.013894 -0.003006 -0.007378   \n",
       "\n",
       "                     Wire 9  \n",
       "key                0.022791  \n",
       "Температура first -0.001014  \n",
       "Температура last  -0.031898  \n",
       "Время нагрева     -0.000783  \n",
       "Газ 1              0.019063  \n",
       "Bulk 1             0.001052  \n",
       "Bulk 2            -0.006733  \n",
       "Bulk 3             0.019206  \n",
       "Bulk 4            -0.066533  \n",
       "Bulk 5            -0.015186  \n",
       "Bulk 6            -0.026475  \n",
       "Bulk 7            -0.006733  \n",
       "Bulk 8            -0.002125  \n",
       "Bulk 9            -0.007378  \n",
       "Bulk 10           -0.026209  \n",
       "Bulk 11           -0.024918  \n",
       "Bulk 12           -0.029539  \n",
       "Bulk 13           -0.007973  \n",
       "Bulk 14            0.025753  \n",
       "Bulk 15           -0.025357  \n",
       "Wire 1             0.022880  \n",
       "Wire 2             0.145768  \n",
       "Wire 3            -0.012846  \n",
       "Wire 4            -0.006733  \n",
       "Wire 6            -0.013894  \n",
       "Wire 7            -0.003006  \n",
       "Wire 8            -0.007378  \n",
       "Wire 9             1.000000  \n",
       "\n",
       "[28 rows x 28 columns]"
      ]
     },
     "execution_count": 68,
     "metadata": {},
     "output_type": "execute_result"
    }
   ],
   "source": [
    "df[columns].corr(method='spearman')"
   ]
  },
  {
   "cell_type": "code",
   "execution_count": 69,
   "metadata": {},
   "outputs": [
    {
     "data": {
      "image/png": "[encoded data removed]",
      "text/plain": [
       "<Figure size 1080x1440 with 2 Axes>"
      ]
     },
     "metadata": {
      "needs_background": "light"
     },
     "output_type": "display_data"
    }
   ],
   "source": [
    "fig, ax = plt.subplots(figsize=(15,20))\n",
    "sns.heatmap(df[columns].corr(method='spearman'));"
   ]
  },
  {
   "attachments": {},
   "cell_type": "markdown",
   "metadata": {},
   "source": [
    "по Хитмэпу есть зависимость только bulk 9 от wire 8, но и там и там всего по паре десятков значений. так что считаем что данные не зависят друг от друга"
   ]
  },
  {
   "attachments": {},
   "cell_type": "markdown",
   "metadata": {},
   "source": [
    "### Промежуточный вывод и Дальнейшие планы"
   ]
  },
  {
   "attachments": {},
   "cell_type": "markdown",
   "metadata": {},
   "source": [
    "Итак, мы ознакомились с данными, провели обработку,получили сводную таблицу и проверили коллинеарность данных.\n",
    "\n",
    "Целевым признаком считаю температуру на которой остановили эксперимент, то есть Температура last\n",
    "\n",
    "осталось определить все ли признаки использовать (есть куча столбцов с временем добавления присадок).\n",
    "\n",
    "Прошу проверить и выдать рекомендации"
   ]
  },
  {
   "attachments": {},
   "cell_type": "markdown",
   "metadata": {},
   "source": [
    "линейная регрессия через крос.\n",
    "лес и кэтбуст через грид серч"
   ]
  },
  {
   "attachments": {},
   "cell_type": "markdown",
   "metadata": {},
   "source": [
    "## Модели обучения"
   ]
  },
  {
   "attachments": {},
   "cell_type": "markdown",
   "metadata": {},
   "source": [
    "### подготовка данных"
   ]
  },
  {
   "attachments": {},
   "cell_type": "markdown",
   "metadata": {},
   "source": [
    "на данный момент нам более не нужны все исходные датафреймы и их можно удалить для освобождения оперативной памяти"
   ]
  },
  {
   "cell_type": "code",
   "execution_count": 70,
   "metadata": {},
   "outputs": [],
   "source": [
    "del df_arc, df_bulk , df_bulk_time , df_gas, df_temp, df_wire, df_wire_time, df_arc_pivot, df_temp_pivot"
   ]
  },
  {
   "attachments": {},
   "cell_type": "markdown",
   "metadata": {},
   "source": [
    "избавимся от столбца Key, он помог нам свети таблицы, теперь он бесполезен."
   ]
  },
  {
   "cell_type": "code",
   "execution_count": 71,
   "metadata": {},
   "outputs": [
    {
     "data": {
      "text/html": [
       "<div>\n",
       "<style scoped>\n",
       "    .dataframe tbody tr th:only-of-type {\n",
       "        vertical-align: middle;\n",
       "    }\n",
       "\n",
       "    .dataframe tbody tr th {\n",
       "        vertical-align: top;\n",
       "    }\n",
       "\n",
       "    .dataframe thead th {\n",
       "        text-align: right;\n",
       "    }\n",
       "</style>\n",
       "<table border=\"1\" class=\"dataframe\">\n",
       "  <thead>\n",
       "    <tr style=\"text-align: right;\">\n",
       "      <th></th>\n",
       "      <th>Время замера first</th>\n",
       "      <th>Время замера last</th>\n",
       "      <th>Температура first</th>\n",
       "      <th>Температура last</th>\n",
       "      <th>Время нагрева</th>\n",
       "      <th>Конец нагрева дугой</th>\n",
       "      <th>Начало нагрева дугой</th>\n",
       "      <th>Энергия</th>\n",
       "      <th>Газ 1</th>\n",
       "      <th>Bulk 1</th>\n",
       "      <th>...</th>\n",
       "      <th>Bulk 14</th>\n",
       "      <th>Bulk 15</th>\n",
       "      <th>Wire 1</th>\n",
       "      <th>Wire 2</th>\n",
       "      <th>Wire 3</th>\n",
       "      <th>Wire 4</th>\n",
       "      <th>Wire 6</th>\n",
       "      <th>Wire 7</th>\n",
       "      <th>Wire 8</th>\n",
       "      <th>Wire 9</th>\n",
       "    </tr>\n",
       "  </thead>\n",
       "  <tbody>\n",
       "    <tr>\n",
       "      <th>0</th>\n",
       "      <td>2019-05-03 11:16:18</td>\n",
       "      <td>2019-05-03 11:30:39</td>\n",
       "      <td>1571.0</td>\n",
       "      <td>1613.0</td>\n",
       "      <td>1098.0</td>\n",
       "      <td>2019-05-03 11:28:37</td>\n",
       "      <td>2019-05-03 11:02:14</td>\n",
       "      <td>1442.377754</td>\n",
       "      <td>29.749986</td>\n",
       "      <td>0.0</td>\n",
       "      <td>...</td>\n",
       "      <td>150.0</td>\n",
       "      <td>154.0</td>\n",
       "      <td>60.059998</td>\n",
       "      <td>0.00000</td>\n",
       "      <td>0.0</td>\n",
       "      <td>0.0</td>\n",
       "      <td>0.0</td>\n",
       "      <td>0.0</td>\n",
       "      <td>0.0</td>\n",
       "      <td>0.0</td>\n",
       "    </tr>\n",
       "    <tr>\n",
       "      <th>1</th>\n",
       "      <td>2019-05-03 11:37:27</td>\n",
       "      <td>2019-05-03 11:59:12</td>\n",
       "      <td>1581.0</td>\n",
       "      <td>1602.0</td>\n",
       "      <td>811.0</td>\n",
       "      <td>2019-05-03 11:53:18</td>\n",
       "      <td>2019-05-03 11:34:14</td>\n",
       "      <td>881.233565</td>\n",
       "      <td>12.555561</td>\n",
       "      <td>0.0</td>\n",
       "      <td>...</td>\n",
       "      <td>149.0</td>\n",
       "      <td>154.0</td>\n",
       "      <td>96.052315</td>\n",
       "      <td>0.00000</td>\n",
       "      <td>0.0</td>\n",
       "      <td>0.0</td>\n",
       "      <td>0.0</td>\n",
       "      <td>0.0</td>\n",
       "      <td>0.0</td>\n",
       "      <td>0.0</td>\n",
       "    </tr>\n",
       "    <tr>\n",
       "      <th>2</th>\n",
       "      <td>2019-05-03 12:13:17</td>\n",
       "      <td>2019-05-03 12:34:57</td>\n",
       "      <td>1596.0</td>\n",
       "      <td>1599.0</td>\n",
       "      <td>655.0</td>\n",
       "      <td>2019-05-03 12:32:19</td>\n",
       "      <td>2019-05-03 12:06:54</td>\n",
       "      <td>525.066777</td>\n",
       "      <td>28.554793</td>\n",
       "      <td>0.0</td>\n",
       "      <td>...</td>\n",
       "      <td>152.0</td>\n",
       "      <td>153.0</td>\n",
       "      <td>91.160157</td>\n",
       "      <td>0.00000</td>\n",
       "      <td>0.0</td>\n",
       "      <td>0.0</td>\n",
       "      <td>0.0</td>\n",
       "      <td>0.0</td>\n",
       "      <td>0.0</td>\n",
       "      <td>0.0</td>\n",
       "    </tr>\n",
       "    <tr>\n",
       "      <th>3</th>\n",
       "      <td>2019-05-03 12:52:57</td>\n",
       "      <td>2019-05-03 12:59:25</td>\n",
       "      <td>1601.0</td>\n",
       "      <td>1625.0</td>\n",
       "      <td>741.0</td>\n",
       "      <td>2019-05-03 12:57:50</td>\n",
       "      <td>2019-05-03 12:39:37</td>\n",
       "      <td>796.911309</td>\n",
       "      <td>18.841219</td>\n",
       "      <td>0.0</td>\n",
       "      <td>...</td>\n",
       "      <td>153.0</td>\n",
       "      <td>154.0</td>\n",
       "      <td>89.063515</td>\n",
       "      <td>0.00000</td>\n",
       "      <td>0.0</td>\n",
       "      <td>0.0</td>\n",
       "      <td>0.0</td>\n",
       "      <td>0.0</td>\n",
       "      <td>0.0</td>\n",
       "      <td>0.0</td>\n",
       "    </tr>\n",
       "    <tr>\n",
       "      <th>4</th>\n",
       "      <td>2019-05-03 13:23:19</td>\n",
       "      <td>2019-05-03 13:36:01</td>\n",
       "      <td>1576.0</td>\n",
       "      <td>1602.0</td>\n",
       "      <td>869.0</td>\n",
       "      <td>2019-05-03 13:33:55</td>\n",
       "      <td>2019-05-03 13:11:13</td>\n",
       "      <td>1199.137958</td>\n",
       "      <td>5.413692</td>\n",
       "      <td>0.0</td>\n",
       "      <td>...</td>\n",
       "      <td>151.0</td>\n",
       "      <td>152.0</td>\n",
       "      <td>89.238236</td>\n",
       "      <td>9.11456</td>\n",
       "      <td>0.0</td>\n",
       "      <td>0.0</td>\n",
       "      <td>0.0</td>\n",
       "      <td>0.0</td>\n",
       "      <td>0.0</td>\n",
       "      <td>0.0</td>\n",
       "    </tr>\n",
       "    <tr>\n",
       "      <th>...</th>\n",
       "      <td>...</td>\n",
       "      <td>...</td>\n",
       "      <td>...</td>\n",
       "      <td>...</td>\n",
       "      <td>...</td>\n",
       "      <td>...</td>\n",
       "      <td>...</td>\n",
       "      <td>...</td>\n",
       "      <td>...</td>\n",
       "      <td>...</td>\n",
       "      <td>...</td>\n",
       "      <td>...</td>\n",
       "      <td>...</td>\n",
       "      <td>...</td>\n",
       "      <td>...</td>\n",
       "      <td>...</td>\n",
       "      <td>...</td>\n",
       "      <td>...</td>\n",
       "      <td>...</td>\n",
       "      <td>...</td>\n",
       "      <td>...</td>\n",
       "    </tr>\n",
       "    <tr>\n",
       "      <th>2313</th>\n",
       "      <td>2019-08-06 00:35:45</td>\n",
       "      <td>2019-08-06 00:54:42</td>\n",
       "      <td>1570.0</td>\n",
       "      <td>1591.0</td>\n",
       "      <td>723.0</td>\n",
       "      <td>2019-08-06 00:51:13</td>\n",
       "      <td>2019-08-06 00:31:05</td>\n",
       "      <td>778.818234</td>\n",
       "      <td>7.125735</td>\n",
       "      <td>0.0</td>\n",
       "      <td>...</td>\n",
       "      <td>129.0</td>\n",
       "      <td>223.0</td>\n",
       "      <td>89.150879</td>\n",
       "      <td>0.00000</td>\n",
       "      <td>0.0</td>\n",
       "      <td>0.0</td>\n",
       "      <td>0.0</td>\n",
       "      <td>0.0</td>\n",
       "      <td>0.0</td>\n",
       "      <td>0.0</td>\n",
       "    </tr>\n",
       "    <tr>\n",
       "      <th>2314</th>\n",
       "      <td>2019-08-06 01:02:54</td>\n",
       "      <td>2019-08-06 01:29:52</td>\n",
       "      <td>1554.0</td>\n",
       "      <td>1591.0</td>\n",
       "      <td>940.0</td>\n",
       "      <td>2019-08-06 01:23:32</td>\n",
       "      <td>2019-08-06 01:00:06</td>\n",
       "      <td>875.261419</td>\n",
       "      <td>9.412616</td>\n",
       "      <td>0.0</td>\n",
       "      <td>...</td>\n",
       "      <td>129.0</td>\n",
       "      <td>226.0</td>\n",
       "      <td>114.179527</td>\n",
       "      <td>0.00000</td>\n",
       "      <td>0.0</td>\n",
       "      <td>0.0</td>\n",
       "      <td>0.0</td>\n",
       "      <td>0.0</td>\n",
       "      <td>0.0</td>\n",
       "      <td>0.0</td>\n",
       "    </tr>\n",
       "    <tr>\n",
       "      <th>2315</th>\n",
       "      <td>2019-08-06 01:41:53</td>\n",
       "      <td>2019-08-06 01:53:50</td>\n",
       "      <td>1571.0</td>\n",
       "      <td>1589.0</td>\n",
       "      <td>569.0</td>\n",
       "      <td>2019-08-06 01:50:45</td>\n",
       "      <td>2019-08-06 01:38:01</td>\n",
       "      <td>556.930349</td>\n",
       "      <td>6.271699</td>\n",
       "      <td>0.0</td>\n",
       "      <td>...</td>\n",
       "      <td>124.0</td>\n",
       "      <td>226.0</td>\n",
       "      <td>94.086723</td>\n",
       "      <td>9.04800</td>\n",
       "      <td>0.0</td>\n",
       "      <td>0.0</td>\n",
       "      <td>0.0</td>\n",
       "      <td>0.0</td>\n",
       "      <td>0.0</td>\n",
       "      <td>0.0</td>\n",
       "    </tr>\n",
       "    <tr>\n",
       "      <th>2316</th>\n",
       "      <td>2019-08-06 02:03:49</td>\n",
       "      <td>2019-08-06 02:25:31</td>\n",
       "      <td>1591.0</td>\n",
       "      <td>1594.0</td>\n",
       "      <td>750.0</td>\n",
       "      <td>2019-08-06 02:20:24</td>\n",
       "      <td>2019-08-06 01:57:46</td>\n",
       "      <td>767.817794</td>\n",
       "      <td>14.953657</td>\n",
       "      <td>0.0</td>\n",
       "      <td>...</td>\n",
       "      <td>129.0</td>\n",
       "      <td>207.0</td>\n",
       "      <td>118.110717</td>\n",
       "      <td>0.00000</td>\n",
       "      <td>0.0</td>\n",
       "      <td>0.0</td>\n",
       "      <td>0.0</td>\n",
       "      <td>0.0</td>\n",
       "      <td>0.0</td>\n",
       "      <td>0.0</td>\n",
       "    </tr>\n",
       "    <tr>\n",
       "      <th>2317</th>\n",
       "      <td>2019-08-06 02:40:25</td>\n",
       "      <td>2019-08-06 03:00:28</td>\n",
       "      <td>1569.0</td>\n",
       "      <td>1603.0</td>\n",
       "      <td>883.0</td>\n",
       "      <td>2019-08-06 02:55:42</td>\n",
       "      <td>2019-08-06 02:32:56</td>\n",
       "      <td>1301.828445</td>\n",
       "      <td>11.336151</td>\n",
       "      <td>0.0</td>\n",
       "      <td>...</td>\n",
       "      <td>126.0</td>\n",
       "      <td>227.0</td>\n",
       "      <td>110.160958</td>\n",
       "      <td>50.00528</td>\n",
       "      <td>0.0</td>\n",
       "      <td>0.0</td>\n",
       "      <td>0.0</td>\n",
       "      <td>0.0</td>\n",
       "      <td>0.0</td>\n",
       "      <td>0.0</td>\n",
       "    </tr>\n",
       "  </tbody>\n",
       "</table>\n",
       "<p>2318 rows × 32 columns</p>\n",
       "</div>"
      ],
      "text/plain": [
       "       Время замера first    Время замера last  Температура first  \\\n",
       "0     2019-05-03 11:16:18  2019-05-03 11:30:39             1571.0   \n",
       "1     2019-05-03 11:37:27  2019-05-03 11:59:12             1581.0   \n",
       "2     2019-05-03 12:13:17  2019-05-03 12:34:57             1596.0   \n",
       "3     2019-05-03 12:52:57  2019-05-03 12:59:25             1601.0   \n",
       "4     2019-05-03 13:23:19  2019-05-03 13:36:01             1576.0   \n",
       "...                   ...                  ...                ...   \n",
       "2313  2019-08-06 00:35:45  2019-08-06 00:54:42             1570.0   \n",
       "2314  2019-08-06 01:02:54  2019-08-06 01:29:52             1554.0   \n",
       "2315  2019-08-06 01:41:53  2019-08-06 01:53:50             1571.0   \n",
       "2316  2019-08-06 02:03:49  2019-08-06 02:25:31             1591.0   \n",
       "2317  2019-08-06 02:40:25  2019-08-06 03:00:28             1569.0   \n",
       "\n",
       "      Температура last  Время нагрева Конец нагрева дугой  \\\n",
       "0               1613.0         1098.0 2019-05-03 11:28:37   \n",
       "1               1602.0          811.0 2019-05-03 11:53:18   \n",
       "2               1599.0          655.0 2019-05-03 12:32:19   \n",
       "3               1625.0          741.0 2019-05-03 12:57:50   \n",
       "4               1602.0          869.0 2019-05-03 13:33:55   \n",
       "...                ...            ...                 ...   \n",
       "2313            1591.0          723.0 2019-08-06 00:51:13   \n",
       "2314            1591.0          940.0 2019-08-06 01:23:32   \n",
       "2315            1589.0          569.0 2019-08-06 01:50:45   \n",
       "2316            1594.0          750.0 2019-08-06 02:20:24   \n",
       "2317            1603.0          883.0 2019-08-06 02:55:42   \n",
       "\n",
       "     Начало нагрева дугой      Энергия      Газ 1  Bulk 1  ...  Bulk 14  \\\n",
       "0     2019-05-03 11:02:14  1442.377754  29.749986     0.0  ...    150.0   \n",
       "1     2019-05-03 11:34:14   881.233565  12.555561     0.0  ...    149.0   \n",
       "2     2019-05-03 12:06:54   525.066777  28.554793     0.0  ...    152.0   \n",
       "3     2019-05-03 12:39:37   796.911309  18.841219     0.0  ...    153.0   \n",
       "4     2019-05-03 13:11:13  1199.137958   5.413692     0.0  ...    151.0   \n",
       "...                   ...          ...        ...     ...  ...      ...   \n",
       "2313  2019-08-06 00:31:05   778.818234   7.125735     0.0  ...    129.0   \n",
       "2314  2019-08-06 01:00:06   875.261419   9.412616     0.0  ...    129.0   \n",
       "2315  2019-08-06 01:38:01   556.930349   6.271699     0.0  ...    124.0   \n",
       "2316  2019-08-06 01:57:46   767.817794  14.953657     0.0  ...    129.0   \n",
       "2317  2019-08-06 02:32:56  1301.828445  11.336151     0.0  ...    126.0   \n",
       "\n",
       "      Bulk 15      Wire 1    Wire 2  Wire 3  Wire 4  Wire 6  Wire 7  Wire 8  \\\n",
       "0       154.0   60.059998   0.00000     0.0     0.0     0.0     0.0     0.0   \n",
       "1       154.0   96.052315   0.00000     0.0     0.0     0.0     0.0     0.0   \n",
       "2       153.0   91.160157   0.00000     0.0     0.0     0.0     0.0     0.0   \n",
       "3       154.0   89.063515   0.00000     0.0     0.0     0.0     0.0     0.0   \n",
       "4       152.0   89.238236   9.11456     0.0     0.0     0.0     0.0     0.0   \n",
       "...       ...         ...       ...     ...     ...     ...     ...     ...   \n",
       "2313    223.0   89.150879   0.00000     0.0     0.0     0.0     0.0     0.0   \n",
       "2314    226.0  114.179527   0.00000     0.0     0.0     0.0     0.0     0.0   \n",
       "2315    226.0   94.086723   9.04800     0.0     0.0     0.0     0.0     0.0   \n",
       "2316    207.0  118.110717   0.00000     0.0     0.0     0.0     0.0     0.0   \n",
       "2317    227.0  110.160958  50.00528     0.0     0.0     0.0     0.0     0.0   \n",
       "\n",
       "      Wire 9  \n",
       "0        0.0  \n",
       "1        0.0  \n",
       "2        0.0  \n",
       "3        0.0  \n",
       "4        0.0  \n",
       "...      ...  \n",
       "2313     0.0  \n",
       "2314     0.0  \n",
       "2315     0.0  \n",
       "2316     0.0  \n",
       "2317     0.0  \n",
       "\n",
       "[2318 rows x 32 columns]"
      ]
     },
     "execution_count": 71,
     "metadata": {},
     "output_type": "execute_result"
    }
   ],
   "source": [
    "df = df.drop('key', axis = 1)\n",
    "df"
   ]
  },
  {
   "cell_type": "code",
   "execution_count": 72,
   "metadata": {},
   "outputs": [
    {
     "data": {
      "text/plain": [
       "870"
      ]
     },
     "execution_count": 72,
     "metadata": {},
     "output_type": "execute_result"
    }
   ],
   "source": [
    "df[df['Температура first']>df['Температура last']]['Энергия'].count()"
   ]
  },
  {
   "cell_type": "code",
   "execution_count": 73,
   "metadata": {},
   "outputs": [
    {
     "data": {
      "text/plain": [
       "1412"
      ]
     },
     "execution_count": 73,
     "metadata": {},
     "output_type": "execute_result"
    }
   ],
   "source": [
    "df[df['Температура first']<df['Температура last']]['Энергия'].count()"
   ]
  },
  {
   "attachments": {},
   "cell_type": "markdown",
   "metadata": {},
   "source": [
    "хм... интересное наблюдение. а я считал, что присадками как раз понижают температуру плавления."
   ]
  },
  {
   "attachments": {},
   "cell_type": "markdown",
   "metadata": {},
   "source": [
    "преобразуем даты в понятные числа"
   ]
  },
  {
   "cell_type": "code",
   "execution_count": 74,
   "metadata": {},
   "outputs": [],
   "source": [
    "df['Время замера first'] = pd.to_datetime(df['Время замера first'])\n",
    "df['Время замера last'] = pd.to_datetime(df['Время замера last'])"
   ]
  },
  {
   "cell_type": "code",
   "execution_count": 75,
   "metadata": {},
   "outputs": [
    {
     "data": {
      "text/html": [
       "<div>\n",
       "<style scoped>\n",
       "    .dataframe tbody tr th:only-of-type {\n",
       "        vertical-align: middle;\n",
       "    }\n",
       "\n",
       "    .dataframe tbody tr th {\n",
       "        vertical-align: top;\n",
       "    }\n",
       "\n",
       "    .dataframe thead th {\n",
       "        text-align: right;\n",
       "    }\n",
       "</style>\n",
       "<table border=\"1\" class=\"dataframe\">\n",
       "  <thead>\n",
       "    <tr style=\"text-align: right;\">\n",
       "      <th></th>\n",
       "      <th>Время замера first</th>\n",
       "      <th>Время замера last</th>\n",
       "      <th>Температура first</th>\n",
       "      <th>Температура last</th>\n",
       "      <th>Время нагрева</th>\n",
       "      <th>Конец нагрева дугой</th>\n",
       "      <th>Начало нагрева дугой</th>\n",
       "      <th>Энергия</th>\n",
       "      <th>Газ 1</th>\n",
       "      <th>Bulk 1</th>\n",
       "      <th>...</th>\n",
       "      <th>Bulk 14</th>\n",
       "      <th>Bulk 15</th>\n",
       "      <th>Wire 1</th>\n",
       "      <th>Wire 2</th>\n",
       "      <th>Wire 3</th>\n",
       "      <th>Wire 4</th>\n",
       "      <th>Wire 6</th>\n",
       "      <th>Wire 7</th>\n",
       "      <th>Wire 8</th>\n",
       "      <th>Wire 9</th>\n",
       "    </tr>\n",
       "  </thead>\n",
       "  <tbody>\n",
       "    <tr>\n",
       "      <th>0</th>\n",
       "      <td>1556882178</td>\n",
       "      <td>1556883039</td>\n",
       "      <td>1571.0</td>\n",
       "      <td>1613.0</td>\n",
       "      <td>1098.0</td>\n",
       "      <td>1556882917</td>\n",
       "      <td>1556881334</td>\n",
       "      <td>1442.377754</td>\n",
       "      <td>29.749986</td>\n",
       "      <td>0.0</td>\n",
       "      <td>...</td>\n",
       "      <td>150.0</td>\n",
       "      <td>154.0</td>\n",
       "      <td>60.059998</td>\n",
       "      <td>0.00000</td>\n",
       "      <td>0.0</td>\n",
       "      <td>0.0</td>\n",
       "      <td>0.0</td>\n",
       "      <td>0.0</td>\n",
       "      <td>0.0</td>\n",
       "      <td>0.0</td>\n",
       "    </tr>\n",
       "    <tr>\n",
       "      <th>1</th>\n",
       "      <td>1556883447</td>\n",
       "      <td>1556884752</td>\n",
       "      <td>1581.0</td>\n",
       "      <td>1602.0</td>\n",
       "      <td>811.0</td>\n",
       "      <td>1556884398</td>\n",
       "      <td>1556883254</td>\n",
       "      <td>881.233565</td>\n",
       "      <td>12.555561</td>\n",
       "      <td>0.0</td>\n",
       "      <td>...</td>\n",
       "      <td>149.0</td>\n",
       "      <td>154.0</td>\n",
       "      <td>96.052315</td>\n",
       "      <td>0.00000</td>\n",
       "      <td>0.0</td>\n",
       "      <td>0.0</td>\n",
       "      <td>0.0</td>\n",
       "      <td>0.0</td>\n",
       "      <td>0.0</td>\n",
       "      <td>0.0</td>\n",
       "    </tr>\n",
       "    <tr>\n",
       "      <th>2</th>\n",
       "      <td>1556885597</td>\n",
       "      <td>1556886897</td>\n",
       "      <td>1596.0</td>\n",
       "      <td>1599.0</td>\n",
       "      <td>655.0</td>\n",
       "      <td>1556886739</td>\n",
       "      <td>1556885214</td>\n",
       "      <td>525.066777</td>\n",
       "      <td>28.554793</td>\n",
       "      <td>0.0</td>\n",
       "      <td>...</td>\n",
       "      <td>152.0</td>\n",
       "      <td>153.0</td>\n",
       "      <td>91.160157</td>\n",
       "      <td>0.00000</td>\n",
       "      <td>0.0</td>\n",
       "      <td>0.0</td>\n",
       "      <td>0.0</td>\n",
       "      <td>0.0</td>\n",
       "      <td>0.0</td>\n",
       "      <td>0.0</td>\n",
       "    </tr>\n",
       "    <tr>\n",
       "      <th>3</th>\n",
       "      <td>1556887977</td>\n",
       "      <td>1556888365</td>\n",
       "      <td>1601.0</td>\n",
       "      <td>1625.0</td>\n",
       "      <td>741.0</td>\n",
       "      <td>1556888270</td>\n",
       "      <td>1556887177</td>\n",
       "      <td>796.911309</td>\n",
       "      <td>18.841219</td>\n",
       "      <td>0.0</td>\n",
       "      <td>...</td>\n",
       "      <td>153.0</td>\n",
       "      <td>154.0</td>\n",
       "      <td>89.063515</td>\n",
       "      <td>0.00000</td>\n",
       "      <td>0.0</td>\n",
       "      <td>0.0</td>\n",
       "      <td>0.0</td>\n",
       "      <td>0.0</td>\n",
       "      <td>0.0</td>\n",
       "      <td>0.0</td>\n",
       "    </tr>\n",
       "    <tr>\n",
       "      <th>4</th>\n",
       "      <td>1556889799</td>\n",
       "      <td>1556890561</td>\n",
       "      <td>1576.0</td>\n",
       "      <td>1602.0</td>\n",
       "      <td>869.0</td>\n",
       "      <td>1556890435</td>\n",
       "      <td>1556889073</td>\n",
       "      <td>1199.137958</td>\n",
       "      <td>5.413692</td>\n",
       "      <td>0.0</td>\n",
       "      <td>...</td>\n",
       "      <td>151.0</td>\n",
       "      <td>152.0</td>\n",
       "      <td>89.238236</td>\n",
       "      <td>9.11456</td>\n",
       "      <td>0.0</td>\n",
       "      <td>0.0</td>\n",
       "      <td>0.0</td>\n",
       "      <td>0.0</td>\n",
       "      <td>0.0</td>\n",
       "      <td>0.0</td>\n",
       "    </tr>\n",
       "    <tr>\n",
       "      <th>...</th>\n",
       "      <td>...</td>\n",
       "      <td>...</td>\n",
       "      <td>...</td>\n",
       "      <td>...</td>\n",
       "      <td>...</td>\n",
       "      <td>...</td>\n",
       "      <td>...</td>\n",
       "      <td>...</td>\n",
       "      <td>...</td>\n",
       "      <td>...</td>\n",
       "      <td>...</td>\n",
       "      <td>...</td>\n",
       "      <td>...</td>\n",
       "      <td>...</td>\n",
       "      <td>...</td>\n",
       "      <td>...</td>\n",
       "      <td>...</td>\n",
       "      <td>...</td>\n",
       "      <td>...</td>\n",
       "      <td>...</td>\n",
       "      <td>...</td>\n",
       "    </tr>\n",
       "    <tr>\n",
       "      <th>2313</th>\n",
       "      <td>1565051745</td>\n",
       "      <td>1565052882</td>\n",
       "      <td>1570.0</td>\n",
       "      <td>1591.0</td>\n",
       "      <td>723.0</td>\n",
       "      <td>1565052673</td>\n",
       "      <td>1565051465</td>\n",
       "      <td>778.818234</td>\n",
       "      <td>7.125735</td>\n",
       "      <td>0.0</td>\n",
       "      <td>...</td>\n",
       "      <td>129.0</td>\n",
       "      <td>223.0</td>\n",
       "      <td>89.150879</td>\n",
       "      <td>0.00000</td>\n",
       "      <td>0.0</td>\n",
       "      <td>0.0</td>\n",
       "      <td>0.0</td>\n",
       "      <td>0.0</td>\n",
       "      <td>0.0</td>\n",
       "      <td>0.0</td>\n",
       "    </tr>\n",
       "    <tr>\n",
       "      <th>2314</th>\n",
       "      <td>1565053374</td>\n",
       "      <td>1565054992</td>\n",
       "      <td>1554.0</td>\n",
       "      <td>1591.0</td>\n",
       "      <td>940.0</td>\n",
       "      <td>1565054612</td>\n",
       "      <td>1565053206</td>\n",
       "      <td>875.261419</td>\n",
       "      <td>9.412616</td>\n",
       "      <td>0.0</td>\n",
       "      <td>...</td>\n",
       "      <td>129.0</td>\n",
       "      <td>226.0</td>\n",
       "      <td>114.179527</td>\n",
       "      <td>0.00000</td>\n",
       "      <td>0.0</td>\n",
       "      <td>0.0</td>\n",
       "      <td>0.0</td>\n",
       "      <td>0.0</td>\n",
       "      <td>0.0</td>\n",
       "      <td>0.0</td>\n",
       "    </tr>\n",
       "    <tr>\n",
       "      <th>2315</th>\n",
       "      <td>1565055713</td>\n",
       "      <td>1565056430</td>\n",
       "      <td>1571.0</td>\n",
       "      <td>1589.0</td>\n",
       "      <td>569.0</td>\n",
       "      <td>1565056245</td>\n",
       "      <td>1565055481</td>\n",
       "      <td>556.930349</td>\n",
       "      <td>6.271699</td>\n",
       "      <td>0.0</td>\n",
       "      <td>...</td>\n",
       "      <td>124.0</td>\n",
       "      <td>226.0</td>\n",
       "      <td>94.086723</td>\n",
       "      <td>9.04800</td>\n",
       "      <td>0.0</td>\n",
       "      <td>0.0</td>\n",
       "      <td>0.0</td>\n",
       "      <td>0.0</td>\n",
       "      <td>0.0</td>\n",
       "      <td>0.0</td>\n",
       "    </tr>\n",
       "    <tr>\n",
       "      <th>2316</th>\n",
       "      <td>1565057029</td>\n",
       "      <td>1565058331</td>\n",
       "      <td>1591.0</td>\n",
       "      <td>1594.0</td>\n",
       "      <td>750.0</td>\n",
       "      <td>1565058024</td>\n",
       "      <td>1565056666</td>\n",
       "      <td>767.817794</td>\n",
       "      <td>14.953657</td>\n",
       "      <td>0.0</td>\n",
       "      <td>...</td>\n",
       "      <td>129.0</td>\n",
       "      <td>207.0</td>\n",
       "      <td>118.110717</td>\n",
       "      <td>0.00000</td>\n",
       "      <td>0.0</td>\n",
       "      <td>0.0</td>\n",
       "      <td>0.0</td>\n",
       "      <td>0.0</td>\n",
       "      <td>0.0</td>\n",
       "      <td>0.0</td>\n",
       "    </tr>\n",
       "    <tr>\n",
       "      <th>2317</th>\n",
       "      <td>1565059225</td>\n",
       "      <td>1565060428</td>\n",
       "      <td>1569.0</td>\n",
       "      <td>1603.0</td>\n",
       "      <td>883.0</td>\n",
       "      <td>1565060142</td>\n",
       "      <td>1565058776</td>\n",
       "      <td>1301.828445</td>\n",
       "      <td>11.336151</td>\n",
       "      <td>0.0</td>\n",
       "      <td>...</td>\n",
       "      <td>126.0</td>\n",
       "      <td>227.0</td>\n",
       "      <td>110.160958</td>\n",
       "      <td>50.00528</td>\n",
       "      <td>0.0</td>\n",
       "      <td>0.0</td>\n",
       "      <td>0.0</td>\n",
       "      <td>0.0</td>\n",
       "      <td>0.0</td>\n",
       "      <td>0.0</td>\n",
       "    </tr>\n",
       "  </tbody>\n",
       "</table>\n",
       "<p>2318 rows × 32 columns</p>\n",
       "</div>"
      ],
      "text/plain": [
       "      Время замера first  Время замера last  Температура first  \\\n",
       "0             1556882178         1556883039             1571.0   \n",
       "1             1556883447         1556884752             1581.0   \n",
       "2             1556885597         1556886897             1596.0   \n",
       "3             1556887977         1556888365             1601.0   \n",
       "4             1556889799         1556890561             1576.0   \n",
       "...                  ...                ...                ...   \n",
       "2313          1565051745         1565052882             1570.0   \n",
       "2314          1565053374         1565054992             1554.0   \n",
       "2315          1565055713         1565056430             1571.0   \n",
       "2316          1565057029         1565058331             1591.0   \n",
       "2317          1565059225         1565060428             1569.0   \n",
       "\n",
       "      Температура last  Время нагрева  Конец нагрева дугой  \\\n",
       "0               1613.0         1098.0           1556882917   \n",
       "1               1602.0          811.0           1556884398   \n",
       "2               1599.0          655.0           1556886739   \n",
       "3               1625.0          741.0           1556888270   \n",
       "4               1602.0          869.0           1556890435   \n",
       "...                ...            ...                  ...   \n",
       "2313            1591.0          723.0           1565052673   \n",
       "2314            1591.0          940.0           1565054612   \n",
       "2315            1589.0          569.0           1565056245   \n",
       "2316            1594.0          750.0           1565058024   \n",
       "2317            1603.0          883.0           1565060142   \n",
       "\n",
       "      Начало нагрева дугой      Энергия      Газ 1  Bulk 1  ...  Bulk 14  \\\n",
       "0               1556881334  1442.377754  29.749986     0.0  ...    150.0   \n",
       "1               1556883254   881.233565  12.555561     0.0  ...    149.0   \n",
       "2               1556885214   525.066777  28.554793     0.0  ...    152.0   \n",
       "3               1556887177   796.911309  18.841219     0.0  ...    153.0   \n",
       "4               1556889073  1199.137958   5.413692     0.0  ...    151.0   \n",
       "...                    ...          ...        ...     ...  ...      ...   \n",
       "2313            1565051465   778.818234   7.125735     0.0  ...    129.0   \n",
       "2314            1565053206   875.261419   9.412616     0.0  ...    129.0   \n",
       "2315            1565055481   556.930349   6.271699     0.0  ...    124.0   \n",
       "2316            1565056666   767.817794  14.953657     0.0  ...    129.0   \n",
       "2317            1565058776  1301.828445  11.336151     0.0  ...    126.0   \n",
       "\n",
       "      Bulk 15      Wire 1    Wire 2  Wire 3  Wire 4  Wire 6  Wire 7  Wire 8  \\\n",
       "0       154.0   60.059998   0.00000     0.0     0.0     0.0     0.0     0.0   \n",
       "1       154.0   96.052315   0.00000     0.0     0.0     0.0     0.0     0.0   \n",
       "2       153.0   91.160157   0.00000     0.0     0.0     0.0     0.0     0.0   \n",
       "3       154.0   89.063515   0.00000     0.0     0.0     0.0     0.0     0.0   \n",
       "4       152.0   89.238236   9.11456     0.0     0.0     0.0     0.0     0.0   \n",
       "...       ...         ...       ...     ...     ...     ...     ...     ...   \n",
       "2313    223.0   89.150879   0.00000     0.0     0.0     0.0     0.0     0.0   \n",
       "2314    226.0  114.179527   0.00000     0.0     0.0     0.0     0.0     0.0   \n",
       "2315    226.0   94.086723   9.04800     0.0     0.0     0.0     0.0     0.0   \n",
       "2316    207.0  118.110717   0.00000     0.0     0.0     0.0     0.0     0.0   \n",
       "2317    227.0  110.160958  50.00528     0.0     0.0     0.0     0.0     0.0   \n",
       "\n",
       "      Wire 9  \n",
       "0        0.0  \n",
       "1        0.0  \n",
       "2        0.0  \n",
       "3        0.0  \n",
       "4        0.0  \n",
       "...      ...  \n",
       "2313     0.0  \n",
       "2314     0.0  \n",
       "2315     0.0  \n",
       "2316     0.0  \n",
       "2317     0.0  \n",
       "\n",
       "[2318 rows x 32 columns]"
      ]
     },
     "execution_count": 75,
     "metadata": {},
     "output_type": "execute_result"
    }
   ],
   "source": [
    "df['Конец нагрева дугой'] = df['Конец нагрева дугой'].view('int64')//10**9\n",
    "df['Начало нагрева дугой'] = df['Начало нагрева дугой'].view('int64')//10**9\n",
    "df['Время замера first'] = df['Время замера first'].view('int64')//10**9\n",
    "df['Время замера last'] = df['Время замера last'].view('int64')//10**9\n",
    "#df[['Конец нагрева дугой', 'Начало нагрева дугой', 'Время замера first','Время замера last' ]] = df[['Конец нагрева дугой', 'Начало нагрева дугой', 'Время замера first','Время замера last' ]].view('int64')//10**9\n",
    "df"
   ]
  },
  {
   "cell_type": "code",
   "execution_count": 76,
   "metadata": {},
   "outputs": [
    {
     "data": {
      "text/html": [
       "<div>\n",
       "<style scoped>\n",
       "    .dataframe tbody tr th:only-of-type {\n",
       "        vertical-align: middle;\n",
       "    }\n",
       "\n",
       "    .dataframe tbody tr th {\n",
       "        vertical-align: top;\n",
       "    }\n",
       "\n",
       "    .dataframe thead th {\n",
       "        text-align: right;\n",
       "    }\n",
       "</style>\n",
       "<table border=\"1\" class=\"dataframe\">\n",
       "  <thead>\n",
       "    <tr style=\"text-align: right;\">\n",
       "      <th></th>\n",
       "      <th>Температура first</th>\n",
       "      <th>Температура last</th>\n",
       "      <th>Время нагрева</th>\n",
       "      <th>Энергия</th>\n",
       "      <th>Газ 1</th>\n",
       "      <th>Bulk 1</th>\n",
       "      <th>Bulk 2</th>\n",
       "      <th>Bulk 3</th>\n",
       "      <th>Bulk 4</th>\n",
       "      <th>Bulk 5</th>\n",
       "      <th>...</th>\n",
       "      <th>Wire 1</th>\n",
       "      <th>Wire 2</th>\n",
       "      <th>Wire 3</th>\n",
       "      <th>Wire 4</th>\n",
       "      <th>Wire 6</th>\n",
       "      <th>Wire 7</th>\n",
       "      <th>Wire 8</th>\n",
       "      <th>Wire 9</th>\n",
       "      <th>на замерах итого сек</th>\n",
       "      <th>на нагреве итого сек</th>\n",
       "    </tr>\n",
       "  </thead>\n",
       "  <tbody>\n",
       "    <tr>\n",
       "      <th>0</th>\n",
       "      <td>1571.0</td>\n",
       "      <td>1613.0</td>\n",
       "      <td>1098.0</td>\n",
       "      <td>1442.377754</td>\n",
       "      <td>29.749986</td>\n",
       "      <td>0.0</td>\n",
       "      <td>0.0</td>\n",
       "      <td>0.0</td>\n",
       "      <td>43.0</td>\n",
       "      <td>0.0</td>\n",
       "      <td>...</td>\n",
       "      <td>60.059998</td>\n",
       "      <td>0.00000</td>\n",
       "      <td>0.0</td>\n",
       "      <td>0.0</td>\n",
       "      <td>0.0</td>\n",
       "      <td>0.0</td>\n",
       "      <td>0.0</td>\n",
       "      <td>0.0</td>\n",
       "      <td>861</td>\n",
       "      <td>1583</td>\n",
       "    </tr>\n",
       "    <tr>\n",
       "      <th>1</th>\n",
       "      <td>1581.0</td>\n",
       "      <td>1602.0</td>\n",
       "      <td>811.0</td>\n",
       "      <td>881.233565</td>\n",
       "      <td>12.555561</td>\n",
       "      <td>0.0</td>\n",
       "      <td>0.0</td>\n",
       "      <td>0.0</td>\n",
       "      <td>73.0</td>\n",
       "      <td>0.0</td>\n",
       "      <td>...</td>\n",
       "      <td>96.052315</td>\n",
       "      <td>0.00000</td>\n",
       "      <td>0.0</td>\n",
       "      <td>0.0</td>\n",
       "      <td>0.0</td>\n",
       "      <td>0.0</td>\n",
       "      <td>0.0</td>\n",
       "      <td>0.0</td>\n",
       "      <td>1305</td>\n",
       "      <td>1144</td>\n",
       "    </tr>\n",
       "    <tr>\n",
       "      <th>2</th>\n",
       "      <td>1596.0</td>\n",
       "      <td>1599.0</td>\n",
       "      <td>655.0</td>\n",
       "      <td>525.066777</td>\n",
       "      <td>28.554793</td>\n",
       "      <td>0.0</td>\n",
       "      <td>0.0</td>\n",
       "      <td>0.0</td>\n",
       "      <td>34.0</td>\n",
       "      <td>0.0</td>\n",
       "      <td>...</td>\n",
       "      <td>91.160157</td>\n",
       "      <td>0.00000</td>\n",
       "      <td>0.0</td>\n",
       "      <td>0.0</td>\n",
       "      <td>0.0</td>\n",
       "      <td>0.0</td>\n",
       "      <td>0.0</td>\n",
       "      <td>0.0</td>\n",
       "      <td>1300</td>\n",
       "      <td>1525</td>\n",
       "    </tr>\n",
       "    <tr>\n",
       "      <th>3</th>\n",
       "      <td>1601.0</td>\n",
       "      <td>1625.0</td>\n",
       "      <td>741.0</td>\n",
       "      <td>796.911309</td>\n",
       "      <td>18.841219</td>\n",
       "      <td>0.0</td>\n",
       "      <td>0.0</td>\n",
       "      <td>0.0</td>\n",
       "      <td>81.0</td>\n",
       "      <td>0.0</td>\n",
       "      <td>...</td>\n",
       "      <td>89.063515</td>\n",
       "      <td>0.00000</td>\n",
       "      <td>0.0</td>\n",
       "      <td>0.0</td>\n",
       "      <td>0.0</td>\n",
       "      <td>0.0</td>\n",
       "      <td>0.0</td>\n",
       "      <td>0.0</td>\n",
       "      <td>388</td>\n",
       "      <td>1093</td>\n",
       "    </tr>\n",
       "    <tr>\n",
       "      <th>4</th>\n",
       "      <td>1576.0</td>\n",
       "      <td>1602.0</td>\n",
       "      <td>869.0</td>\n",
       "      <td>1199.137958</td>\n",
       "      <td>5.413692</td>\n",
       "      <td>0.0</td>\n",
       "      <td>0.0</td>\n",
       "      <td>0.0</td>\n",
       "      <td>78.0</td>\n",
       "      <td>0.0</td>\n",
       "      <td>...</td>\n",
       "      <td>89.238236</td>\n",
       "      <td>9.11456</td>\n",
       "      <td>0.0</td>\n",
       "      <td>0.0</td>\n",
       "      <td>0.0</td>\n",
       "      <td>0.0</td>\n",
       "      <td>0.0</td>\n",
       "      <td>0.0</td>\n",
       "      <td>762</td>\n",
       "      <td>1362</td>\n",
       "    </tr>\n",
       "    <tr>\n",
       "      <th>...</th>\n",
       "      <td>...</td>\n",
       "      <td>...</td>\n",
       "      <td>...</td>\n",
       "      <td>...</td>\n",
       "      <td>...</td>\n",
       "      <td>...</td>\n",
       "      <td>...</td>\n",
       "      <td>...</td>\n",
       "      <td>...</td>\n",
       "      <td>...</td>\n",
       "      <td>...</td>\n",
       "      <td>...</td>\n",
       "      <td>...</td>\n",
       "      <td>...</td>\n",
       "      <td>...</td>\n",
       "      <td>...</td>\n",
       "      <td>...</td>\n",
       "      <td>...</td>\n",
       "      <td>...</td>\n",
       "      <td>...</td>\n",
       "      <td>...</td>\n",
       "    </tr>\n",
       "    <tr>\n",
       "      <th>2313</th>\n",
       "      <td>1570.0</td>\n",
       "      <td>1591.0</td>\n",
       "      <td>723.0</td>\n",
       "      <td>778.818234</td>\n",
       "      <td>7.125735</td>\n",
       "      <td>0.0</td>\n",
       "      <td>0.0</td>\n",
       "      <td>21.0</td>\n",
       "      <td>0.0</td>\n",
       "      <td>0.0</td>\n",
       "      <td>...</td>\n",
       "      <td>89.150879</td>\n",
       "      <td>0.00000</td>\n",
       "      <td>0.0</td>\n",
       "      <td>0.0</td>\n",
       "      <td>0.0</td>\n",
       "      <td>0.0</td>\n",
       "      <td>0.0</td>\n",
       "      <td>0.0</td>\n",
       "      <td>1137</td>\n",
       "      <td>1208</td>\n",
       "    </tr>\n",
       "    <tr>\n",
       "      <th>2314</th>\n",
       "      <td>1554.0</td>\n",
       "      <td>1591.0</td>\n",
       "      <td>940.0</td>\n",
       "      <td>875.261419</td>\n",
       "      <td>9.412616</td>\n",
       "      <td>0.0</td>\n",
       "      <td>0.0</td>\n",
       "      <td>0.0</td>\n",
       "      <td>63.0</td>\n",
       "      <td>0.0</td>\n",
       "      <td>...</td>\n",
       "      <td>114.179527</td>\n",
       "      <td>0.00000</td>\n",
       "      <td>0.0</td>\n",
       "      <td>0.0</td>\n",
       "      <td>0.0</td>\n",
       "      <td>0.0</td>\n",
       "      <td>0.0</td>\n",
       "      <td>0.0</td>\n",
       "      <td>1618</td>\n",
       "      <td>1406</td>\n",
       "    </tr>\n",
       "    <tr>\n",
       "      <th>2315</th>\n",
       "      <td>1571.0</td>\n",
       "      <td>1589.0</td>\n",
       "      <td>569.0</td>\n",
       "      <td>556.930349</td>\n",
       "      <td>6.271699</td>\n",
       "      <td>0.0</td>\n",
       "      <td>0.0</td>\n",
       "      <td>0.0</td>\n",
       "      <td>85.0</td>\n",
       "      <td>0.0</td>\n",
       "      <td>...</td>\n",
       "      <td>94.086723</td>\n",
       "      <td>9.04800</td>\n",
       "      <td>0.0</td>\n",
       "      <td>0.0</td>\n",
       "      <td>0.0</td>\n",
       "      <td>0.0</td>\n",
       "      <td>0.0</td>\n",
       "      <td>0.0</td>\n",
       "      <td>717</td>\n",
       "      <td>764</td>\n",
       "    </tr>\n",
       "    <tr>\n",
       "      <th>2316</th>\n",
       "      <td>1591.0</td>\n",
       "      <td>1594.0</td>\n",
       "      <td>750.0</td>\n",
       "      <td>767.817794</td>\n",
       "      <td>14.953657</td>\n",
       "      <td>0.0</td>\n",
       "      <td>0.0</td>\n",
       "      <td>90.0</td>\n",
       "      <td>0.0</td>\n",
       "      <td>0.0</td>\n",
       "      <td>...</td>\n",
       "      <td>118.110717</td>\n",
       "      <td>0.00000</td>\n",
       "      <td>0.0</td>\n",
       "      <td>0.0</td>\n",
       "      <td>0.0</td>\n",
       "      <td>0.0</td>\n",
       "      <td>0.0</td>\n",
       "      <td>0.0</td>\n",
       "      <td>1302</td>\n",
       "      <td>1358</td>\n",
       "    </tr>\n",
       "    <tr>\n",
       "      <th>2317</th>\n",
       "      <td>1569.0</td>\n",
       "      <td>1603.0</td>\n",
       "      <td>883.0</td>\n",
       "      <td>1301.828445</td>\n",
       "      <td>11.336151</td>\n",
       "      <td>0.0</td>\n",
       "      <td>0.0</td>\n",
       "      <td>47.0</td>\n",
       "      <td>0.0</td>\n",
       "      <td>0.0</td>\n",
       "      <td>...</td>\n",
       "      <td>110.160958</td>\n",
       "      <td>50.00528</td>\n",
       "      <td>0.0</td>\n",
       "      <td>0.0</td>\n",
       "      <td>0.0</td>\n",
       "      <td>0.0</td>\n",
       "      <td>0.0</td>\n",
       "      <td>0.0</td>\n",
       "      <td>1203</td>\n",
       "      <td>1366</td>\n",
       "    </tr>\n",
       "  </tbody>\n",
       "</table>\n",
       "<p>2318 rows × 30 columns</p>\n",
       "</div>"
      ],
      "text/plain": [
       "      Температура first  Температура last  Время нагрева      Энергия  \\\n",
       "0                1571.0            1613.0         1098.0  1442.377754   \n",
       "1                1581.0            1602.0          811.0   881.233565   \n",
       "2                1596.0            1599.0          655.0   525.066777   \n",
       "3                1601.0            1625.0          741.0   796.911309   \n",
       "4                1576.0            1602.0          869.0  1199.137958   \n",
       "...                 ...               ...            ...          ...   \n",
       "2313             1570.0            1591.0          723.0   778.818234   \n",
       "2314             1554.0            1591.0          940.0   875.261419   \n",
       "2315             1571.0            1589.0          569.0   556.930349   \n",
       "2316             1591.0            1594.0          750.0   767.817794   \n",
       "2317             1569.0            1603.0          883.0  1301.828445   \n",
       "\n",
       "          Газ 1  Bulk 1  Bulk 2  Bulk 3  Bulk 4  Bulk 5  ...      Wire 1  \\\n",
       "0     29.749986     0.0     0.0     0.0    43.0     0.0  ...   60.059998   \n",
       "1     12.555561     0.0     0.0     0.0    73.0     0.0  ...   96.052315   \n",
       "2     28.554793     0.0     0.0     0.0    34.0     0.0  ...   91.160157   \n",
       "3     18.841219     0.0     0.0     0.0    81.0     0.0  ...   89.063515   \n",
       "4      5.413692     0.0     0.0     0.0    78.0     0.0  ...   89.238236   \n",
       "...         ...     ...     ...     ...     ...     ...  ...         ...   \n",
       "2313   7.125735     0.0     0.0    21.0     0.0     0.0  ...   89.150879   \n",
       "2314   9.412616     0.0     0.0     0.0    63.0     0.0  ...  114.179527   \n",
       "2315   6.271699     0.0     0.0     0.0    85.0     0.0  ...   94.086723   \n",
       "2316  14.953657     0.0     0.0    90.0     0.0     0.0  ...  118.110717   \n",
       "2317  11.336151     0.0     0.0    47.0     0.0     0.0  ...  110.160958   \n",
       "\n",
       "        Wire 2  Wire 3  Wire 4  Wire 6  Wire 7  Wire 8  Wire 9  \\\n",
       "0      0.00000     0.0     0.0     0.0     0.0     0.0     0.0   \n",
       "1      0.00000     0.0     0.0     0.0     0.0     0.0     0.0   \n",
       "2      0.00000     0.0     0.0     0.0     0.0     0.0     0.0   \n",
       "3      0.00000     0.0     0.0     0.0     0.0     0.0     0.0   \n",
       "4      9.11456     0.0     0.0     0.0     0.0     0.0     0.0   \n",
       "...        ...     ...     ...     ...     ...     ...     ...   \n",
       "2313   0.00000     0.0     0.0     0.0     0.0     0.0     0.0   \n",
       "2314   0.00000     0.0     0.0     0.0     0.0     0.0     0.0   \n",
       "2315   9.04800     0.0     0.0     0.0     0.0     0.0     0.0   \n",
       "2316   0.00000     0.0     0.0     0.0     0.0     0.0     0.0   \n",
       "2317  50.00528     0.0     0.0     0.0     0.0     0.0     0.0   \n",
       "\n",
       "      на замерах итого сек  на нагреве итого сек  \n",
       "0                      861                  1583  \n",
       "1                     1305                  1144  \n",
       "2                     1300                  1525  \n",
       "3                      388                  1093  \n",
       "4                      762                  1362  \n",
       "...                    ...                   ...  \n",
       "2313                  1137                  1208  \n",
       "2314                  1618                  1406  \n",
       "2315                   717                   764  \n",
       "2316                  1302                  1358  \n",
       "2317                  1203                  1366  \n",
       "\n",
       "[2318 rows x 30 columns]"
      ]
     },
     "execution_count": 76,
     "metadata": {},
     "output_type": "execute_result"
    }
   ],
   "source": [
    "df ['на замерах итого сек'] = df['Время замера last'] - df['Время замера first']\n",
    "df ['на нагреве итого сек'] = df['Конец нагрева дугой'] - df['Начало нагрева дугой']\n",
    "df = df.drop('Время замера last', axis = 1)\n",
    "df = df.drop('Время замера first', axis = 1)\n",
    "df = df.drop('Конец нагрева дугой', axis = 1)\n",
    "df = df.drop('Начало нагрева дугой', axis = 1)\n",
    "df\n"
   ]
  },
  {
   "cell_type": "code",
   "execution_count": 77,
   "metadata": {},
   "outputs": [
    {
     "data": {
      "text/html": [
       "<div>\n",
       "<style scoped>\n",
       "    .dataframe tbody tr th:only-of-type {\n",
       "        vertical-align: middle;\n",
       "    }\n",
       "\n",
       "    .dataframe tbody tr th {\n",
       "        vertical-align: top;\n",
       "    }\n",
       "\n",
       "    .dataframe thead th {\n",
       "        text-align: right;\n",
       "    }\n",
       "</style>\n",
       "<table border=\"1\" class=\"dataframe\">\n",
       "  <thead>\n",
       "    <tr style=\"text-align: right;\">\n",
       "      <th></th>\n",
       "      <th>Время нагрева</th>\n",
       "      <th>на нагреве итого сек</th>\n",
       "    </tr>\n",
       "  </thead>\n",
       "  <tbody>\n",
       "    <tr>\n",
       "      <th>46</th>\n",
       "      <td>126.0</td>\n",
       "      <td>126</td>\n",
       "    </tr>\n",
       "    <tr>\n",
       "      <th>218</th>\n",
       "      <td>127.0</td>\n",
       "      <td>127</td>\n",
       "    </tr>\n",
       "    <tr>\n",
       "      <th>481</th>\n",
       "      <td>241.0</td>\n",
       "      <td>241</td>\n",
       "    </tr>\n",
       "    <tr>\n",
       "      <th>506</th>\n",
       "      <td>125.0</td>\n",
       "      <td>125</td>\n",
       "    </tr>\n",
       "    <tr>\n",
       "      <th>863</th>\n",
       "      <td>61.0</td>\n",
       "      <td>61</td>\n",
       "    </tr>\n",
       "    <tr>\n",
       "      <th>1269</th>\n",
       "      <td>119.0</td>\n",
       "      <td>119</td>\n",
       "    </tr>\n",
       "    <tr>\n",
       "      <th>1886</th>\n",
       "      <td>243.0</td>\n",
       "      <td>243</td>\n",
       "    </tr>\n",
       "    <tr>\n",
       "      <th>1966</th>\n",
       "      <td>125.0</td>\n",
       "      <td>125</td>\n",
       "    </tr>\n",
       "  </tbody>\n",
       "</table>\n",
       "</div>"
      ],
      "text/plain": [
       "      Время нагрева  на нагреве итого сек\n",
       "46            126.0                   126\n",
       "218           127.0                   127\n",
       "481           241.0                   241\n",
       "506           125.0                   125\n",
       "863            61.0                    61\n",
       "1269          119.0                   119\n",
       "1886          243.0                   243\n",
       "1966          125.0                   125"
      ]
     },
     "execution_count": 77,
     "metadata": {},
     "output_type": "execute_result"
    }
   ],
   "source": [
    "#df[['Время нагрева','на замерах итого сек', 'на нагреве итого сек']].sort_values(by=['Время нагрева']).plot(\n",
    "#    x = 'Время нагрева', y = 'на замерах итого сек',kind = 'scatter',figsize = (15,10))\n",
    "df[df['Время нагрева']>df['на нагреве итого сек']][['Время нагрева','на нагреве итого сек']]"
   ]
  },
  {
   "attachments": {},
   "cell_type": "markdown",
   "metadata": {},
   "source": [
    "Проверил, нет ли где еще ошибки в данных"
   ]
  },
  {
   "attachments": {},
   "cell_type": "markdown",
   "metadata": {},
   "source": [
    "#### разделение на таргет и признаки, на тест и трэйн"
   ]
  },
  {
   "cell_type": "code",
   "execution_count": 78,
   "metadata": {},
   "outputs": [],
   "source": [
    "target = df['Температура last']\n",
    "feature =  df.drop('Температура last', axis =1)"
   ]
  },
  {
   "cell_type": "code",
   "execution_count": 79,
   "metadata": {},
   "outputs": [],
   "source": [
    "f_train, f_test, t_train, t_test = train_test_split(feature, target, test_size=0.25, random_state=Global_random)"
   ]
  },
  {
   "attachments": {},
   "cell_type": "markdown",
   "metadata": {},
   "source": [
    "#### масштабируем признаки"
   ]
  },
  {
   "cell_type": "code",
   "execution_count": 80,
   "metadata": {},
   "outputs": [],
   "source": [
    "scaler = StandardScaler()\n",
    "f_train = scaler.fit_transform(f_train)\n",
    "f_test = scaler.transform(f_test)"
   ]
  },
  {
   "cell_type": "code",
   "execution_count": 81,
   "metadata": {},
   "outputs": [
    {
     "data": {
      "text/plain": [
       "1498    1572.0\n",
       "808     1601.0\n",
       "1162    1589.0\n",
       "84      1587.0\n",
       "7       1598.0\n",
       "         ...  \n",
       "1657    1589.0\n",
       "1998    1582.0\n",
       "724     1609.0\n",
       "803     1579.0\n",
       "1373    1597.0\n",
       "Name: Температура last, Length: 1738, dtype: float64"
      ]
     },
     "execution_count": 81,
     "metadata": {},
     "output_type": "execute_result"
    }
   ],
   "source": [
    "t_train"
   ]
  },
  {
   "cell_type": "code",
   "execution_count": 82,
   "metadata": {},
   "outputs": [
    {
     "data": {
      "text/plain": [
       "array([[-1.24822339, -0.58043085, -0.33572673, ..., -0.08873689,\n",
       "        -0.79543565, -0.72834443],\n",
       "       [-0.19032442,  0.3071282 ,  0.85708769, ..., -0.08873689,\n",
       "        -0.12876744, -0.10603904],\n",
       "       [-0.27495634, -0.24759621, -0.31796158, ..., -0.08873689,\n",
       "        -0.07921778, -0.08452908],\n",
       "       ...,\n",
       "       [ 0.57136283,  0.9787945 ,  0.32081296, ..., -0.08873689,\n",
       "         0.458321  ,  0.52220013],\n",
       "       [ 0.14820325,  1.44356359,  0.92707244, ..., -0.08873689,\n",
       "         1.1550193 ,  1.16749893],\n",
       "       [ 1.03683838,  0.06724737, -0.51520222, ..., -0.08873689,\n",
       "         0.56267559,  0.51626635]])"
      ]
     },
     "execution_count": 82,
     "metadata": {},
     "output_type": "execute_result"
    }
   ],
   "source": [
    "f_train"
   ]
  },
  {
   "attachments": {},
   "cell_type": "markdown",
   "metadata": {},
   "source": [
    "### Линейная регрессия путем Кроссвалидации"
   ]
  },
  {
   "cell_type": "code",
   "execution_count": 83,
   "metadata": {},
   "outputs": [
    {
     "name": "stdout",
     "output_type": "stream",
     "text": [
      "средняя ошибка: -415761034507.12317\n"
     ]
    }
   ],
   "source": [
    "\n",
    "model = LinearRegression()\n",
    "\n",
    "scores=cross_val_score(model, f_train , t_train, cv=5, scoring='neg_mean_absolute_error')\n",
    "res = scores.mean()\n",
    "\n",
    "print('средняя ошибка:', res)\n"
   ]
  },
  {
   "attachments": {},
   "cell_type": "markdown",
   "metadata": {},
   "source": [
    "или я что-то не понимаю, или модель совсем не работает. проверим руками"
   ]
  },
  {
   "cell_type": "code",
   "execution_count": 84,
   "metadata": {},
   "outputs": [
    {
     "name": "stdout",
     "output_type": "stream",
     "text": [
      "[-2.07880517e+12 -5.82887641e+00 -5.90525756e+00 -5.62501011e+00\n",
      " -5.59211210e+00]\n"
     ]
    }
   ],
   "source": [
    "print(scores)"
   ]
  },
  {
   "cell_type": "code",
   "execution_count": 85,
   "metadata": {},
   "outputs": [],
   "source": [
    "f_train2, f_test2, t_train2, t_test2 = train_test_split(f_train, t_train, test_size=0.25, random_state=Global_random)"
   ]
  },
  {
   "cell_type": "code",
   "execution_count": 86,
   "metadata": {},
   "outputs": [
    {
     "data": {
      "text/html": [
       "<div>\n",
       "<style scoped>\n",
       "    .dataframe tbody tr th:only-of-type {\n",
       "        vertical-align: middle;\n",
       "    }\n",
       "\n",
       "    .dataframe tbody tr th {\n",
       "        vertical-align: top;\n",
       "    }\n",
       "\n",
       "    .dataframe thead th {\n",
       "        text-align: right;\n",
       "    }\n",
       "</style>\n",
       "<table border=\"1\" class=\"dataframe\">\n",
       "  <thead>\n",
       "    <tr style=\"text-align: right;\">\n",
       "      <th></th>\n",
       "      <th>0</th>\n",
       "    </tr>\n",
       "  </thead>\n",
       "  <tbody>\n",
       "    <tr>\n",
       "      <th>0</th>\n",
       "      <td>1582.418823</td>\n",
       "    </tr>\n",
       "    <tr>\n",
       "      <th>1</th>\n",
       "      <td>1594.610474</td>\n",
       "    </tr>\n",
       "    <tr>\n",
       "      <th>2</th>\n",
       "      <td>1601.161377</td>\n",
       "    </tr>\n",
       "    <tr>\n",
       "      <th>3</th>\n",
       "      <td>1594.186523</td>\n",
       "    </tr>\n",
       "    <tr>\n",
       "      <th>4</th>\n",
       "      <td>1589.293579</td>\n",
       "    </tr>\n",
       "    <tr>\n",
       "      <th>...</th>\n",
       "      <td>...</td>\n",
       "    </tr>\n",
       "    <tr>\n",
       "      <th>430</th>\n",
       "      <td>1597.796875</td>\n",
       "    </tr>\n",
       "    <tr>\n",
       "      <th>431</th>\n",
       "      <td>1596.654419</td>\n",
       "    </tr>\n",
       "    <tr>\n",
       "      <th>432</th>\n",
       "      <td>1590.837036</td>\n",
       "    </tr>\n",
       "    <tr>\n",
       "      <th>433</th>\n",
       "      <td>1593.026001</td>\n",
       "    </tr>\n",
       "    <tr>\n",
       "      <th>434</th>\n",
       "      <td>1595.006226</td>\n",
       "    </tr>\n",
       "  </tbody>\n",
       "</table>\n",
       "<p>435 rows × 1 columns</p>\n",
       "</div>"
      ],
      "text/plain": [
       "               0\n",
       "0    1582.418823\n",
       "1    1594.610474\n",
       "2    1601.161377\n",
       "3    1594.186523\n",
       "4    1589.293579\n",
       "..           ...\n",
       "430  1597.796875\n",
       "431  1596.654419\n",
       "432  1590.837036\n",
       "433  1593.026001\n",
       "434  1595.006226\n",
       "\n",
       "[435 rows x 1 columns]"
      ]
     },
     "execution_count": 86,
     "metadata": {},
     "output_type": "execute_result"
    }
   ],
   "source": [
    "Model_LR = LinearRegression()\n",
    "Model_LR.fit(f_train2, t_train2)\n",
    "preds = Model_LR.predict(f_test2)\n",
    "pd.DataFrame(preds)"
   ]
  },
  {
   "cell_type": "code",
   "execution_count": 87,
   "metadata": {},
   "outputs": [
    {
     "data": {
      "text/plain": [
       "3932178574505.7876"
      ]
     },
     "execution_count": 87,
     "metadata": {},
     "output_type": "execute_result"
    }
   ],
   "source": [
    "mean_absolute_error(preds,t_test2 )"
   ]
  },
  {
   "attachments": {},
   "cell_type": "markdown",
   "metadata": {},
   "source": [
    "мм.. странно. вроде выводы в предсказаниях порхоже на правду, а МАЕ такая гигантская."
   ]
  },
  {
   "cell_type": "code",
   "execution_count": 88,
   "metadata": {},
   "outputs": [
    {
     "data": {
      "text/html": [
       "<div>\n",
       "<style scoped>\n",
       "    .dataframe tbody tr th:only-of-type {\n",
       "        vertical-align: middle;\n",
       "    }\n",
       "\n",
       "    .dataframe tbody tr th {\n",
       "        vertical-align: top;\n",
       "    }\n",
       "\n",
       "    .dataframe thead th {\n",
       "        text-align: right;\n",
       "    }\n",
       "</style>\n",
       "<table border=\"1\" class=\"dataframe\">\n",
       "  <thead>\n",
       "    <tr style=\"text-align: right;\">\n",
       "      <th></th>\n",
       "      <th>0</th>\n",
       "    </tr>\n",
       "  </thead>\n",
       "  <tbody>\n",
       "    <tr>\n",
       "      <th>count</th>\n",
       "      <td>4.350000e+02</td>\n",
       "    </tr>\n",
       "    <tr>\n",
       "      <th>mean</th>\n",
       "      <td>3.932179e+12</td>\n",
       "    </tr>\n",
       "    <tr>\n",
       "      <th>std</th>\n",
       "      <td>8.201209e+13</td>\n",
       "    </tr>\n",
       "    <tr>\n",
       "      <th>min</th>\n",
       "      <td>1.561290e+03</td>\n",
       "    </tr>\n",
       "    <tr>\n",
       "      <th>25%</th>\n",
       "      <td>1.588234e+03</td>\n",
       "    </tr>\n",
       "    <tr>\n",
       "      <th>50%</th>\n",
       "      <td>1.593040e+03</td>\n",
       "    </tr>\n",
       "    <tr>\n",
       "      <th>75%</th>\n",
       "      <td>1.598196e+03</td>\n",
       "    </tr>\n",
       "    <tr>\n",
       "      <th>max</th>\n",
       "      <td>1.710498e+15</td>\n",
       "    </tr>\n",
       "  </tbody>\n",
       "</table>\n",
       "</div>"
      ],
      "text/plain": [
       "                  0\n",
       "count  4.350000e+02\n",
       "mean   3.932179e+12\n",
       "std    8.201209e+13\n",
       "min    1.561290e+03\n",
       "25%    1.588234e+03\n",
       "50%    1.593040e+03\n",
       "75%    1.598196e+03\n",
       "max    1.710498e+15"
      ]
     },
     "execution_count": 88,
     "metadata": {},
     "output_type": "execute_result"
    }
   ],
   "source": [
    "temp = pd.DataFrame(preds)\n",
    "temp.describe()"
   ]
  },
  {
   "cell_type": "raw",
   "metadata": {},
   "source": [
    "Надо посмотреть на эти данные, где результат такая отрицательная температура"
   ]
  },
  {
   "cell_type": "raw",
   "metadata": {},
   "source": [
    "temp[temp[0]<0].index"
   ]
  },
  {
   "cell_type": "raw",
   "metadata": {},
   "source": [
    "f_test2[temp[temp[0]<0].index]"
   ]
  },
  {
   "cell_type": "code",
   "execution_count": null,
   "metadata": {},
   "outputs": [],
   "source": []
  },
  {
   "cell_type": "raw",
   "metadata": {},
   "source": [
    "это столбцы wire 3 4 6 и 7. видимо идет некорректное масштабирование из-за малого количества данных. возможно придется эти столбцы убрать."
   ]
  },
  {
   "attachments": {},
   "cell_type": "markdown",
   "metadata": {},
   "source": [
    "<div class=\"alert alert-info\" style=\"border-color: green; border-radius: 5px\">\n",
    "10.01.2023\n",
    "    \n",
    "неактуально, теперь есть слишком гигантская температура"
   ]
  },
  {
   "cell_type": "code",
   "execution_count": null,
   "metadata": {},
   "outputs": [],
   "source": []
  },
  {
   "cell_type": "code",
   "execution_count": 89,
   "metadata": {
    "scrolled": true
   },
   "outputs": [
    {
     "data": {
      "text/plain": [
       "Int64Index([402], dtype='int64')"
      ]
     },
     "execution_count": 89,
     "metadata": {},
     "output_type": "execute_result"
    }
   ],
   "source": [
    "temp[temp[0]>1700].index"
   ]
  },
  {
   "cell_type": "code",
   "execution_count": 90,
   "metadata": {},
   "outputs": [
    {
     "data": {
      "text/plain": [
       "array([[ 2.26400118,  0.19918183, -0.61325846,  3.07362148,  2.20142969,\n",
       "        15.77372543, -0.62404255,  1.24107363,  5.99910691, -0.40733038,\n",
       "        13.24185655,  0.        , -0.06619321, -0.23947313, -0.18526428,\n",
       "        -1.34893142, -0.07662936, -1.9123863 , -1.40313668, -2.15777037,\n",
       "        -0.52504787,  3.01138692, 20.30723262, 13.20932213, 41.67733197,\n",
       "        -0.06331886, -0.08873689,  4.72484735,  4.39176774]])"
      ]
     },
     "execution_count": 90,
     "metadata": {},
     "output_type": "execute_result"
    }
   ],
   "source": [
    "f_test2[temp[temp[0]>1700].index]"
   ]
  },
  {
   "attachments": {},
   "cell_type": "markdown",
   "metadata": {},
   "source": [
    "пока признаем модель нерабочей"
   ]
  },
  {
   "cell_type": "code",
   "execution_count": 91,
   "metadata": {},
   "outputs": [
    {
     "data": {
      "text/html": [
       "<div>\n",
       "<style scoped>\n",
       "    .dataframe tbody tr th:only-of-type {\n",
       "        vertical-align: middle;\n",
       "    }\n",
       "\n",
       "    .dataframe tbody tr th {\n",
       "        vertical-align: top;\n",
       "    }\n",
       "\n",
       "    .dataframe thead th {\n",
       "        text-align: right;\n",
       "    }\n",
       "</style>\n",
       "<table border=\"1\" class=\"dataframe\">\n",
       "  <thead>\n",
       "    <tr style=\"text-align: right;\">\n",
       "      <th></th>\n",
       "      <th>0</th>\n",
       "      <th>1</th>\n",
       "      <th>2</th>\n",
       "      <th>3</th>\n",
       "      <th>4</th>\n",
       "      <th>5</th>\n",
       "      <th>6</th>\n",
       "      <th>7</th>\n",
       "      <th>8</th>\n",
       "      <th>9</th>\n",
       "      <th>...</th>\n",
       "      <th>19</th>\n",
       "      <th>20</th>\n",
       "      <th>21</th>\n",
       "      <th>22</th>\n",
       "      <th>23</th>\n",
       "      <th>24</th>\n",
       "      <th>25</th>\n",
       "      <th>26</th>\n",
       "      <th>27</th>\n",
       "      <th>28</th>\n",
       "    </tr>\n",
       "  </thead>\n",
       "  <tbody>\n",
       "    <tr>\n",
       "      <th>count</th>\n",
       "      <td>1738.000000</td>\n",
       "      <td>1738.000000</td>\n",
       "      <td>1738.000000</td>\n",
       "      <td>1738.000000</td>\n",
       "      <td>1738.000000</td>\n",
       "      <td>1738.000000</td>\n",
       "      <td>1738.000000</td>\n",
       "      <td>1738.000000</td>\n",
       "      <td>1738.000000</td>\n",
       "      <td>1738.000000</td>\n",
       "      <td>...</td>\n",
       "      <td>1738.000000</td>\n",
       "      <td>1738.000000</td>\n",
       "      <td>1738.000000</td>\n",
       "      <td>1738.000000</td>\n",
       "      <td>1738.000000</td>\n",
       "      <td>1738.000000</td>\n",
       "      <td>1738.000000</td>\n",
       "      <td>1738.000000</td>\n",
       "      <td>1738.000000</td>\n",
       "      <td>1738.000000</td>\n",
       "    </tr>\n",
       "    <tr>\n",
       "      <th>mean</th>\n",
       "      <td>0.021864</td>\n",
       "      <td>0.025316</td>\n",
       "      <td>0.104143</td>\n",
       "      <td>0.096663</td>\n",
       "      <td>0.204833</td>\n",
       "      <td>0.068470</td>\n",
       "      <td>0.235903</td>\n",
       "      <td>0.262371</td>\n",
       "      <td>0.101266</td>\n",
       "      <td>0.236479</td>\n",
       "      <td>...</td>\n",
       "      <td>0.008631</td>\n",
       "      <td>0.236479</td>\n",
       "      <td>0.110472</td>\n",
       "      <td>0.061565</td>\n",
       "      <td>0.100115</td>\n",
       "      <td>0.023590</td>\n",
       "      <td>0.060414</td>\n",
       "      <td>0.081703</td>\n",
       "      <td>0.116226</td>\n",
       "      <td>0.102417</td>\n",
       "    </tr>\n",
       "    <tr>\n",
       "      <th>std</th>\n",
       "      <td>0.683370</td>\n",
       "      <td>0.723361</td>\n",
       "      <td>0.738820</td>\n",
       "      <td>0.709245</td>\n",
       "      <td>0.791099</td>\n",
       "      <td>0.951577</td>\n",
       "      <td>0.649733</td>\n",
       "      <td>0.588881</td>\n",
       "      <td>0.942863</td>\n",
       "      <td>0.733211</td>\n",
       "      <td>...</td>\n",
       "      <td>0.696595</td>\n",
       "      <td>0.696156</td>\n",
       "      <td>0.932614</td>\n",
       "      <td>0.965857</td>\n",
       "      <td>0.939316</td>\n",
       "      <td>0.983465</td>\n",
       "      <td>0.961749</td>\n",
       "      <td>0.945370</td>\n",
       "      <td>0.801022</td>\n",
       "      <td>0.792804</td>\n",
       "    </tr>\n",
       "    <tr>\n",
       "      <th>min</th>\n",
       "      <td>-2.000000</td>\n",
       "      <td>-2.000000</td>\n",
       "      <td>-1.000000</td>\n",
       "      <td>-1.000000</td>\n",
       "      <td>0.000000</td>\n",
       "      <td>0.000000</td>\n",
       "      <td>0.000000</td>\n",
       "      <td>0.000000</td>\n",
       "      <td>0.000000</td>\n",
       "      <td>0.000000</td>\n",
       "      <td>...</td>\n",
       "      <td>-2.000000</td>\n",
       "      <td>0.000000</td>\n",
       "      <td>0.000000</td>\n",
       "      <td>0.000000</td>\n",
       "      <td>0.000000</td>\n",
       "      <td>0.000000</td>\n",
       "      <td>0.000000</td>\n",
       "      <td>0.000000</td>\n",
       "      <td>-1.000000</td>\n",
       "      <td>-1.000000</td>\n",
       "    </tr>\n",
       "    <tr>\n",
       "      <th>25%</th>\n",
       "      <td>0.000000</td>\n",
       "      <td>0.000000</td>\n",
       "      <td>0.000000</td>\n",
       "      <td>0.000000</td>\n",
       "      <td>0.000000</td>\n",
       "      <td>0.000000</td>\n",
       "      <td>0.000000</td>\n",
       "      <td>0.000000</td>\n",
       "      <td>0.000000</td>\n",
       "      <td>0.000000</td>\n",
       "      <td>...</td>\n",
       "      <td>0.000000</td>\n",
       "      <td>0.000000</td>\n",
       "      <td>0.000000</td>\n",
       "      <td>0.000000</td>\n",
       "      <td>0.000000</td>\n",
       "      <td>0.000000</td>\n",
       "      <td>0.000000</td>\n",
       "      <td>0.000000</td>\n",
       "      <td>0.000000</td>\n",
       "      <td>0.000000</td>\n",
       "    </tr>\n",
       "    <tr>\n",
       "      <th>50%</th>\n",
       "      <td>0.000000</td>\n",
       "      <td>0.000000</td>\n",
       "      <td>0.000000</td>\n",
       "      <td>0.000000</td>\n",
       "      <td>0.000000</td>\n",
       "      <td>0.000000</td>\n",
       "      <td>0.000000</td>\n",
       "      <td>0.000000</td>\n",
       "      <td>0.000000</td>\n",
       "      <td>0.000000</td>\n",
       "      <td>...</td>\n",
       "      <td>0.000000</td>\n",
       "      <td>0.000000</td>\n",
       "      <td>0.000000</td>\n",
       "      <td>0.000000</td>\n",
       "      <td>0.000000</td>\n",
       "      <td>0.000000</td>\n",
       "      <td>0.000000</td>\n",
       "      <td>0.000000</td>\n",
       "      <td>0.000000</td>\n",
       "      <td>0.000000</td>\n",
       "    </tr>\n",
       "    <tr>\n",
       "      <th>75%</th>\n",
       "      <td>0.000000</td>\n",
       "      <td>0.000000</td>\n",
       "      <td>0.000000</td>\n",
       "      <td>0.000000</td>\n",
       "      <td>0.000000</td>\n",
       "      <td>0.000000</td>\n",
       "      <td>0.000000</td>\n",
       "      <td>0.000000</td>\n",
       "      <td>0.000000</td>\n",
       "      <td>0.000000</td>\n",
       "      <td>...</td>\n",
       "      <td>0.000000</td>\n",
       "      <td>0.000000</td>\n",
       "      <td>0.000000</td>\n",
       "      <td>0.000000</td>\n",
       "      <td>0.000000</td>\n",
       "      <td>0.000000</td>\n",
       "      <td>0.000000</td>\n",
       "      <td>0.000000</td>\n",
       "      <td>0.000000</td>\n",
       "      <td>0.000000</td>\n",
       "    </tr>\n",
       "    <tr>\n",
       "      <th>max</th>\n",
       "      <td>3.000000</td>\n",
       "      <td>10.000000</td>\n",
       "      <td>14.000000</td>\n",
       "      <td>4.000000</td>\n",
       "      <td>7.000000</td>\n",
       "      <td>15.000000</td>\n",
       "      <td>5.000000</td>\n",
       "      <td>3.000000</td>\n",
       "      <td>25.000000</td>\n",
       "      <td>6.000000</td>\n",
       "      <td>...</td>\n",
       "      <td>5.000000</td>\n",
       "      <td>6.000000</td>\n",
       "      <td>12.000000</td>\n",
       "      <td>25.000000</td>\n",
       "      <td>18.000000</td>\n",
       "      <td>41.000000</td>\n",
       "      <td>23.000000</td>\n",
       "      <td>18.000000</td>\n",
       "      <td>16.000000</td>\n",
       "      <td>15.000000</td>\n",
       "    </tr>\n",
       "  </tbody>\n",
       "</table>\n",
       "<p>8 rows × 29 columns</p>\n",
       "</div>"
      ],
      "text/plain": [
       "                0            1            2            3            4   \\\n",
       "count  1738.000000  1738.000000  1738.000000  1738.000000  1738.000000   \n",
       "mean      0.021864     0.025316     0.104143     0.096663     0.204833   \n",
       "std       0.683370     0.723361     0.738820     0.709245     0.791099   \n",
       "min      -2.000000    -2.000000    -1.000000    -1.000000     0.000000   \n",
       "25%       0.000000     0.000000     0.000000     0.000000     0.000000   \n",
       "50%       0.000000     0.000000     0.000000     0.000000     0.000000   \n",
       "75%       0.000000     0.000000     0.000000     0.000000     0.000000   \n",
       "max       3.000000    10.000000    14.000000     4.000000     7.000000   \n",
       "\n",
       "                5            6            7            8            9   ...  \\\n",
       "count  1738.000000  1738.000000  1738.000000  1738.000000  1738.000000  ...   \n",
       "mean      0.068470     0.235903     0.262371     0.101266     0.236479  ...   \n",
       "std       0.951577     0.649733     0.588881     0.942863     0.733211  ...   \n",
       "min       0.000000     0.000000     0.000000     0.000000     0.000000  ...   \n",
       "25%       0.000000     0.000000     0.000000     0.000000     0.000000  ...   \n",
       "50%       0.000000     0.000000     0.000000     0.000000     0.000000  ...   \n",
       "75%       0.000000     0.000000     0.000000     0.000000     0.000000  ...   \n",
       "max      15.000000     5.000000     3.000000    25.000000     6.000000  ...   \n",
       "\n",
       "                19           20           21           22           23  \\\n",
       "count  1738.000000  1738.000000  1738.000000  1738.000000  1738.000000   \n",
       "mean      0.008631     0.236479     0.110472     0.061565     0.100115   \n",
       "std       0.696595     0.696156     0.932614     0.965857     0.939316   \n",
       "min      -2.000000     0.000000     0.000000     0.000000     0.000000   \n",
       "25%       0.000000     0.000000     0.000000     0.000000     0.000000   \n",
       "50%       0.000000     0.000000     0.000000     0.000000     0.000000   \n",
       "75%       0.000000     0.000000     0.000000     0.000000     0.000000   \n",
       "max       5.000000     6.000000    12.000000    25.000000    18.000000   \n",
       "\n",
       "                24           25           26           27           28  \n",
       "count  1738.000000  1738.000000  1738.000000  1738.000000  1738.000000  \n",
       "mean      0.023590     0.060414     0.081703     0.116226     0.102417  \n",
       "std       0.983465     0.961749     0.945370     0.801022     0.792804  \n",
       "min       0.000000     0.000000     0.000000    -1.000000    -1.000000  \n",
       "25%       0.000000     0.000000     0.000000     0.000000     0.000000  \n",
       "50%       0.000000     0.000000     0.000000     0.000000     0.000000  \n",
       "75%       0.000000     0.000000     0.000000     0.000000     0.000000  \n",
       "max      41.000000    23.000000    18.000000    16.000000    15.000000  \n",
       "\n",
       "[8 rows x 29 columns]"
      ]
     },
     "execution_count": 91,
     "metadata": {},
     "output_type": "execute_result"
    }
   ],
   "source": [
    "pd.DataFrame(f_train).astype('int64').describe()"
   ]
  },
  {
   "attachments": {},
   "cell_type": "markdown",
   "metadata": {},
   "source": [
    "#### Вывод"
   ]
  },
  {
   "attachments": {},
   "cell_type": "markdown",
   "metadata": {},
   "source": [
    "Похоже нужно пересмотреть данные касательно выбросов"
   ]
  },
  {
   "cell_type": "raw",
   "metadata": {},
   "source": [
    "## Повторная обработка данных"
   ]
  },
  {
   "cell_type": "raw",
   "metadata": {},
   "source": [
    "df.describe()"
   ]
  },
  {
   "cell_type": "raw",
   "metadata": {},
   "source": [
    "df[['Время нагрева']].boxplot()"
   ]
  },
  {
   "cell_type": "raw",
   "metadata": {},
   "source": [
    "df[['Энергия']].boxplot()"
   ]
  },
  {
   "cell_type": "raw",
   "metadata": {},
   "source": [
    "df[['Газ 1']].boxplot()"
   ]
  },
  {
   "cell_type": "raw",
   "metadata": {},
   "source": [
    "fig, ax = plt.subplots(figsize=(15,20))\n",
    "df[['Bulk 1','Bulk 2','Bulk 3','Bulk 4','Bulk 5','Bulk 6','Bulk 7','Bulk 8']].boxplot()"
   ]
  },
  {
   "cell_type": "raw",
   "metadata": {},
   "source": [
    "fig, ax = plt.subplots(figsize=(15,20))\n",
    "df[['Bulk 9','Bulk 10','Bulk 11','Bulk 12','Bulk 13','Bulk 14','Bulk 15']].boxplot()"
   ]
  },
  {
   "cell_type": "raw",
   "metadata": {},
   "source": [
    "fig, ax = plt.subplots(figsize=(15,20))\n",
    "df[['Wire 1','Wire 2','Wire 3','Wire 4','Wire 6','Wire 7','Wire 8','Wire 9']].boxplot()"
   ]
  },
  {
   "cell_type": "raw",
   "metadata": {},
   "source": [
    "Bulk 12 и 14 и Wire 1 - наиболее полны данными. попробуем срезать выбросы на основе этих столбцов"
   ]
  },
  {
   "cell_type": "raw",
   "metadata": {},
   "source": [
    "### Чистим выбросы"
   ]
  },
  {
   "cell_type": "raw",
   "metadata": {},
   "source": [
    "df = df.drop(df[df['Время нагрева']>2000].index)\n",
    "df = df.drop(df[df['Энергия']>4000].index)"
   ]
  },
  {
   "cell_type": "raw",
   "metadata": {},
   "source": [
    "df[['Время нагрева', 'Энергия']].boxplot()"
   ]
  },
  {
   "cell_type": "raw",
   "metadata": {},
   "source": [
    "for bulk in range(1,16):\n",
    "    df = df.drop(df[df['Bulk '+ str(bulk)]>550].index)"
   ]
  },
  {
   "cell_type": "raw",
   "metadata": {},
   "source": [
    "for wire in [1,2,3,4,6,7,8,9]:\n",
    "    df = df.drop(df[df['Wire '+ str(wire)]>250].index)"
   ]
  },
  {
   "cell_type": "raw",
   "metadata": {},
   "source": [
    "fig, ax = plt.subplots(figsize=(15,20))\n",
    "df[['Wire 1','Wire 2','Wire 3','Wire 4','Wire 6','Wire 7','Wire 8','Wire 9']].boxplot()"
   ]
  },
  {
   "cell_type": "raw",
   "metadata": {},
   "source": [
    "## модели обучения, попытка 2"
   ]
  },
  {
   "cell_type": "raw",
   "metadata": {},
   "source": [
    "### подготовка данных"
   ]
  },
  {
   "cell_type": "raw",
   "metadata": {},
   "source": [
    "#### разделение на таргет и признаки, на тест и трэйн"
   ]
  },
  {
   "cell_type": "raw",
   "metadata": {},
   "source": [
    "target = df['Температура last']\n",
    "feature =  df.drop('Температура last', axis =1)"
   ]
  },
  {
   "cell_type": "raw",
   "metadata": {},
   "source": [
    "f_train, f_test, t_train, t_test = train_test_split(feature, target, test_size=0.25, random_state=Global_random)"
   ]
  },
  {
   "cell_type": "raw",
   "metadata": {},
   "source": [
    "#### масштабируем признаки"
   ]
  },
  {
   "cell_type": "raw",
   "metadata": {},
   "source": [
    "scaler = StandardScaler()\n",
    "f_train = scaler.fit_transform(f_train)\n",
    "f_test = scaler.transform(f_test)"
   ]
  },
  {
   "cell_type": "raw",
   "metadata": {},
   "source": [
    "t_train"
   ]
  },
  {
   "cell_type": "raw",
   "metadata": {},
   "source": [
    "f_train"
   ]
  },
  {
   "cell_type": "raw",
   "metadata": {},
   "source": [
    "### Линейная регрессия путем Кроссвалидации"
   ]
  },
  {
   "cell_type": "raw",
   "metadata": {},
   "source": [
    "\n",
    "\n",
    "\n",
    "model = LinearRegression()\n",
    "\n",
    "scores=cross_val_score(model, f_train , t_train, cv=5, scoring='neg_mean_absolute_error')\n",
    "res = scores.mean()\n",
    "\n",
    "print('средняя ошибка:', res)\n"
   ]
  },
  {
   "cell_type": "raw",
   "metadata": {},
   "source": []
  },
  {
   "cell_type": "raw",
   "metadata": {},
   "source": [
    "f_train2, f_test2, t_train2, t_test2 = train_test_split(f_train, t_train, test_size=0.25, random_state=Global_random)"
   ]
  },
  {
   "cell_type": "raw",
   "metadata": {},
   "source": [
    "Model_LR = LinearRegression()\n",
    "Model_LR.fit(f_train2, t_train2)\n",
    "preds = Model_LR.predict(f_test2)\n",
    "pd.DataFrame(preds)"
   ]
  },
  {
   "cell_type": "raw",
   "metadata": {},
   "source": [
    "mean_absolute_error(preds,t_test2 )"
   ]
  },
  {
   "cell_type": "raw",
   "metadata": {},
   "source": [
    "#### вывод"
   ]
  },
  {
   "cell_type": "raw",
   "metadata": {},
   "source": [
    "Прям Эталонное значение. но увы это только при таком разделении на тренировочную и валидационную выборки. кросс валидация показала не  очень хорошее среднее значение ошибки. но уже сильно лучше первой попытки. попробуем другие модели."
   ]
  },
  {
   "attachments": {},
   "cell_type": "markdown",
   "metadata": {},
   "source": [
    "### Random Forest через Grid Search"
   ]
  },
  {
   "cell_type": "code",
   "execution_count": 92,
   "metadata": {},
   "outputs": [
    {
     "name": "stdout",
     "output_type": "stream",
     "text": [
      "CPU times: user 55.7 s, sys: 466 ms, total: 56.2 s\n",
      "Wall time: 56.2 s\n"
     ]
    },
    {
     "data": {
      "text/plain": [
       "GridSearchCV(estimator=RandomForestRegressor(random_state=261222),\n",
       "             param_grid={'max_depth': [1, 2, 3, 4],\n",
       "                         'n_estimators': [100, 150, 200, 250, 300]},\n",
       "             scoring='neg_mean_absolute_error')"
      ]
     },
     "execution_count": 92,
     "metadata": {},
     "output_type": "execute_result"
    }
   ],
   "source": [
    "%%time\n",
    "parameters = {\n",
    "    'n_estimators': [100, 150, 200, 250, 300],\n",
    "    'max_depth': [1,2,3,4],\n",
    "}\n",
    "regr = RandomForestRegressor(random_state=Global_random)\n",
    "\n",
    "rfr = GridSearchCV(regr, parameters, scoring = 'neg_mean_absolute_error')\n",
    "rfr.fit(f_train, t_train)"
   ]
  },
  {
   "cell_type": "code",
   "execution_count": 93,
   "metadata": {},
   "outputs": [
    {
     "data": {
      "text/plain": [
       "-6.565037211632665"
      ]
     },
     "execution_count": 93,
     "metadata": {},
     "output_type": "execute_result"
    }
   ],
   "source": [
    "rfr.best_score_"
   ]
  },
  {
   "cell_type": "code",
   "execution_count": 94,
   "metadata": {},
   "outputs": [
    {
     "data": {
      "text/plain": [
       "{'max_depth': 4, 'n_estimators': 300}"
      ]
     },
     "execution_count": 94,
     "metadata": {},
     "output_type": "execute_result"
    }
   ],
   "source": [
    "rfr.best_params_"
   ]
  },
  {
   "attachments": {},
   "cell_type": "markdown",
   "metadata": {},
   "source": [
    "Уложились в требуемое ТЗ. но это максимальные значения из диаппазона параметров. а что если попробовать больше?"
   ]
  },
  {
   "cell_type": "code",
   "execution_count": 95,
   "metadata": {},
   "outputs": [
    {
     "name": "stdout",
     "output_type": "stream",
     "text": [
      "CPU times: user 1min 8s, sys: 392 ms, total: 1min 9s\n",
      "Wall time: 1min 9s\n"
     ]
    },
    {
     "data": {
      "text/plain": [
       "GridSearchCV(estimator=RandomForestRegressor(random_state=261222),\n",
       "             param_grid={'max_depth': [4, 5, 6],\n",
       "                         'n_estimators': [300, 350, 400]},\n",
       "             scoring='neg_mean_absolute_error')"
      ]
     },
     "execution_count": 95,
     "metadata": {},
     "output_type": "execute_result"
    }
   ],
   "source": [
    "%%time\n",
    "parameters = {\n",
    "    'n_estimators': [300, 350, 400],\n",
    "    'max_depth': [4,5,6],\n",
    "}\n",
    "regr = RandomForestRegressor(random_state=Global_random)\n",
    "\n",
    "rfr2 = GridSearchCV(regr, parameters, scoring = 'neg_mean_absolute_error')\n",
    "rfr2.fit(f_train, t_train)"
   ]
  },
  {
   "cell_type": "code",
   "execution_count": 96,
   "metadata": {},
   "outputs": [
    {
     "data": {
      "text/plain": [
       "-6.2391046684654246"
      ]
     },
     "execution_count": 96,
     "metadata": {},
     "output_type": "execute_result"
    }
   ],
   "source": [
    "rfr2.best_score_"
   ]
  },
  {
   "cell_type": "code",
   "execution_count": 97,
   "metadata": {},
   "outputs": [
    {
     "data": {
      "text/plain": [
       "{'max_depth': 6, 'n_estimators': 300}"
      ]
     },
     "execution_count": 97,
     "metadata": {},
     "output_type": "execute_result"
    }
   ],
   "source": [
    "rfr2.best_params_"
   ]
  },
  {
   "attachments": {},
   "cell_type": "markdown",
   "metadata": {},
   "source": [
    "Попытка 3"
   ]
  },
  {
   "cell_type": "code",
   "execution_count": 98,
   "metadata": {},
   "outputs": [
    {
     "name": "stdout",
     "output_type": "stream",
     "text": [
      "CPU times: user 7min 58s, sys: 1.77 s, total: 8min\n",
      "Wall time: 8min\n"
     ]
    },
    {
     "data": {
      "text/plain": [
       "GridSearchCV(estimator=RandomForestRegressor(random_state=261222),\n",
       "             param_grid={'max_depth': [6, 7, 8, 9, 10, 11, 12, 13, 14, 15],\n",
       "                         'n_estimators': [250, 300, 350, 400]},\n",
       "             scoring='neg_mean_absolute_error')"
      ]
     },
     "execution_count": 98,
     "metadata": {},
     "output_type": "execute_result"
    }
   ],
   "source": [
    "%%time\n",
    "parameters = {\n",
    "    'n_estimators': [ 250, 300, 350, 400],\n",
    "    'max_depth': [6,7,8,9,10,11,12,13,14,15],\n",
    "}\n",
    "regr = RandomForestRegressor(random_state=Global_random)\n",
    "\n",
    "rfr3 = GridSearchCV(regr, parameters, scoring = 'neg_mean_absolute_error')\n",
    "rfr3.fit(f_train, t_train)"
   ]
  },
  {
   "cell_type": "code",
   "execution_count": 99,
   "metadata": {},
   "outputs": [
    {
     "data": {
      "text/plain": [
       "-5.990406560517135"
      ]
     },
     "execution_count": 99,
     "metadata": {},
     "output_type": "execute_result"
    }
   ],
   "source": [
    "rfr3.best_score_"
   ]
  },
  {
   "cell_type": "code",
   "execution_count": 100,
   "metadata": {},
   "outputs": [
    {
     "data": {
      "text/plain": [
       "{'max_depth': 15, 'n_estimators': 400}"
      ]
     },
     "execution_count": 100,
     "metadata": {},
     "output_type": "execute_result"
    }
   ],
   "source": [
    "rfr3.best_params_"
   ]
  },
  {
   "attachments": {},
   "cell_type": "markdown",
   "metadata": {},
   "source": [
    "#### Вывод"
   ]
  },
  {
   "attachments": {},
   "cell_type": "markdown",
   "metadata": {},
   "source": [
    "ниже 6, считаю тоже хорошим результатом"
   ]
  },
  {
   "attachments": {},
   "cell_type": "markdown",
   "metadata": {},
   "source": [
    "### Catboost regressor через Grid Search"
   ]
  },
  {
   "cell_type": "code",
   "execution_count": 101,
   "metadata": {},
   "outputs": [
    {
     "name": "stdout",
     "output_type": "stream",
     "text": [
      "CPU times: user 2min 32s, sys: 4.62 s, total: 2min 37s\n",
      "Wall time: 3min 20s\n"
     ]
    },
    {
     "data": {
      "text/plain": [
       "GridSearchCV(cv=5,\n",
       "             estimator=<catboost.core.CatBoostRegressor object at 0x7fd163185910>,\n",
       "             param_grid=[{'depth': [1, 3, 5, 7],\n",
       "                          'iterations': [100, 500, 1000, 1500],\n",
       "                          'verbose': [False]}],\n",
       "             scoring='neg_mean_absolute_error')"
      ]
     },
     "execution_count": 101,
     "metadata": {},
     "output_type": "execute_result"
    }
   ],
   "source": [
    "%%time\n",
    "param_grid = [\n",
    "{'depth':[1,3,5,7], 'iterations': [100,500,1000,1500], 'verbose' : [False]}\n",
    "]\n",
    "\n",
    "catboost_reg = CatBoostRegressor()\n",
    "grid_search = GridSearchCV(catboost_reg, param_grid, cv=5,\n",
    "                          scoring='neg_mean_absolute_error')\n",
    " \n",
    "grid_search.fit(f_train, t_train)"
   ]
  },
  {
   "cell_type": "code",
   "execution_count": 102,
   "metadata": {},
   "outputs": [
    {
     "data": {
      "text/plain": [
       "-5.68984747728976"
      ]
     },
     "execution_count": 102,
     "metadata": {},
     "output_type": "execute_result"
    }
   ],
   "source": [
    "grid_search.best_score_"
   ]
  },
  {
   "cell_type": "code",
   "execution_count": 103,
   "metadata": {},
   "outputs": [
    {
     "data": {
      "text/plain": [
       "{'depth': 7, 'iterations': 1000, 'verbose': False}"
      ]
     },
     "execution_count": 103,
     "metadata": {},
     "output_type": "execute_result"
    }
   ],
   "source": [
    "grid_search.best_params_"
   ]
  },
  {
   "attachments": {},
   "cell_type": "markdown",
   "metadata": {},
   "source": [
    "а теперь поточнее посмотрим"
   ]
  },
  {
   "cell_type": "code",
   "execution_count": 104,
   "metadata": {},
   "outputs": [
    {
     "name": "stdout",
     "output_type": "stream",
     "text": [
      "CPU times: user 10min 30s, sys: 6.7 s, total: 10min 36s\n",
      "Wall time: 11min 24s\n"
     ]
    },
    {
     "data": {
      "text/plain": [
       "GridSearchCV(cv=5,\n",
       "             estimator=<catboost.core.CatBoostRegressor object at 0x7fd163147580>,\n",
       "             param_grid=[{'depth': [6, 7, 8, 9],\n",
       "                          'iterations': [900, 1000, 1100],\n",
       "                          'verbose': [False]}],\n",
       "             scoring='neg_mean_absolute_error')"
      ]
     },
     "execution_count": 104,
     "metadata": {},
     "output_type": "execute_result"
    }
   ],
   "source": [
    "%%time\n",
    "param_grid = [\n",
    "{'depth':[6,7,8,9], 'iterations': [900,1000,1100], 'verbose' : [False]}\n",
    "]\n",
    "\n",
    "catboost_reg = CatBoostRegressor()\n",
    "gs = GridSearchCV(catboost_reg, param_grid, cv=5,\n",
    "                          scoring='neg_mean_absolute_error')\n",
    " \n",
    "gs.fit(f_train, t_train)"
   ]
  },
  {
   "cell_type": "code",
   "execution_count": 105,
   "metadata": {},
   "outputs": [
    {
     "data": {
      "text/plain": [
       "-5.68984747728976"
      ]
     },
     "execution_count": 105,
     "metadata": {},
     "output_type": "execute_result"
    }
   ],
   "source": [
    "gs.best_score_"
   ]
  },
  {
   "cell_type": "code",
   "execution_count": 106,
   "metadata": {},
   "outputs": [
    {
     "data": {
      "text/plain": [
       "{'depth': 7, 'iterations': 1000, 'verbose': False}"
      ]
     },
     "execution_count": 106,
     "metadata": {},
     "output_type": "execute_result"
    }
   ],
   "source": [
    "gs.best_params_"
   ]
  },
  {
   "attachments": {},
   "cell_type": "markdown",
   "metadata": {},
   "source": [
    "а результат тот же последняя попытка"
   ]
  },
  {
   "cell_type": "raw",
   "metadata": {},
   "source": [
    "%%time\n",
    "param_grid = [\n",
    "{'depth':[5], 'iterations': [450,460,470,480,490,500,510,520,530,540,550], 'verbose' : [False]}\n",
    "]\n",
    "\n",
    "catboost_reg = CatBoostRegressor()\n",
    "gs2 = GridSearchCV(catboost_reg, param_grid, cv=5,\n",
    "                          scoring='neg_mean_absolute_error')\n",
    " \n",
    "gs2.fit(f_train, t_train)"
   ]
  },
  {
   "cell_type": "raw",
   "metadata": {},
   "source": [
    "gs2.best_score_"
   ]
  },
  {
   "cell_type": "raw",
   "metadata": {},
   "source": [
    "gs2.best_params_"
   ]
  },
  {
   "attachments": {},
   "cell_type": "markdown",
   "metadata": {},
   "source": [
    "### Результаты лучших"
   ]
  },
  {
   "attachments": {},
   "cell_type": "markdown",
   "metadata": {},
   "source": [
    "Лес"
   ]
  },
  {
   "cell_type": "code",
   "execution_count": 107,
   "metadata": {},
   "outputs": [
    {
     "data": {
      "text/plain": [
       "-5.990406560517135"
      ]
     },
     "execution_count": 107,
     "metadata": {},
     "output_type": "execute_result"
    }
   ],
   "source": [
    "rfr3.best_score_"
   ]
  },
  {
   "attachments": {},
   "cell_type": "markdown",
   "metadata": {},
   "source": [
    "Кэтбуст"
   ]
  },
  {
   "cell_type": "code",
   "execution_count": 108,
   "metadata": {},
   "outputs": [
    {
     "data": {
      "text/plain": [
       "-5.68984747728976"
      ]
     },
     "execution_count": 108,
     "metadata": {},
     "output_type": "execute_result"
    }
   ],
   "source": [
    "gs.best_score_"
   ]
  },
  {
   "attachments": {},
   "cell_type": "markdown",
   "metadata": {},
   "source": [
    "## проверка лучшей модели на тестовой выборке"
   ]
  },
  {
   "attachments": {},
   "cell_type": "markdown",
   "metadata": {},
   "source": [
    "Итак, лидер у нас Кэтбуст с параметрами глубины 5 и 500 итерациями"
   ]
  },
  {
   "cell_type": "code",
   "execution_count": 109,
   "metadata": {},
   "outputs": [
    {
     "data": {
      "text/plain": [
       "-5.481165063938096"
      ]
     },
     "execution_count": 109,
     "metadata": {},
     "output_type": "execute_result"
    }
   ],
   "source": [
    "gs.score( f_test, t_test)"
   ]
  },
  {
   "attachments": {},
   "cell_type": "markdown",
   "metadata": {},
   "source": [
    "## Вывод моделей обучения"
   ]
  },
  {
   "attachments": {},
   "cell_type": "markdown",
   "metadata": {},
   "source": [
    "Итак, мы получили можель, которая предсказывает конечную температуру основываясь на предполагаемых параметрах процесса (присадках, потраченной энергии на нагрев, ее продолжительности и прочем). при подготовке данных нужным образом можно использовать модель для предсказаний."
   ]
  },
  {
   "attachments": {},
   "cell_type": "markdown",
   "metadata": {},
   "source": [
    "## Значимость признаков"
   ]
  },
  {
   "cell_type": "code",
   "execution_count": 110,
   "metadata": {},
   "outputs": [
    {
     "data": {
      "image/png": "[encoded data removed]",
      "text/plain": [
       "<Figure size 1080x720 with 1 Axes>"
      ]
     },
     "metadata": {
      "needs_background": "light"
     },
     "output_type": "display_data"
    }
   ],
   "source": [
    "fetures_imp=pd.DataFrame(gs.best_estimator_.feature_importances_)\n",
    "fetures_imp.index = feature.columns\n",
    "fetures_imp.plot(kind = 'bar', figsize=(15,10));"
   ]
  },
  {
   "attachments": {},
   "cell_type": "markdown",
   "metadata": {},
   "source": [
    "### вывод"
   ]
  },
  {
   "attachments": {},
   "cell_type": "markdown",
   "metadata": {},
   "source": [
    "На графике Видно значимость каждого признака. остался вопрос - кого игнорировать. я бы рекомендовал \"газ\" и кто еще больше оставить\n",
    "\n"
   ]
  },
  {
   "attachments": {},
   "cell_type": "markdown",
   "metadata": {},
   "source": [
    "попробуем Lasso"
   ]
  },
  {
   "cell_type": "code",
   "execution_count": 111,
   "metadata": {},
   "outputs": [
    {
     "name": "stdout",
     "output_type": "stream",
     "text": [
      "средняя ошибка: -6.485862095144938\n"
     ]
    }
   ],
   "source": [
    "\n",
    "Lreg = Lasso()\n",
    "\n",
    "scores=cross_val_score(Lreg, f_train , t_train, cv=5, scoring='neg_mean_absolute_error')\n",
    "res = scores.mean()\n",
    "\n",
    "print('средняя ошибка:', res)\n"
   ]
  },
  {
   "attachments": {},
   "cell_type": "markdown",
   "metadata": {},
   "source": [
    "а получилось приемлемо"
   ]
  },
  {
   "cell_type": "raw",
   "metadata": {},
   "source": [
    "\"В отчёте ответьте на вопросы:\n",
    "\n",
    "Какие пункты плана были выполнены, а какие — нет (поясните почему)?\n",
    "Какие трудности возникли и как вы их преодолели?\n",
    "Какие ключевые шаги в решении задачи выделили?\n",
    "Какая ваша итоговая модель и какое у неё качество?"
   ]
  },
  {
   "attachments": {},
   "cell_type": "markdown",
   "metadata": {},
   "source": [
    "# Отчет о проделанной работе"
   ]
  },
  {
   "attachments": {},
   "cell_type": "markdown",
   "metadata": {},
   "source": [
    "## Решаемая задача"
   ]
  },
  {
   "attachments": {},
   "cell_type": "markdown",
   "metadata": {},
   "source": [
    "Была поставлена задача на основе статистических данных разработать модель  машинного обучения, которая подзволит предсказать температуру розлива сплава на основе данных о процесее обработки"
   ]
  },
  {
   "attachments": {},
   "cell_type": "markdown",
   "metadata": {},
   "source": [
    "## Описание решения\n"
   ]
  },
  {
   "attachments": {},
   "cell_type": "markdown",
   "metadata": {},
   "source": [
    "- загружаем данные и знакомимся методами head , info и describe\n",
    "\n",
    "при ознакомалении стало понятно, что таблицы имеют разную структуру и для объединения данных требуется обработка. для нас объектом изучения является ключ процесса, а соответственно таблицы измерения температуры и нагревов требуют обработки.\n",
    "\n",
    "в таблице измерений температуры нас интересует температура на \"финише\". если в последнем этапе замер отсуствует, то такой ключь нас не интересует.\n",
    "\n",
    "- чистим данные\n",
    "\n",
    "убираем ненужные ключи, чистим от выбросов. преобразуем таблицы температуры и нагревов, собираем все в единую таблицу,\n",
    "- заполняем пропуски\n",
    "\n",
    "пропуски присутствуют только в таблицах присадок и продувки. считаем, что операции не проводились, поэтому заполняем Нулями\n",
    "\n",
    "- собираем единую таблицу\n",
    "\n",
    "объединяя по ключу процесса\n",
    "\n",
    "- проверяем данные на нормальность распределения\n",
    "\n",
    "данные оказались не нормального распределения\n",
    "\n",
    "- проверка на мультиколлинеарность\n",
    "\n",
    "используем метод Спирмена\n",
    "\n",
    "- готовим данные для моделей обучения\n",
    "\n",
    "разделяем данные на целевой признак и признаки обучения, разделяем на обучающую и тестовую выборки\n",
    "\n",
    "- проверяем модели обучения методом кроссвалидации и подбора параметров через GridSearchCV\n",
    "\n",
    "Linear Regression, Random Forest Regression, CatBoost Regressor\n",
    "\n",
    "\n"
   ]
  },
  {
   "attachments": {},
   "cell_type": "markdown",
   "metadata": {},
   "source": [
    "## Результат решения\n"
   ]
  },
  {
   "attachments": {
    "image.png": {
     "image/png": "[encoded data removed]"
    }
   },
   "cell_type": "markdown",
   "metadata": {},
   "source": [
    "оптимальной оказалась модель CatBoost Regressor со значением MAE в 5.68984747728976 на кросс валидации.\n",
    "\n",
    "парметры при этом были определены такие:\n",
    "\n",
    "'depth': 7, 'iterations': 1000\n",
    "\n",
    "на тестовой выборке модель показала MAE в 5.68984747728976\n",
    "\n",
    "значимость признаков можно наблюдать на графике:\n",
    "\n",
    "![image.png](attachment:image.png)"
   ]
  },
  {
   "attachments": {},
   "cell_type": "markdown",
   "metadata": {},
   "source": [
    "## Вопросы из задания"
   ]
  },
  {
   "attachments": {},
   "cell_type": "markdown",
   "metadata": {},
   "source": [
    "- Какие пункты плана были выполнены, а какие — нет (поясните почему)?\n",
    "\n",
    "вроде все выполнил.\n",
    "\n",
    "- Какие трудности возникли и как вы их преодолели?\n",
    "\n",
    "Сделал для себя важный вывод - не бросаться резать данные при первой неудачной модели.\n",
    "\n",
    "- Какие ключевые шаги в решении задачи выделили?\n",
    "\n",
    "правильная подготовка данных - как переварить несколько строк таблицы, описывающих 1 ключ в одну строку. пожалуй в остальное было аналогично проектным работам в процессе обучения.\n",
    "\n",
    "- Какая ваша итоговая модель и какое у неё качество?\n",
    "\n",
    "Catboost regressor ('depth': 7, 'iterations': 1000)\n",
    "\n",
    "mae = 5.68984747728976\n",
    "\n",
    "переводя на человеческий - Модель способна предсказать конечную температуру процесса с средней абсолютной погрешностью в 5,68 Градуса Цельсия (Кельвина)"
   ]
  }
 ],
 "metadata": {
  "ExecuteTimeLog": [
   {
    "duration": 770,
    "start_time": "2023-01-05T12:12:43.801Z"
   },
   {
    "duration": 5,
    "start_time": "2023-01-05T12:12:50.484Z"
   },
   {
    "duration": 4,
    "start_time": "2023-01-05T12:13:34.972Z"
   },
   {
    "duration": 413,
    "start_time": "2023-01-05T12:14:09.556Z"
   },
   {
    "duration": 17,
    "start_time": "2023-01-05T12:14:15.146Z"
   },
   {
    "duration": 13,
    "start_time": "2023-01-05T12:14:22.945Z"
   },
   {
    "duration": 18,
    "start_time": "2023-01-05T12:14:29.699Z"
   },
   {
    "duration": 18,
    "start_time": "2023-01-05T12:14:35.345Z"
   },
   {
    "duration": 31,
    "start_time": "2023-01-05T12:14:51.550Z"
   },
   {
    "duration": 15,
    "start_time": "2023-01-05T12:15:01.151Z"
   },
   {
    "duration": 48,
    "start_time": "2023-01-05T12:15:10.770Z"
   },
   {
    "duration": 9,
    "start_time": "2023-01-05T12:15:25.565Z"
   },
   {
    "duration": 11,
    "start_time": "2023-01-05T12:15:31.008Z"
   },
   {
    "duration": 14,
    "start_time": "2023-01-05T12:15:36.397Z"
   },
   {
    "duration": 10,
    "start_time": "2023-01-05T12:15:43.102Z"
   },
   {
    "duration": 10,
    "start_time": "2023-01-05T12:15:48.321Z"
   },
   {
    "duration": 14,
    "start_time": "2023-01-05T12:15:53.927Z"
   },
   {
    "duration": 49,
    "start_time": "2023-01-05T12:17:12.257Z"
   },
   {
    "duration": 13,
    "start_time": "2023-01-05T12:17:26.389Z"
   },
   {
    "duration": 10,
    "start_time": "2023-01-05T12:17:31.661Z"
   },
   {
    "duration": 31,
    "start_time": "2023-01-05T12:17:36.268Z"
   },
   {
    "duration": 13,
    "start_time": "2023-01-05T12:17:42.707Z"
   },
   {
    "duration": 11,
    "start_time": "2023-01-05T12:18:02.221Z"
   },
   {
    "duration": 12,
    "start_time": "2023-01-05T12:18:08.178Z"
   },
   {
    "duration": 44,
    "start_time": "2023-01-05T12:18:16.781Z"
   },
   {
    "duration": 11,
    "start_time": "2023-01-05T12:18:38.563Z"
   },
   {
    "duration": 8,
    "start_time": "2023-01-05T12:19:01.206Z"
   },
   {
    "duration": 5,
    "start_time": "2023-01-05T12:21:33.080Z"
   },
   {
    "duration": 167,
    "start_time": "2023-01-05T12:21:42.190Z"
   },
   {
    "duration": 13,
    "start_time": "2023-01-05T12:23:29.284Z"
   },
   {
    "duration": 4,
    "start_time": "2023-01-05T12:24:36.900Z"
   },
   {
    "duration": 12,
    "start_time": "2023-01-05T12:24:56.648Z"
   },
   {
    "duration": 10,
    "start_time": "2023-01-05T12:25:06.923Z"
   },
   {
    "duration": 9,
    "start_time": "2023-01-05T12:25:21.151Z"
   },
   {
    "duration": 13,
    "start_time": "2023-01-05T12:25:28.012Z"
   },
   {
    "duration": 10,
    "start_time": "2023-01-05T12:26:36.639Z"
   },
   {
    "duration": 5,
    "start_time": "2023-01-05T12:26:42.873Z"
   },
   {
    "duration": 12,
    "start_time": "2023-01-05T12:26:49.776Z"
   },
   {
    "duration": 50,
    "start_time": "2023-01-05T12:26:56.152Z"
   },
   {
    "duration": 10,
    "start_time": "2023-01-05T12:27:05.778Z"
   },
   {
    "duration": 4,
    "start_time": "2023-01-05T12:27:22.675Z"
   },
   {
    "duration": 5,
    "start_time": "2023-01-05T12:27:30.497Z"
   },
   {
    "duration": 7,
    "start_time": "2023-01-05T12:27:35.364Z"
   },
   {
    "duration": 4,
    "start_time": "2023-01-05T12:27:42.107Z"
   },
   {
    "duration": 22,
    "start_time": "2023-01-05T12:27:47.711Z"
   },
   {
    "duration": 14,
    "start_time": "2023-01-05T12:28:10.036Z"
   },
   {
    "duration": 3,
    "start_time": "2023-01-05T12:28:16.545Z"
   },
   {
    "duration": 12,
    "start_time": "2023-01-05T12:28:24.659Z"
   },
   {
    "duration": 77,
    "start_time": "2023-01-05T12:28:31.285Z"
   },
   {
    "duration": 11,
    "start_time": "2023-01-05T12:28:39.071Z"
   },
   {
    "duration": 44,
    "start_time": "2023-01-05T12:28:46.576Z"
   },
   {
    "duration": 15,
    "start_time": "2023-01-05T12:28:58.412Z"
   },
   {
    "duration": 5,
    "start_time": "2023-01-05T12:29:04.442Z"
   },
   {
    "duration": 3,
    "start_time": "2023-01-05T12:29:12.452Z"
   },
   {
    "duration": 12,
    "start_time": "2023-01-05T12:30:17.989Z"
   },
   {
    "duration": 19,
    "start_time": "2023-01-05T12:31:13.300Z"
   },
   {
    "duration": 10,
    "start_time": "2023-01-05T12:31:21.286Z"
   },
   {
    "duration": 274,
    "start_time": "2023-01-05T12:31:27.464Z"
   },
   {
    "duration": 254,
    "start_time": "2023-01-05T12:31:33.562Z"
   },
   {
    "duration": 3,
    "start_time": "2023-01-05T12:54:11.982Z"
   },
   {
    "duration": 3,
    "start_time": "2023-01-05T12:54:23.091Z"
   },
   {
    "duration": 4,
    "start_time": "2023-01-05T12:54:33.950Z"
   },
   {
    "duration": 4,
    "start_time": "2023-01-05T12:54:40.380Z"
   },
   {
    "duration": 332,
    "start_time": "2023-01-05T13:02:14.671Z"
   },
   {
    "duration": 348,
    "start_time": "2023-01-05T13:03:30.152Z"
   },
   {
    "duration": 126,
    "start_time": "2023-01-05T13:04:04.471Z"
   },
   {
    "duration": 271,
    "start_time": "2023-01-05T13:04:23.088Z"
   },
   {
    "duration": 597,
    "start_time": "2023-01-05T13:05:19.656Z"
   },
   {
    "duration": 5,
    "start_time": "2023-01-05T13:05:20.256Z"
   },
   {
    "duration": 192,
    "start_time": "2023-01-05T13:05:20.263Z"
   },
   {
    "duration": 18,
    "start_time": "2023-01-05T13:05:20.459Z"
   },
   {
    "duration": 16,
    "start_time": "2023-01-05T13:05:20.478Z"
   },
   {
    "duration": 18,
    "start_time": "2023-01-05T13:05:20.496Z"
   },
   {
    "duration": 10,
    "start_time": "2023-01-05T13:05:20.516Z"
   },
   {
    "duration": 22,
    "start_time": "2023-01-05T13:05:20.528Z"
   },
   {
    "duration": 13,
    "start_time": "2023-01-05T13:05:20.551Z"
   },
   {
    "duration": 78,
    "start_time": "2023-01-05T13:05:20.567Z"
   },
   {
    "duration": 9,
    "start_time": "2023-01-05T13:05:20.647Z"
   },
   {
    "duration": 12,
    "start_time": "2023-01-05T13:05:20.657Z"
   },
   {
    "duration": 13,
    "start_time": "2023-01-05T13:05:20.671Z"
   },
   {
    "duration": 37,
    "start_time": "2023-01-05T13:05:20.685Z"
   },
   {
    "duration": 17,
    "start_time": "2023-01-05T13:05:20.723Z"
   },
   {
    "duration": 25,
    "start_time": "2023-01-05T13:05:20.742Z"
   },
   {
    "duration": 14,
    "start_time": "2023-01-05T13:05:20.770Z"
   },
   {
    "duration": 13,
    "start_time": "2023-01-05T13:05:20.785Z"
   },
   {
    "duration": 68,
    "start_time": "2023-01-05T13:05:20.800Z"
   },
   {
    "duration": 16,
    "start_time": "2023-01-05T13:05:20.869Z"
   },
   {
    "duration": 34,
    "start_time": "2023-01-05T13:05:20.888Z"
   },
   {
    "duration": 29,
    "start_time": "2023-01-05T13:05:20.925Z"
   },
   {
    "duration": 17,
    "start_time": "2023-01-05T13:05:20.956Z"
   },
   {
    "duration": 10,
    "start_time": "2023-01-05T13:05:20.976Z"
   },
   {
    "duration": 6,
    "start_time": "2023-01-05T13:05:20.988Z"
   },
   {
    "duration": 247,
    "start_time": "2023-01-05T13:05:20.997Z"
   },
   {
    "duration": 13,
    "start_time": "2023-01-05T13:05:21.246Z"
   },
   {
    "duration": 4,
    "start_time": "2023-01-05T13:05:21.262Z"
   },
   {
    "duration": 17,
    "start_time": "2023-01-05T13:05:21.267Z"
   },
   {
    "duration": 10,
    "start_time": "2023-01-05T13:05:21.285Z"
   },
   {
    "duration": 13,
    "start_time": "2023-01-05T13:05:21.321Z"
   },
   {
    "duration": 17,
    "start_time": "2023-01-05T13:05:21.336Z"
   },
   {
    "duration": 16,
    "start_time": "2023-01-05T13:05:21.355Z"
   },
   {
    "duration": 7,
    "start_time": "2023-01-05T13:05:21.373Z"
   },
   {
    "duration": 55,
    "start_time": "2023-01-05T13:05:21.381Z"
   },
   {
    "duration": 16,
    "start_time": "2023-01-05T13:05:21.438Z"
   },
   {
    "duration": 6,
    "start_time": "2023-01-05T13:05:21.456Z"
   },
   {
    "duration": 10,
    "start_time": "2023-01-05T13:05:21.463Z"
   },
   {
    "duration": 12,
    "start_time": "2023-01-05T13:05:21.475Z"
   },
   {
    "duration": 22,
    "start_time": "2023-01-05T13:05:21.489Z"
   },
   {
    "duration": 23,
    "start_time": "2023-01-05T13:05:21.522Z"
   },
   {
    "duration": 17,
    "start_time": "2023-01-05T13:05:21.547Z"
   },
   {
    "duration": 15,
    "start_time": "2023-01-05T13:05:21.565Z"
   },
   {
    "duration": 16,
    "start_time": "2023-01-05T13:05:21.583Z"
   },
   {
    "duration": 21,
    "start_time": "2023-01-05T13:05:21.601Z"
   },
   {
    "duration": 21,
    "start_time": "2023-01-05T13:05:21.623Z"
   },
   {
    "duration": 5,
    "start_time": "2023-01-05T13:05:21.645Z"
   },
   {
    "duration": 6,
    "start_time": "2023-01-05T13:05:21.652Z"
   },
   {
    "duration": 19,
    "start_time": "2023-01-05T13:05:21.659Z"
   },
   {
    "duration": 42,
    "start_time": "2023-01-05T13:05:21.680Z"
   },
   {
    "duration": 10,
    "start_time": "2023-01-05T13:05:21.724Z"
   },
   {
    "duration": 317,
    "start_time": "2023-01-05T13:05:21.736Z"
   },
   {
    "duration": 340,
    "start_time": "2023-01-05T13:05:22.054Z"
   },
   {
    "duration": 283,
    "start_time": "2023-01-05T13:08:57.871Z"
   },
   {
    "duration": 186,
    "start_time": "2023-01-05T13:34:17.566Z"
   },
   {
    "duration": 220,
    "start_time": "2023-01-05T13:34:27.015Z"
   },
   {
    "duration": 60,
    "start_time": "2023-01-05T13:34:44.463Z"
   },
   {
    "duration": 232,
    "start_time": "2023-01-05T13:34:54.207Z"
   },
   {
    "duration": 223,
    "start_time": "2023-01-05T13:36:11.758Z"
   },
   {
    "duration": 27,
    "start_time": "2023-01-05T13:42:26.422Z"
   },
   {
    "duration": 4,
    "start_time": "2023-01-05T13:46:15.484Z"
   },
   {
    "duration": 18,
    "start_time": "2023-01-05T13:47:49.846Z"
   },
   {
    "duration": 18,
    "start_time": "2023-01-05T13:47:59.035Z"
   },
   {
    "duration": 38,
    "start_time": "2023-01-05T13:49:18.358Z"
   },
   {
    "duration": 116,
    "start_time": "2023-01-05T13:49:30.316Z"
   },
   {
    "duration": 15,
    "start_time": "2023-01-05T13:50:17.637Z"
   },
   {
    "duration": 75,
    "start_time": "2023-01-05T13:50:29.026Z"
   },
   {
    "duration": 101,
    "start_time": "2023-01-05T13:51:31.682Z"
   },
   {
    "duration": 102,
    "start_time": "2023-01-05T13:51:56.731Z"
   },
   {
    "duration": 95,
    "start_time": "2023-01-05T13:55:41.332Z"
   },
   {
    "duration": 100,
    "start_time": "2023-01-05T13:55:51.213Z"
   },
   {
    "duration": 742,
    "start_time": "2023-01-05T17:54:46.791Z"
   },
   {
    "duration": 4,
    "start_time": "2023-01-05T17:54:47.535Z"
   },
   {
    "duration": 675,
    "start_time": "2023-01-05T17:54:47.540Z"
   },
   {
    "duration": 15,
    "start_time": "2023-01-05T17:54:48.216Z"
   },
   {
    "duration": 12,
    "start_time": "2023-01-05T17:54:48.233Z"
   },
   {
    "duration": 17,
    "start_time": "2023-01-05T17:54:48.246Z"
   },
   {
    "duration": 9,
    "start_time": "2023-01-05T17:54:48.264Z"
   },
   {
    "duration": 41,
    "start_time": "2023-01-05T17:54:48.274Z"
   },
   {
    "duration": 14,
    "start_time": "2023-01-05T17:54:48.317Z"
   },
   {
    "duration": 47,
    "start_time": "2023-01-05T17:54:48.332Z"
   },
   {
    "duration": 7,
    "start_time": "2023-01-05T17:54:48.381Z"
   },
   {
    "duration": 10,
    "start_time": "2023-01-05T17:54:48.390Z"
   },
   {
    "duration": 13,
    "start_time": "2023-01-05T17:54:48.413Z"
   },
   {
    "duration": 9,
    "start_time": "2023-01-05T17:54:48.428Z"
   },
   {
    "duration": 11,
    "start_time": "2023-01-05T17:54:48.439Z"
   },
   {
    "duration": 14,
    "start_time": "2023-01-05T17:54:48.451Z"
   },
   {
    "duration": 16,
    "start_time": "2023-01-05T17:54:48.466Z"
   },
   {
    "duration": 32,
    "start_time": "2023-01-05T17:54:48.484Z"
   },
   {
    "duration": 31,
    "start_time": "2023-01-05T17:54:48.518Z"
   },
   {
    "duration": 12,
    "start_time": "2023-01-05T17:54:48.551Z"
   },
   {
    "duration": 10,
    "start_time": "2023-01-05T17:54:48.565Z"
   },
   {
    "duration": 40,
    "start_time": "2023-01-05T17:54:48.576Z"
   },
   {
    "duration": 11,
    "start_time": "2023-01-05T17:54:48.618Z"
   },
   {
    "duration": 10,
    "start_time": "2023-01-05T17:54:48.631Z"
   },
   {
    "duration": 5,
    "start_time": "2023-01-05T17:54:48.643Z"
   },
   {
    "duration": 160,
    "start_time": "2023-01-05T17:54:48.649Z"
   },
   {
    "duration": 14,
    "start_time": "2023-01-05T17:54:48.810Z"
   },
   {
    "duration": 3,
    "start_time": "2023-01-05T17:54:48.826Z"
   },
   {
    "duration": 14,
    "start_time": "2023-01-05T17:54:48.831Z"
   },
   {
    "duration": 10,
    "start_time": "2023-01-05T17:54:48.846Z"
   },
   {
    "duration": 9,
    "start_time": "2023-01-05T17:54:48.857Z"
   },
   {
    "duration": 45,
    "start_time": "2023-01-05T17:54:48.867Z"
   },
   {
    "duration": 12,
    "start_time": "2023-01-05T17:54:48.914Z"
   },
   {
    "duration": 8,
    "start_time": "2023-01-05T17:54:48.927Z"
   },
   {
    "duration": 26,
    "start_time": "2023-01-05T17:54:48.936Z"
   },
   {
    "duration": 13,
    "start_time": "2023-01-05T17:54:48.964Z"
   },
   {
    "duration": 4,
    "start_time": "2023-01-05T17:54:48.978Z"
   },
   {
    "duration": 8,
    "start_time": "2023-01-05T17:54:48.983Z"
   },
   {
    "duration": 6,
    "start_time": "2023-01-05T17:54:48.993Z"
   },
   {
    "duration": 4,
    "start_time": "2023-01-05T17:54:49.013Z"
   },
   {
    "duration": 16,
    "start_time": "2023-01-05T17:54:49.020Z"
   },
   {
    "duration": 14,
    "start_time": "2023-01-05T17:54:49.037Z"
   },
   {
    "duration": 4,
    "start_time": "2023-01-05T17:54:49.052Z"
   },
   {
    "duration": 16,
    "start_time": "2023-01-05T17:54:49.057Z"
   },
   {
    "duration": 40,
    "start_time": "2023-01-05T17:54:49.074Z"
   },
   {
    "duration": 16,
    "start_time": "2023-01-05T17:54:49.115Z"
   },
   {
    "duration": 4,
    "start_time": "2023-01-05T17:54:49.133Z"
   },
   {
    "duration": 13,
    "start_time": "2023-01-05T17:54:49.139Z"
   },
   {
    "duration": 14,
    "start_time": "2023-01-05T17:54:49.153Z"
   },
   {
    "duration": 20,
    "start_time": "2023-01-05T17:54:49.169Z"
   },
   {
    "duration": 23,
    "start_time": "2023-01-05T17:54:49.190Z"
   },
   {
    "duration": 288,
    "start_time": "2023-01-05T17:54:49.214Z"
   },
   {
    "duration": 310,
    "start_time": "2023-01-05T17:54:49.503Z"
   },
   {
    "duration": 200,
    "start_time": "2023-01-05T17:54:49.814Z"
   },
   {
    "duration": 21,
    "start_time": "2023-01-05T17:54:50.016Z"
   },
   {
    "duration": 8,
    "start_time": "2023-01-05T17:54:50.038Z"
   },
   {
    "duration": 18,
    "start_time": "2023-01-05T17:54:50.047Z"
   },
   {
    "duration": 16,
    "start_time": "2023-01-05T17:54:50.066Z"
   },
   {
    "duration": 114,
    "start_time": "2023-01-05T17:54:50.083Z"
   },
   {
    "duration": 130,
    "start_time": "2023-01-05T17:54:50.199Z"
   },
   {
    "duration": 67,
    "start_time": "2023-01-05T17:54:50.331Z"
   },
   {
    "duration": 26,
    "start_time": "2023-01-05T17:54:50.399Z"
   },
   {
    "duration": 69,
    "start_time": "2023-01-05T17:54:50.427Z"
   },
   {
    "duration": 2,
    "start_time": "2023-01-05T18:08:21.219Z"
   },
   {
    "duration": 136,
    "start_time": "2023-01-05T18:08:22.002Z"
   },
   {
    "duration": 11,
    "start_time": "2023-01-05T18:08:27.166Z"
   },
   {
    "duration": 66,
    "start_time": "2023-01-05T18:26:59.264Z"
   },
   {
    "duration": 415,
    "start_time": "2023-01-05T18:46:36.176Z"
   },
   {
    "duration": 340,
    "start_time": "2023-01-05T18:48:18.718Z"
   },
   {
    "duration": 160,
    "start_time": "2023-01-05T18:49:37.967Z"
   },
   {
    "duration": 6,
    "start_time": "2023-01-05T18:50:39.303Z"
   },
   {
    "duration": 6,
    "start_time": "2023-01-05T18:51:15.733Z"
   },
   {
    "duration": 3,
    "start_time": "2023-01-05T18:51:29.505Z"
   },
   {
    "duration": 4,
    "start_time": "2023-01-05T18:51:51.610Z"
   },
   {
    "duration": 5,
    "start_time": "2023-01-05T18:52:12.428Z"
   },
   {
    "duration": 152,
    "start_time": "2023-01-05T18:52:50.934Z"
   },
   {
    "duration": 194,
    "start_time": "2023-01-05T18:53:43.891Z"
   },
   {
    "duration": 19,
    "start_time": "2023-01-05T19:08:23.239Z"
   },
   {
    "duration": 54,
    "start_time": "2023-01-05T20:03:12.446Z"
   },
   {
    "duration": 207411,
    "start_time": "2023-01-05T20:05:15.950Z"
   },
   {
    "duration": 11,
    "start_time": "2023-01-05T20:11:29.465Z"
   },
   {
    "duration": 53,
    "start_time": "2023-01-05T20:11:40.279Z"
   },
   {
    "duration": 458,
    "start_time": "2023-01-05T20:13:18.949Z"
   },
   {
    "duration": 841,
    "start_time": "2023-01-05T20:16:55.150Z"
   },
   {
    "duration": 818,
    "start_time": "2023-01-05T20:17:06.254Z"
   },
   {
    "duration": 828,
    "start_time": "2023-01-05T20:17:20.552Z"
   },
   {
    "duration": 76,
    "start_time": "2023-01-05T20:23:26.614Z"
   },
   {
    "duration": 70,
    "start_time": "2023-01-05T20:32:28.652Z"
   },
   {
    "duration": 1093,
    "start_time": "2023-01-06T18:25:22.239Z"
   },
   {
    "duration": 5,
    "start_time": "2023-01-06T18:25:23.334Z"
   },
   {
    "duration": 478,
    "start_time": "2023-01-06T18:25:23.708Z"
   },
   {
    "duration": 13,
    "start_time": "2023-01-06T18:28:22.272Z"
   },
   {
    "duration": 12,
    "start_time": "2023-01-06T18:28:22.925Z"
   },
   {
    "duration": 18,
    "start_time": "2023-01-06T18:28:23.410Z"
   },
   {
    "duration": 11,
    "start_time": "2023-01-06T18:28:24.062Z"
   },
   {
    "duration": 20,
    "start_time": "2023-01-06T18:28:24.612Z"
   },
   {
    "duration": 11,
    "start_time": "2023-01-06T18:28:26.590Z"
   },
   {
    "duration": 57,
    "start_time": "2023-01-06T18:28:27.057Z"
   },
   {
    "duration": 12,
    "start_time": "2023-01-06T18:28:27.296Z"
   },
   {
    "duration": 10,
    "start_time": "2023-01-06T18:28:27.533Z"
   },
   {
    "duration": 22,
    "start_time": "2023-01-06T18:28:27.883Z"
   },
   {
    "duration": 11,
    "start_time": "2023-01-06T18:28:28.057Z"
   },
   {
    "duration": 11,
    "start_time": "2023-01-06T18:28:28.438Z"
   },
   {
    "duration": 14,
    "start_time": "2023-01-06T18:28:28.619Z"
   },
   {
    "duration": 24,
    "start_time": "2023-01-06T18:28:29.186Z"
   },
   {
    "duration": 9,
    "start_time": "2023-01-06T18:28:29.480Z"
   },
   {
    "duration": 34,
    "start_time": "2023-01-06T18:28:29.822Z"
   },
   {
    "duration": 12,
    "start_time": "2023-01-06T18:28:30.156Z"
   },
   {
    "duration": 11,
    "start_time": "2023-01-06T18:28:30.359Z"
   },
   {
    "duration": 11,
    "start_time": "2023-01-06T18:28:30.711Z"
   },
   {
    "duration": 20,
    "start_time": "2023-01-06T18:28:33.290Z"
   },
   {
    "duration": 6,
    "start_time": "2023-01-06T18:28:33.512Z"
   },
   {
    "duration": 12,
    "start_time": "2023-01-06T18:29:10.834Z"
   },
   {
    "duration": 7,
    "start_time": "2023-01-06T18:29:14.178Z"
   },
   {
    "duration": 5,
    "start_time": "2023-01-06T18:29:21.262Z"
   },
   {
    "duration": 165,
    "start_time": "2023-01-06T18:29:22.307Z"
   },
   {
    "duration": 15,
    "start_time": "2023-01-06T18:29:55.450Z"
   },
   {
    "duration": 5,
    "start_time": "2023-01-06T18:30:06.395Z"
   },
   {
    "duration": 11,
    "start_time": "2023-01-06T18:30:49.611Z"
   },
   {
    "duration": 10,
    "start_time": "2023-01-06T18:30:50.225Z"
   },
   {
    "duration": 10,
    "start_time": "2023-01-06T18:30:51.471Z"
   },
   {
    "duration": 13,
    "start_time": "2023-01-06T18:30:52.156Z"
   },
   {
    "duration": 10,
    "start_time": "2023-01-06T18:30:58.252Z"
   },
   {
    "duration": 6,
    "start_time": "2023-01-06T18:31:03.903Z"
   },
   {
    "duration": 15,
    "start_time": "2023-01-06T18:31:18.093Z"
   },
   {
    "duration": 11,
    "start_time": "2023-01-06T18:31:28.273Z"
   },
   {
    "duration": 5,
    "start_time": "2023-01-06T18:31:28.670Z"
   },
   {
    "duration": 4,
    "start_time": "2023-01-06T18:31:28.859Z"
   },
   {
    "duration": 6,
    "start_time": "2023-01-06T18:31:29.268Z"
   },
   {
    "duration": 4,
    "start_time": "2023-01-06T18:31:29.932Z"
   },
   {
    "duration": 15,
    "start_time": "2023-01-06T18:31:31.911Z"
   },
   {
    "duration": 14,
    "start_time": "2023-01-06T18:31:47.809Z"
   },
   {
    "duration": 5,
    "start_time": "2023-01-06T18:31:49.084Z"
   },
   {
    "duration": 13,
    "start_time": "2023-01-06T18:31:50.611Z"
   },
   {
    "duration": 10,
    "start_time": "2023-01-06T18:32:15.315Z"
   },
   {
    "duration": 16,
    "start_time": "2023-01-06T18:32:17.124Z"
   },
   {
    "duration": 4,
    "start_time": "2023-01-06T18:32:18.269Z"
   },
   {
    "duration": 7,
    "start_time": "2023-01-06T18:32:20.294Z"
   },
   {
    "duration": 15,
    "start_time": "2023-01-06T18:32:22.311Z"
   },
   {
    "duration": 19,
    "start_time": "2023-01-06T18:32:42.442Z"
   },
   {
    "duration": 9,
    "start_time": "2023-01-06T18:32:43.120Z"
   },
   {
    "duration": 366,
    "start_time": "2023-01-06T18:32:44.419Z"
   },
   {
    "duration": 324,
    "start_time": "2023-01-06T18:32:44.788Z"
   },
   {
    "duration": 243,
    "start_time": "2023-01-06T18:32:45.847Z"
   },
   {
    "duration": 29,
    "start_time": "2023-01-06T18:33:04.392Z"
   },
   {
    "duration": 9,
    "start_time": "2023-01-06T18:33:24.352Z"
   },
   {
    "duration": 20,
    "start_time": "2023-01-06T18:33:25.690Z"
   },
   {
    "duration": 18,
    "start_time": "2023-01-06T18:33:26.227Z"
   },
   {
    "duration": 110,
    "start_time": "2023-01-06T18:33:27.666Z"
   },
   {
    "duration": 170,
    "start_time": "2023-01-06T18:33:28.420Z"
   },
   {
    "duration": 54,
    "start_time": "2023-01-06T18:34:08.164Z"
   },
   {
    "duration": 1320,
    "start_time": "2023-01-07T08:11:43.825Z"
   },
   {
    "duration": 6,
    "start_time": "2023-01-07T08:11:45.147Z"
   },
   {
    "duration": 433,
    "start_time": "2023-01-07T08:11:45.155Z"
   },
   {
    "duration": 14,
    "start_time": "2023-01-07T08:11:45.591Z"
   },
   {
    "duration": 13,
    "start_time": "2023-01-07T08:11:45.606Z"
   },
   {
    "duration": 24,
    "start_time": "2023-01-07T08:11:45.621Z"
   },
   {
    "duration": 12,
    "start_time": "2023-01-07T08:11:45.647Z"
   },
   {
    "duration": 51,
    "start_time": "2023-01-07T08:11:45.661Z"
   },
   {
    "duration": 12,
    "start_time": "2023-01-07T08:11:45.714Z"
   },
   {
    "duration": 53,
    "start_time": "2023-01-07T08:11:45.728Z"
   },
   {
    "duration": 31,
    "start_time": "2023-01-07T08:11:45.783Z"
   },
   {
    "duration": 11,
    "start_time": "2023-01-07T08:11:45.816Z"
   },
   {
    "duration": 14,
    "start_time": "2023-01-07T08:11:45.829Z"
   },
   {
    "duration": 10,
    "start_time": "2023-01-07T08:11:45.845Z"
   },
   {
    "duration": 14,
    "start_time": "2023-01-07T08:11:45.857Z"
   },
   {
    "duration": 49,
    "start_time": "2023-01-07T08:11:45.873Z"
   },
   {
    "duration": 16,
    "start_time": "2023-01-07T08:11:45.923Z"
   },
   {
    "duration": 12,
    "start_time": "2023-01-07T08:11:45.941Z"
   },
   {
    "duration": 65,
    "start_time": "2023-01-07T08:11:45.955Z"
   },
   {
    "duration": 16,
    "start_time": "2023-01-07T08:11:46.022Z"
   },
   {
    "duration": 12,
    "start_time": "2023-01-07T08:11:46.040Z"
   },
   {
    "duration": 22,
    "start_time": "2023-01-07T08:11:46.054Z"
   },
   {
    "duration": 35,
    "start_time": "2023-01-07T08:11:46.078Z"
   },
   {
    "duration": 9,
    "start_time": "2023-01-07T08:11:46.115Z"
   },
   {
    "duration": 9,
    "start_time": "2023-01-07T08:11:46.125Z"
   },
   {
    "duration": 237,
    "start_time": "2023-01-07T08:11:46.136Z"
   },
   {
    "duration": 18,
    "start_time": "2023-01-07T08:11:46.375Z"
   },
   {
    "duration": 17,
    "start_time": "2023-01-07T08:11:46.397Z"
   },
   {
    "duration": 30,
    "start_time": "2023-01-07T08:11:46.416Z"
   },
   {
    "duration": 13,
    "start_time": "2023-01-07T08:11:46.448Z"
   },
   {
    "duration": 19,
    "start_time": "2023-01-07T08:11:46.463Z"
   },
   {
    "duration": 10,
    "start_time": "2023-01-07T08:11:51.751Z"
   },
   {
    "duration": 15,
    "start_time": "2023-01-07T08:11:55.823Z"
   },
   {
    "duration": 14,
    "start_time": "2023-01-07T08:12:24.810Z"
   },
   {
    "duration": 153,
    "start_time": "2023-01-07T08:13:13.528Z"
   },
   {
    "duration": 142,
    "start_time": "2023-01-07T08:13:51.313Z"
   },
   {
    "duration": 8,
    "start_time": "2023-01-07T08:17:29.339Z"
   },
   {
    "duration": 137,
    "start_time": "2023-01-07T08:17:37.454Z"
   },
   {
    "duration": 5,
    "start_time": "2023-01-07T08:20:45.292Z"
   },
   {
    "duration": 20,
    "start_time": "2023-01-07T08:20:46.630Z"
   },
   {
    "duration": 10,
    "start_time": "2023-01-07T08:20:51.140Z"
   },
   {
    "duration": 5,
    "start_time": "2023-01-07T08:20:52.156Z"
   },
   {
    "duration": 5,
    "start_time": "2023-01-07T08:20:52.504Z"
   },
   {
    "duration": 6,
    "start_time": "2023-01-07T08:20:53.190Z"
   },
   {
    "duration": 4,
    "start_time": "2023-01-07T08:20:56.038Z"
   },
   {
    "duration": 21,
    "start_time": "2023-01-07T08:20:56.479Z"
   },
   {
    "duration": 19,
    "start_time": "2023-01-07T08:21:18.152Z"
   },
   {
    "duration": 4,
    "start_time": "2023-01-07T08:21:18.441Z"
   },
   {
    "duration": 19,
    "start_time": "2023-01-07T08:21:18.892Z"
   },
   {
    "duration": 10,
    "start_time": "2023-01-07T08:21:29.554Z"
   },
   {
    "duration": 18,
    "start_time": "2023-01-07T08:22:10.477Z"
   },
   {
    "duration": 5,
    "start_time": "2023-01-07T08:22:12.057Z"
   },
   {
    "duration": 3,
    "start_time": "2023-01-07T08:22:14.783Z"
   },
   {
    "duration": 15,
    "start_time": "2023-01-07T08:22:15.408Z"
   },
   {
    "duration": 26,
    "start_time": "2023-01-07T08:22:19.692Z"
   },
   {
    "duration": 11,
    "start_time": "2023-01-07T08:22:20.666Z"
   },
   {
    "duration": 299,
    "start_time": "2023-01-07T08:22:21.524Z"
   },
   {
    "duration": 289,
    "start_time": "2023-01-07T08:22:21.894Z"
   },
   {
    "duration": 304,
    "start_time": "2023-01-07T08:22:22.612Z"
   },
   {
    "duration": 24,
    "start_time": "2023-01-07T08:22:32.094Z"
   },
   {
    "duration": 10,
    "start_time": "2023-01-07T08:22:42.528Z"
   },
   {
    "duration": 19,
    "start_time": "2023-01-07T08:22:43.796Z"
   },
   {
    "duration": 19,
    "start_time": "2023-01-07T08:22:44.495Z"
   },
   {
    "duration": 119,
    "start_time": "2023-01-07T08:22:45.905Z"
   },
   {
    "duration": 117,
    "start_time": "2023-01-07T08:22:47.830Z"
   },
   {
    "duration": 50,
    "start_time": "2023-01-07T08:25:43.645Z"
   },
   {
    "duration": 15,
    "start_time": "2023-01-07T08:26:00.267Z"
   },
   {
    "duration": 95,
    "start_time": "2023-01-07T08:26:09.308Z"
   },
   {
    "duration": 21,
    "start_time": "2023-01-07T08:26:36.241Z"
   },
   {
    "duration": 244388,
    "start_time": "2023-01-07T08:26:43.336Z"
   },
   {
    "duration": 41,
    "start_time": "2023-01-07T08:39:42.809Z"
   },
   {
    "duration": 969,
    "start_time": "2023-01-07T08:39:47.053Z"
   },
   {
    "duration": 264,
    "start_time": "2023-01-07T08:41:57.562Z"
   },
   {
    "duration": 31,
    "start_time": "2023-01-07T08:42:03.370Z"
   },
   {
    "duration": 10,
    "start_time": "2023-01-07T08:42:04.395Z"
   },
   {
    "duration": 19,
    "start_time": "2023-01-07T08:42:05.273Z"
   },
   {
    "duration": 19,
    "start_time": "2023-01-07T08:42:05.783Z"
   },
   {
    "duration": 142,
    "start_time": "2023-01-07T08:42:07.152Z"
   },
   {
    "duration": 186,
    "start_time": "2023-01-07T08:42:09.114Z"
   },
   {
    "duration": 45,
    "start_time": "2023-01-07T08:42:11.110Z"
   },
   {
    "duration": 13,
    "start_time": "2023-01-07T08:42:20.690Z"
   },
   {
    "duration": 102,
    "start_time": "2023-01-07T08:42:49.048Z"
   },
   {
    "duration": 832,
    "start_time": "2023-01-07T08:42:50.464Z"
   },
   {
    "duration": 12,
    "start_time": "2023-01-07T08:42:52.374Z"
   },
   {
    "duration": 18,
    "start_time": "2023-01-07T08:43:08.884Z"
   },
   {
    "duration": 386546,
    "start_time": "2023-01-07T08:43:10.895Z"
   },
   {
    "duration": 77,
    "start_time": "2023-01-07T08:49:37.444Z"
   },
   {
    "duration": 1045,
    "start_time": "2023-01-07T08:49:37.523Z"
   },
   {
    "duration": 47,
    "start_time": "2023-01-08T08:40:55.527Z"
   },
   {
    "duration": 1319,
    "start_time": "2023-01-08T09:47:16.055Z"
   },
   {
    "duration": 5,
    "start_time": "2023-01-08T09:47:17.376Z"
   },
   {
    "duration": 446,
    "start_time": "2023-01-08T09:47:17.383Z"
   },
   {
    "duration": 14,
    "start_time": "2023-01-08T09:47:17.830Z"
   },
   {
    "duration": 11,
    "start_time": "2023-01-08T09:47:17.846Z"
   },
   {
    "duration": 17,
    "start_time": "2023-01-08T09:47:17.858Z"
   },
   {
    "duration": 9,
    "start_time": "2023-01-08T09:47:17.877Z"
   },
   {
    "duration": 37,
    "start_time": "2023-01-08T09:47:17.887Z"
   },
   {
    "duration": 10,
    "start_time": "2023-01-08T09:47:17.925Z"
   },
   {
    "duration": 54,
    "start_time": "2023-01-08T09:47:17.937Z"
   },
   {
    "duration": 9,
    "start_time": "2023-01-08T09:47:17.993Z"
   },
   {
    "duration": 11,
    "start_time": "2023-01-08T09:47:18.020Z"
   },
   {
    "duration": 21,
    "start_time": "2023-01-08T09:47:18.033Z"
   },
   {
    "duration": 20,
    "start_time": "2023-01-08T09:47:18.056Z"
   },
   {
    "duration": 22,
    "start_time": "2023-01-08T09:47:18.078Z"
   },
   {
    "duration": 23,
    "start_time": "2023-01-08T09:47:18.102Z"
   },
   {
    "duration": 17,
    "start_time": "2023-01-08T09:47:18.127Z"
   },
   {
    "duration": 24,
    "start_time": "2023-01-08T09:47:18.146Z"
   },
   {
    "duration": 40,
    "start_time": "2023-01-08T09:47:18.172Z"
   },
   {
    "duration": 14,
    "start_time": "2023-01-08T09:47:18.214Z"
   },
   {
    "duration": 27,
    "start_time": "2023-01-08T09:47:18.229Z"
   },
   {
    "duration": 23,
    "start_time": "2023-01-08T09:47:18.258Z"
   },
   {
    "duration": 10,
    "start_time": "2023-01-08T09:47:18.282Z"
   },
   {
    "duration": 16,
    "start_time": "2023-01-08T09:47:18.294Z"
   },
   {
    "duration": 5,
    "start_time": "2023-01-08T09:47:18.311Z"
   },
   {
    "duration": 168,
    "start_time": "2023-01-08T09:47:18.318Z"
   },
   {
    "duration": 14,
    "start_time": "2023-01-08T09:47:18.488Z"
   },
   {
    "duration": 3,
    "start_time": "2023-01-08T09:47:18.503Z"
   },
   {
    "duration": 23,
    "start_time": "2023-01-08T09:47:18.508Z"
   },
   {
    "duration": 11,
    "start_time": "2023-01-08T09:47:18.532Z"
   },
   {
    "duration": 11,
    "start_time": "2023-01-08T09:47:18.544Z"
   },
   {
    "duration": 21,
    "start_time": "2023-01-08T09:47:18.557Z"
   },
   {
    "duration": 11,
    "start_time": "2023-01-08T09:47:18.580Z"
   },
   {
    "duration": 168,
    "start_time": "2023-01-08T09:47:18.593Z"
   },
   {
    "duration": 6,
    "start_time": "2023-01-08T09:47:18.763Z"
   },
   {
    "duration": 155,
    "start_time": "2023-01-08T09:47:18.770Z"
   },
   {
    "duration": 6,
    "start_time": "2023-01-08T09:47:18.926Z"
   },
   {
    "duration": 17,
    "start_time": "2023-01-08T09:47:18.933Z"
   },
   {
    "duration": 12,
    "start_time": "2023-01-08T09:47:18.951Z"
   },
   {
    "duration": 5,
    "start_time": "2023-01-08T09:47:18.964Z"
   },
   {
    "duration": 10,
    "start_time": "2023-01-08T09:47:18.973Z"
   },
   {
    "duration": 10,
    "start_time": "2023-01-08T09:47:18.985Z"
   },
   {
    "duration": 4,
    "start_time": "2023-01-08T09:47:19.021Z"
   },
   {
    "duration": 30,
    "start_time": "2023-01-08T09:47:19.027Z"
   },
   {
    "duration": 19,
    "start_time": "2023-01-08T09:47:19.059Z"
   },
   {
    "duration": 10,
    "start_time": "2023-01-08T09:47:19.080Z"
   },
   {
    "duration": 18,
    "start_time": "2023-01-08T09:47:19.091Z"
   },
   {
    "duration": 22,
    "start_time": "2023-01-08T09:47:19.110Z"
   },
   {
    "duration": 33,
    "start_time": "2023-01-08T09:47:19.134Z"
   },
   {
    "duration": 4,
    "start_time": "2023-01-08T09:47:19.169Z"
   },
   {
    "duration": 6,
    "start_time": "2023-01-08T09:47:19.175Z"
   },
   {
    "duration": 16,
    "start_time": "2023-01-08T09:47:19.182Z"
   },
   {
    "duration": 28,
    "start_time": "2023-01-08T09:47:19.199Z"
   },
   {
    "duration": 12,
    "start_time": "2023-01-08T09:47:19.229Z"
   },
   {
    "duration": 320,
    "start_time": "2023-01-08T09:47:19.243Z"
   },
   {
    "duration": 298,
    "start_time": "2023-01-08T09:47:19.565Z"
   },
   {
    "duration": 290,
    "start_time": "2023-01-08T09:47:19.864Z"
   },
   {
    "duration": 23,
    "start_time": "2023-01-08T09:47:20.155Z"
   },
   {
    "duration": 38,
    "start_time": "2023-01-08T09:47:20.180Z"
   },
   {
    "duration": 25,
    "start_time": "2023-01-08T09:47:20.220Z"
   },
   {
    "duration": 17,
    "start_time": "2023-01-08T09:47:20.247Z"
   },
   {
    "duration": 105,
    "start_time": "2023-01-08T09:47:20.266Z"
   },
   {
    "duration": 116,
    "start_time": "2023-01-08T09:47:20.373Z"
   },
   {
    "duration": 53,
    "start_time": "2023-01-08T09:47:20.491Z"
   },
   {
    "duration": 13,
    "start_time": "2023-01-08T09:47:20.545Z"
   },
   {
    "duration": 87,
    "start_time": "2023-01-08T09:47:20.560Z"
   },
   {
    "duration": 19,
    "start_time": "2023-01-08T09:47:20.649Z"
   },
   {
    "duration": 187656,
    "start_time": "2023-01-08T09:47:20.670Z"
   },
   {
    "duration": 70,
    "start_time": "2023-01-08T09:50:28.352Z"
   },
   {
    "duration": 988,
    "start_time": "2023-01-08T09:50:28.424Z"
   },
   {
    "duration": 4,
    "start_time": "2023-01-08T09:53:53.246Z"
   },
   {
    "duration": 96,
    "start_time": "2023-01-08T09:54:00.757Z"
   },
   {
    "duration": 9,
    "start_time": "2023-01-08T09:54:13.683Z"
   },
   {
    "duration": 15,
    "start_time": "2023-01-08T09:56:04.261Z"
   },
   {
    "duration": 34,
    "start_time": "2023-01-08T09:56:18.219Z"
   },
   {
    "duration": 6,
    "start_time": "2023-01-08T09:58:20.945Z"
   },
   {
    "duration": 7,
    "start_time": "2023-01-08T09:58:35.346Z"
   },
   {
    "duration": 4,
    "start_time": "2023-01-08T10:12:57.851Z"
   },
   {
    "duration": 8,
    "start_time": "2023-01-08T10:17:06.789Z"
   },
   {
    "duration": 210,
    "start_time": "2023-01-08T10:17:19.860Z"
   },
   {
    "duration": 6,
    "start_time": "2023-01-08T10:17:28.918Z"
   },
   {
    "duration": 19,
    "start_time": "2023-01-08T10:24:21.481Z"
   },
   {
    "duration": 3,
    "start_time": "2023-01-08T10:24:38.802Z"
   },
   {
    "duration": 26,
    "start_time": "2023-01-08T10:28:11.120Z"
   },
   {
    "duration": 9,
    "start_time": "2023-01-08T10:33:07.162Z"
   },
   {
    "duration": 11,
    "start_time": "2023-01-08T10:33:33.320Z"
   },
   {
    "duration": 5,
    "start_time": "2023-01-08T10:34:10.539Z"
   },
   {
    "duration": 7,
    "start_time": "2023-01-08T10:34:45.024Z"
   },
   {
    "duration": 6,
    "start_time": "2023-01-08T10:35:03.759Z"
   },
   {
    "duration": 10,
    "start_time": "2023-01-08T10:43:44.202Z"
   },
   {
    "duration": 13,
    "start_time": "2023-01-08T10:44:14.453Z"
   },
   {
    "duration": 7,
    "start_time": "2023-01-08T10:44:21.772Z"
   },
   {
    "duration": 60,
    "start_time": "2023-01-08T10:45:04.485Z"
   },
   {
    "duration": 11,
    "start_time": "2023-01-08T10:45:13.274Z"
   },
   {
    "duration": 35,
    "start_time": "2023-01-08T10:47:51.031Z"
   },
   {
    "duration": 4,
    "start_time": "2023-01-08T10:49:22.930Z"
   },
   {
    "duration": 19,
    "start_time": "2023-01-08T10:49:22.937Z"
   },
   {
    "duration": 183,
    "start_time": "2023-01-08T10:49:22.958Z"
   },
   {
    "duration": 14,
    "start_time": "2023-01-08T10:49:23.143Z"
   },
   {
    "duration": 10,
    "start_time": "2023-01-08T10:49:23.159Z"
   },
   {
    "duration": 18,
    "start_time": "2023-01-08T10:49:23.171Z"
   },
   {
    "duration": 9,
    "start_time": "2023-01-08T10:49:23.190Z"
   },
   {
    "duration": 41,
    "start_time": "2023-01-08T10:49:23.200Z"
   },
   {
    "duration": 17,
    "start_time": "2023-01-08T10:49:23.243Z"
   },
   {
    "duration": 47,
    "start_time": "2023-01-08T10:49:23.261Z"
   },
   {
    "duration": 10,
    "start_time": "2023-01-08T10:49:23.321Z"
   },
   {
    "duration": 12,
    "start_time": "2023-01-08T10:49:23.334Z"
   },
   {
    "duration": 25,
    "start_time": "2023-01-08T10:49:23.348Z"
   },
   {
    "duration": 15,
    "start_time": "2023-01-08T10:49:23.376Z"
   },
   {
    "duration": 13,
    "start_time": "2023-01-08T10:49:23.392Z"
   },
   {
    "duration": 31,
    "start_time": "2023-01-08T10:49:23.407Z"
   },
   {
    "duration": 23,
    "start_time": "2023-01-08T10:49:23.440Z"
   },
   {
    "duration": 13,
    "start_time": "2023-01-08T10:49:23.465Z"
   },
   {
    "duration": 52,
    "start_time": "2023-01-08T10:49:23.479Z"
   },
   {
    "duration": 14,
    "start_time": "2023-01-08T10:49:23.532Z"
   },
   {
    "duration": 13,
    "start_time": "2023-01-08T10:49:23.548Z"
   },
   {
    "duration": 13,
    "start_time": "2023-01-08T10:49:23.562Z"
   },
   {
    "duration": 12,
    "start_time": "2023-01-08T10:49:23.577Z"
   },
   {
    "duration": 8,
    "start_time": "2023-01-08T10:49:23.591Z"
   },
   {
    "duration": 4,
    "start_time": "2023-01-08T10:49:23.623Z"
   },
   {
    "duration": 168,
    "start_time": "2023-01-08T10:49:23.629Z"
   },
   {
    "duration": 24,
    "start_time": "2023-01-08T10:49:23.799Z"
   },
   {
    "duration": 6,
    "start_time": "2023-01-08T10:49:23.825Z"
   },
   {
    "duration": 25,
    "start_time": "2023-01-08T10:49:23.832Z"
   },
   {
    "duration": 12,
    "start_time": "2023-01-08T10:49:23.858Z"
   },
   {
    "duration": 8,
    "start_time": "2023-01-08T10:49:23.871Z"
   },
   {
    "duration": 10,
    "start_time": "2023-01-08T10:49:23.881Z"
   },
   {
    "duration": 35,
    "start_time": "2023-01-08T10:49:23.892Z"
   },
   {
    "duration": 168,
    "start_time": "2023-01-08T10:49:23.929Z"
   },
   {
    "duration": 5,
    "start_time": "2023-01-08T10:49:24.098Z"
   },
   {
    "duration": 164,
    "start_time": "2023-01-08T10:49:24.104Z"
   },
   {
    "duration": 4,
    "start_time": "2023-01-08T10:49:24.270Z"
   },
   {
    "duration": 14,
    "start_time": "2023-01-08T10:49:24.276Z"
   },
   {
    "duration": 12,
    "start_time": "2023-01-08T10:49:24.292Z"
   },
   {
    "duration": 16,
    "start_time": "2023-01-08T10:49:24.305Z"
   },
   {
    "duration": 7,
    "start_time": "2023-01-08T10:49:24.325Z"
   },
   {
    "duration": 14,
    "start_time": "2023-01-08T10:49:24.333Z"
   },
   {
    "duration": 7,
    "start_time": "2023-01-08T10:49:24.348Z"
   },
   {
    "duration": 14,
    "start_time": "2023-01-08T10:49:24.357Z"
   },
   {
    "duration": 17,
    "start_time": "2023-01-08T10:49:24.373Z"
   },
   {
    "duration": 3,
    "start_time": "2023-01-08T10:49:24.391Z"
   },
   {
    "duration": 33,
    "start_time": "2023-01-08T10:49:24.396Z"
   },
   {
    "duration": 13,
    "start_time": "2023-01-08T10:49:24.430Z"
   },
   {
    "duration": 28,
    "start_time": "2023-01-08T10:49:24.444Z"
   },
   {
    "duration": 4,
    "start_time": "2023-01-08T10:49:24.473Z"
   },
   {
    "duration": 14,
    "start_time": "2023-01-08T10:49:24.479Z"
   },
   {
    "duration": 36,
    "start_time": "2023-01-08T10:49:24.494Z"
   },
   {
    "duration": 21,
    "start_time": "2023-01-08T10:49:24.531Z"
   },
   {
    "duration": 10,
    "start_time": "2023-01-08T10:49:24.554Z"
   },
   {
    "duration": 394,
    "start_time": "2023-01-08T10:49:24.565Z"
   },
   {
    "duration": 361,
    "start_time": "2023-01-08T10:49:24.960Z"
   },
   {
    "duration": 326,
    "start_time": "2023-01-08T10:49:25.323Z"
   },
   {
    "duration": 22,
    "start_time": "2023-01-08T10:49:25.651Z"
   },
   {
    "duration": 7,
    "start_time": "2023-01-08T10:49:25.675Z"
   },
   {
    "duration": 20,
    "start_time": "2023-01-08T10:49:25.684Z"
   },
   {
    "duration": 26,
    "start_time": "2023-01-08T10:49:25.721Z"
   },
   {
    "duration": 143,
    "start_time": "2023-01-08T10:49:25.749Z"
   },
   {
    "duration": 160,
    "start_time": "2023-01-08T10:49:25.894Z"
   },
   {
    "duration": 41,
    "start_time": "2023-01-08T10:49:26.056Z"
   },
   {
    "duration": 28,
    "start_time": "2023-01-08T10:49:26.099Z"
   },
   {
    "duration": 77,
    "start_time": "2023-01-08T10:49:26.129Z"
   },
   {
    "duration": 27,
    "start_time": "2023-01-08T10:49:26.222Z"
   },
   {
    "duration": 1234,
    "start_time": "2023-01-08T10:50:17.864Z"
   },
   {
    "duration": 5,
    "start_time": "2023-01-08T10:50:19.100Z"
   },
   {
    "duration": 195,
    "start_time": "2023-01-08T10:50:19.107Z"
   },
   {
    "duration": 13,
    "start_time": "2023-01-08T10:50:19.303Z"
   },
   {
    "duration": 13,
    "start_time": "2023-01-08T10:50:19.318Z"
   },
   {
    "duration": 23,
    "start_time": "2023-01-08T10:50:19.333Z"
   },
   {
    "duration": 10,
    "start_time": "2023-01-08T10:50:19.357Z"
   },
   {
    "duration": 26,
    "start_time": "2023-01-08T10:50:19.368Z"
   },
   {
    "duration": 10,
    "start_time": "2023-01-08T10:50:19.396Z"
   },
   {
    "duration": 64,
    "start_time": "2023-01-08T10:50:19.408Z"
   },
   {
    "duration": 8,
    "start_time": "2023-01-08T10:50:19.474Z"
   },
   {
    "duration": 13,
    "start_time": "2023-01-08T10:50:19.484Z"
   },
   {
    "duration": 24,
    "start_time": "2023-01-08T10:50:19.499Z"
   },
   {
    "duration": 11,
    "start_time": "2023-01-08T10:50:19.527Z"
   },
   {
    "duration": 26,
    "start_time": "2023-01-08T10:50:19.539Z"
   },
   {
    "duration": 15,
    "start_time": "2023-01-08T10:50:19.567Z"
   },
   {
    "duration": 13,
    "start_time": "2023-01-08T10:50:19.583Z"
   },
   {
    "duration": 29,
    "start_time": "2023-01-08T10:50:19.598Z"
   },
   {
    "duration": 39,
    "start_time": "2023-01-08T10:50:19.629Z"
   },
   {
    "duration": 12,
    "start_time": "2023-01-08T10:50:19.669Z"
   },
   {
    "duration": 11,
    "start_time": "2023-01-08T10:50:19.683Z"
   },
   {
    "duration": 14,
    "start_time": "2023-01-08T10:50:19.721Z"
   },
   {
    "duration": 15,
    "start_time": "2023-01-08T10:50:19.738Z"
   },
   {
    "duration": 8,
    "start_time": "2023-01-08T10:50:19.755Z"
   },
   {
    "duration": 4,
    "start_time": "2023-01-08T10:50:19.764Z"
   },
   {
    "duration": 185,
    "start_time": "2023-01-08T10:50:19.770Z"
   },
   {
    "duration": 13,
    "start_time": "2023-01-08T10:50:19.956Z"
   },
   {
    "duration": 3,
    "start_time": "2023-01-08T10:50:19.971Z"
   },
   {
    "duration": 22,
    "start_time": "2023-01-08T10:50:19.976Z"
   },
   {
    "duration": 21,
    "start_time": "2023-01-08T10:50:20.000Z"
   },
   {
    "duration": 19,
    "start_time": "2023-01-08T10:50:20.027Z"
   },
   {
    "duration": 17,
    "start_time": "2023-01-08T10:50:20.048Z"
   },
   {
    "duration": 31,
    "start_time": "2023-01-08T10:50:20.067Z"
   },
   {
    "duration": 151,
    "start_time": "2023-01-08T10:50:20.100Z"
   },
   {
    "duration": 5,
    "start_time": "2023-01-08T10:50:20.253Z"
   },
   {
    "duration": 145,
    "start_time": "2023-01-08T10:50:20.260Z"
   },
   {
    "duration": 14,
    "start_time": "2023-01-08T10:50:20.407Z"
   },
   {
    "duration": 23,
    "start_time": "2023-01-08T10:50:20.423Z"
   },
   {
    "duration": 20,
    "start_time": "2023-01-08T10:50:20.449Z"
   },
   {
    "duration": 4,
    "start_time": "2023-01-08T10:50:20.471Z"
   },
   {
    "duration": 14,
    "start_time": "2023-01-08T10:50:20.480Z"
   },
   {
    "duration": 22,
    "start_time": "2023-01-08T10:50:20.496Z"
   },
   {
    "duration": 14,
    "start_time": "2023-01-08T10:50:20.520Z"
   },
   {
    "duration": 26,
    "start_time": "2023-01-08T10:50:20.536Z"
   },
   {
    "duration": 26,
    "start_time": "2023-01-08T10:50:20.564Z"
   },
   {
    "duration": 3,
    "start_time": "2023-01-08T10:50:20.592Z"
   },
   {
    "duration": 22,
    "start_time": "2023-01-08T10:50:20.596Z"
   },
   {
    "duration": 18,
    "start_time": "2023-01-08T10:50:20.620Z"
   },
   {
    "duration": 24,
    "start_time": "2023-01-08T10:50:20.640Z"
   },
   {
    "duration": 3,
    "start_time": "2023-01-08T10:50:20.666Z"
   },
   {
    "duration": 12,
    "start_time": "2023-01-08T10:50:20.670Z"
   },
   {
    "duration": 15,
    "start_time": "2023-01-08T10:50:20.683Z"
   },
   {
    "duration": 32,
    "start_time": "2023-01-08T10:50:20.699Z"
   },
   {
    "duration": 11,
    "start_time": "2023-01-08T10:50:20.733Z"
   },
   {
    "duration": 322,
    "start_time": "2023-01-08T10:50:20.746Z"
   },
   {
    "duration": 368,
    "start_time": "2023-01-08T10:50:21.070Z"
   },
   {
    "duration": 242,
    "start_time": "2023-01-08T10:50:21.441Z"
   },
   {
    "duration": 25,
    "start_time": "2023-01-08T10:50:21.684Z"
   },
   {
    "duration": 16,
    "start_time": "2023-01-08T10:50:21.710Z"
   },
   {
    "duration": 24,
    "start_time": "2023-01-08T10:50:21.728Z"
   },
   {
    "duration": 17,
    "start_time": "2023-01-08T10:50:21.754Z"
   },
   {
    "duration": 118,
    "start_time": "2023-01-08T10:50:21.772Z"
   },
   {
    "duration": 120,
    "start_time": "2023-01-08T10:50:21.891Z"
   },
   {
    "duration": 47,
    "start_time": "2023-01-08T10:50:22.021Z"
   },
   {
    "duration": 11,
    "start_time": "2023-01-08T10:50:22.070Z"
   },
   {
    "duration": 94,
    "start_time": "2023-01-08T10:50:22.083Z"
   },
   {
    "duration": 24,
    "start_time": "2023-01-08T10:50:22.178Z"
   },
   {
    "duration": 198824,
    "start_time": "2023-01-08T10:50:22.203Z"
   },
   {
    "duration": 66,
    "start_time": "2023-01-08T10:53:41.057Z"
   },
   {
    "duration": 1068,
    "start_time": "2023-01-08T10:53:41.124Z"
   },
   {
    "duration": 3,
    "start_time": "2023-01-08T10:53:42.194Z"
   },
   {
    "duration": 48,
    "start_time": "2023-01-08T10:53:42.199Z"
   },
   {
    "duration": 6,
    "start_time": "2023-01-08T10:53:42.248Z"
   },
   {
    "duration": 10,
    "start_time": "2023-01-08T10:53:42.255Z"
   },
   {
    "duration": 12,
    "start_time": "2023-01-08T10:53:42.267Z"
   },
   {
    "duration": 46,
    "start_time": "2023-01-08T10:53:42.281Z"
   },
   {
    "duration": 4,
    "start_time": "2023-01-08T10:53:42.329Z"
   },
   {
    "duration": 10,
    "start_time": "2023-01-08T10:53:42.334Z"
   },
   {
    "duration": 27,
    "start_time": "2023-01-08T10:53:42.346Z"
   },
   {
    "duration": 20,
    "start_time": "2023-01-08T11:03:39.349Z"
   },
   {
    "duration": 4,
    "start_time": "2023-01-08T11:04:31.770Z"
   },
   {
    "duration": 4,
    "start_time": "2023-01-08T11:05:59.145Z"
   },
   {
    "duration": 113,
    "start_time": "2023-01-08T11:08:22.830Z"
   },
   {
    "duration": 18,
    "start_time": "2023-01-08T11:08:53.019Z"
   },
   {
    "duration": 16,
    "start_time": "2023-01-08T11:19:55.176Z"
   },
   {
    "duration": 1479,
    "start_time": "2023-01-08T11:20:26.658Z"
   },
   {
    "duration": 6,
    "start_time": "2023-01-08T11:20:58.550Z"
   },
   {
    "duration": 6,
    "start_time": "2023-01-08T11:22:19.334Z"
   },
   {
    "duration": 1451,
    "start_time": "2023-01-08T11:23:33.879Z"
   },
   {
    "duration": 800,
    "start_time": "2023-01-08T11:24:17.327Z"
   },
   {
    "duration": 46,
    "start_time": "2023-01-08T11:25:20.504Z"
   },
   {
    "duration": 4,
    "start_time": "2023-01-08T11:26:26.902Z"
   },
   {
    "duration": 139,
    "start_time": "2023-01-08T11:27:49.582Z"
   },
   {
    "duration": 115,
    "start_time": "2023-01-08T11:28:40.816Z"
   },
   {
    "duration": 13,
    "start_time": "2023-01-08T11:28:56.777Z"
   },
   {
    "duration": 23,
    "start_time": "2023-01-08T11:29:12.400Z"
   },
   {
    "duration": 22,
    "start_time": "2023-01-08T11:29:41.916Z"
   },
   {
    "duration": 14,
    "start_time": "2023-01-08T11:29:53.701Z"
   },
   {
    "duration": 5,
    "start_time": "2023-01-08T11:31:35.295Z"
   },
   {
    "duration": 5,
    "start_time": "2023-01-08T11:32:40.516Z"
   },
   {
    "duration": 165,
    "start_time": "2023-01-08T11:34:25.560Z"
   },
   {
    "duration": 151,
    "start_time": "2023-01-08T11:35:03.546Z"
   },
   {
    "duration": 10,
    "start_time": "2023-01-08T11:35:42.374Z"
   },
   {
    "duration": 15,
    "start_time": "2023-01-08T11:35:49.021Z"
   },
   {
    "duration": 12,
    "start_time": "2023-01-08T11:35:58.186Z"
   },
   {
    "duration": 5,
    "start_time": "2023-01-08T11:38:43.276Z"
   },
   {
    "duration": 7,
    "start_time": "2023-01-08T11:39:29.316Z"
   },
   {
    "duration": 9,
    "start_time": "2023-01-08T11:41:01.788Z"
   },
   {
    "duration": 8,
    "start_time": "2023-01-08T11:41:13.339Z"
   },
   {
    "duration": 45,
    "start_time": "2023-01-08T11:43:56.965Z"
   },
   {
    "duration": 5,
    "start_time": "2023-01-08T12:17:02.347Z"
   },
   {
    "duration": 24,
    "start_time": "2023-01-08T12:17:35.681Z"
   },
   {
    "duration": 79,
    "start_time": "2023-01-08T12:17:44.256Z"
   },
   {
    "duration": 9,
    "start_time": "2023-01-08T12:19:55.471Z"
   },
   {
    "duration": 10,
    "start_time": "2023-01-08T12:20:24.243Z"
   },
   {
    "duration": 84,
    "start_time": "2023-01-08T12:21:23.387Z"
   },
   {
    "duration": 74,
    "start_time": "2023-01-08T13:13:54.263Z"
   },
   {
    "duration": 119,
    "start_time": "2023-01-08T13:15:20.007Z"
   },
   {
    "duration": 128,
    "start_time": "2023-01-08T13:17:12.529Z"
   },
   {
    "duration": 134,
    "start_time": "2023-01-08T13:17:40.660Z"
   },
   {
    "duration": 133,
    "start_time": "2023-01-08T13:18:54.215Z"
   },
   {
    "duration": 223,
    "start_time": "2023-01-08T13:19:38.279Z"
   },
   {
    "duration": 310,
    "start_time": "2023-01-08T13:20:34.249Z"
   },
   {
    "duration": 270,
    "start_time": "2023-01-08T13:22:07.519Z"
   },
   {
    "duration": 211,
    "start_time": "2023-01-08T13:23:56.034Z"
   },
   {
    "duration": 368,
    "start_time": "2023-01-08T13:24:05.358Z"
   },
   {
    "duration": 6,
    "start_time": "2023-01-08T13:55:30.018Z"
   },
   {
    "duration": 137,
    "start_time": "2023-01-08T13:55:52.244Z"
   },
   {
    "duration": 9,
    "start_time": "2023-01-08T14:04:19.278Z"
   },
   {
    "duration": 19,
    "start_time": "2023-01-08T14:05:08.929Z"
   },
   {
    "duration": 12,
    "start_time": "2023-01-08T14:07:41.396Z"
   },
   {
    "duration": 302,
    "start_time": "2023-01-08T14:08:32.779Z"
   },
   {
    "duration": 4,
    "start_time": "2023-01-08T14:13:01.225Z"
   },
   {
    "duration": 6,
    "start_time": "2023-01-08T14:13:01.869Z"
   },
   {
    "duration": 11,
    "start_time": "2023-01-08T14:13:02.792Z"
   },
   {
    "duration": 5,
    "start_time": "2023-01-08T14:13:03.514Z"
   },
   {
    "duration": 5,
    "start_time": "2023-01-08T14:13:06.000Z"
   },
   {
    "duration": 297,
    "start_time": "2023-01-08T14:13:07.826Z"
   },
   {
    "duration": 4,
    "start_time": "2023-01-08T14:20:38.175Z"
   },
   {
    "duration": 208,
    "start_time": "2023-01-08T14:20:39.014Z"
   },
   {
    "duration": 4,
    "start_time": "2023-01-08T14:20:42.496Z"
   },
   {
    "duration": 28,
    "start_time": "2023-01-08T14:34:11.501Z"
   },
   {
    "duration": 60704,
    "start_time": "2023-01-08T14:48:22.483Z"
   },
   {
    "duration": 4,
    "start_time": "2023-01-08T14:49:59.970Z"
   },
   {
    "duration": 61295,
    "start_time": "2023-01-08T14:52:56.309Z"
   },
   {
    "duration": 3,
    "start_time": "2023-01-08T14:54:00.442Z"
   },
   {
    "duration": 4,
    "start_time": "2023-01-08T14:54:20.103Z"
   },
   {
    "duration": 60822,
    "start_time": "2023-01-08T14:55:18.447Z"
   },
   {
    "duration": 3,
    "start_time": "2023-01-08T14:56:19.271Z"
   },
   {
    "duration": 8,
    "start_time": "2023-01-08T14:56:19.276Z"
   },
   {
    "duration": 60134,
    "start_time": "2023-01-08T15:01:45.383Z"
   },
   {
    "duration": 4,
    "start_time": "2023-01-08T15:02:45.518Z"
   },
   {
    "duration": 9,
    "start_time": "2023-01-08T15:02:45.523Z"
   },
   {
    "duration": 76941,
    "start_time": "2023-01-08T15:02:45.534Z"
   },
   {
    "duration": 3,
    "start_time": "2023-01-08T15:04:02.477Z"
   },
   {
    "duration": 14,
    "start_time": "2023-01-08T15:04:02.482Z"
   },
   {
    "duration": 61218,
    "start_time": "2023-01-08T15:05:46.477Z"
   },
   {
    "duration": 21,
    "start_time": "2023-01-08T15:06:47.701Z"
   },
   {
    "duration": 3,
    "start_time": "2023-01-08T15:06:47.724Z"
   },
   {
    "duration": 4,
    "start_time": "2023-01-08T15:06:54.307Z"
   },
   {
    "duration": 100,
    "start_time": "2023-01-08T15:41:46.874Z"
   },
   {
    "duration": 1641,
    "start_time": "2023-01-08T15:43:59.509Z"
   },
   {
    "duration": 6,
    "start_time": "2023-01-08T15:44:01.152Z"
   },
   {
    "duration": 546,
    "start_time": "2023-01-08T15:44:01.159Z"
   },
   {
    "duration": 20,
    "start_time": "2023-01-08T15:44:01.707Z"
   },
   {
    "duration": 30,
    "start_time": "2023-01-08T15:44:01.729Z"
   },
   {
    "duration": 68,
    "start_time": "2023-01-08T15:44:01.761Z"
   },
   {
    "duration": 15,
    "start_time": "2023-01-08T15:44:01.830Z"
   },
   {
    "duration": 61,
    "start_time": "2023-01-08T15:44:01.846Z"
   },
   {
    "duration": 41,
    "start_time": "2023-01-08T15:44:01.909Z"
   },
   {
    "duration": 60,
    "start_time": "2023-01-08T15:44:01.954Z"
   },
   {
    "duration": 25,
    "start_time": "2023-01-08T15:44:02.017Z"
   },
   {
    "duration": 30,
    "start_time": "2023-01-08T15:44:02.045Z"
   },
   {
    "duration": 53,
    "start_time": "2023-01-08T15:44:02.077Z"
   },
   {
    "duration": 11,
    "start_time": "2023-01-08T15:44:02.131Z"
   },
   {
    "duration": 42,
    "start_time": "2023-01-08T15:44:02.143Z"
   },
   {
    "duration": 53,
    "start_time": "2023-01-08T15:44:02.186Z"
   },
   {
    "duration": 31,
    "start_time": "2023-01-08T15:44:02.240Z"
   },
   {
    "duration": 61,
    "start_time": "2023-01-08T15:44:02.273Z"
   },
   {
    "duration": 51,
    "start_time": "2023-01-08T15:44:02.335Z"
   },
   {
    "duration": 38,
    "start_time": "2023-01-08T15:44:02.388Z"
   },
   {
    "duration": 35,
    "start_time": "2023-01-08T15:44:02.427Z"
   },
   {
    "duration": 38,
    "start_time": "2023-01-08T15:44:02.464Z"
   },
   {
    "duration": 23,
    "start_time": "2023-01-08T15:44:02.504Z"
   },
   {
    "duration": 10,
    "start_time": "2023-01-08T15:44:02.529Z"
   },
   {
    "duration": 4,
    "start_time": "2023-01-08T15:44:02.541Z"
   },
   {
    "duration": 180,
    "start_time": "2023-01-08T15:44:02.547Z"
   },
   {
    "duration": 18,
    "start_time": "2023-01-08T15:44:02.729Z"
   },
   {
    "duration": 4,
    "start_time": "2023-01-08T15:44:02.753Z"
   },
   {
    "duration": 26,
    "start_time": "2023-01-08T15:44:02.758Z"
   },
   {
    "duration": 18,
    "start_time": "2023-01-08T15:44:02.786Z"
   },
   {
    "duration": 25,
    "start_time": "2023-01-08T15:44:02.806Z"
   },
   {
    "duration": 12,
    "start_time": "2023-01-08T15:44:02.833Z"
   },
   {
    "duration": 13,
    "start_time": "2023-01-08T15:44:02.846Z"
   },
   {
    "duration": 164,
    "start_time": "2023-01-08T15:44:02.860Z"
   },
   {
    "duration": 5,
    "start_time": "2023-01-08T15:44:03.026Z"
   },
   {
    "duration": 142,
    "start_time": "2023-01-08T15:44:03.034Z"
   },
   {
    "duration": 6,
    "start_time": "2023-01-08T15:44:03.178Z"
   },
   {
    "duration": 13,
    "start_time": "2023-01-08T15:44:03.196Z"
   },
   {
    "duration": 14,
    "start_time": "2023-01-08T15:44:03.211Z"
   },
   {
    "duration": 8,
    "start_time": "2023-01-08T15:44:03.227Z"
   },
   {
    "duration": 14,
    "start_time": "2023-01-08T15:44:03.237Z"
   },
   {
    "duration": 9,
    "start_time": "2023-01-08T15:44:03.253Z"
   },
   {
    "duration": 24,
    "start_time": "2023-01-08T15:44:03.263Z"
   },
   {
    "duration": 22,
    "start_time": "2023-01-08T15:44:03.288Z"
   },
   {
    "duration": 15,
    "start_time": "2023-01-08T15:44:03.312Z"
   },
   {
    "duration": 3,
    "start_time": "2023-01-08T15:44:03.329Z"
   },
   {
    "duration": 31,
    "start_time": "2023-01-08T15:44:03.334Z"
   },
   {
    "duration": 31,
    "start_time": "2023-01-08T15:44:03.366Z"
   },
   {
    "duration": 53,
    "start_time": "2023-01-08T15:44:03.399Z"
   },
   {
    "duration": 7,
    "start_time": "2023-01-08T15:44:03.454Z"
   },
   {
    "duration": 25,
    "start_time": "2023-01-08T15:44:03.462Z"
   },
   {
    "duration": 23,
    "start_time": "2023-01-08T15:44:03.489Z"
   },
   {
    "duration": 45,
    "start_time": "2023-01-08T15:44:03.513Z"
   },
   {
    "duration": 30,
    "start_time": "2023-01-08T15:44:03.559Z"
   },
   {
    "duration": 376,
    "start_time": "2023-01-08T15:44:03.591Z"
   },
   {
    "duration": 301,
    "start_time": "2023-01-08T15:44:03.969Z"
   },
   {
    "duration": 226,
    "start_time": "2023-01-08T15:44:04.272Z"
   },
   {
    "duration": 34,
    "start_time": "2023-01-08T15:44:04.501Z"
   },
   {
    "duration": 11,
    "start_time": "2023-01-08T15:44:04.537Z"
   },
   {
    "duration": 25,
    "start_time": "2023-01-08T15:44:04.550Z"
   },
   {
    "duration": 41,
    "start_time": "2023-01-08T15:44:04.577Z"
   },
   {
    "duration": 131,
    "start_time": "2023-01-08T15:44:04.621Z"
   },
   {
    "duration": 111,
    "start_time": "2023-01-08T15:44:04.754Z"
   },
   {
    "duration": 58,
    "start_time": "2023-01-08T15:44:04.867Z"
   },
   {
    "duration": 13,
    "start_time": "2023-01-08T15:44:04.926Z"
   },
   {
    "duration": 88,
    "start_time": "2023-01-08T15:44:04.941Z"
   },
   {
    "duration": 27,
    "start_time": "2023-01-08T15:44:05.031Z"
   },
   {
    "duration": 205658,
    "start_time": "2023-01-08T15:44:05.060Z"
   },
   {
    "duration": 81,
    "start_time": "2023-01-08T15:47:30.720Z"
   },
   {
    "duration": 1086,
    "start_time": "2023-01-08T15:47:30.803Z"
   },
   {
    "duration": 6,
    "start_time": "2023-01-08T15:47:31.891Z"
   },
   {
    "duration": 45,
    "start_time": "2023-01-08T15:47:31.898Z"
   },
   {
    "duration": 6,
    "start_time": "2023-01-08T15:47:31.944Z"
   },
   {
    "duration": 14,
    "start_time": "2023-01-08T15:47:31.951Z"
   },
   {
    "duration": 13,
    "start_time": "2023-01-08T15:47:31.966Z"
   },
   {
    "duration": 45,
    "start_time": "2023-01-08T15:47:31.981Z"
   },
   {
    "duration": 5,
    "start_time": "2023-01-08T15:47:32.028Z"
   },
   {
    "duration": 19,
    "start_time": "2023-01-08T15:47:32.035Z"
   },
   {
    "duration": 30,
    "start_time": "2023-01-08T15:47:32.056Z"
   },
   {
    "duration": 10,
    "start_time": "2023-01-08T15:47:32.088Z"
   },
   {
    "duration": 19,
    "start_time": "2023-01-08T15:47:32.100Z"
   },
   {
    "duration": 1172,
    "start_time": "2023-01-08T15:47:32.128Z"
   },
   {
    "duration": 9,
    "start_time": "2023-01-08T15:47:33.302Z"
   },
   {
    "duration": 196,
    "start_time": "2023-01-08T15:47:33.315Z"
   },
   {
    "duration": 15,
    "start_time": "2023-01-08T15:47:33.598Z"
   },
   {
    "duration": 27,
    "start_time": "2023-01-08T15:47:33.615Z"
   },
   {
    "duration": 15,
    "start_time": "2023-01-08T15:47:33.645Z"
   },
   {
    "duration": 14,
    "start_time": "2023-01-08T15:47:33.662Z"
   },
   {
    "duration": 82,
    "start_time": "2023-01-08T15:47:33.678Z"
   },
   {
    "duration": 84,
    "start_time": "2023-01-08T15:47:33.761Z"
   },
   {
    "duration": 165,
    "start_time": "2023-01-08T15:47:33.847Z"
   },
   {
    "duration": 136,
    "start_time": "2023-01-08T15:47:34.016Z"
   },
   {
    "duration": 157,
    "start_time": "2023-01-08T15:47:34.154Z"
   },
   {
    "duration": 438,
    "start_time": "2023-01-08T15:47:34.312Z"
   },
   {
    "duration": 316,
    "start_time": "2023-01-08T15:47:34.752Z"
   },
   {
    "duration": 369,
    "start_time": "2023-01-08T15:47:35.070Z"
   },
   {
    "duration": 7,
    "start_time": "2023-01-08T15:47:35.442Z"
   },
   {
    "duration": 173,
    "start_time": "2023-01-08T15:47:35.451Z"
   },
   {
    "duration": 20,
    "start_time": "2023-01-08T15:47:35.625Z"
   },
   {
    "duration": 12,
    "start_time": "2023-01-08T15:47:35.646Z"
   },
   {
    "duration": 344,
    "start_time": "2023-01-08T15:47:35.659Z"
   },
   {
    "duration": 5,
    "start_time": "2023-01-08T15:47:36.005Z"
   },
   {
    "duration": 10,
    "start_time": "2023-01-08T15:47:36.012Z"
   },
   {
    "duration": 40,
    "start_time": "2023-01-08T15:47:36.024Z"
   },
   {
    "duration": 27,
    "start_time": "2023-01-08T15:47:36.066Z"
   },
   {
    "duration": 28,
    "start_time": "2023-01-08T15:47:36.095Z"
   },
   {
    "duration": 579,
    "start_time": "2023-01-08T15:47:36.125Z"
   },
   {
    "duration": 94,
    "start_time": "2023-01-08T15:47:36.710Z"
   },
   {
    "duration": 287,
    "start_time": "2023-01-08T15:47:36.810Z"
   },
   {
    "duration": 10,
    "start_time": "2023-01-08T15:47:37.099Z"
   },
   {
    "duration": 60579,
    "start_time": "2023-01-08T15:47:37.112Z"
   },
   {
    "duration": 3,
    "start_time": "2023-01-08T15:48:37.696Z"
   },
   {
    "duration": 21,
    "start_time": "2023-01-08T15:48:37.701Z"
   },
   {
    "duration": 77133,
    "start_time": "2023-01-08T15:48:37.723Z"
   },
   {
    "duration": 4,
    "start_time": "2023-01-08T15:49:54.858Z"
   },
   {
    "duration": 8,
    "start_time": "2023-01-08T15:49:54.864Z"
   },
   {
    "duration": 415397,
    "start_time": "2023-01-08T15:49:54.873Z"
   },
   {
    "duration": 5,
    "start_time": "2023-01-08T15:56:50.271Z"
   },
   {
    "duration": 18,
    "start_time": "2023-01-08T15:56:50.278Z"
   },
   {
    "duration": 58,
    "start_time": "2023-01-08T16:00:20.398Z"
   },
   {
    "duration": 22,
    "start_time": "2023-01-08T16:08:32.475Z"
   },
   {
    "duration": 29852,
    "start_time": "2023-01-08T16:10:31.823Z"
   },
   {
    "duration": 4,
    "start_time": "2023-01-08T16:12:11.647Z"
   },
   {
    "duration": 32657,
    "start_time": "2023-01-08T16:12:27.619Z"
   },
   {
    "duration": 4,
    "start_time": "2023-01-08T16:13:10.462Z"
   },
   {
    "duration": 4,
    "start_time": "2023-01-08T16:13:20.617Z"
   },
   {
    "duration": 228778,
    "start_time": "2023-01-08T16:18:48.155Z"
   },
   {
    "duration": 3,
    "start_time": "2023-01-08T16:22:36.934Z"
   },
   {
    "duration": 8,
    "start_time": "2023-01-08T16:22:36.939Z"
   },
   {
    "duration": 140497,
    "start_time": "2023-01-08T16:28:57.563Z"
   },
   {
    "duration": 4,
    "start_time": "2023-01-08T16:31:18.061Z"
   },
   {
    "duration": 33,
    "start_time": "2023-01-08T16:31:18.066Z"
   },
   {
    "duration": 96298,
    "start_time": "2023-01-08T16:33:41.044Z"
   },
   {
    "duration": 4,
    "start_time": "2023-01-08T16:35:17.344Z"
   },
   {
    "duration": 6,
    "start_time": "2023-01-08T16:35:17.350Z"
   },
   {
    "duration": 7,
    "start_time": "2023-01-08T16:37:56.043Z"
   },
   {
    "duration": 2500,
    "start_time": "2023-01-09T04:41:45.690Z"
   },
   {
    "duration": 6,
    "start_time": "2023-01-09T04:41:48.196Z"
   },
   {
    "duration": 224,
    "start_time": "2023-01-09T04:41:48.204Z"
   },
   {
    "duration": 15,
    "start_time": "2023-01-09T04:41:49.697Z"
   },
   {
    "duration": 13,
    "start_time": "2023-01-09T04:41:50.321Z"
   },
   {
    "duration": 20,
    "start_time": "2023-01-09T04:41:50.851Z"
   },
   {
    "duration": 11,
    "start_time": "2023-01-09T04:41:51.063Z"
   },
   {
    "duration": 22,
    "start_time": "2023-01-09T04:41:51.344Z"
   },
   {
    "duration": 11,
    "start_time": "2023-01-09T04:41:51.565Z"
   },
   {
    "duration": 46,
    "start_time": "2023-01-09T04:41:51.997Z"
   },
   {
    "duration": 9,
    "start_time": "2023-01-09T04:41:52.233Z"
   },
   {
    "duration": 15,
    "start_time": "2023-01-09T04:41:52.471Z"
   },
   {
    "duration": 21,
    "start_time": "2023-01-09T04:41:52.699Z"
   },
   {
    "duration": 14,
    "start_time": "2023-01-09T04:41:52.896Z"
   },
   {
    "duration": 11,
    "start_time": "2023-01-09T04:41:53.093Z"
   },
   {
    "duration": 15,
    "start_time": "2023-01-09T04:41:53.297Z"
   },
   {
    "duration": 14,
    "start_time": "2023-01-09T04:41:53.647Z"
   },
   {
    "duration": 11,
    "start_time": "2023-01-09T04:41:53.937Z"
   },
   {
    "duration": 38,
    "start_time": "2023-01-09T04:41:54.635Z"
   },
   {
    "duration": 12,
    "start_time": "2023-01-09T04:41:55.837Z"
   },
   {
    "duration": 20,
    "start_time": "2023-01-09T04:41:56.475Z"
   },
   {
    "duration": 11,
    "start_time": "2023-01-09T04:41:56.693Z"
   },
   {
    "duration": 10,
    "start_time": "2023-01-09T04:41:59.799Z"
   },
   {
    "duration": 7,
    "start_time": "2023-01-09T04:41:59.968Z"
   },
   {
    "duration": 4,
    "start_time": "2023-01-09T04:42:00.321Z"
   },
   {
    "duration": 177,
    "start_time": "2023-01-09T04:42:00.519Z"
   },
   {
    "duration": 19,
    "start_time": "2023-01-09T04:42:01.918Z"
   },
   {
    "duration": 5,
    "start_time": "2023-01-09T04:42:02.502Z"
   },
   {
    "duration": 15,
    "start_time": "2023-01-09T04:42:40.129Z"
   },
   {
    "duration": 14,
    "start_time": "2023-01-09T04:42:41.033Z"
   },
   {
    "duration": 9,
    "start_time": "2023-01-09T04:42:42.297Z"
   },
   {
    "duration": 17,
    "start_time": "2023-01-09T04:42:50.943Z"
   },
   {
    "duration": 11,
    "start_time": "2023-01-09T04:42:52.097Z"
   },
   {
    "duration": 141,
    "start_time": "2023-01-09T04:42:52.297Z"
   },
   {
    "duration": 5,
    "start_time": "2023-01-09T04:42:52.705Z"
   },
   {
    "duration": 154,
    "start_time": "2023-01-09T04:42:53.155Z"
   },
   {
    "duration": 6,
    "start_time": "2023-01-09T04:43:17.576Z"
   },
   {
    "duration": 15,
    "start_time": "2023-01-09T04:43:18.397Z"
   },
   {
    "duration": 12,
    "start_time": "2023-01-09T04:43:19.647Z"
   },
   {
    "duration": 6,
    "start_time": "2023-01-09T04:43:19.924Z"
   },
   {
    "duration": 5,
    "start_time": "2023-01-09T04:43:20.098Z"
   },
   {
    "duration": 9,
    "start_time": "2023-01-09T04:43:20.294Z"
   },
   {
    "duration": 4,
    "start_time": "2023-01-09T04:43:20.497Z"
   },
   {
    "duration": 15,
    "start_time": "2023-01-09T04:43:21.300Z"
   },
   {
    "duration": 18,
    "start_time": "2023-01-09T04:43:55.076Z"
   },
   {
    "duration": 8,
    "start_time": "2023-01-09T04:43:55.690Z"
   },
   {
    "duration": 16,
    "start_time": "2023-01-09T04:43:56.326Z"
   },
   {
    "duration": 11,
    "start_time": "2023-01-09T04:44:06.750Z"
   },
   {
    "duration": 18,
    "start_time": "2023-01-09T04:44:13.825Z"
   },
   {
    "duration": 7,
    "start_time": "2023-01-09T04:44:15.924Z"
   },
   {
    "duration": 4,
    "start_time": "2023-01-09T04:44:16.596Z"
   },
   {
    "duration": 13,
    "start_time": "2023-01-09T04:44:19.897Z"
   },
   {
    "duration": 20,
    "start_time": "2023-01-09T04:44:28.497Z"
   },
   {
    "duration": 11,
    "start_time": "2023-01-09T04:44:28.692Z"
   },
   {
    "duration": 407,
    "start_time": "2023-01-09T04:44:28.859Z"
   },
   {
    "duration": 300,
    "start_time": "2023-01-09T04:44:29.268Z"
   },
   {
    "duration": 231,
    "start_time": "2023-01-09T04:44:30.231Z"
   },
   {
    "duration": 38,
    "start_time": "2023-01-09T04:44:31.775Z"
   },
   {
    "duration": 14,
    "start_time": "2023-01-09T04:44:32.517Z"
   },
   {
    "duration": 16,
    "start_time": "2023-01-09T04:44:32.857Z"
   },
   {
    "duration": 18,
    "start_time": "2023-01-09T04:44:33.044Z"
   },
   {
    "duration": 107,
    "start_time": "2023-01-09T04:44:33.410Z"
   },
   {
    "duration": 149,
    "start_time": "2023-01-09T04:44:34.000Z"
   },
   {
    "duration": 60,
    "start_time": "2023-01-09T04:44:52.852Z"
   },
   {
    "duration": 16,
    "start_time": "2023-01-09T04:44:54.540Z"
   },
   {
    "duration": 80,
    "start_time": "2023-01-09T04:45:26.369Z"
   },
   {
    "duration": 20,
    "start_time": "2023-01-09T04:45:57.453Z"
   },
   {
    "duration": 3,
    "start_time": "2023-01-09T04:48:02.647Z"
   },
   {
    "duration": 36,
    "start_time": "2023-01-09T04:48:05.278Z"
   },
   {
    "duration": 7,
    "start_time": "2023-01-09T04:48:14.347Z"
   },
   {
    "duration": 7,
    "start_time": "2023-01-09T04:48:15.028Z"
   },
   {
    "duration": 6,
    "start_time": "2023-01-09T04:49:03.137Z"
   },
   {
    "duration": 56,
    "start_time": "2023-01-09T04:49:04.012Z"
   },
   {
    "duration": 1946,
    "start_time": "2023-01-10T20:31:02.431Z"
   },
   {
    "duration": 6,
    "start_time": "2023-01-10T20:31:04.379Z"
   },
   {
    "duration": 649,
    "start_time": "2023-01-10T20:31:04.387Z"
   },
   {
    "duration": 20,
    "start_time": "2023-01-10T20:31:05.038Z"
   },
   {
    "duration": 57,
    "start_time": "2023-01-10T20:31:05.060Z"
   },
   {
    "duration": 43,
    "start_time": "2023-01-10T20:31:05.120Z"
   },
   {
    "duration": 24,
    "start_time": "2023-01-10T20:31:05.165Z"
   },
   {
    "duration": 54,
    "start_time": "2023-01-10T20:31:05.192Z"
   },
   {
    "duration": 48,
    "start_time": "2023-01-10T20:31:05.248Z"
   },
   {
    "duration": 82,
    "start_time": "2023-01-10T20:31:05.298Z"
   },
   {
    "duration": 10,
    "start_time": "2023-01-10T20:31:05.382Z"
   },
   {
    "duration": 51,
    "start_time": "2023-01-10T20:31:05.394Z"
   },
   {
    "duration": 116,
    "start_time": "2023-01-10T20:31:05.447Z"
   },
   {
    "duration": 70,
    "start_time": "2023-01-10T20:31:05.567Z"
   },
   {
    "duration": 59,
    "start_time": "2023-01-10T20:31:05.638Z"
   },
   {
    "duration": 44,
    "start_time": "2023-01-10T20:31:05.702Z"
   },
   {
    "duration": 51,
    "start_time": "2023-01-10T20:31:05.749Z"
   },
   {
    "duration": 119,
    "start_time": "2023-01-10T20:31:05.802Z"
   },
   {
    "duration": 83,
    "start_time": "2023-01-10T20:31:05.923Z"
   },
   {
    "duration": 16,
    "start_time": "2023-01-10T20:31:06.008Z"
   },
   {
    "duration": 41,
    "start_time": "2023-01-10T20:31:06.026Z"
   },
   {
    "duration": 40,
    "start_time": "2023-01-10T20:31:06.069Z"
   },
   {
    "duration": 28,
    "start_time": "2023-01-10T20:31:06.110Z"
   },
   {
    "duration": 55,
    "start_time": "2023-01-10T20:31:06.145Z"
   },
   {
    "duration": 16,
    "start_time": "2023-01-10T20:31:06.202Z"
   },
   {
    "duration": 265,
    "start_time": "2023-01-10T20:31:06.220Z"
   },
   {
    "duration": 15,
    "start_time": "2023-01-10T20:31:06.487Z"
   },
   {
    "duration": 37,
    "start_time": "2023-01-10T20:31:06.504Z"
   },
   {
    "duration": 38,
    "start_time": "2023-01-10T20:31:06.543Z"
   },
   {
    "duration": 15,
    "start_time": "2023-01-10T20:31:06.584Z"
   },
   {
    "duration": 14,
    "start_time": "2023-01-10T20:31:06.601Z"
   },
   {
    "duration": 28,
    "start_time": "2023-01-10T20:31:06.617Z"
   },
   {
    "duration": 14,
    "start_time": "2023-01-10T20:31:06.647Z"
   },
   {
    "duration": 213,
    "start_time": "2023-01-10T20:31:06.663Z"
   },
   {
    "duration": 7,
    "start_time": "2023-01-10T20:31:06.878Z"
   },
   {
    "duration": 202,
    "start_time": "2023-01-10T20:31:06.887Z"
   },
   {
    "duration": 9,
    "start_time": "2023-01-10T20:31:07.091Z"
   },
   {
    "duration": 29,
    "start_time": "2023-01-10T20:31:07.102Z"
   },
   {
    "duration": 25,
    "start_time": "2023-01-10T20:31:07.133Z"
   },
   {
    "duration": 10,
    "start_time": "2023-01-10T20:31:07.160Z"
   },
   {
    "duration": 10,
    "start_time": "2023-01-10T20:31:07.175Z"
   },
   {
    "duration": 33,
    "start_time": "2023-01-10T20:31:07.200Z"
   },
   {
    "duration": 12,
    "start_time": "2023-01-10T20:31:07.235Z"
   },
   {
    "duration": 29,
    "start_time": "2023-01-10T20:31:07.251Z"
   },
   {
    "duration": 109,
    "start_time": "2023-01-10T20:31:07.282Z"
   },
   {
    "duration": 4,
    "start_time": "2023-01-10T20:31:07.393Z"
   },
   {
    "duration": 26,
    "start_time": "2023-01-10T20:31:07.399Z"
   },
   {
    "duration": 23,
    "start_time": "2023-01-10T20:31:07.427Z"
   },
   {
    "duration": 31,
    "start_time": "2023-01-10T20:31:07.452Z"
   },
   {
    "duration": 7,
    "start_time": "2023-01-10T20:31:07.485Z"
   },
   {
    "duration": 16,
    "start_time": "2023-01-10T20:31:07.494Z"
   },
   {
    "duration": 28,
    "start_time": "2023-01-10T20:31:07.512Z"
   },
   {
    "duration": 44,
    "start_time": "2023-01-10T20:31:07.542Z"
   },
   {
    "duration": 17,
    "start_time": "2023-01-10T20:31:07.588Z"
   },
   {
    "duration": 468,
    "start_time": "2023-01-10T20:31:07.607Z"
   },
   {
    "duration": 424,
    "start_time": "2023-01-10T20:31:08.077Z"
   },
   {
    "duration": 333,
    "start_time": "2023-01-10T20:31:08.503Z"
   },
   {
    "duration": 39,
    "start_time": "2023-01-10T20:31:08.838Z"
   },
   {
    "duration": 15,
    "start_time": "2023-01-10T20:31:08.880Z"
   },
   {
    "duration": 42,
    "start_time": "2023-01-10T20:31:08.897Z"
   },
   {
    "duration": 42,
    "start_time": "2023-01-10T20:31:08.941Z"
   },
   {
    "duration": 164,
    "start_time": "2023-01-10T20:31:08.985Z"
   },
   {
    "duration": 186,
    "start_time": "2023-01-10T20:31:09.152Z"
   },
   {
    "duration": 63,
    "start_time": "2023-01-10T20:31:09.340Z"
   },
   {
    "duration": 32,
    "start_time": "2023-01-10T20:31:09.404Z"
   },
   {
    "duration": 97,
    "start_time": "2023-01-10T20:31:09.438Z"
   },
   {
    "duration": 26,
    "start_time": "2023-01-10T20:31:09.537Z"
   },
   {
    "duration": 30771,
    "start_time": "2023-01-10T20:31:09.568Z"
   },
   {
    "duration": 0,
    "start_time": "2023-01-10T20:31:40.341Z"
   },
   {
    "duration": 0,
    "start_time": "2023-01-10T20:31:40.343Z"
   },
   {
    "duration": 0,
    "start_time": "2023-01-10T20:31:40.344Z"
   },
   {
    "duration": 0,
    "start_time": "2023-01-10T20:31:40.345Z"
   },
   {
    "duration": 0,
    "start_time": "2023-01-10T20:31:40.346Z"
   },
   {
    "duration": 1,
    "start_time": "2023-01-10T20:31:40.347Z"
   },
   {
    "duration": 0,
    "start_time": "2023-01-10T20:31:40.349Z"
   },
   {
    "duration": 0,
    "start_time": "2023-01-10T20:31:40.350Z"
   },
   {
    "duration": 1917,
    "start_time": "2023-01-10T20:32:35.241Z"
   },
   {
    "duration": 7,
    "start_time": "2023-01-10T20:32:37.161Z"
   },
   {
    "duration": 215,
    "start_time": "2023-01-10T20:32:37.170Z"
   },
   {
    "duration": 21,
    "start_time": "2023-01-10T20:32:37.388Z"
   },
   {
    "duration": 16,
    "start_time": "2023-01-10T20:32:37.411Z"
   },
   {
    "duration": 28,
    "start_time": "2023-01-10T20:32:37.429Z"
   },
   {
    "duration": 15,
    "start_time": "2023-01-10T20:32:37.459Z"
   },
   {
    "duration": 30,
    "start_time": "2023-01-10T20:32:37.476Z"
   },
   {
    "duration": 36,
    "start_time": "2023-01-10T20:32:37.508Z"
   },
   {
    "duration": 76,
    "start_time": "2023-01-10T20:32:37.552Z"
   },
   {
    "duration": 13,
    "start_time": "2023-01-10T20:32:37.630Z"
   },
   {
    "duration": 14,
    "start_time": "2023-01-10T20:32:37.644Z"
   },
   {
    "duration": 20,
    "start_time": "2023-01-10T20:32:37.660Z"
   },
   {
    "duration": 45,
    "start_time": "2023-01-10T20:32:37.683Z"
   },
   {
    "duration": 16,
    "start_time": "2023-01-10T20:32:37.730Z"
   },
   {
    "duration": 17,
    "start_time": "2023-01-10T20:32:37.749Z"
   },
   {
    "duration": 17,
    "start_time": "2023-01-10T20:32:37.768Z"
   },
   {
    "duration": 41,
    "start_time": "2023-01-10T20:32:37.788Z"
   },
   {
    "duration": 65,
    "start_time": "2023-01-10T20:32:37.833Z"
   },
   {
    "duration": 26,
    "start_time": "2023-01-10T20:32:37.900Z"
   },
   {
    "duration": 15,
    "start_time": "2023-01-10T20:32:37.928Z"
   },
   {
    "duration": 25,
    "start_time": "2023-01-10T20:32:37.944Z"
   },
   {
    "duration": 22,
    "start_time": "2023-01-10T20:32:37.971Z"
   },
   {
    "duration": 13,
    "start_time": "2023-01-10T20:32:37.995Z"
   },
   {
    "duration": 18,
    "start_time": "2023-01-10T20:32:38.010Z"
   },
   {
    "duration": 274,
    "start_time": "2023-01-10T20:32:38.031Z"
   },
   {
    "duration": 25,
    "start_time": "2023-01-10T20:32:38.306Z"
   },
   {
    "duration": 5,
    "start_time": "2023-01-10T20:32:38.336Z"
   },
   {
    "duration": 28,
    "start_time": "2023-01-10T20:32:38.342Z"
   },
   {
    "duration": 19,
    "start_time": "2023-01-10T20:32:38.372Z"
   },
   {
    "duration": 13,
    "start_time": "2023-01-10T20:32:38.393Z"
   },
   {
    "duration": 32,
    "start_time": "2023-01-10T20:32:38.408Z"
   },
   {
    "duration": 19,
    "start_time": "2023-01-10T20:32:38.442Z"
   },
   {
    "duration": 226,
    "start_time": "2023-01-10T20:32:38.463Z"
   },
   {
    "duration": 10,
    "start_time": "2023-01-10T20:32:38.692Z"
   },
   {
    "duration": 242,
    "start_time": "2023-01-10T20:32:38.704Z"
   },
   {
    "duration": 8,
    "start_time": "2023-01-10T20:32:38.949Z"
   },
   {
    "duration": 23,
    "start_time": "2023-01-10T20:32:38.960Z"
   },
   {
    "duration": 19,
    "start_time": "2023-01-10T20:32:38.986Z"
   },
   {
    "duration": 4,
    "start_time": "2023-01-10T20:32:39.007Z"
   },
   {
    "duration": 6,
    "start_time": "2023-01-10T20:32:39.027Z"
   },
   {
    "duration": 20,
    "start_time": "2023-01-10T20:32:39.035Z"
   },
   {
    "duration": 12,
    "start_time": "2023-01-10T20:32:39.057Z"
   },
   {
    "duration": 30,
    "start_time": "2023-01-10T20:32:39.071Z"
   },
   {
    "duration": 137,
    "start_time": "2023-01-10T20:32:39.103Z"
   },
   {
    "duration": 4,
    "start_time": "2023-01-10T20:32:39.242Z"
   },
   {
    "duration": 26,
    "start_time": "2023-01-10T20:32:39.248Z"
   },
   {
    "duration": 35,
    "start_time": "2023-01-10T20:32:39.276Z"
   },
   {
    "duration": 20,
    "start_time": "2023-01-10T20:32:39.314Z"
   },
   {
    "duration": 6,
    "start_time": "2023-01-10T20:32:39.337Z"
   },
   {
    "duration": 31,
    "start_time": "2023-01-10T20:32:39.345Z"
   },
   {
    "duration": 38,
    "start_time": "2023-01-10T20:32:39.378Z"
   },
   {
    "duration": 34,
    "start_time": "2023-01-10T20:32:39.418Z"
   },
   {
    "duration": 17,
    "start_time": "2023-01-10T20:32:39.455Z"
   },
   {
    "duration": 513,
    "start_time": "2023-01-10T20:32:39.475Z"
   },
   {
    "duration": 460,
    "start_time": "2023-01-10T20:32:39.990Z"
   },
   {
    "duration": 348,
    "start_time": "2023-01-10T20:32:40.452Z"
   },
   {
    "duration": 42,
    "start_time": "2023-01-10T20:32:40.802Z"
   },
   {
    "duration": 13,
    "start_time": "2023-01-10T20:32:40.847Z"
   },
   {
    "duration": 26,
    "start_time": "2023-01-10T20:32:40.862Z"
   },
   {
    "duration": 47,
    "start_time": "2023-01-10T20:32:40.891Z"
   },
   {
    "duration": 165,
    "start_time": "2023-01-10T20:32:40.940Z"
   },
   {
    "duration": 151,
    "start_time": "2023-01-10T20:32:41.107Z"
   },
   {
    "duration": 73,
    "start_time": "2023-01-10T20:32:41.260Z"
   },
   {
    "duration": 15,
    "start_time": "2023-01-10T20:32:41.335Z"
   },
   {
    "duration": 106,
    "start_time": "2023-01-10T20:32:41.353Z"
   },
   {
    "duration": 27,
    "start_time": "2023-01-10T20:32:41.462Z"
   },
   {
    "duration": 91,
    "start_time": "2023-01-10T20:32:41.491Z"
   },
   {
    "duration": 1189,
    "start_time": "2023-01-10T20:32:41.584Z"
   },
   {
    "duration": 4,
    "start_time": "2023-01-10T20:32:42.775Z"
   },
   {
    "duration": 58,
    "start_time": "2023-01-10T20:32:42.781Z"
   },
   {
    "duration": 8,
    "start_time": "2023-01-10T20:32:42.841Z"
   },
   {
    "duration": 15,
    "start_time": "2023-01-10T20:32:42.850Z"
   },
   {
    "duration": 18,
    "start_time": "2023-01-10T20:32:42.867Z"
   },
   {
    "duration": 69,
    "start_time": "2023-01-10T20:32:42.888Z"
   },
   {
    "duration": 6,
    "start_time": "2023-01-10T20:32:42.961Z"
   },
   {
    "duration": 16,
    "start_time": "2023-01-10T20:32:42.969Z"
   },
   {
    "duration": 13,
    "start_time": "2023-01-10T20:32:42.989Z"
   },
   {
    "duration": 23,
    "start_time": "2023-01-10T20:32:43.004Z"
   },
   {
    "duration": 8,
    "start_time": "2023-01-10T20:32:43.029Z"
   },
   {
    "duration": 687,
    "start_time": "2023-01-10T20:32:43.040Z"
   },
   {
    "duration": 6,
    "start_time": "2023-01-10T20:32:43.826Z"
   },
   {
    "duration": 23,
    "start_time": "2023-01-10T20:32:43.834Z"
   },
   {
    "duration": 102,
    "start_time": "2023-01-10T20:32:43.932Z"
   },
   {
    "duration": 17,
    "start_time": "2023-01-10T20:32:44.036Z"
   },
   {
    "duration": 21,
    "start_time": "2023-01-10T20:32:44.055Z"
   },
   {
    "duration": 21,
    "start_time": "2023-01-10T20:32:44.078Z"
   },
   {
    "duration": 110,
    "start_time": "2023-01-10T20:32:44.101Z"
   },
   {
    "duration": 109,
    "start_time": "2023-01-10T20:32:44.213Z"
   },
   {
    "duration": 132,
    "start_time": "2023-01-10T20:32:44.327Z"
   },
   {
    "duration": 279,
    "start_time": "2023-01-10T20:32:44.461Z"
   },
   {
    "duration": 161,
    "start_time": "2023-01-10T20:32:44.742Z"
   },
   {
    "duration": 429,
    "start_time": "2023-01-10T20:32:44.905Z"
   },
   {
    "duration": 733,
    "start_time": "2023-01-10T20:32:45.336Z"
   },
   {
    "duration": 869,
    "start_time": "2023-01-10T20:32:46.072Z"
   },
   {
    "duration": 8,
    "start_time": "2023-01-10T20:32:46.943Z"
   },
   {
    "duration": 374,
    "start_time": "2023-01-10T20:32:46.953Z"
   },
   {
    "duration": 27,
    "start_time": "2023-01-10T20:32:47.329Z"
   },
   {
    "duration": 68,
    "start_time": "2023-01-10T20:32:47.358Z"
   },
   {
    "duration": 549,
    "start_time": "2023-01-10T20:32:47.429Z"
   },
   {
    "duration": 5,
    "start_time": "2023-01-10T20:32:47.980Z"
   },
   {
    "duration": 13,
    "start_time": "2023-01-10T20:32:47.986Z"
   },
   {
    "duration": 14,
    "start_time": "2023-01-10T20:32:48.001Z"
   },
   {
    "duration": 6,
    "start_time": "2023-01-10T20:32:48.028Z"
   },
   {
    "duration": 19,
    "start_time": "2023-01-10T20:32:48.035Z"
   },
   {
    "duration": 491,
    "start_time": "2023-01-10T20:32:48.055Z"
   },
   {
    "duration": 89,
    "start_time": "2023-01-10T20:32:48.551Z"
   },
   {
    "duration": 200,
    "start_time": "2023-01-10T20:32:48.646Z"
   },
   {
    "duration": 89,
    "start_time": "2023-01-10T20:32:48.849Z"
   },
   {
    "duration": 27105,
    "start_time": "2023-01-10T20:32:48.940Z"
   },
   {
    "duration": 14,
    "start_time": "2023-01-10T20:33:16.047Z"
   },
   {
    "duration": 0,
    "start_time": "2023-01-10T20:33:16.067Z"
   },
   {
    "duration": 0,
    "start_time": "2023-01-10T20:33:16.068Z"
   },
   {
    "duration": 0,
    "start_time": "2023-01-10T20:33:16.070Z"
   },
   {
    "duration": 0,
    "start_time": "2023-01-10T20:33:16.071Z"
   },
   {
    "duration": 0,
    "start_time": "2023-01-10T20:33:16.072Z"
   },
   {
    "duration": 0,
    "start_time": "2023-01-10T20:33:16.073Z"
   },
   {
    "duration": 0,
    "start_time": "2023-01-10T20:33:16.076Z"
   },
   {
    "duration": 0,
    "start_time": "2023-01-10T20:33:16.077Z"
   },
   {
    "duration": 0,
    "start_time": "2023-01-10T20:33:16.078Z"
   },
   {
    "duration": 0,
    "start_time": "2023-01-10T20:33:16.078Z"
   },
   {
    "duration": 0,
    "start_time": "2023-01-10T20:33:16.079Z"
   },
   {
    "duration": 0,
    "start_time": "2023-01-10T20:33:16.081Z"
   },
   {
    "duration": 0,
    "start_time": "2023-01-10T20:33:16.081Z"
   },
   {
    "duration": 0,
    "start_time": "2023-01-10T20:33:16.082Z"
   },
   {
    "duration": 0,
    "start_time": "2023-01-10T20:33:16.083Z"
   },
   {
    "duration": 0,
    "start_time": "2023-01-10T20:33:16.088Z"
   },
   {
    "duration": 0,
    "start_time": "2023-01-10T20:33:16.089Z"
   },
   {
    "duration": 0,
    "start_time": "2023-01-10T20:33:16.090Z"
   },
   {
    "duration": 0,
    "start_time": "2023-01-10T20:33:16.092Z"
   },
   {
    "duration": 0,
    "start_time": "2023-01-10T20:33:16.093Z"
   },
   {
    "duration": 0,
    "start_time": "2023-01-10T20:33:16.094Z"
   },
   {
    "duration": 0,
    "start_time": "2023-01-10T20:33:16.097Z"
   },
   {
    "duration": 0,
    "start_time": "2023-01-10T20:33:16.126Z"
   },
   {
    "duration": 0,
    "start_time": "2023-01-10T20:33:16.127Z"
   },
   {
    "duration": 0,
    "start_time": "2023-01-10T20:33:16.129Z"
   },
   {
    "duration": 0,
    "start_time": "2023-01-10T20:33:16.130Z"
   },
   {
    "duration": 0,
    "start_time": "2023-01-10T20:33:16.131Z"
   },
   {
    "duration": 0,
    "start_time": "2023-01-10T20:33:16.132Z"
   },
   {
    "duration": 0,
    "start_time": "2023-01-10T20:33:16.134Z"
   },
   {
    "duration": 0,
    "start_time": "2023-01-10T20:33:16.135Z"
   },
   {
    "duration": 0,
    "start_time": "2023-01-10T20:33:16.136Z"
   },
   {
    "duration": 0,
    "start_time": "2023-01-10T20:33:16.138Z"
   },
   {
    "duration": 0,
    "start_time": "2023-01-10T20:33:16.140Z"
   },
   {
    "duration": 0,
    "start_time": "2023-01-10T20:33:16.141Z"
   },
   {
    "duration": 0,
    "start_time": "2023-01-10T20:33:16.142Z"
   },
   {
    "duration": 0,
    "start_time": "2023-01-10T20:33:16.144Z"
   },
   {
    "duration": 0,
    "start_time": "2023-01-10T20:33:16.145Z"
   },
   {
    "duration": 0,
    "start_time": "2023-01-10T20:33:16.146Z"
   },
   {
    "duration": 0,
    "start_time": "2023-01-10T20:33:16.148Z"
   },
   {
    "duration": 0,
    "start_time": "2023-01-10T20:33:16.149Z"
   },
   {
    "duration": 0,
    "start_time": "2023-01-10T20:33:16.151Z"
   },
   {
    "duration": 0,
    "start_time": "2023-01-10T20:33:16.152Z"
   },
   {
    "duration": 0,
    "start_time": "2023-01-10T20:33:16.154Z"
   },
   {
    "duration": 0,
    "start_time": "2023-01-10T20:33:16.155Z"
   },
   {
    "duration": 1,
    "start_time": "2023-01-10T20:33:16.156Z"
   },
   {
    "duration": 0,
    "start_time": "2023-01-10T20:33:16.157Z"
   },
   {
    "duration": 0,
    "start_time": "2023-01-10T20:33:16.159Z"
   },
   {
    "duration": 0,
    "start_time": "2023-01-10T20:33:16.160Z"
   },
   {
    "duration": 0,
    "start_time": "2023-01-10T20:33:16.161Z"
   },
   {
    "duration": 0,
    "start_time": "2023-01-10T20:33:16.162Z"
   },
   {
    "duration": 0,
    "start_time": "2023-01-10T20:33:16.164Z"
   },
   {
    "duration": 0,
    "start_time": "2023-01-10T20:33:16.165Z"
   },
   {
    "duration": 0,
    "start_time": "2023-01-10T20:33:16.167Z"
   },
   {
    "duration": 0,
    "start_time": "2023-01-10T20:33:16.227Z"
   },
   {
    "duration": 0,
    "start_time": "2023-01-10T20:33:16.228Z"
   },
   {
    "duration": 0,
    "start_time": "2023-01-10T20:33:16.229Z"
   },
   {
    "duration": 0,
    "start_time": "2023-01-10T20:33:16.230Z"
   },
   {
    "duration": 0,
    "start_time": "2023-01-10T20:33:16.231Z"
   },
   {
    "duration": 0,
    "start_time": "2023-01-10T20:33:16.233Z"
   },
   {
    "duration": 0,
    "start_time": "2023-01-10T20:33:16.235Z"
   },
   {
    "duration": 0,
    "start_time": "2023-01-10T20:33:16.236Z"
   },
   {
    "duration": 0,
    "start_time": "2023-01-10T20:33:16.238Z"
   },
   {
    "duration": 0,
    "start_time": "2023-01-10T20:33:16.239Z"
   },
   {
    "duration": 0,
    "start_time": "2023-01-10T20:33:16.241Z"
   },
   {
    "duration": 0,
    "start_time": "2023-01-10T20:33:16.243Z"
   },
   {
    "duration": 0,
    "start_time": "2023-01-10T20:33:16.244Z"
   },
   {
    "duration": 0,
    "start_time": "2023-01-10T20:33:16.245Z"
   },
   {
    "duration": 0,
    "start_time": "2023-01-10T20:33:16.249Z"
   },
   {
    "duration": 0,
    "start_time": "2023-01-10T20:33:16.250Z"
   },
   {
    "duration": 0,
    "start_time": "2023-01-10T20:33:16.252Z"
   },
   {
    "duration": 0,
    "start_time": "2023-01-10T20:33:16.253Z"
   },
   {
    "duration": 0,
    "start_time": "2023-01-10T20:33:16.254Z"
   },
   {
    "duration": 0,
    "start_time": "2023-01-10T20:33:16.255Z"
   },
   {
    "duration": 0,
    "start_time": "2023-01-10T20:33:16.256Z"
   },
   {
    "duration": 0,
    "start_time": "2023-01-10T20:33:16.258Z"
   },
   {
    "duration": 0,
    "start_time": "2023-01-10T20:33:16.259Z"
   },
   {
    "duration": 0,
    "start_time": "2023-01-10T20:33:16.260Z"
   },
   {
    "duration": 0,
    "start_time": "2023-01-10T20:33:16.261Z"
   },
   {
    "duration": 0,
    "start_time": "2023-01-10T20:33:16.263Z"
   },
   {
    "duration": 0,
    "start_time": "2023-01-10T20:33:16.264Z"
   },
   {
    "duration": 0,
    "start_time": "2023-01-10T20:33:16.265Z"
   },
   {
    "duration": 0,
    "start_time": "2023-01-10T20:33:16.268Z"
   },
   {
    "duration": 0,
    "start_time": "2023-01-10T20:33:16.269Z"
   },
   {
    "duration": 0,
    "start_time": "2023-01-10T20:33:16.270Z"
   },
   {
    "duration": 0,
    "start_time": "2023-01-10T20:33:16.272Z"
   },
   {
    "duration": 0,
    "start_time": "2023-01-10T20:33:16.327Z"
   },
   {
    "duration": 0,
    "start_time": "2023-01-10T20:33:16.329Z"
   },
   {
    "duration": 0,
    "start_time": "2023-01-10T20:33:16.330Z"
   },
   {
    "duration": 0,
    "start_time": "2023-01-10T20:33:16.331Z"
   },
   {
    "duration": 0,
    "start_time": "2023-01-10T20:33:16.332Z"
   },
   {
    "duration": 0,
    "start_time": "2023-01-10T20:33:16.335Z"
   },
   {
    "duration": 0,
    "start_time": "2023-01-10T20:33:16.336Z"
   },
   {
    "duration": 1875,
    "start_time": "2023-01-10T20:33:30.830Z"
   },
   {
    "duration": 6,
    "start_time": "2023-01-10T20:33:32.708Z"
   },
   {
    "duration": 217,
    "start_time": "2023-01-10T20:33:32.716Z"
   },
   {
    "duration": 19,
    "start_time": "2023-01-10T20:33:32.935Z"
   },
   {
    "duration": 15,
    "start_time": "2023-01-10T20:33:32.956Z"
   },
   {
    "duration": 29,
    "start_time": "2023-01-10T20:33:32.973Z"
   },
   {
    "duration": 32,
    "start_time": "2023-01-10T20:33:33.004Z"
   },
   {
    "duration": 34,
    "start_time": "2023-01-10T20:33:33.038Z"
   },
   {
    "duration": 18,
    "start_time": "2023-01-10T20:33:33.074Z"
   },
   {
    "duration": 81,
    "start_time": "2023-01-10T20:33:33.094Z"
   },
   {
    "duration": 11,
    "start_time": "2023-01-10T20:33:33.177Z"
   },
   {
    "duration": 13,
    "start_time": "2023-01-10T20:33:33.189Z"
   },
   {
    "duration": 40,
    "start_time": "2023-01-10T20:33:33.204Z"
   },
   {
    "duration": 13,
    "start_time": "2023-01-10T20:33:33.248Z"
   },
   {
    "duration": 26,
    "start_time": "2023-01-10T20:33:33.263Z"
   },
   {
    "duration": 19,
    "start_time": "2023-01-10T20:33:33.291Z"
   },
   {
    "duration": 21,
    "start_time": "2023-01-10T20:33:33.327Z"
   },
   {
    "duration": 16,
    "start_time": "2023-01-10T20:33:33.352Z"
   },
   {
    "duration": 65,
    "start_time": "2023-01-10T20:33:33.369Z"
   },
   {
    "duration": 19,
    "start_time": "2023-01-10T20:33:33.437Z"
   },
   {
    "duration": 14,
    "start_time": "2023-01-10T20:33:33.458Z"
   },
   {
    "duration": 14,
    "start_time": "2023-01-10T20:33:33.474Z"
   },
   {
    "duration": 38,
    "start_time": "2023-01-10T20:33:33.490Z"
   },
   {
    "duration": 9,
    "start_time": "2023-01-10T20:33:33.530Z"
   },
   {
    "duration": 5,
    "start_time": "2023-01-10T20:33:33.541Z"
   },
   {
    "duration": 280,
    "start_time": "2023-01-10T20:33:33.547Z"
   },
   {
    "duration": 22,
    "start_time": "2023-01-10T20:33:33.830Z"
   },
   {
    "duration": 32,
    "start_time": "2023-01-10T20:33:33.854Z"
   },
   {
    "duration": 37,
    "start_time": "2023-01-10T20:33:33.888Z"
   },
   {
    "duration": 17,
    "start_time": "2023-01-10T20:33:33.927Z"
   },
   {
    "duration": 29,
    "start_time": "2023-01-10T20:33:33.946Z"
   },
   {
    "duration": 29,
    "start_time": "2023-01-10T20:33:33.977Z"
   },
   {
    "duration": 28,
    "start_time": "2023-01-10T20:33:34.008Z"
   },
   {
    "duration": 244,
    "start_time": "2023-01-10T20:33:34.041Z"
   },
   {
    "duration": 8,
    "start_time": "2023-01-10T20:33:34.287Z"
   },
   {
    "duration": 226,
    "start_time": "2023-01-10T20:33:34.297Z"
   },
   {
    "duration": 8,
    "start_time": "2023-01-10T20:33:34.526Z"
   },
   {
    "duration": 45,
    "start_time": "2023-01-10T20:33:34.537Z"
   },
   {
    "duration": 27,
    "start_time": "2023-01-10T20:33:34.585Z"
   },
   {
    "duration": 18,
    "start_time": "2023-01-10T20:33:34.614Z"
   },
   {
    "duration": 32,
    "start_time": "2023-01-10T20:33:34.637Z"
   },
   {
    "duration": 24,
    "start_time": "2023-01-10T20:33:34.671Z"
   },
   {
    "duration": 24,
    "start_time": "2023-01-10T20:33:34.697Z"
   },
   {
    "duration": 37,
    "start_time": "2023-01-10T20:33:34.723Z"
   },
   {
    "duration": 151,
    "start_time": "2023-01-10T20:33:34.763Z"
   },
   {
    "duration": 5,
    "start_time": "2023-01-10T20:33:34.916Z"
   },
   {
    "duration": 29,
    "start_time": "2023-01-10T20:33:34.926Z"
   },
   {
    "duration": 39,
    "start_time": "2023-01-10T20:33:34.957Z"
   },
   {
    "duration": 31,
    "start_time": "2023-01-10T20:33:34.999Z"
   },
   {
    "duration": 31,
    "start_time": "2023-01-10T20:33:35.032Z"
   },
   {
    "duration": 17,
    "start_time": "2023-01-10T20:33:35.065Z"
   },
   {
    "duration": 41,
    "start_time": "2023-01-10T20:33:35.084Z"
   },
   {
    "duration": 46,
    "start_time": "2023-01-10T20:33:35.127Z"
   },
   {
    "duration": 30,
    "start_time": "2023-01-10T20:33:35.175Z"
   },
   {
    "duration": 445,
    "start_time": "2023-01-10T20:33:35.207Z"
   },
   {
    "duration": 475,
    "start_time": "2023-01-10T20:33:35.658Z"
   },
   {
    "duration": 297,
    "start_time": "2023-01-10T20:33:36.135Z"
   },
   {
    "duration": 36,
    "start_time": "2023-01-10T20:33:36.433Z"
   },
   {
    "duration": 31,
    "start_time": "2023-01-10T20:33:36.470Z"
   },
   {
    "duration": 45,
    "start_time": "2023-01-10T20:33:36.502Z"
   },
   {
    "duration": 26,
    "start_time": "2023-01-10T20:33:36.550Z"
   },
   {
    "duration": 160,
    "start_time": "2023-01-10T20:33:36.578Z"
   },
   {
    "duration": 160,
    "start_time": "2023-01-10T20:33:36.740Z"
   },
   {
    "duration": 85,
    "start_time": "2023-01-10T20:33:36.903Z"
   },
   {
    "duration": 17,
    "start_time": "2023-01-10T20:33:36.990Z"
   },
   {
    "duration": 107,
    "start_time": "2023-01-10T20:33:37.009Z"
   },
   {
    "duration": 29,
    "start_time": "2023-01-10T20:33:37.119Z"
   },
   {
    "duration": 79,
    "start_time": "2023-01-10T20:33:37.149Z"
   },
   {
    "duration": 1100,
    "start_time": "2023-01-10T20:33:37.230Z"
   },
   {
    "duration": 4,
    "start_time": "2023-01-10T20:33:38.332Z"
   },
   {
    "duration": 59,
    "start_time": "2023-01-10T20:33:38.337Z"
   },
   {
    "duration": 6,
    "start_time": "2023-01-10T20:33:38.398Z"
   },
   {
    "duration": 24,
    "start_time": "2023-01-10T20:33:38.406Z"
   },
   {
    "duration": 11,
    "start_time": "2023-01-10T20:33:38.432Z"
   },
   {
    "duration": 53,
    "start_time": "2023-01-10T20:33:38.445Z"
   },
   {
    "duration": 170,
    "start_time": "2023-01-10T20:38:35.122Z"
   },
   {
    "duration": 53,
    "start_time": "2023-01-10T20:38:55.905Z"
   },
   {
    "duration": 215,
    "start_time": "2023-01-10T20:41:06.701Z"
   },
   {
    "duration": 450,
    "start_time": "2023-01-10T20:42:23.082Z"
   },
   {
    "duration": 525,
    "start_time": "2023-01-10T21:03:06.291Z"
   },
   {
    "duration": 21,
    "start_time": "2023-01-10T21:08:06.083Z"
   },
   {
    "duration": 225,
    "start_time": "2023-01-10T21:09:20.750Z"
   },
   {
    "duration": 11,
    "start_time": "2023-01-10T21:11:02.619Z"
   },
   {
    "duration": 9,
    "start_time": "2023-01-10T21:11:24.962Z"
   },
   {
    "duration": 6,
    "start_time": "2023-01-10T21:12:05.907Z"
   },
   {
    "duration": 8,
    "start_time": "2023-01-10T21:12:18.304Z"
   },
   {
    "duration": 1250,
    "start_time": "2023-01-10T21:12:36.927Z"
   },
   {
    "duration": 13,
    "start_time": "2023-01-10T21:12:45.148Z"
   },
   {
    "duration": 4,
    "start_time": "2023-01-10T21:13:54.163Z"
   },
   {
    "duration": 6,
    "start_time": "2023-01-10T21:13:54.939Z"
   },
   {
    "duration": 13,
    "start_time": "2023-01-10T21:13:56.720Z"
   },
   {
    "duration": 8,
    "start_time": "2023-01-10T21:14:00.367Z"
   },
   {
    "duration": 5,
    "start_time": "2023-01-10T21:14:03.664Z"
   },
   {
    "duration": 280,
    "start_time": "2023-01-10T21:14:14.945Z"
   },
   {
    "duration": 5,
    "start_time": "2023-01-10T21:15:03.029Z"
   },
   {
    "duration": 84,
    "start_time": "2023-01-10T21:15:03.953Z"
   },
   {
    "duration": 5,
    "start_time": "2023-01-10T21:15:06.578Z"
   },
   {
    "duration": 14,
    "start_time": "2023-01-10T21:15:13.367Z"
   },
   {
    "duration": 6,
    "start_time": "2023-01-10T21:15:15.440Z"
   },
   {
    "duration": 5,
    "start_time": "2023-01-10T21:15:16.463Z"
   },
   {
    "duration": 5,
    "start_time": "2023-01-10T21:17:30.482Z"
   },
   {
    "duration": 6,
    "start_time": "2023-01-10T21:18:27.427Z"
   },
   {
    "duration": 5,
    "start_time": "2023-01-10T21:20:26.980Z"
   },
   {
    "duration": 70,
    "start_time": "2023-01-10T21:20:30.230Z"
   },
   {
    "duration": 55091,
    "start_time": "2023-01-10T21:22:51.119Z"
   },
   {
    "duration": 4,
    "start_time": "2023-01-10T21:23:58.990Z"
   },
   {
    "duration": 4,
    "start_time": "2023-01-10T21:24:06.648Z"
   },
   {
    "duration": 68929,
    "start_time": "2023-01-10T21:24:18.810Z"
   },
   {
    "duration": 4,
    "start_time": "2023-01-10T21:25:27.741Z"
   },
   {
    "duration": 11,
    "start_time": "2023-01-10T21:25:27.747Z"
   },
   {
    "duration": 475159,
    "start_time": "2023-01-10T21:26:22.391Z"
   },
   {
    "duration": 4,
    "start_time": "2023-01-10T21:36:12.489Z"
   },
   {
    "duration": 5,
    "start_time": "2023-01-10T21:36:13.878Z"
   },
   {
    "duration": 260880,
    "start_time": "2023-01-10T21:37:02.892Z"
   },
   {
    "duration": 5,
    "start_time": "2023-01-10T21:43:35.928Z"
   },
   {
    "duration": 4,
    "start_time": "2023-01-10T21:43:39.761Z"
   },
   {
    "duration": 1430,
    "start_time": "2023-01-10T21:56:24.059Z"
   },
   {
    "duration": 5,
    "start_time": "2023-01-10T21:56:25.491Z"
   },
   {
    "duration": 197,
    "start_time": "2023-01-10T21:56:25.497Z"
   },
   {
    "duration": 20,
    "start_time": "2023-01-10T21:56:25.695Z"
   },
   {
    "duration": 43,
    "start_time": "2023-01-10T21:56:25.718Z"
   },
   {
    "duration": 27,
    "start_time": "2023-01-10T21:56:25.763Z"
   },
   {
    "duration": 41,
    "start_time": "2023-01-10T21:56:25.793Z"
   },
   {
    "duration": 71,
    "start_time": "2023-01-10T21:56:25.836Z"
   },
   {
    "duration": 15,
    "start_time": "2023-01-10T21:56:25.909Z"
   },
   {
    "duration": 56,
    "start_time": "2023-01-10T21:56:25.927Z"
   },
   {
    "duration": 8,
    "start_time": "2023-01-10T21:56:25.985Z"
   },
   {
    "duration": 12,
    "start_time": "2023-01-10T21:56:25.995Z"
   },
   {
    "duration": 28,
    "start_time": "2023-01-10T21:56:26.009Z"
   },
   {
    "duration": 16,
    "start_time": "2023-01-10T21:56:26.040Z"
   },
   {
    "duration": 22,
    "start_time": "2023-01-10T21:56:26.058Z"
   },
   {
    "duration": 45,
    "start_time": "2023-01-10T21:56:26.082Z"
   },
   {
    "duration": 21,
    "start_time": "2023-01-10T21:56:26.129Z"
   },
   {
    "duration": 18,
    "start_time": "2023-01-10T21:56:26.152Z"
   },
   {
    "duration": 46,
    "start_time": "2023-01-10T21:56:26.172Z"
   },
   {
    "duration": 18,
    "start_time": "2023-01-10T21:56:26.220Z"
   },
   {
    "duration": 14,
    "start_time": "2023-01-10T21:56:26.239Z"
   },
   {
    "duration": 63,
    "start_time": "2023-01-10T21:56:26.255Z"
   },
   {
    "duration": 26,
    "start_time": "2023-01-10T21:56:26.320Z"
   },
   {
    "duration": 14,
    "start_time": "2023-01-10T21:56:26.348Z"
   },
   {
    "duration": 22,
    "start_time": "2023-01-10T21:56:26.364Z"
   },
   {
    "duration": 209,
    "start_time": "2023-01-10T21:56:26.388Z"
   },
   {
    "duration": 15,
    "start_time": "2023-01-10T21:56:26.599Z"
   },
   {
    "duration": 5,
    "start_time": "2023-01-10T21:56:26.627Z"
   },
   {
    "duration": 19,
    "start_time": "2023-01-10T21:56:26.634Z"
   },
   {
    "duration": 11,
    "start_time": "2023-01-10T21:56:26.654Z"
   },
   {
    "duration": 10,
    "start_time": "2023-01-10T21:56:26.667Z"
   },
   {
    "duration": 12,
    "start_time": "2023-01-10T21:56:26.678Z"
   },
   {
    "duration": 43,
    "start_time": "2023-01-10T21:56:26.692Z"
   },
   {
    "duration": 190,
    "start_time": "2023-01-10T21:56:26.736Z"
   },
   {
    "duration": 6,
    "start_time": "2023-01-10T21:56:26.928Z"
   },
   {
    "duration": 162,
    "start_time": "2023-01-10T21:56:26.936Z"
   },
   {
    "duration": 6,
    "start_time": "2023-01-10T21:56:27.099Z"
   },
   {
    "duration": 31,
    "start_time": "2023-01-10T21:56:27.107Z"
   },
   {
    "duration": 15,
    "start_time": "2023-01-10T21:56:27.140Z"
   },
   {
    "duration": 9,
    "start_time": "2023-01-10T21:56:27.157Z"
   },
   {
    "duration": 4,
    "start_time": "2023-01-10T21:56:27.261Z"
   },
   {
    "duration": 9,
    "start_time": "2023-01-10T21:56:27.267Z"
   },
   {
    "duration": 6,
    "start_time": "2023-01-10T21:56:27.278Z"
   },
   {
    "duration": 18,
    "start_time": "2023-01-10T21:56:27.286Z"
   },
   {
    "duration": 29,
    "start_time": "2023-01-10T21:56:27.306Z"
   },
   {
    "duration": 4,
    "start_time": "2023-01-10T21:56:27.336Z"
   },
   {
    "duration": 19,
    "start_time": "2023-01-10T21:56:27.341Z"
   },
   {
    "duration": 18,
    "start_time": "2023-01-10T21:56:27.362Z"
   },
   {
    "duration": 27,
    "start_time": "2023-01-10T21:56:27.382Z"
   },
   {
    "duration": 18,
    "start_time": "2023-01-10T21:56:27.411Z"
   },
   {
    "duration": 9,
    "start_time": "2023-01-10T21:56:27.430Z"
   },
   {
    "duration": 20,
    "start_time": "2023-01-10T21:56:27.441Z"
   },
   {
    "duration": 64,
    "start_time": "2023-01-10T21:56:27.463Z"
   },
   {
    "duration": 13,
    "start_time": "2023-01-10T21:56:27.530Z"
   },
   {
    "duration": 334,
    "start_time": "2023-01-10T21:56:27.546Z"
   },
   {
    "duration": 310,
    "start_time": "2023-01-10T21:56:27.882Z"
   },
   {
    "duration": 236,
    "start_time": "2023-01-10T21:56:28.194Z"
   },
   {
    "duration": 28,
    "start_time": "2023-01-10T21:56:28.432Z"
   },
   {
    "duration": 10,
    "start_time": "2023-01-10T21:56:28.462Z"
   },
   {
    "duration": 100,
    "start_time": "2023-01-10T21:56:28.473Z"
   },
   {
    "duration": 24,
    "start_time": "2023-01-10T21:56:28.575Z"
   },
   {
    "duration": 108,
    "start_time": "2023-01-10T21:56:28.601Z"
   },
   {
    "duration": 125,
    "start_time": "2023-01-10T21:56:28.711Z"
   },
   {
    "duration": 47,
    "start_time": "2023-01-10T21:56:28.838Z"
   },
   {
    "duration": 14,
    "start_time": "2023-01-10T21:56:28.887Z"
   },
   {
    "duration": 103,
    "start_time": "2023-01-10T21:56:28.904Z"
   },
   {
    "duration": 33,
    "start_time": "2023-01-10T21:56:29.009Z"
   },
   {
    "duration": 39,
    "start_time": "2023-01-10T21:56:29.045Z"
   },
   {
    "duration": 914,
    "start_time": "2023-01-10T21:56:29.085Z"
   },
   {
    "duration": 4,
    "start_time": "2023-01-10T21:56:30.001Z"
   },
   {
    "duration": 56,
    "start_time": "2023-01-10T21:56:30.007Z"
   },
   {
    "duration": 7,
    "start_time": "2023-01-10T21:56:30.065Z"
   },
   {
    "duration": 34,
    "start_time": "2023-01-10T21:56:30.074Z"
   },
   {
    "duration": 29,
    "start_time": "2023-01-10T21:56:30.110Z"
   },
   {
    "duration": 119,
    "start_time": "2023-01-10T21:56:30.140Z"
   },
   {
    "duration": 46,
    "start_time": "2023-01-10T21:56:30.261Z"
   },
   {
    "duration": 10,
    "start_time": "2023-01-10T21:56:30.310Z"
   },
   {
    "duration": 18,
    "start_time": "2023-01-10T21:56:30.325Z"
   },
   {
    "duration": 29,
    "start_time": "2023-01-10T21:56:30.345Z"
   },
   {
    "duration": 22,
    "start_time": "2023-01-10T21:56:30.375Z"
   },
   {
    "duration": 15,
    "start_time": "2023-01-10T21:56:30.399Z"
   },
   {
    "duration": 22,
    "start_time": "2023-01-10T21:56:30.416Z"
   },
   {
    "duration": 95,
    "start_time": "2023-01-10T21:56:30.440Z"
   },
   {
    "duration": 263,
    "start_time": "2023-01-10T21:56:30.537Z"
   },
   {
    "duration": 128,
    "start_time": "2023-01-10T21:56:30.801Z"
   },
   {
    "duration": 106,
    "start_time": "2023-01-10T21:56:30.933Z"
   },
   {
    "duration": 23,
    "start_time": "2023-01-10T21:56:31.040Z"
   },
   {
    "duration": 11,
    "start_time": "2023-01-10T21:56:31.064Z"
   },
   {
    "duration": 16,
    "start_time": "2023-01-10T21:56:31.077Z"
   },
   {
    "duration": 83,
    "start_time": "2023-01-10T21:56:31.095Z"
   },
   {
    "duration": 58500,
    "start_time": "2023-01-10T21:56:31.180Z"
   },
   {
    "duration": 4,
    "start_time": "2023-01-10T21:57:29.682Z"
   },
   {
    "duration": 8,
    "start_time": "2023-01-10T21:57:29.688Z"
   },
   {
    "duration": 72738,
    "start_time": "2023-01-10T21:57:29.698Z"
   },
   {
    "duration": 4,
    "start_time": "2023-01-10T21:58:42.438Z"
   },
   {
    "duration": 16,
    "start_time": "2023-01-10T21:58:42.445Z"
   },
   {
    "duration": 478513,
    "start_time": "2023-01-10T21:58:42.464Z"
   },
   {
    "duration": 4,
    "start_time": "2023-01-10T22:06:40.979Z"
   },
   {
    "duration": 16,
    "start_time": "2023-01-10T22:06:40.984Z"
   },
   {
    "duration": 234046,
    "start_time": "2023-01-10T22:06:41.002Z"
   },
   {
    "duration": 4,
    "start_time": "2023-01-10T22:10:35.049Z"
   },
   {
    "duration": 22,
    "start_time": "2023-01-10T22:10:35.055Z"
   },
   {
    "duration": 723343,
    "start_time": "2023-01-10T22:10:35.078Z"
   },
   {
    "duration": 4,
    "start_time": "2023-01-10T22:22:38.423Z"
   },
   {
    "duration": 5,
    "start_time": "2023-01-10T22:22:53.208Z"
   },
   {
    "duration": 35,
    "start_time": "2023-01-10T22:24:51.510Z"
   },
   {
    "duration": 4,
    "start_time": "2023-01-10T22:25:43.704Z"
   },
   {
    "duration": 4,
    "start_time": "2023-01-10T22:27:32.820Z"
   },
   {
    "duration": 7,
    "start_time": "2023-01-10T22:27:43.265Z"
   },
   {
    "duration": 7,
    "start_time": "2023-01-10T22:28:25.989Z"
   },
   {
    "duration": 110,
    "start_time": "2023-01-10T22:29:25.333Z"
   },
   {
    "duration": 3,
    "start_time": "2023-01-10T22:31:55.392Z"
   },
   {
    "duration": 5,
    "start_time": "2023-01-10T22:32:14.134Z"
   },
   {
    "duration": 10,
    "start_time": "2023-01-10T22:33:06.442Z"
   },
   {
    "duration": 124,
    "start_time": "2023-01-10T22:33:24.543Z"
   },
   {
    "duration": 121,
    "start_time": "2023-01-10T22:33:49.089Z"
   },
   {
    "duration": 240,
    "start_time": "2023-01-10T22:34:15.001Z"
   },
   {
    "duration": 229,
    "start_time": "2023-01-10T22:34:55.361Z"
   },
   {
    "duration": 306,
    "start_time": "2023-01-10T22:46:43.415Z"
   },
   {
    "duration": 248,
    "start_time": "2023-01-10T22:47:12.979Z"
   },
   {
    "duration": 282,
    "start_time": "2023-01-10T22:48:01.966Z"
   },
   {
    "duration": 71,
    "start_time": "2023-01-10T23:03:23.656Z"
   },
   {
    "duration": 66,
    "start_time": "2023-01-10T23:03:36.776Z"
   },
   {
    "duration": 2429,
    "start_time": "2023-01-11T05:30:48.833Z"
   },
   {
    "duration": 5,
    "start_time": "2023-01-11T05:30:51.264Z"
   },
   {
    "duration": 190,
    "start_time": "2023-01-11T05:30:51.270Z"
   },
   {
    "duration": 13,
    "start_time": "2023-01-11T05:30:53.390Z"
   },
   {
    "duration": 13,
    "start_time": "2023-01-11T05:30:53.808Z"
   },
   {
    "duration": 25,
    "start_time": "2023-01-11T05:30:54.061Z"
   },
   {
    "duration": 11,
    "start_time": "2023-01-11T05:30:54.268Z"
   },
   {
    "duration": 28,
    "start_time": "2023-01-11T05:30:54.467Z"
   },
   {
    "duration": 14,
    "start_time": "2023-01-11T05:30:54.732Z"
   },
   {
    "duration": 49,
    "start_time": "2023-01-11T05:30:54.977Z"
   },
   {
    "duration": 10,
    "start_time": "2023-01-11T05:30:55.271Z"
   },
   {
    "duration": 11,
    "start_time": "2023-01-11T05:30:55.462Z"
   },
   {
    "duration": 18,
    "start_time": "2023-01-11T05:30:55.705Z"
   },
   {
    "duration": 13,
    "start_time": "2023-01-11T05:30:55.904Z"
   },
   {
    "duration": 11,
    "start_time": "2023-01-11T05:30:56.095Z"
   },
   {
    "duration": 15,
    "start_time": "2023-01-11T05:30:56.274Z"
   },
   {
    "duration": 15,
    "start_time": "2023-01-11T05:30:56.962Z"
   },
   {
    "duration": 11,
    "start_time": "2023-01-11T05:30:57.309Z"
   },
   {
    "duration": 34,
    "start_time": "2023-01-11T05:30:57.619Z"
   },
   {
    "duration": 13,
    "start_time": "2023-01-11T05:30:57.825Z"
   },
   {
    "duration": 11,
    "start_time": "2023-01-11T05:30:58.257Z"
   },
   {
    "duration": 11,
    "start_time": "2023-01-11T05:30:58.581Z"
   },
   {
    "duration": 11,
    "start_time": "2023-01-11T05:31:02.767Z"
   },
   {
    "duration": 8,
    "start_time": "2023-01-11T05:31:03.237Z"
   },
   {
    "duration": 6,
    "start_time": "2023-01-11T05:31:04.011Z"
   },
   {
    "duration": 163,
    "start_time": "2023-01-11T05:31:06.355Z"
   },
   {
    "duration": 14,
    "start_time": "2023-01-11T05:31:08.519Z"
   },
   {
    "duration": 4,
    "start_time": "2023-01-11T05:31:09.686Z"
   },
   {
    "duration": 13,
    "start_time": "2023-01-11T05:31:19.277Z"
   },
   {
    "duration": 11,
    "start_time": "2023-01-11T05:31:19.736Z"
   },
   {
    "duration": 10,
    "start_time": "2023-01-11T05:31:21.162Z"
   },
   {
    "duration": 12,
    "start_time": "2023-01-11T05:31:22.252Z"
   },
   {
    "duration": 26,
    "start_time": "2023-01-11T05:31:22.928Z"
   },
   {
    "duration": 155,
    "start_time": "2023-01-11T05:31:23.398Z"
   },
   {
    "duration": 6,
    "start_time": "2023-01-11T05:31:23.563Z"
   },
   {
    "duration": 183,
    "start_time": "2023-01-11T05:31:23.973Z"
   },
   {
    "duration": 5,
    "start_time": "2023-01-11T05:31:24.532Z"
   },
   {
    "duration": 14,
    "start_time": "2023-01-11T05:31:27.497Z"
   },
   {
    "duration": 11,
    "start_time": "2023-01-11T05:31:28.822Z"
   },
   {
    "duration": 5,
    "start_time": "2023-01-11T05:31:28.988Z"
   },
   {
    "duration": 4,
    "start_time": "2023-01-11T05:31:29.178Z"
   },
   {
    "duration": 6,
    "start_time": "2023-01-11T05:31:29.518Z"
   },
   {
    "duration": 6,
    "start_time": "2023-01-11T05:31:29.725Z"
   },
   {
    "duration": 17,
    "start_time": "2023-01-11T05:31:29.931Z"
   },
   {
    "duration": 14,
    "start_time": "2023-01-11T05:31:32.427Z"
   },
   {
    "duration": 4,
    "start_time": "2023-01-11T05:31:32.715Z"
   },
   {
    "duration": 18,
    "start_time": "2023-01-11T05:31:33.022Z"
   },
   {
    "duration": 14,
    "start_time": "2023-01-11T05:31:34.944Z"
   },
   {
    "duration": 22,
    "start_time": "2023-01-11T05:31:36.900Z"
   },
   {
    "duration": 5,
    "start_time": "2023-01-11T05:31:37.463Z"
   },
   {
    "duration": 3,
    "start_time": "2023-01-11T05:31:37.700Z"
   },
   {
    "duration": 14,
    "start_time": "2023-01-11T05:31:39.715Z"
   },
   {
    "duration": 21,
    "start_time": "2023-01-11T05:31:41.000Z"
   },
   {
    "duration": 11,
    "start_time": "2023-01-11T05:31:41.743Z"
   },
   {
    "duration": 390,
    "start_time": "2023-01-11T05:31:43.474Z"
   },
   {
    "duration": 298,
    "start_time": "2023-01-11T05:31:44.180Z"
   },
   {
    "duration": 230,
    "start_time": "2023-01-11T05:31:44.934Z"
   },
   {
    "duration": 25,
    "start_time": "2023-01-11T05:31:46.892Z"
   },
   {
    "duration": 12,
    "start_time": "2023-01-11T05:31:59.717Z"
   },
   {
    "duration": 24,
    "start_time": "2023-01-11T05:32:01.511Z"
   },
   {
    "duration": 25,
    "start_time": "2023-01-11T05:32:02.113Z"
   },
   {
    "duration": 126,
    "start_time": "2023-01-11T05:32:04.563Z"
   },
   {
    "duration": 118,
    "start_time": "2023-01-11T05:32:05.635Z"
   },
   {
    "duration": 48,
    "start_time": "2023-01-11T05:32:08.225Z"
   },
   {
    "duration": 14,
    "start_time": "2023-01-11T05:32:08.911Z"
   },
   {
    "duration": 86,
    "start_time": "2023-01-11T05:32:10.308Z"
   },
   {
    "duration": 22,
    "start_time": "2023-01-11T05:32:12.265Z"
   },
   {
    "duration": 40,
    "start_time": "2023-01-11T05:32:15.835Z"
   },
   {
    "duration": 882,
    "start_time": "2023-01-11T05:32:16.432Z"
   },
   {
    "duration": 3,
    "start_time": "2023-01-11T05:32:40.752Z"
   },
   {
    "duration": 33,
    "start_time": "2023-01-11T05:32:43.049Z"
   },
   {
    "duration": 7,
    "start_time": "2023-01-11T05:32:46.958Z"
   },
   {
    "duration": 6,
    "start_time": "2023-01-11T05:32:47.700Z"
   },
   {
    "duration": 6,
    "start_time": "2023-01-11T05:32:51.568Z"
   },
   {
    "duration": 35,
    "start_time": "2023-01-11T05:32:52.485Z"
   },
   {
    "duration": 37,
    "start_time": "2023-01-11T05:33:08.580Z"
   },
   {
    "duration": 10,
    "start_time": "2023-01-11T05:33:09.186Z"
   },
   {
    "duration": 5,
    "start_time": "2023-01-11T05:36:44.266Z"
   },
   {
    "duration": 7,
    "start_time": "2023-01-11T05:36:44.809Z"
   },
   {
    "duration": 12,
    "start_time": "2023-01-11T05:36:46.516Z"
   },
   {
    "duration": 6,
    "start_time": "2023-01-11T05:36:51.618Z"
   },
   {
    "duration": 6,
    "start_time": "2023-01-11T05:36:56.127Z"
   },
   {
    "duration": 821,
    "start_time": "2023-01-11T05:36:59.356Z"
   },
   {
    "duration": 3,
    "start_time": "2023-01-11T05:37:37.587Z"
   },
   {
    "duration": 161,
    "start_time": "2023-01-11T05:40:29.518Z"
   },
   {
    "duration": 5,
    "start_time": "2023-01-11T05:41:01.469Z"
   },
   {
    "duration": 62,
    "start_time": "2023-01-11T05:41:02.023Z"
   },
   {
    "duration": 5,
    "start_time": "2023-01-11T05:41:02.786Z"
   },
   {
    "duration": 13,
    "start_time": "2023-01-11T05:41:19.840Z"
   },
   {
    "duration": 1914,
    "start_time": "2023-01-11T21:17:25.366Z"
   },
   {
    "duration": 5,
    "start_time": "2023-01-11T21:17:27.283Z"
   },
   {
    "duration": 519,
    "start_time": "2023-01-11T21:17:27.290Z"
   },
   {
    "duration": 21,
    "start_time": "2023-01-11T21:17:27.813Z"
   },
   {
    "duration": 16,
    "start_time": "2023-01-11T21:17:27.836Z"
   },
   {
    "duration": 25,
    "start_time": "2023-01-11T21:17:27.854Z"
   },
   {
    "duration": 32,
    "start_time": "2023-01-11T21:17:27.880Z"
   },
   {
    "duration": 29,
    "start_time": "2023-01-11T21:17:27.916Z"
   },
   {
    "duration": 17,
    "start_time": "2023-01-11T21:17:27.947Z"
   },
   {
    "duration": 62,
    "start_time": "2023-01-11T21:17:27.966Z"
   },
   {
    "duration": 10,
    "start_time": "2023-01-11T21:17:28.029Z"
   },
   {
    "duration": 13,
    "start_time": "2023-01-11T21:17:28.040Z"
   },
   {
    "duration": 16,
    "start_time": "2023-01-11T21:17:28.055Z"
   },
   {
    "duration": 17,
    "start_time": "2023-01-11T21:17:28.101Z"
   },
   {
    "duration": 12,
    "start_time": "2023-01-11T21:17:28.120Z"
   },
   {
    "duration": 14,
    "start_time": "2023-01-11T21:17:28.133Z"
   },
   {
    "duration": 15,
    "start_time": "2023-01-11T21:17:28.148Z"
   },
   {
    "duration": 39,
    "start_time": "2023-01-11T21:17:28.165Z"
   },
   {
    "duration": 53,
    "start_time": "2023-01-11T21:17:28.205Z"
   },
   {
    "duration": 14,
    "start_time": "2023-01-11T21:17:28.260Z"
   },
   {
    "duration": 15,
    "start_time": "2023-01-11T21:17:28.276Z"
   },
   {
    "duration": 13,
    "start_time": "2023-01-11T21:17:28.293Z"
   },
   {
    "duration": 31,
    "start_time": "2023-01-11T21:17:28.309Z"
   },
   {
    "duration": 13,
    "start_time": "2023-01-11T21:17:28.341Z"
   },
   {
    "duration": 4,
    "start_time": "2023-01-11T21:17:28.355Z"
   },
   {
    "duration": 202,
    "start_time": "2023-01-11T21:17:28.361Z"
   },
   {
    "duration": 18,
    "start_time": "2023-01-11T21:17:28.565Z"
   },
   {
    "duration": 4,
    "start_time": "2023-01-11T21:17:28.584Z"
   },
   {
    "duration": 20,
    "start_time": "2023-01-11T21:17:28.598Z"
   },
   {
    "duration": 15,
    "start_time": "2023-01-11T21:17:28.620Z"
   },
   {
    "duration": 13,
    "start_time": "2023-01-11T21:17:28.636Z"
   },
   {
    "duration": 12,
    "start_time": "2023-01-11T21:17:28.650Z"
   },
   {
    "duration": 45,
    "start_time": "2023-01-11T21:17:28.664Z"
   },
   {
    "duration": 163,
    "start_time": "2023-01-11T21:17:28.715Z"
   },
   {
    "duration": 25,
    "start_time": "2023-01-11T21:17:28.879Z"
   },
   {
    "duration": 139,
    "start_time": "2023-01-11T21:17:28.905Z"
   },
   {
    "duration": 5,
    "start_time": "2023-01-11T21:17:29.046Z"
   },
   {
    "duration": 17,
    "start_time": "2023-01-11T21:17:29.052Z"
   },
   {
    "duration": 30,
    "start_time": "2023-01-11T21:17:29.071Z"
   },
   {
    "duration": 5,
    "start_time": "2023-01-11T21:17:29.109Z"
   },
   {
    "duration": 7,
    "start_time": "2023-01-11T21:17:29.191Z"
   },
   {
    "duration": 30,
    "start_time": "2023-01-11T21:17:29.201Z"
   },
   {
    "duration": 11,
    "start_time": "2023-01-11T21:17:29.233Z"
   },
   {
    "duration": 21,
    "start_time": "2023-01-11T21:17:29.246Z"
   },
   {
    "duration": 21,
    "start_time": "2023-01-11T21:17:29.269Z"
   },
   {
    "duration": 5,
    "start_time": "2023-01-11T21:17:29.291Z"
   },
   {
    "duration": 29,
    "start_time": "2023-01-11T21:17:29.299Z"
   },
   {
    "duration": 13,
    "start_time": "2023-01-11T21:17:29.330Z"
   },
   {
    "duration": 19,
    "start_time": "2023-01-11T21:17:29.345Z"
   },
   {
    "duration": 50,
    "start_time": "2023-01-11T21:17:29.366Z"
   },
   {
    "duration": 6,
    "start_time": "2023-01-11T21:17:29.418Z"
   },
   {
    "duration": 18,
    "start_time": "2023-01-11T21:17:29.425Z"
   },
   {
    "duration": 26,
    "start_time": "2023-01-11T21:17:29.445Z"
   },
   {
    "duration": 56,
    "start_time": "2023-01-11T21:17:29.474Z"
   },
   {
    "duration": 347,
    "start_time": "2023-01-11T21:17:29.532Z"
   },
   {
    "duration": 355,
    "start_time": "2023-01-11T21:17:29.881Z"
   },
   {
    "duration": 262,
    "start_time": "2023-01-11T21:17:30.238Z"
   },
   {
    "duration": 31,
    "start_time": "2023-01-11T21:17:30.501Z"
   },
   {
    "duration": 26,
    "start_time": "2023-01-11T21:17:30.534Z"
   },
   {
    "duration": 51,
    "start_time": "2023-01-11T21:17:30.562Z"
   },
   {
    "duration": 43,
    "start_time": "2023-01-11T21:17:30.615Z"
   },
   {
    "duration": 177,
    "start_time": "2023-01-11T21:17:30.659Z"
   },
   {
    "duration": 127,
    "start_time": "2023-01-11T21:17:30.838Z"
   },
   {
    "duration": 64,
    "start_time": "2023-01-11T21:17:30.967Z"
   },
   {
    "duration": 14,
    "start_time": "2023-01-11T21:17:31.032Z"
   },
   {
    "duration": 113,
    "start_time": "2023-01-11T21:17:31.048Z"
   },
   {
    "duration": 35,
    "start_time": "2023-01-11T21:17:31.163Z"
   },
   {
    "duration": 52,
    "start_time": "2023-01-11T21:17:31.199Z"
   },
   {
    "duration": 1002,
    "start_time": "2023-01-11T21:17:31.253Z"
   },
   {
    "duration": 5,
    "start_time": "2023-01-11T21:17:32.257Z"
   },
   {
    "duration": 72,
    "start_time": "2023-01-11T21:17:32.263Z"
   },
   {
    "duration": 25,
    "start_time": "2023-01-11T21:17:32.336Z"
   },
   {
    "duration": 10,
    "start_time": "2023-01-11T21:17:32.364Z"
   },
   {
    "duration": 8,
    "start_time": "2023-01-11T21:17:32.376Z"
   },
   {
    "duration": 58,
    "start_time": "2023-01-11T21:17:32.386Z"
   },
   {
    "duration": 41,
    "start_time": "2023-01-11T21:17:32.446Z"
   },
   {
    "duration": 17,
    "start_time": "2023-01-11T21:17:32.489Z"
   },
   {
    "duration": 46,
    "start_time": "2023-01-11T21:17:32.508Z"
   },
   {
    "duration": 20,
    "start_time": "2023-01-11T21:17:32.556Z"
   },
   {
    "duration": 48,
    "start_time": "2023-01-11T21:17:32.577Z"
   },
   {
    "duration": 20,
    "start_time": "2023-01-11T21:17:32.627Z"
   },
   {
    "duration": 30,
    "start_time": "2023-01-11T21:17:32.650Z"
   },
   {
    "duration": 1019,
    "start_time": "2023-01-11T21:17:32.681Z"
   },
   {
    "duration": 7,
    "start_time": "2023-01-11T21:17:33.702Z"
   },
   {
    "duration": 19,
    "start_time": "2023-01-11T21:17:33.710Z"
   },
   {
    "duration": 268,
    "start_time": "2023-01-11T21:17:33.731Z"
   },
   {
    "duration": 20,
    "start_time": "2023-01-11T21:17:34.001Z"
   },
   {
    "duration": 19,
    "start_time": "2023-01-11T21:17:34.023Z"
   },
   {
    "duration": 6,
    "start_time": "2023-01-11T21:17:34.044Z"
   },
   {
    "duration": 60,
    "start_time": "2023-01-11T21:17:34.052Z"
   },
   {
    "duration": 100,
    "start_time": "2023-01-11T21:17:34.114Z"
   },
   {
    "duration": 62358,
    "start_time": "2023-01-11T21:17:34.216Z"
   },
   {
    "duration": 4,
    "start_time": "2023-01-11T21:18:36.576Z"
   },
   {
    "duration": 34,
    "start_time": "2023-01-11T21:18:36.581Z"
   },
   {
    "duration": 76607,
    "start_time": "2023-01-11T21:18:36.617Z"
   },
   {
    "duration": 4,
    "start_time": "2023-01-11T21:19:53.226Z"
   },
   {
    "duration": 12,
    "start_time": "2023-01-11T21:19:53.231Z"
   },
   {
    "duration": 507510,
    "start_time": "2023-01-11T21:19:53.244Z"
   },
   {
    "duration": 4,
    "start_time": "2023-01-11T21:28:20.756Z"
   },
   {
    "duration": 27,
    "start_time": "2023-01-11T21:28:20.763Z"
   },
   {
    "duration": 213069,
    "start_time": "2023-01-11T21:28:20.792Z"
   },
   {
    "duration": 4,
    "start_time": "2023-01-11T21:31:53.862Z"
   },
   {
    "duration": 5,
    "start_time": "2023-01-11T21:31:53.868Z"
   },
   {
    "duration": 1481,
    "start_time": "2023-01-11T21:46:17.380Z"
   },
   {
    "duration": 4,
    "start_time": "2023-01-11T21:46:18.863Z"
   },
   {
    "duration": 195,
    "start_time": "2023-01-11T21:46:18.869Z"
   },
   {
    "duration": 16,
    "start_time": "2023-01-11T21:46:19.066Z"
   },
   {
    "duration": 27,
    "start_time": "2023-01-11T21:46:19.083Z"
   },
   {
    "duration": 21,
    "start_time": "2023-01-11T21:46:19.111Z"
   },
   {
    "duration": 12,
    "start_time": "2023-01-11T21:46:19.133Z"
   },
   {
    "duration": 24,
    "start_time": "2023-01-11T21:46:19.147Z"
   },
   {
    "duration": 36,
    "start_time": "2023-01-11T21:46:19.173Z"
   },
   {
    "duration": 49,
    "start_time": "2023-01-11T21:46:19.212Z"
   },
   {
    "duration": 9,
    "start_time": "2023-01-11T21:46:19.263Z"
   },
   {
    "duration": 29,
    "start_time": "2023-01-11T21:46:19.273Z"
   },
   {
    "duration": 19,
    "start_time": "2023-01-11T21:46:19.303Z"
   },
   {
    "duration": 10,
    "start_time": "2023-01-11T21:46:19.323Z"
   },
   {
    "duration": 14,
    "start_time": "2023-01-11T21:46:19.335Z"
   },
   {
    "duration": 14,
    "start_time": "2023-01-11T21:46:19.351Z"
   },
   {
    "duration": 39,
    "start_time": "2023-01-11T21:46:19.366Z"
   },
   {
    "duration": 27,
    "start_time": "2023-01-11T21:46:19.406Z"
   },
   {
    "duration": 42,
    "start_time": "2023-01-11T21:46:19.435Z"
   },
   {
    "duration": 19,
    "start_time": "2023-01-11T21:46:19.479Z"
   },
   {
    "duration": 15,
    "start_time": "2023-01-11T21:46:19.500Z"
   },
   {
    "duration": 19,
    "start_time": "2023-01-11T21:46:19.517Z"
   },
   {
    "duration": 20,
    "start_time": "2023-01-11T21:46:19.538Z"
   },
   {
    "duration": 8,
    "start_time": "2023-01-11T21:46:19.560Z"
   },
   {
    "duration": 36,
    "start_time": "2023-01-11T21:46:19.570Z"
   },
   {
    "duration": 210,
    "start_time": "2023-01-11T21:46:19.608Z"
   },
   {
    "duration": 15,
    "start_time": "2023-01-11T21:46:19.819Z"
   },
   {
    "duration": 4,
    "start_time": "2023-01-11T21:46:19.838Z"
   },
   {
    "duration": 14,
    "start_time": "2023-01-11T21:46:19.844Z"
   },
   {
    "duration": 11,
    "start_time": "2023-01-11T21:46:19.860Z"
   },
   {
    "duration": 11,
    "start_time": "2023-01-11T21:46:19.896Z"
   },
   {
    "duration": 18,
    "start_time": "2023-01-11T21:46:19.909Z"
   },
   {
    "duration": 13,
    "start_time": "2023-01-11T21:46:19.930Z"
   },
   {
    "duration": 181,
    "start_time": "2023-01-11T21:46:19.945Z"
   },
   {
    "duration": 5,
    "start_time": "2023-01-11T21:46:20.128Z"
   },
   {
    "duration": 160,
    "start_time": "2023-01-11T21:46:20.135Z"
   },
   {
    "duration": 6,
    "start_time": "2023-01-11T21:46:20.297Z"
   },
   {
    "duration": 20,
    "start_time": "2023-01-11T21:46:20.304Z"
   },
   {
    "duration": 21,
    "start_time": "2023-01-11T21:46:20.326Z"
   },
   {
    "duration": 5,
    "start_time": "2023-01-11T21:46:20.349Z"
   },
   {
    "duration": 14,
    "start_time": "2023-01-11T21:46:20.355Z"
   },
   {
    "duration": 15,
    "start_time": "2023-01-11T21:46:20.370Z"
   },
   {
    "duration": 9,
    "start_time": "2023-01-11T21:46:20.387Z"
   },
   {
    "duration": 14,
    "start_time": "2023-01-11T21:46:20.398Z"
   },
   {
    "duration": 102,
    "start_time": "2023-01-11T21:46:20.414Z"
   },
   {
    "duration": 4,
    "start_time": "2023-01-11T21:46:20.517Z"
   },
   {
    "duration": 20,
    "start_time": "2023-01-11T21:46:20.522Z"
   },
   {
    "duration": 9,
    "start_time": "2023-01-11T21:46:20.544Z"
   },
   {
    "duration": 16,
    "start_time": "2023-01-11T21:46:20.555Z"
   },
   {
    "duration": 5,
    "start_time": "2023-01-11T21:46:20.573Z"
   },
   {
    "duration": 4,
    "start_time": "2023-01-11T21:46:20.596Z"
   },
   {
    "duration": 23,
    "start_time": "2023-01-11T21:46:20.602Z"
   },
   {
    "duration": 23,
    "start_time": "2023-01-11T21:46:20.627Z"
   },
   {
    "duration": 12,
    "start_time": "2023-01-11T21:46:20.652Z"
   },
   {
    "duration": 337,
    "start_time": "2023-01-11T21:46:20.665Z"
   },
   {
    "duration": 309,
    "start_time": "2023-01-11T21:46:21.004Z"
   },
   {
    "duration": 235,
    "start_time": "2023-01-11T21:46:21.315Z"
   },
   {
    "duration": 26,
    "start_time": "2023-01-11T21:46:21.552Z"
   },
   {
    "duration": 21,
    "start_time": "2023-01-11T21:46:21.580Z"
   },
   {
    "duration": 18,
    "start_time": "2023-01-11T21:46:21.602Z"
   },
   {
    "duration": 19,
    "start_time": "2023-01-11T21:46:21.622Z"
   },
   {
    "duration": 132,
    "start_time": "2023-01-11T21:46:21.643Z"
   },
   {
    "duration": 122,
    "start_time": "2023-01-11T21:46:21.776Z"
   },
   {
    "duration": 53,
    "start_time": "2023-01-11T21:46:21.899Z"
   },
   {
    "duration": 13,
    "start_time": "2023-01-11T21:46:21.953Z"
   },
   {
    "duration": 92,
    "start_time": "2023-01-11T21:46:21.967Z"
   },
   {
    "duration": 20,
    "start_time": "2023-01-11T21:46:22.060Z"
   },
   {
    "duration": 40,
    "start_time": "2023-01-11T21:46:22.097Z"
   },
   {
    "duration": 909,
    "start_time": "2023-01-11T21:46:22.139Z"
   },
   {
    "duration": 3,
    "start_time": "2023-01-11T21:46:23.050Z"
   },
   {
    "duration": 43,
    "start_time": "2023-01-11T21:46:23.055Z"
   },
   {
    "duration": 5,
    "start_time": "2023-01-11T21:46:23.100Z"
   },
   {
    "duration": 12,
    "start_time": "2023-01-11T21:46:23.107Z"
   },
   {
    "duration": 7,
    "start_time": "2023-01-11T21:46:23.120Z"
   },
   {
    "duration": 42,
    "start_time": "2023-01-11T21:46:23.129Z"
   },
   {
    "duration": 43,
    "start_time": "2023-01-11T21:46:23.173Z"
   },
   {
    "duration": 10,
    "start_time": "2023-01-11T21:46:23.218Z"
   },
   {
    "duration": 5,
    "start_time": "2023-01-11T21:46:23.230Z"
   },
   {
    "duration": 12,
    "start_time": "2023-01-11T21:46:23.237Z"
   },
   {
    "duration": 12,
    "start_time": "2023-01-11T21:46:23.251Z"
   },
   {
    "duration": 8,
    "start_time": "2023-01-11T21:46:23.265Z"
   },
   {
    "duration": 5,
    "start_time": "2023-01-11T21:46:23.301Z"
   },
   {
    "duration": 397,
    "start_time": "2023-01-11T21:46:23.308Z"
   },
   {
    "duration": 92,
    "start_time": "2023-01-11T21:46:23.706Z"
   },
   {
    "duration": 106,
    "start_time": "2023-01-11T21:46:23.800Z"
   },
   {
    "duration": 189,
    "start_time": "2023-01-11T21:46:23.908Z"
   },
   {
    "duration": 5,
    "start_time": "2023-01-11T21:46:24.099Z"
   },
   {
    "duration": 28,
    "start_time": "2023-01-11T21:46:24.105Z"
   },
   {
    "duration": 6,
    "start_time": "2023-01-11T21:46:24.135Z"
   },
   {
    "duration": 10,
    "start_time": "2023-01-11T21:46:24.143Z"
   },
   {
    "duration": 89,
    "start_time": "2023-01-11T21:46:24.155Z"
   },
   {
    "duration": 58603,
    "start_time": "2023-01-11T21:46:24.246Z"
   },
   {
    "duration": 4,
    "start_time": "2023-01-11T21:47:22.851Z"
   },
   {
    "duration": 32,
    "start_time": "2023-01-11T21:47:22.856Z"
   },
   {
    "duration": 71882,
    "start_time": "2023-01-11T21:47:22.889Z"
   },
   {
    "duration": 4,
    "start_time": "2023-01-11T21:48:34.773Z"
   },
   {
    "duration": 6,
    "start_time": "2023-01-11T21:48:34.779Z"
   },
   {
    "duration": 1475,
    "start_time": "2023-01-11T21:57:29.609Z"
   },
   {
    "duration": 5,
    "start_time": "2023-01-11T21:57:31.086Z"
   },
   {
    "duration": 217,
    "start_time": "2023-01-11T21:57:31.093Z"
   },
   {
    "duration": 15,
    "start_time": "2023-01-11T21:57:31.311Z"
   },
   {
    "duration": 17,
    "start_time": "2023-01-11T21:57:31.329Z"
   },
   {
    "duration": 37,
    "start_time": "2023-01-11T21:57:31.347Z"
   },
   {
    "duration": 23,
    "start_time": "2023-01-11T21:57:31.386Z"
   },
   {
    "duration": 22,
    "start_time": "2023-01-11T21:57:31.411Z"
   },
   {
    "duration": 12,
    "start_time": "2023-01-11T21:57:31.435Z"
   },
   {
    "duration": 78,
    "start_time": "2023-01-11T21:57:31.448Z"
   },
   {
    "duration": 10,
    "start_time": "2023-01-11T21:57:31.527Z"
   },
   {
    "duration": 30,
    "start_time": "2023-01-11T21:57:31.538Z"
   },
   {
    "duration": 39,
    "start_time": "2023-01-11T21:57:31.570Z"
   },
   {
    "duration": 26,
    "start_time": "2023-01-11T21:57:31.613Z"
   },
   {
    "duration": 29,
    "start_time": "2023-01-11T21:57:31.640Z"
   },
   {
    "duration": 50,
    "start_time": "2023-01-11T21:57:31.671Z"
   },
   {
    "duration": 15,
    "start_time": "2023-01-11T21:57:31.723Z"
   },
   {
    "duration": 42,
    "start_time": "2023-01-11T21:57:31.739Z"
   },
   {
    "duration": 51,
    "start_time": "2023-01-11T21:57:31.782Z"
   },
   {
    "duration": 19,
    "start_time": "2023-01-11T21:57:31.836Z"
   },
   {
    "duration": 22,
    "start_time": "2023-01-11T21:57:31.856Z"
   },
   {
    "duration": 34,
    "start_time": "2023-01-11T21:57:31.880Z"
   },
   {
    "duration": 28,
    "start_time": "2023-01-11T21:57:31.916Z"
   },
   {
    "duration": 17,
    "start_time": "2023-01-11T21:57:31.946Z"
   },
   {
    "duration": 5,
    "start_time": "2023-01-11T21:57:31.965Z"
   },
   {
    "duration": 204,
    "start_time": "2023-01-11T21:57:31.971Z"
   },
   {
    "duration": 21,
    "start_time": "2023-01-11T21:57:32.176Z"
   },
   {
    "duration": 4,
    "start_time": "2023-01-11T21:57:32.198Z"
   },
   {
    "duration": 21,
    "start_time": "2023-01-11T21:57:32.203Z"
   },
   {
    "duration": 11,
    "start_time": "2023-01-11T21:57:32.225Z"
   },
   {
    "duration": 10,
    "start_time": "2023-01-11T21:57:32.238Z"
   },
   {
    "duration": 22,
    "start_time": "2023-01-11T21:57:32.250Z"
   },
   {
    "duration": 23,
    "start_time": "2023-01-11T21:57:32.274Z"
   },
   {
    "duration": 166,
    "start_time": "2023-01-11T21:57:32.299Z"
   },
   {
    "duration": 6,
    "start_time": "2023-01-11T21:57:32.467Z"
   },
   {
    "duration": 189,
    "start_time": "2023-01-11T21:57:32.475Z"
   },
   {
    "duration": 6,
    "start_time": "2023-01-11T21:57:32.665Z"
   },
   {
    "duration": 24,
    "start_time": "2023-01-11T21:57:32.673Z"
   },
   {
    "duration": 18,
    "start_time": "2023-01-11T21:57:32.699Z"
   },
   {
    "duration": 13,
    "start_time": "2023-01-11T21:57:32.718Z"
   },
   {
    "duration": 5,
    "start_time": "2023-01-11T21:57:32.811Z"
   },
   {
    "duration": 8,
    "start_time": "2023-01-11T21:57:32.817Z"
   },
   {
    "duration": 30,
    "start_time": "2023-01-11T21:57:32.827Z"
   },
   {
    "duration": 19,
    "start_time": "2023-01-11T21:57:32.859Z"
   },
   {
    "duration": 20,
    "start_time": "2023-01-11T21:57:32.879Z"
   },
   {
    "duration": 4,
    "start_time": "2023-01-11T21:57:32.900Z"
   },
   {
    "duration": 41,
    "start_time": "2023-01-11T21:57:32.905Z"
   },
   {
    "duration": 59,
    "start_time": "2023-01-11T21:57:32.948Z"
   },
   {
    "duration": 32,
    "start_time": "2023-01-11T21:57:33.008Z"
   },
   {
    "duration": 6,
    "start_time": "2023-01-11T21:57:33.042Z"
   },
   {
    "duration": 9,
    "start_time": "2023-01-11T21:57:33.049Z"
   },
   {
    "duration": 16,
    "start_time": "2023-01-11T21:57:33.059Z"
   },
   {
    "duration": 24,
    "start_time": "2023-01-11T21:57:33.077Z"
   },
   {
    "duration": 14,
    "start_time": "2023-01-11T21:57:33.102Z"
   },
   {
    "duration": 337,
    "start_time": "2023-01-11T21:57:33.118Z"
   },
   {
    "duration": 326,
    "start_time": "2023-01-11T21:57:33.457Z"
   },
   {
    "duration": 266,
    "start_time": "2023-01-11T21:57:33.785Z"
   },
   {
    "duration": 26,
    "start_time": "2023-01-11T21:57:34.053Z"
   },
   {
    "duration": 22,
    "start_time": "2023-01-11T21:57:34.081Z"
   },
   {
    "duration": 21,
    "start_time": "2023-01-11T21:57:34.104Z"
   },
   {
    "duration": 18,
    "start_time": "2023-01-11T21:57:34.127Z"
   },
   {
    "duration": 141,
    "start_time": "2023-01-11T21:57:34.147Z"
   },
   {
    "duration": 120,
    "start_time": "2023-01-11T21:57:34.296Z"
   },
   {
    "duration": 49,
    "start_time": "2023-01-11T21:57:34.418Z"
   },
   {
    "duration": 29,
    "start_time": "2023-01-11T21:57:34.469Z"
   },
   {
    "duration": 76,
    "start_time": "2023-01-11T21:57:34.501Z"
   },
   {
    "duration": 37,
    "start_time": "2023-01-11T21:57:34.579Z"
   },
   {
    "duration": 42,
    "start_time": "2023-01-11T21:57:34.617Z"
   },
   {
    "duration": 912,
    "start_time": "2023-01-11T21:57:34.661Z"
   },
   {
    "duration": 3,
    "start_time": "2023-01-11T21:57:35.575Z"
   },
   {
    "duration": 48,
    "start_time": "2023-01-11T21:57:35.580Z"
   },
   {
    "duration": 6,
    "start_time": "2023-01-11T21:57:35.629Z"
   },
   {
    "duration": 19,
    "start_time": "2023-01-11T21:57:35.637Z"
   },
   {
    "duration": 36,
    "start_time": "2023-01-11T21:57:35.658Z"
   },
   {
    "duration": 44,
    "start_time": "2023-01-11T21:57:35.695Z"
   },
   {
    "duration": 35,
    "start_time": "2023-01-11T21:57:35.741Z"
   },
   {
    "duration": 8,
    "start_time": "2023-01-11T21:57:35.778Z"
   },
   {
    "duration": 4,
    "start_time": "2023-01-11T21:57:35.796Z"
   },
   {
    "duration": 12,
    "start_time": "2023-01-11T21:57:35.801Z"
   },
   {
    "duration": 12,
    "start_time": "2023-01-11T21:57:35.815Z"
   },
   {
    "duration": 7,
    "start_time": "2023-01-11T21:57:35.828Z"
   },
   {
    "duration": 7,
    "start_time": "2023-01-11T21:57:35.836Z"
   },
   {
    "duration": 455,
    "start_time": "2023-01-11T21:57:35.844Z"
   },
   {
    "duration": 94,
    "start_time": "2023-01-11T21:57:36.301Z"
   },
   {
    "duration": 6,
    "start_time": "2023-01-11T21:57:36.398Z"
   },
   {
    "duration": 192,
    "start_time": "2023-01-11T21:57:36.406Z"
   },
   {
    "duration": 6,
    "start_time": "2023-01-11T21:57:36.599Z"
   },
   {
    "duration": 27,
    "start_time": "2023-01-11T21:57:36.606Z"
   },
   {
    "duration": 8,
    "start_time": "2023-01-11T21:57:36.635Z"
   },
   {
    "duration": 10,
    "start_time": "2023-01-11T21:57:36.645Z"
   },
   {
    "duration": 82,
    "start_time": "2023-01-11T21:57:36.657Z"
   },
   {
    "duration": 56223,
    "start_time": "2023-01-11T21:57:36.740Z"
   },
   {
    "duration": 4,
    "start_time": "2023-01-11T21:58:32.964Z"
   },
   {
    "duration": 8,
    "start_time": "2023-01-11T21:58:32.970Z"
   },
   {
    "duration": 69346,
    "start_time": "2023-01-11T21:58:32.979Z"
   },
   {
    "duration": 5,
    "start_time": "2023-01-11T21:59:42.327Z"
   },
   {
    "duration": 11,
    "start_time": "2023-01-11T21:59:42.334Z"
   },
   {
    "duration": 480449,
    "start_time": "2023-01-11T21:59:42.347Z"
   },
   {
    "duration": 3,
    "start_time": "2023-01-11T22:07:42.798Z"
   },
   {
    "duration": 41,
    "start_time": "2023-01-11T22:07:42.802Z"
   },
   {
    "duration": 200644,
    "start_time": "2023-01-11T22:07:42.844Z"
   },
   {
    "duration": 4,
    "start_time": "2023-01-11T22:11:03.489Z"
   },
   {
    "duration": 16,
    "start_time": "2023-01-11T22:11:03.494Z"
   },
   {
    "duration": 684377,
    "start_time": "2023-01-11T22:11:03.512Z"
   },
   {
    "duration": 3,
    "start_time": "2023-01-11T22:22:27.891Z"
   },
   {
    "duration": 23,
    "start_time": "2023-01-11T22:22:27.896Z"
   },
   {
    "duration": 10,
    "start_time": "2023-01-11T22:22:27.921Z"
   },
   {
    "duration": 8,
    "start_time": "2023-01-11T22:22:27.933Z"
   },
   {
    "duration": 9,
    "start_time": "2023-01-11T22:22:27.943Z"
   },
   {
    "duration": 315,
    "start_time": "2023-01-11T22:22:27.954Z"
   },
   {
    "duration": 232,
    "start_time": "2023-01-11T22:22:28.270Z"
   },
   {
    "duration": 2536,
    "start_time": "2023-01-12T05:26:06.828Z"
   },
   {
    "duration": 5,
    "start_time": "2023-01-12T05:26:09.366Z"
   },
   {
    "duration": 642,
    "start_time": "2023-01-12T05:26:09.373Z"
   },
   {
    "duration": 15,
    "start_time": "2023-01-12T05:26:10.017Z"
   },
   {
    "duration": 12,
    "start_time": "2023-01-12T05:26:10.033Z"
   },
   {
    "duration": 20,
    "start_time": "2023-01-12T05:26:10.047Z"
   },
   {
    "duration": 10,
    "start_time": "2023-01-12T05:26:10.069Z"
   },
   {
    "duration": 42,
    "start_time": "2023-01-12T05:26:10.081Z"
   },
   {
    "duration": 13,
    "start_time": "2023-01-12T05:26:10.125Z"
   },
   {
    "duration": 48,
    "start_time": "2023-01-12T05:26:10.140Z"
   },
   {
    "duration": 9,
    "start_time": "2023-01-12T05:26:10.190Z"
   },
   {
    "duration": 10,
    "start_time": "2023-01-12T05:26:10.366Z"
   },
   {
    "duration": 15,
    "start_time": "2023-01-12T05:26:10.793Z"
   },
   {
    "duration": 10,
    "start_time": "2023-01-12T05:26:10.964Z"
   },
   {
    "duration": 10,
    "start_time": "2023-01-12T05:26:11.307Z"
   },
   {
    "duration": 15,
    "start_time": "2023-01-12T05:26:11.459Z"
   },
   {
    "duration": 14,
    "start_time": "2023-01-12T05:26:11.799Z"
   },
   {
    "duration": 10,
    "start_time": "2023-01-12T05:26:11.978Z"
   },
   {
    "duration": 33,
    "start_time": "2023-01-12T05:26:12.182Z"
   },
   {
    "duration": 13,
    "start_time": "2023-01-12T05:26:12.337Z"
   },
   {
    "duration": 11,
    "start_time": "2023-01-12T05:26:12.609Z"
   },
   {
    "duration": 11,
    "start_time": "2023-01-12T05:26:12.813Z"
   },
   {
    "duration": 13,
    "start_time": "2023-01-12T05:26:19.549Z"
   },
   {
    "duration": 9,
    "start_time": "2023-01-12T05:26:19.714Z"
   },
   {
    "duration": 5,
    "start_time": "2023-01-12T05:26:20.106Z"
   },
   {
    "duration": 178,
    "start_time": "2023-01-12T05:26:20.265Z"
   },
   {
    "duration": 15,
    "start_time": "2023-01-12T05:26:21.295Z"
   },
   {
    "duration": 4,
    "start_time": "2023-01-12T05:26:21.932Z"
   },
   {
    "duration": 12,
    "start_time": "2023-01-12T05:26:22.621Z"
   },
   {
    "duration": 11,
    "start_time": "2023-01-12T05:26:23.748Z"
   },
   {
    "duration": 9,
    "start_time": "2023-01-12T05:26:23.969Z"
   },
   {
    "duration": 11,
    "start_time": "2023-01-12T05:26:24.324Z"
   },
   {
    "duration": 12,
    "start_time": "2023-01-12T05:26:24.668Z"
   },
   {
    "duration": 148,
    "start_time": "2023-01-12T05:26:24.858Z"
   },
   {
    "duration": 6,
    "start_time": "2023-01-12T05:26:25.047Z"
   },
   {
    "duration": 132,
    "start_time": "2023-01-12T05:26:25.232Z"
   },
   {
    "duration": 5,
    "start_time": "2023-01-12T05:26:25.721Z"
   },
   {
    "duration": 14,
    "start_time": "2023-01-12T05:26:26.263Z"
   },
   {
    "duration": 11,
    "start_time": "2023-01-12T05:26:26.894Z"
   },
   {
    "duration": 6,
    "start_time": "2023-01-12T05:26:27.075Z"
   },
   {
    "duration": 4,
    "start_time": "2023-01-12T05:26:27.263Z"
   },
   {
    "duration": 7,
    "start_time": "2023-01-12T05:26:27.436Z"
   },
   {
    "duration": 4,
    "start_time": "2023-01-12T05:26:27.646Z"
   },
   {
    "duration": 19,
    "start_time": "2023-01-12T05:26:27.828Z"
   },
   {
    "duration": 14,
    "start_time": "2023-01-12T05:26:28.843Z"
   },
   {
    "duration": 4,
    "start_time": "2023-01-12T05:26:29.181Z"
   },
   {
    "duration": 13,
    "start_time": "2023-01-12T05:26:29.379Z"
   },
   {
    "duration": 10,
    "start_time": "2023-01-12T05:26:30.455Z"
   },
   {
    "duration": 19,
    "start_time": "2023-01-12T05:26:30.802Z"
   },
   {
    "duration": 5,
    "start_time": "2023-01-12T05:26:30.997Z"
   },
   {
    "duration": 3,
    "start_time": "2023-01-12T05:26:31.175Z"
   },
   {
    "duration": 12,
    "start_time": "2023-01-12T05:26:31.352Z"
   },
   {
    "duration": 22,
    "start_time": "2023-01-12T05:26:32.428Z"
   },
   {
    "duration": 10,
    "start_time": "2023-01-12T05:26:32.775Z"
   },
   {
    "duration": 388,
    "start_time": "2023-01-12T05:26:33.199Z"
   },
   {
    "duration": 305,
    "start_time": "2023-01-12T05:26:33.589Z"
   },
   {
    "duration": 276,
    "start_time": "2023-01-12T05:26:34.025Z"
   },
   {
    "duration": 27,
    "start_time": "2023-01-12T05:26:34.971Z"
   },
   {
    "duration": 9,
    "start_time": "2023-01-12T05:26:35.542Z"
   },
   {
    "duration": 18,
    "start_time": "2023-01-12T05:26:36.348Z"
   },
   {
    "duration": 19,
    "start_time": "2023-01-12T05:26:37.198Z"
   },
   {
    "duration": 109,
    "start_time": "2023-01-12T05:26:37.218Z"
   },
   {
    "duration": 111,
    "start_time": "2023-01-12T05:26:37.729Z"
   },
   {
    "duration": 46,
    "start_time": "2023-01-12T05:26:39.703Z"
   },
   {
    "duration": 13,
    "start_time": "2023-01-12T05:26:40.003Z"
   },
   {
    "duration": 76,
    "start_time": "2023-01-12T05:26:41.779Z"
   },
   {
    "duration": 22,
    "start_time": "2023-01-12T05:26:43.068Z"
   },
   {
    "duration": 39,
    "start_time": "2023-01-12T05:26:45.279Z"
   },
   {
    "duration": 894,
    "start_time": "2023-01-12T05:26:45.753Z"
   },
   {
    "duration": 5,
    "start_time": "2023-01-12T05:26:54.197Z"
   },
   {
    "duration": 46,
    "start_time": "2023-01-12T05:26:55.908Z"
   },
   {
    "duration": 6,
    "start_time": "2023-01-12T05:26:57.495Z"
   },
   {
    "duration": 6,
    "start_time": "2023-01-12T05:26:58.655Z"
   },
   {
    "duration": 6,
    "start_time": "2023-01-12T05:27:01.073Z"
   },
   {
    "duration": 35,
    "start_time": "2023-01-12T05:27:01.303Z"
   },
   {
    "duration": 35,
    "start_time": "2023-01-12T05:27:03.427Z"
   },
   {
    "duration": 12,
    "start_time": "2023-01-12T05:27:04.211Z"
   },
   {
    "duration": 4,
    "start_time": "2023-01-12T05:27:08.765Z"
   },
   {
    "duration": 6,
    "start_time": "2023-01-12T05:27:09.770Z"
   },
   {
    "duration": 9,
    "start_time": "2023-01-12T05:27:10.328Z"
   },
   {
    "duration": 5,
    "start_time": "2023-01-12T05:27:12.030Z"
   },
   {
    "duration": 5,
    "start_time": "2023-01-12T05:27:12.728Z"
   },
   {
    "duration": 69,
    "start_time": "2023-01-12T05:27:16.356Z"
   },
   {
    "duration": 3,
    "start_time": "2023-01-12T05:27:18.912Z"
   },
   {
    "duration": 4,
    "start_time": "2023-01-12T05:27:27.483Z"
   },
   {
    "duration": 97,
    "start_time": "2023-01-12T05:27:27.931Z"
   },
   {
    "duration": 4,
    "start_time": "2023-01-12T05:27:28.600Z"
   },
   {
    "duration": 11,
    "start_time": "2023-01-12T05:27:29.425Z"
   },
   {
    "duration": 5,
    "start_time": "2023-01-12T05:27:33.738Z"
   },
   {
    "duration": 6,
    "start_time": "2023-01-12T05:27:33.926Z"
   },
   {
    "duration": 74,
    "start_time": "2023-01-12T05:27:35.209Z"
   },
   {
    "duration": 71,
    "start_time": "2023-01-12T20:04:58.763Z"
   },
   {
    "duration": 72,
    "start_time": "2023-01-12T20:06:24.204Z"
   },
   {
    "duration": 72,
    "start_time": "2023-01-12T20:06:53.745Z"
   },
   {
    "duration": 42,
    "start_time": "2023-01-12T20:06:56.674Z"
   }
  ],
  "kernelspec": {
   "display_name": "Python 3 (ipykernel)",
   "language": "python",
   "name": "python3"
  },
  "language_info": {
   "codemirror_mode": {
    "name": "ipython",
    "version": 3
   },
   "file_extension": ".py",
   "mimetype": "text/x-python",
   "name": "python",
   "nbconvert_exporter": "python",
   "pygments_lexer": "ipython3",
   "version": "3.10.9"
  },
  "toc": {
   "base_numbering": 1,
   "nav_menu": {},
   "number_sections": true,
   "sideBar": true,
   "skip_h1_title": true,
   "title_cell": "Table of Contents",
   "title_sidebar": "Contents",
   "toc_cell": false,
   "toc_position": {
    "height": "calc(100% - 180px)",
    "left": "10px",
    "top": "150px",
    "width": "165px"
   },
   "toc_section_display": true,
   "toc_window_display": true
  }
 },
 "nbformat": 4,
 "nbformat_minor": 2
}
