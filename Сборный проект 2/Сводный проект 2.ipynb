{
 "cells": [
  {
   "cell_type": "markdown",
   "metadata": {
    "toc": true
   },
   "source": [
    "<h1>Содержание<span class=\"tocSkip\"></span></h1>\n",
    "<div class=\"toc\"><ul class=\"toc-item\"><li><span><a href=\"#Подготовка-данных\" data-toc-modified-id=\"Подготовка-данных-1\"><span class=\"toc-item-num\">1&nbsp;&nbsp;</span>Подготовка данных</a></span><ul class=\"toc-item\"><li><span><a href=\"#загружаем-Файлы\" data-toc-modified-id=\"загружаем-Файлы-1.1\"><span class=\"toc-item-num\">1.1&nbsp;&nbsp;</span>загружаем Файлы</a></span></li><li><span><a href=\"#-Комментарий-ревьюера-v1\" data-toc-modified-id=\"-Комментарий-ревьюера-v1-1.2\"><span class=\"toc-item-num\">1.2&nbsp;&nbsp;</span> Комментарий ревьюера v1</a></span></li><li><span><a href=\"#проверка-корректности-показателя-эффективности\" data-toc-modified-id=\"проверка-корректности-показателя-эффективности-1.3\"><span class=\"toc-item-num\">1.3&nbsp;&nbsp;</span>проверка корректности показателя эффективности</a></span></li><li><span><a href=\"#-Комментарий-ревьюера-v1\" data-toc-modified-id=\"-Комментарий-ревьюера-v1-1.4\"><span class=\"toc-item-num\">1.4&nbsp;&nbsp;</span> Комментарий ревьюера v1</a></span><ul class=\"toc-item\"><li><span><a href=\"#Вывод\" data-toc-modified-id=\"Вывод-1.4.1\"><span class=\"toc-item-num\">1.4.1&nbsp;&nbsp;</span>Вывод</a></span></li></ul></li><li><span><a href=\"#анализ-признаков,-отсутствующих-в-тестовой-выборке\" data-toc-modified-id=\"анализ-признаков,-отсутствующих-в-тестовой-выборке-1.5\"><span class=\"toc-item-num\">1.5&nbsp;&nbsp;</span>анализ признаков, отсутствующих в тестовой выборке</a></span></li><li><span><a href=\"#-Комментарий-ревьюера-v1\" data-toc-modified-id=\"-Комментарий-ревьюера-v1-1.6\"><span class=\"toc-item-num\">1.6&nbsp;&nbsp;</span> Комментарий ревьюера v1</a></span></li><li><span><a href=\"#подготовка-данных-к-обучению\" data-toc-modified-id=\"подготовка-данных-к-обучению-1.7\"><span class=\"toc-item-num\">1.7&nbsp;&nbsp;</span>подготовка данных к обучению</a></span></li></ul></li><li><span><a href=\"#Анализ-данных\" data-toc-modified-id=\"Анализ-данных-2\"><span class=\"toc-item-num\">2&nbsp;&nbsp;</span>Анализ данных</a></span><ul class=\"toc-item\"><li><span><a href=\"#Посмотрим,-как-меняется-концентрация-металлов-(Au,-Ag,-Pb)\" data-toc-modified-id=\"Посмотрим,-как-меняется-концентрация-металлов-(Au,-Ag,-Pb)-2.1\"><span class=\"toc-item-num\">2.1&nbsp;&nbsp;</span>Посмотрим, как меняется концентрация металлов (Au, Ag, Pb)</a></span><ul class=\"toc-item\"><li><span><a href=\"#Вывод\" data-toc-modified-id=\"Вывод-2.1.1\"><span class=\"toc-item-num\">2.1.1&nbsp;&nbsp;</span>Вывод</a></span></li></ul></li><li><span><a href=\"#-Комментарий-ревьюера-v1\" data-toc-modified-id=\"-Комментарий-ревьюера-v1-2.2\"><span class=\"toc-item-num\">2.2&nbsp;&nbsp;</span> Комментарий ревьюера v1</a></span></li><li><span><a href=\"#Сравним-распределения-размеров-гранул-сырья-на-обучающей-и-тестовой-выборках.\" data-toc-modified-id=\"Сравним-распределения-размеров-гранул-сырья-на-обучающей-и-тестовой-выборках.-2.3\"><span class=\"toc-item-num\">2.3&nbsp;&nbsp;</span>Сравним распределения размеров гранул сырья на обучающей и тестовой выборках.</a></span><ul class=\"toc-item\"><li><span><a href=\"#Вывод\" data-toc-modified-id=\"Вывод-2.3.1\"><span class=\"toc-item-num\">2.3.1&nbsp;&nbsp;</span>Вывод</a></span></li></ul></li><li><span><a href=\"#-Комментарий-ревьюера-v1\" data-toc-modified-id=\"-Комментарий-ревьюера-v1-2.4\"><span class=\"toc-item-num\">2.4&nbsp;&nbsp;</span> Комментарий ревьюера v1</a></span></li><li><span><a href=\"#Исследуем-суммарную-концентрацию-всех-веществ-на-разных-стадиях\" data-toc-modified-id=\"Исследуем-суммарную-концентрацию-всех-веществ-на-разных-стадиях-2.5\"><span class=\"toc-item-num\">2.5&nbsp;&nbsp;</span>Исследуем суммарную концентрацию всех веществ на разных стадиях</a></span><ul class=\"toc-item\"><li><span><a href=\"#вывод\" data-toc-modified-id=\"вывод-2.5.1\"><span class=\"toc-item-num\">2.5.1&nbsp;&nbsp;</span>вывод</a></span></li></ul></li><li><span><a href=\"#А-теперь-подготовим-данные-для-машинного-обучения\" data-toc-modified-id=\"А-теперь-подготовим-данные-для-машинного-обучения-2.6\"><span class=\"toc-item-num\">2.6&nbsp;&nbsp;</span>А теперь подготовим данные для машинного обучения</a></span></li><li><span><a href=\"#-Комментарий-ревьюера-v1\" data-toc-modified-id=\"-Комментарий-ревьюера-v1-2.7\"><span class=\"toc-item-num\">2.7&nbsp;&nbsp;</span> Комментарий ревьюера v1</a></span></li><li><span><a href=\"#-Комментарий-ревьюера-v1\" data-toc-modified-id=\"-Комментарий-ревьюера-v1-2.8\"><span class=\"toc-item-num\">2.8&nbsp;&nbsp;</span> Комментарий ревьюера v1</a></span><ul class=\"toc-item\"><li><span><a href=\"#данные-подготовлены-к-моделям-обучения\" data-toc-modified-id=\"данные-подготовлены-к-моделям-обучения-2.8.1\"><span class=\"toc-item-num\">2.8.1&nbsp;&nbsp;</span>данные подготовлены к моделям обучения</a></span></li></ul></li></ul></li><li><span><a href=\"#Модель\" data-toc-modified-id=\"Модель-3\"><span class=\"toc-item-num\">3&nbsp;&nbsp;</span>Модель</a></span><ul class=\"toc-item\"><li><span><a href=\"#функция-sMAPE\" data-toc-modified-id=\"функция-sMAPE-3.1\"><span class=\"toc-item-num\">3.1&nbsp;&nbsp;</span>функция sMAPE</a></span></li><li><span><a href=\"#-Комментарий-ревьюера-v1\" data-toc-modified-id=\"-Комментарий-ревьюера-v1-3.2\"><span class=\"toc-item-num\">3.2&nbsp;&nbsp;</span> Комментарий ревьюера v1</a></span></li><li><span><a href=\"#проверяем\" data-toc-modified-id=\"проверяем-3.3\"><span class=\"toc-item-num\">3.3&nbsp;&nbsp;</span>проверяем</a></span></li><li><span><a href=\"#-Комментарий-ревьюера-v1\" data-toc-modified-id=\"-Комментарий-ревьюера-v1-3.4\"><span class=\"toc-item-num\">3.4&nbsp;&nbsp;</span> Комментарий ревьюера v1</a></span></li><li><span><a href=\"#-Комментарий-ревьюера-v1\" data-toc-modified-id=\"-Комментарий-ревьюера-v1-3.5\"><span class=\"toc-item-num\">3.5&nbsp;&nbsp;</span> Комментарий ревьюера v1</a></span></li><li><span><a href=\"#dummy-model\" data-toc-modified-id=\"dummy-model-3.6\"><span class=\"toc-item-num\">3.6&nbsp;&nbsp;</span>dummy model</a></span></li><li><span><a href=\"#-Комментарий-ревьюера-v1\" data-toc-modified-id=\"-Комментарий-ревьюера-v1-3.7\"><span class=\"toc-item-num\">3.7&nbsp;&nbsp;</span> Комментарий ревьюера v1</a></span><ul class=\"toc-item\"><li><span><a href=\"#вывод\" data-toc-modified-id=\"вывод-3.7.1\"><span class=\"toc-item-num\">3.7.1&nbsp;&nbsp;</span>вывод</a></span></li></ul></li><li><span><a href=\"#-Комментарий-ревьюера-v1\" data-toc-modified-id=\"-Комментарий-ревьюера-v1-3.8\"><span class=\"toc-item-num\">3.8&nbsp;&nbsp;</span> Комментарий ревьюера v1</a></span></li><li><span><a href=\"#Тестируем\" data-toc-modified-id=\"Тестируем-3.9\"><span class=\"toc-item-num\">3.9&nbsp;&nbsp;</span>Тестируем</a></span></li></ul></li><li><span><a href=\"#Общий-вывод\" data-toc-modified-id=\"Общий-вывод-4\"><span class=\"toc-item-num\">4&nbsp;&nbsp;</span>Общий вывод</a></span><ul class=\"toc-item\"><li><span><a href=\"#-Комментарий-ревьюера-v1\" data-toc-modified-id=\"-Комментарий-ревьюера-v1-4.1\"><span class=\"toc-item-num\">4.1&nbsp;&nbsp;</span> Комментарий ревьюера v1</a></span></li></ul></li><li><span><a href=\"#Чек-лист-готовности-проекта\" data-toc-modified-id=\"Чек-лист-готовности-проекта-5\"><span class=\"toc-item-num\">5&nbsp;&nbsp;</span>Чек-лист готовности проекта</a></span><ul class=\"toc-item\"><li><span><a href=\"#-Итоговый-комментарий\" data-toc-modified-id=\"-Итоговый-комментарий-5.1\"><span class=\"toc-item-num\">5.1&nbsp;&nbsp;</span> Итоговый комментарий</a></span></li></ul></li></ul></div>"
   ]
  },
  {
   "cell_type": "markdown",
   "metadata": {},
   "source": [
    "# Восстановление золота из руды"
   ]
  },
  {
   "cell_type": "markdown",
   "metadata": {},
   "source": [
    "Подготовьте прототип модели машинного обучения для «Цифры». Компания разрабатывает решения для эффективной работы промышленных предприятий.\n",
    "\n",
    "Модель должна предсказать коэффициент восстановления золота из золотосодержащей руды. Используйте данные с параметрами добычи и очистки. \n",
    "\n",
    "Модель поможет оптимизировать производство, чтобы не запускать предприятие с убыточными характеристиками.\n",
    "\n",
    "Вам нужно:\n",
    "\n",
    "1. Подготовить данные;\n",
    "2. Провести исследовательский анализ данных;\n",
    "3. Построить и обучить модель.\n",
    "\n",
    "Чтобы выполнить проект, обращайтесь к библиотекам *pandas*, *matplotlib* и *sklearn.* Вам поможет их документация."
   ]
  },
  {
   "cell_type": "markdown",
   "metadata": {},
   "source": [
    "## Подготовка данных"
   ]
  },
  {
   "cell_type": "markdown",
   "metadata": {},
   "source": [
    "импорт библиотек"
   ]
  },
  {
   "cell_type": "code",
   "execution_count": 93,
   "metadata": {},
   "outputs": [],
   "source": [
    "import pandas as pd\n",
    "import numpy as np\n",
    "from sklearn.metrics import mean_absolute_error as mae_f\n",
    "from sklearn.model_selection import train_test_split\n",
    "from sklearn.preprocessing import StandardScaler\n",
    "from sklearn.model_selection import cross_val_score\n",
    "from sklearn.metrics import make_scorer\n",
    "from sklearn.tree import DecisionTreeRegressor\n",
    "from sklearn.ensemble import RandomForestRegressor\n",
    "from sklearn.linear_model import LinearRegression\n",
    "from sklearn.dummy import DummyRegressor"
   ]
  },
  {
   "cell_type": "markdown",
   "metadata": {},
   "source": [
    "### загружаем Файлы"
   ]
  },
  {
   "cell_type": "code",
   "execution_count": 2,
   "metadata": {},
   "outputs": [],
   "source": [
    "train = pd.read_csv('/datasets/gold_recovery_train_new.csv')\n",
    "test = pd.read_csv('/datasets/gold_recovery_test_new.csv')\n",
    "full = pd.read_csv('/datasets/gold_recovery_full_new.csv')\n"
   ]
  },
  {
   "cell_type": "code",
   "execution_count": 3,
   "metadata": {},
   "outputs": [
    {
     "data": {
      "text/html": [
       "<div>\n",
       "<style scoped>\n",
       "    .dataframe tbody tr th:only-of-type {\n",
       "        vertical-align: middle;\n",
       "    }\n",
       "\n",
       "    .dataframe tbody tr th {\n",
       "        vertical-align: top;\n",
       "    }\n",
       "\n",
       "    .dataframe thead th {\n",
       "        text-align: right;\n",
       "    }\n",
       "</style>\n",
       "<table border=\"1\" class=\"dataframe\">\n",
       "  <thead>\n",
       "    <tr style=\"text-align: right;\">\n",
       "      <th></th>\n",
       "      <th>date</th>\n",
       "      <th>final.output.concentrate_ag</th>\n",
       "      <th>final.output.concentrate_pb</th>\n",
       "      <th>final.output.concentrate_sol</th>\n",
       "      <th>final.output.concentrate_au</th>\n",
       "      <th>final.output.recovery</th>\n",
       "      <th>final.output.tail_ag</th>\n",
       "      <th>final.output.tail_pb</th>\n",
       "      <th>final.output.tail_sol</th>\n",
       "      <th>final.output.tail_au</th>\n",
       "      <th>...</th>\n",
       "      <th>secondary_cleaner.state.floatbank4_a_air</th>\n",
       "      <th>secondary_cleaner.state.floatbank4_a_level</th>\n",
       "      <th>secondary_cleaner.state.floatbank4_b_air</th>\n",
       "      <th>secondary_cleaner.state.floatbank4_b_level</th>\n",
       "      <th>secondary_cleaner.state.floatbank5_a_air</th>\n",
       "      <th>secondary_cleaner.state.floatbank5_a_level</th>\n",
       "      <th>secondary_cleaner.state.floatbank5_b_air</th>\n",
       "      <th>secondary_cleaner.state.floatbank5_b_level</th>\n",
       "      <th>secondary_cleaner.state.floatbank6_a_air</th>\n",
       "      <th>secondary_cleaner.state.floatbank6_a_level</th>\n",
       "    </tr>\n",
       "  </thead>\n",
       "  <tbody>\n",
       "    <tr>\n",
       "      <th>0</th>\n",
       "      <td>2016-01-15 00:00:00</td>\n",
       "      <td>6.055403</td>\n",
       "      <td>9.889648</td>\n",
       "      <td>5.507324</td>\n",
       "      <td>42.192020</td>\n",
       "      <td>70.541216</td>\n",
       "      <td>10.411962</td>\n",
       "      <td>0.895447</td>\n",
       "      <td>16.904297</td>\n",
       "      <td>2.143149</td>\n",
       "      <td>...</td>\n",
       "      <td>14.016835</td>\n",
       "      <td>-502.488007</td>\n",
       "      <td>12.099931</td>\n",
       "      <td>-504.715942</td>\n",
       "      <td>9.925633</td>\n",
       "      <td>-498.310211</td>\n",
       "      <td>8.079666</td>\n",
       "      <td>-500.470978</td>\n",
       "      <td>14.151341</td>\n",
       "      <td>-605.841980</td>\n",
       "    </tr>\n",
       "    <tr>\n",
       "      <th>1</th>\n",
       "      <td>2016-01-15 01:00:00</td>\n",
       "      <td>6.029369</td>\n",
       "      <td>9.968944</td>\n",
       "      <td>5.257781</td>\n",
       "      <td>42.701629</td>\n",
       "      <td>69.266198</td>\n",
       "      <td>10.462676</td>\n",
       "      <td>0.927452</td>\n",
       "      <td>16.634514</td>\n",
       "      <td>2.224930</td>\n",
       "      <td>...</td>\n",
       "      <td>13.992281</td>\n",
       "      <td>-505.503262</td>\n",
       "      <td>11.950531</td>\n",
       "      <td>-501.331529</td>\n",
       "      <td>10.039245</td>\n",
       "      <td>-500.169983</td>\n",
       "      <td>7.984757</td>\n",
       "      <td>-500.582168</td>\n",
       "      <td>13.998353</td>\n",
       "      <td>-599.787184</td>\n",
       "    </tr>\n",
       "    <tr>\n",
       "      <th>2</th>\n",
       "      <td>2016-01-15 02:00:00</td>\n",
       "      <td>6.055926</td>\n",
       "      <td>10.213995</td>\n",
       "      <td>5.383759</td>\n",
       "      <td>42.657501</td>\n",
       "      <td>68.116445</td>\n",
       "      <td>10.507046</td>\n",
       "      <td>0.953716</td>\n",
       "      <td>16.208849</td>\n",
       "      <td>2.257889</td>\n",
       "      <td>...</td>\n",
       "      <td>14.015015</td>\n",
       "      <td>-502.520901</td>\n",
       "      <td>11.912783</td>\n",
       "      <td>-501.133383</td>\n",
       "      <td>10.070913</td>\n",
       "      <td>-500.129135</td>\n",
       "      <td>8.013877</td>\n",
       "      <td>-500.517572</td>\n",
       "      <td>14.028663</td>\n",
       "      <td>-601.427363</td>\n",
       "    </tr>\n",
       "    <tr>\n",
       "      <th>3</th>\n",
       "      <td>2016-01-15 03:00:00</td>\n",
       "      <td>6.047977</td>\n",
       "      <td>9.977019</td>\n",
       "      <td>4.858634</td>\n",
       "      <td>42.689819</td>\n",
       "      <td>68.347543</td>\n",
       "      <td>10.422762</td>\n",
       "      <td>0.883763</td>\n",
       "      <td>16.532835</td>\n",
       "      <td>2.146849</td>\n",
       "      <td>...</td>\n",
       "      <td>14.036510</td>\n",
       "      <td>-500.857308</td>\n",
       "      <td>11.999550</td>\n",
       "      <td>-501.193686</td>\n",
       "      <td>9.970366</td>\n",
       "      <td>-499.201640</td>\n",
       "      <td>7.977324</td>\n",
       "      <td>-500.255908</td>\n",
       "      <td>14.005551</td>\n",
       "      <td>-599.996129</td>\n",
       "    </tr>\n",
       "    <tr>\n",
       "      <th>4</th>\n",
       "      <td>2016-01-15 04:00:00</td>\n",
       "      <td>6.148599</td>\n",
       "      <td>10.142511</td>\n",
       "      <td>4.939416</td>\n",
       "      <td>42.774141</td>\n",
       "      <td>66.927016</td>\n",
       "      <td>10.360302</td>\n",
       "      <td>0.792826</td>\n",
       "      <td>16.525686</td>\n",
       "      <td>2.055292</td>\n",
       "      <td>...</td>\n",
       "      <td>14.027298</td>\n",
       "      <td>-499.838632</td>\n",
       "      <td>11.953070</td>\n",
       "      <td>-501.053894</td>\n",
       "      <td>9.925709</td>\n",
       "      <td>-501.686727</td>\n",
       "      <td>7.894242</td>\n",
       "      <td>-500.356035</td>\n",
       "      <td>13.996647</td>\n",
       "      <td>-601.496691</td>\n",
       "    </tr>\n",
       "  </tbody>\n",
       "</table>\n",
       "<p>5 rows × 87 columns</p>\n",
       "</div>"
      ],
      "text/plain": [
       "                  date  final.output.concentrate_ag  \\\n",
       "0  2016-01-15 00:00:00                     6.055403   \n",
       "1  2016-01-15 01:00:00                     6.029369   \n",
       "2  2016-01-15 02:00:00                     6.055926   \n",
       "3  2016-01-15 03:00:00                     6.047977   \n",
       "4  2016-01-15 04:00:00                     6.148599   \n",
       "\n",
       "   final.output.concentrate_pb  final.output.concentrate_sol  \\\n",
       "0                     9.889648                      5.507324   \n",
       "1                     9.968944                      5.257781   \n",
       "2                    10.213995                      5.383759   \n",
       "3                     9.977019                      4.858634   \n",
       "4                    10.142511                      4.939416   \n",
       "\n",
       "   final.output.concentrate_au  final.output.recovery  final.output.tail_ag  \\\n",
       "0                    42.192020              70.541216             10.411962   \n",
       "1                    42.701629              69.266198             10.462676   \n",
       "2                    42.657501              68.116445             10.507046   \n",
       "3                    42.689819              68.347543             10.422762   \n",
       "4                    42.774141              66.927016             10.360302   \n",
       "\n",
       "   final.output.tail_pb  final.output.tail_sol  final.output.tail_au  ...  \\\n",
       "0              0.895447              16.904297              2.143149  ...   \n",
       "1              0.927452              16.634514              2.224930  ...   \n",
       "2              0.953716              16.208849              2.257889  ...   \n",
       "3              0.883763              16.532835              2.146849  ...   \n",
       "4              0.792826              16.525686              2.055292  ...   \n",
       "\n",
       "   secondary_cleaner.state.floatbank4_a_air  \\\n",
       "0                                 14.016835   \n",
       "1                                 13.992281   \n",
       "2                                 14.015015   \n",
       "3                                 14.036510   \n",
       "4                                 14.027298   \n",
       "\n",
       "   secondary_cleaner.state.floatbank4_a_level  \\\n",
       "0                                 -502.488007   \n",
       "1                                 -505.503262   \n",
       "2                                 -502.520901   \n",
       "3                                 -500.857308   \n",
       "4                                 -499.838632   \n",
       "\n",
       "   secondary_cleaner.state.floatbank4_b_air  \\\n",
       "0                                 12.099931   \n",
       "1                                 11.950531   \n",
       "2                                 11.912783   \n",
       "3                                 11.999550   \n",
       "4                                 11.953070   \n",
       "\n",
       "   secondary_cleaner.state.floatbank4_b_level  \\\n",
       "0                                 -504.715942   \n",
       "1                                 -501.331529   \n",
       "2                                 -501.133383   \n",
       "3                                 -501.193686   \n",
       "4                                 -501.053894   \n",
       "\n",
       "   secondary_cleaner.state.floatbank5_a_air  \\\n",
       "0                                  9.925633   \n",
       "1                                 10.039245   \n",
       "2                                 10.070913   \n",
       "3                                  9.970366   \n",
       "4                                  9.925709   \n",
       "\n",
       "   secondary_cleaner.state.floatbank5_a_level  \\\n",
       "0                                 -498.310211   \n",
       "1                                 -500.169983   \n",
       "2                                 -500.129135   \n",
       "3                                 -499.201640   \n",
       "4                                 -501.686727   \n",
       "\n",
       "   secondary_cleaner.state.floatbank5_b_air  \\\n",
       "0                                  8.079666   \n",
       "1                                  7.984757   \n",
       "2                                  8.013877   \n",
       "3                                  7.977324   \n",
       "4                                  7.894242   \n",
       "\n",
       "   secondary_cleaner.state.floatbank5_b_level  \\\n",
       "0                                 -500.470978   \n",
       "1                                 -500.582168   \n",
       "2                                 -500.517572   \n",
       "3                                 -500.255908   \n",
       "4                                 -500.356035   \n",
       "\n",
       "   secondary_cleaner.state.floatbank6_a_air  \\\n",
       "0                                 14.151341   \n",
       "1                                 13.998353   \n",
       "2                                 14.028663   \n",
       "3                                 14.005551   \n",
       "4                                 13.996647   \n",
       "\n",
       "   secondary_cleaner.state.floatbank6_a_level  \n",
       "0                                 -605.841980  \n",
       "1                                 -599.787184  \n",
       "2                                 -601.427363  \n",
       "3                                 -599.996129  \n",
       "4                                 -601.496691  \n",
       "\n",
       "[5 rows x 87 columns]"
      ]
     },
     "execution_count": 3,
     "metadata": {},
     "output_type": "execute_result"
    }
   ],
   "source": [
    "train.head()"
   ]
  },
  {
   "cell_type": "code",
   "execution_count": 4,
   "metadata": {},
   "outputs": [
    {
     "name": "stdout",
     "output_type": "stream",
     "text": [
      "<class 'pandas.core.frame.DataFrame'>\n",
      "RangeIndex: 14149 entries, 0 to 14148\n",
      "Data columns (total 87 columns):\n",
      " #   Column                                              Non-Null Count  Dtype  \n",
      "---  ------                                              --------------  -----  \n",
      " 0   date                                                14149 non-null  object \n",
      " 1   final.output.concentrate_ag                         14148 non-null  float64\n",
      " 2   final.output.concentrate_pb                         14148 non-null  float64\n",
      " 3   final.output.concentrate_sol                        13938 non-null  float64\n",
      " 4   final.output.concentrate_au                         14149 non-null  float64\n",
      " 5   final.output.recovery                               14149 non-null  float64\n",
      " 6   final.output.tail_ag                                14149 non-null  float64\n",
      " 7   final.output.tail_pb                                14049 non-null  float64\n",
      " 8   final.output.tail_sol                               14144 non-null  float64\n",
      " 9   final.output.tail_au                                14149 non-null  float64\n",
      " 10  primary_cleaner.input.sulfate                       14129 non-null  float64\n",
      " 11  primary_cleaner.input.depressant                    14117 non-null  float64\n",
      " 12  primary_cleaner.input.feed_size                     14149 non-null  float64\n",
      " 13  primary_cleaner.input.xanthate                      14049 non-null  float64\n",
      " 14  primary_cleaner.output.concentrate_ag               14149 non-null  float64\n",
      " 15  primary_cleaner.output.concentrate_pb               14063 non-null  float64\n",
      " 16  primary_cleaner.output.concentrate_sol              13863 non-null  float64\n",
      " 17  primary_cleaner.output.concentrate_au               14149 non-null  float64\n",
      " 18  primary_cleaner.output.tail_ag                      14148 non-null  float64\n",
      " 19  primary_cleaner.output.tail_pb                      14134 non-null  float64\n",
      " 20  primary_cleaner.output.tail_sol                     14103 non-null  float64\n",
      " 21  primary_cleaner.output.tail_au                      14149 non-null  float64\n",
      " 22  primary_cleaner.state.floatbank8_a_air              14145 non-null  float64\n",
      " 23  primary_cleaner.state.floatbank8_a_level            14148 non-null  float64\n",
      " 24  primary_cleaner.state.floatbank8_b_air              14145 non-null  float64\n",
      " 25  primary_cleaner.state.floatbank8_b_level            14148 non-null  float64\n",
      " 26  primary_cleaner.state.floatbank8_c_air              14147 non-null  float64\n",
      " 27  primary_cleaner.state.floatbank8_c_level            14148 non-null  float64\n",
      " 28  primary_cleaner.state.floatbank8_d_air              14146 non-null  float64\n",
      " 29  primary_cleaner.state.floatbank8_d_level            14148 non-null  float64\n",
      " 30  rougher.calculation.sulfate_to_au_concentrate       14148 non-null  float64\n",
      " 31  rougher.calculation.floatbank10_sulfate_to_au_feed  14148 non-null  float64\n",
      " 32  rougher.calculation.floatbank11_sulfate_to_au_feed  14148 non-null  float64\n",
      " 33  rougher.calculation.au_pb_ratio                     14149 non-null  float64\n",
      " 34  rougher.input.feed_ag                               14149 non-null  float64\n",
      " 35  rougher.input.feed_pb                               14049 non-null  float64\n",
      " 36  rougher.input.feed_rate                             14141 non-null  float64\n",
      " 37  rougher.input.feed_size                             14005 non-null  float64\n",
      " 38  rougher.input.feed_sol                              14071 non-null  float64\n",
      " 39  rougher.input.feed_au                               14149 non-null  float64\n",
      " 40  rougher.input.floatbank10_sulfate                   14120 non-null  float64\n",
      " 41  rougher.input.floatbank10_xanthate                  14141 non-null  float64\n",
      " 42  rougher.input.floatbank11_sulfate                   14113 non-null  float64\n",
      " 43  rougher.input.floatbank11_xanthate                  13721 non-null  float64\n",
      " 44  rougher.output.concentrate_ag                       14149 non-null  float64\n",
      " 45  rougher.output.concentrate_pb                       14149 non-null  float64\n",
      " 46  rougher.output.concentrate_sol                      14127 non-null  float64\n",
      " 47  rougher.output.concentrate_au                       14149 non-null  float64\n",
      " 48  rougher.output.recovery                             14149 non-null  float64\n",
      " 49  rougher.output.tail_ag                              14148 non-null  float64\n",
      " 50  rougher.output.tail_pb                              14149 non-null  float64\n",
      " 51  rougher.output.tail_sol                             14149 non-null  float64\n",
      " 52  rougher.output.tail_au                              14149 non-null  float64\n",
      " 53  rougher.state.floatbank10_a_air                     14148 non-null  float64\n",
      " 54  rougher.state.floatbank10_a_level                   14148 non-null  float64\n",
      " 55  rougher.state.floatbank10_b_air                     14148 non-null  float64\n",
      " 56  rougher.state.floatbank10_b_level                   14148 non-null  float64\n",
      " 57  rougher.state.floatbank10_c_air                     14148 non-null  float64\n",
      " 58  rougher.state.floatbank10_c_level                   14148 non-null  float64\n",
      " 59  rougher.state.floatbank10_d_air                     14149 non-null  float64\n",
      " 60  rougher.state.floatbank10_d_level                   14149 non-null  float64\n",
      " 61  rougher.state.floatbank10_e_air                     13713 non-null  float64\n",
      " 62  rougher.state.floatbank10_e_level                   14149 non-null  float64\n",
      " 63  rougher.state.floatbank10_f_air                     14149 non-null  float64\n",
      " 64  rougher.state.floatbank10_f_level                   14149 non-null  float64\n",
      " 65  secondary_cleaner.output.tail_ag                    14147 non-null  float64\n",
      " 66  secondary_cleaner.output.tail_pb                    14139 non-null  float64\n",
      " 67  secondary_cleaner.output.tail_sol                   12544 non-null  float64\n",
      " 68  secondary_cleaner.output.tail_au                    14149 non-null  float64\n",
      " 69  secondary_cleaner.state.floatbank2_a_air            13932 non-null  float64\n",
      " 70  secondary_cleaner.state.floatbank2_a_level          14148 non-null  float64\n",
      " 71  secondary_cleaner.state.floatbank2_b_air            14128 non-null  float64\n",
      " 72  secondary_cleaner.state.floatbank2_b_level          14148 non-null  float64\n",
      " 73  secondary_cleaner.state.floatbank3_a_air            14145 non-null  float64\n",
      " 74  secondary_cleaner.state.floatbank3_a_level          14148 non-null  float64\n",
      " 75  secondary_cleaner.state.floatbank3_b_air            14148 non-null  float64\n",
      " 76  secondary_cleaner.state.floatbank3_b_level          14148 non-null  float64\n",
      " 77  secondary_cleaner.state.floatbank4_a_air            14143 non-null  float64\n",
      " 78  secondary_cleaner.state.floatbank4_a_level          14148 non-null  float64\n",
      " 79  secondary_cleaner.state.floatbank4_b_air            14148 non-null  float64\n",
      " 80  secondary_cleaner.state.floatbank4_b_level          14148 non-null  float64\n",
      " 81  secondary_cleaner.state.floatbank5_a_air            14148 non-null  float64\n",
      " 82  secondary_cleaner.state.floatbank5_a_level          14148 non-null  float64\n",
      " 83  secondary_cleaner.state.floatbank5_b_air            14148 non-null  float64\n",
      " 84  secondary_cleaner.state.floatbank5_b_level          14148 non-null  float64\n",
      " 85  secondary_cleaner.state.floatbank6_a_air            14147 non-null  float64\n",
      " 86  secondary_cleaner.state.floatbank6_a_level          14148 non-null  float64\n",
      "dtypes: float64(86), object(1)\n",
      "memory usage: 9.4+ MB\n"
     ]
    }
   ],
   "source": [
    "train.info()"
   ]
  },
  {
   "cell_type": "code",
   "execution_count": 5,
   "metadata": {},
   "outputs": [
    {
     "data": {
      "text/html": [
       "<div>\n",
       "<style scoped>\n",
       "    .dataframe tbody tr th:only-of-type {\n",
       "        vertical-align: middle;\n",
       "    }\n",
       "\n",
       "    .dataframe tbody tr th {\n",
       "        vertical-align: top;\n",
       "    }\n",
       "\n",
       "    .dataframe thead th {\n",
       "        text-align: right;\n",
       "    }\n",
       "</style>\n",
       "<table border=\"1\" class=\"dataframe\">\n",
       "  <thead>\n",
       "    <tr style=\"text-align: right;\">\n",
       "      <th></th>\n",
       "      <th>date</th>\n",
       "      <th>primary_cleaner.input.sulfate</th>\n",
       "      <th>primary_cleaner.input.depressant</th>\n",
       "      <th>primary_cleaner.input.feed_size</th>\n",
       "      <th>primary_cleaner.input.xanthate</th>\n",
       "      <th>primary_cleaner.state.floatbank8_a_air</th>\n",
       "      <th>primary_cleaner.state.floatbank8_a_level</th>\n",
       "      <th>primary_cleaner.state.floatbank8_b_air</th>\n",
       "      <th>primary_cleaner.state.floatbank8_b_level</th>\n",
       "      <th>primary_cleaner.state.floatbank8_c_air</th>\n",
       "      <th>...</th>\n",
       "      <th>secondary_cleaner.state.floatbank4_a_air</th>\n",
       "      <th>secondary_cleaner.state.floatbank4_a_level</th>\n",
       "      <th>secondary_cleaner.state.floatbank4_b_air</th>\n",
       "      <th>secondary_cleaner.state.floatbank4_b_level</th>\n",
       "      <th>secondary_cleaner.state.floatbank5_a_air</th>\n",
       "      <th>secondary_cleaner.state.floatbank5_a_level</th>\n",
       "      <th>secondary_cleaner.state.floatbank5_b_air</th>\n",
       "      <th>secondary_cleaner.state.floatbank5_b_level</th>\n",
       "      <th>secondary_cleaner.state.floatbank6_a_air</th>\n",
       "      <th>secondary_cleaner.state.floatbank6_a_level</th>\n",
       "    </tr>\n",
       "  </thead>\n",
       "  <tbody>\n",
       "    <tr>\n",
       "      <th>0</th>\n",
       "      <td>2016-09-01 00:59:59</td>\n",
       "      <td>210.800909</td>\n",
       "      <td>14.993118</td>\n",
       "      <td>8.080000</td>\n",
       "      <td>1.005021</td>\n",
       "      <td>1398.981301</td>\n",
       "      <td>-500.225577</td>\n",
       "      <td>1399.144926</td>\n",
       "      <td>-499.919735</td>\n",
       "      <td>1400.102998</td>\n",
       "      <td>...</td>\n",
       "      <td>12.023554</td>\n",
       "      <td>-497.795834</td>\n",
       "      <td>8.016656</td>\n",
       "      <td>-501.289139</td>\n",
       "      <td>7.946562</td>\n",
       "      <td>-432.317850</td>\n",
       "      <td>4.872511</td>\n",
       "      <td>-500.037437</td>\n",
       "      <td>26.705889</td>\n",
       "      <td>-499.709414</td>\n",
       "    </tr>\n",
       "    <tr>\n",
       "      <th>1</th>\n",
       "      <td>2016-09-01 01:59:59</td>\n",
       "      <td>215.392455</td>\n",
       "      <td>14.987471</td>\n",
       "      <td>8.080000</td>\n",
       "      <td>0.990469</td>\n",
       "      <td>1398.777912</td>\n",
       "      <td>-500.057435</td>\n",
       "      <td>1398.055362</td>\n",
       "      <td>-499.778182</td>\n",
       "      <td>1396.151033</td>\n",
       "      <td>...</td>\n",
       "      <td>12.058140</td>\n",
       "      <td>-498.695773</td>\n",
       "      <td>8.130979</td>\n",
       "      <td>-499.634209</td>\n",
       "      <td>7.958270</td>\n",
       "      <td>-525.839648</td>\n",
       "      <td>4.878850</td>\n",
       "      <td>-500.162375</td>\n",
       "      <td>25.019940</td>\n",
       "      <td>-499.819438</td>\n",
       "    </tr>\n",
       "    <tr>\n",
       "      <th>2</th>\n",
       "      <td>2016-09-01 02:59:59</td>\n",
       "      <td>215.259946</td>\n",
       "      <td>12.884934</td>\n",
       "      <td>7.786667</td>\n",
       "      <td>0.996043</td>\n",
       "      <td>1398.493666</td>\n",
       "      <td>-500.868360</td>\n",
       "      <td>1398.860436</td>\n",
       "      <td>-499.764529</td>\n",
       "      <td>1398.075709</td>\n",
       "      <td>...</td>\n",
       "      <td>11.962366</td>\n",
       "      <td>-498.767484</td>\n",
       "      <td>8.096893</td>\n",
       "      <td>-500.827423</td>\n",
       "      <td>8.071056</td>\n",
       "      <td>-500.801673</td>\n",
       "      <td>4.905125</td>\n",
       "      <td>-499.828510</td>\n",
       "      <td>24.994862</td>\n",
       "      <td>-500.622559</td>\n",
       "    </tr>\n",
       "    <tr>\n",
       "      <th>3</th>\n",
       "      <td>2016-09-01 03:59:59</td>\n",
       "      <td>215.336236</td>\n",
       "      <td>12.006805</td>\n",
       "      <td>7.640000</td>\n",
       "      <td>0.863514</td>\n",
       "      <td>1399.618111</td>\n",
       "      <td>-498.863574</td>\n",
       "      <td>1397.440120</td>\n",
       "      <td>-499.211024</td>\n",
       "      <td>1400.129303</td>\n",
       "      <td>...</td>\n",
       "      <td>12.033091</td>\n",
       "      <td>-498.350935</td>\n",
       "      <td>8.074946</td>\n",
       "      <td>-499.474407</td>\n",
       "      <td>7.897085</td>\n",
       "      <td>-500.868509</td>\n",
       "      <td>4.931400</td>\n",
       "      <td>-499.963623</td>\n",
       "      <td>24.948919</td>\n",
       "      <td>-498.709987</td>\n",
       "    </tr>\n",
       "    <tr>\n",
       "      <th>4</th>\n",
       "      <td>2016-09-01 04:59:59</td>\n",
       "      <td>199.099327</td>\n",
       "      <td>10.682530</td>\n",
       "      <td>7.530000</td>\n",
       "      <td>0.805575</td>\n",
       "      <td>1401.268123</td>\n",
       "      <td>-500.808305</td>\n",
       "      <td>1398.128818</td>\n",
       "      <td>-499.504543</td>\n",
       "      <td>1402.172226</td>\n",
       "      <td>...</td>\n",
       "      <td>12.025367</td>\n",
       "      <td>-500.786497</td>\n",
       "      <td>8.054678</td>\n",
       "      <td>-500.397500</td>\n",
       "      <td>8.107890</td>\n",
       "      <td>-509.526725</td>\n",
       "      <td>4.957674</td>\n",
       "      <td>-500.360026</td>\n",
       "      <td>25.003331</td>\n",
       "      <td>-500.856333</td>\n",
       "    </tr>\n",
       "  </tbody>\n",
       "</table>\n",
       "<p>5 rows × 53 columns</p>\n",
       "</div>"
      ],
      "text/plain": [
       "                  date  primary_cleaner.input.sulfate  \\\n",
       "0  2016-09-01 00:59:59                     210.800909   \n",
       "1  2016-09-01 01:59:59                     215.392455   \n",
       "2  2016-09-01 02:59:59                     215.259946   \n",
       "3  2016-09-01 03:59:59                     215.336236   \n",
       "4  2016-09-01 04:59:59                     199.099327   \n",
       "\n",
       "   primary_cleaner.input.depressant  primary_cleaner.input.feed_size  \\\n",
       "0                         14.993118                         8.080000   \n",
       "1                         14.987471                         8.080000   \n",
       "2                         12.884934                         7.786667   \n",
       "3                         12.006805                         7.640000   \n",
       "4                         10.682530                         7.530000   \n",
       "\n",
       "   primary_cleaner.input.xanthate  primary_cleaner.state.floatbank8_a_air  \\\n",
       "0                        1.005021                             1398.981301   \n",
       "1                        0.990469                             1398.777912   \n",
       "2                        0.996043                             1398.493666   \n",
       "3                        0.863514                             1399.618111   \n",
       "4                        0.805575                             1401.268123   \n",
       "\n",
       "   primary_cleaner.state.floatbank8_a_level  \\\n",
       "0                               -500.225577   \n",
       "1                               -500.057435   \n",
       "2                               -500.868360   \n",
       "3                               -498.863574   \n",
       "4                               -500.808305   \n",
       "\n",
       "   primary_cleaner.state.floatbank8_b_air  \\\n",
       "0                             1399.144926   \n",
       "1                             1398.055362   \n",
       "2                             1398.860436   \n",
       "3                             1397.440120   \n",
       "4                             1398.128818   \n",
       "\n",
       "   primary_cleaner.state.floatbank8_b_level  \\\n",
       "0                               -499.919735   \n",
       "1                               -499.778182   \n",
       "2                               -499.764529   \n",
       "3                               -499.211024   \n",
       "4                               -499.504543   \n",
       "\n",
       "   primary_cleaner.state.floatbank8_c_air  ...  \\\n",
       "0                             1400.102998  ...   \n",
       "1                             1396.151033  ...   \n",
       "2                             1398.075709  ...   \n",
       "3                             1400.129303  ...   \n",
       "4                             1402.172226  ...   \n",
       "\n",
       "   secondary_cleaner.state.floatbank4_a_air  \\\n",
       "0                                 12.023554   \n",
       "1                                 12.058140   \n",
       "2                                 11.962366   \n",
       "3                                 12.033091   \n",
       "4                                 12.025367   \n",
       "\n",
       "   secondary_cleaner.state.floatbank4_a_level  \\\n",
       "0                                 -497.795834   \n",
       "1                                 -498.695773   \n",
       "2                                 -498.767484   \n",
       "3                                 -498.350935   \n",
       "4                                 -500.786497   \n",
       "\n",
       "   secondary_cleaner.state.floatbank4_b_air  \\\n",
       "0                                  8.016656   \n",
       "1                                  8.130979   \n",
       "2                                  8.096893   \n",
       "3                                  8.074946   \n",
       "4                                  8.054678   \n",
       "\n",
       "   secondary_cleaner.state.floatbank4_b_level  \\\n",
       "0                                 -501.289139   \n",
       "1                                 -499.634209   \n",
       "2                                 -500.827423   \n",
       "3                                 -499.474407   \n",
       "4                                 -500.397500   \n",
       "\n",
       "   secondary_cleaner.state.floatbank5_a_air  \\\n",
       "0                                  7.946562   \n",
       "1                                  7.958270   \n",
       "2                                  8.071056   \n",
       "3                                  7.897085   \n",
       "4                                  8.107890   \n",
       "\n",
       "   secondary_cleaner.state.floatbank5_a_level  \\\n",
       "0                                 -432.317850   \n",
       "1                                 -525.839648   \n",
       "2                                 -500.801673   \n",
       "3                                 -500.868509   \n",
       "4                                 -509.526725   \n",
       "\n",
       "   secondary_cleaner.state.floatbank5_b_air  \\\n",
       "0                                  4.872511   \n",
       "1                                  4.878850   \n",
       "2                                  4.905125   \n",
       "3                                  4.931400   \n",
       "4                                  4.957674   \n",
       "\n",
       "   secondary_cleaner.state.floatbank5_b_level  \\\n",
       "0                                 -500.037437   \n",
       "1                                 -500.162375   \n",
       "2                                 -499.828510   \n",
       "3                                 -499.963623   \n",
       "4                                 -500.360026   \n",
       "\n",
       "   secondary_cleaner.state.floatbank6_a_air  \\\n",
       "0                                 26.705889   \n",
       "1                                 25.019940   \n",
       "2                                 24.994862   \n",
       "3                                 24.948919   \n",
       "4                                 25.003331   \n",
       "\n",
       "   secondary_cleaner.state.floatbank6_a_level  \n",
       "0                                 -499.709414  \n",
       "1                                 -499.819438  \n",
       "2                                 -500.622559  \n",
       "3                                 -498.709987  \n",
       "4                                 -500.856333  \n",
       "\n",
       "[5 rows x 53 columns]"
      ]
     },
     "execution_count": 5,
     "metadata": {},
     "output_type": "execute_result"
    }
   ],
   "source": [
    "test.head()"
   ]
  },
  {
   "cell_type": "code",
   "execution_count": 6,
   "metadata": {},
   "outputs": [
    {
     "name": "stdout",
     "output_type": "stream",
     "text": [
      "<class 'pandas.core.frame.DataFrame'>\n",
      "RangeIndex: 5290 entries, 0 to 5289\n",
      "Data columns (total 53 columns):\n",
      " #   Column                                      Non-Null Count  Dtype  \n",
      "---  ------                                      --------------  -----  \n",
      " 0   date                                        5290 non-null   object \n",
      " 1   primary_cleaner.input.sulfate               5286 non-null   float64\n",
      " 2   primary_cleaner.input.depressant            5285 non-null   float64\n",
      " 3   primary_cleaner.input.feed_size             5290 non-null   float64\n",
      " 4   primary_cleaner.input.xanthate              5286 non-null   float64\n",
      " 5   primary_cleaner.state.floatbank8_a_air      5290 non-null   float64\n",
      " 6   primary_cleaner.state.floatbank8_a_level    5290 non-null   float64\n",
      " 7   primary_cleaner.state.floatbank8_b_air      5290 non-null   float64\n",
      " 8   primary_cleaner.state.floatbank8_b_level    5290 non-null   float64\n",
      " 9   primary_cleaner.state.floatbank8_c_air      5290 non-null   float64\n",
      " 10  primary_cleaner.state.floatbank8_c_level    5290 non-null   float64\n",
      " 11  primary_cleaner.state.floatbank8_d_air      5290 non-null   float64\n",
      " 12  primary_cleaner.state.floatbank8_d_level    5290 non-null   float64\n",
      " 13  rougher.input.feed_ag                       5290 non-null   float64\n",
      " 14  rougher.input.feed_pb                       5290 non-null   float64\n",
      " 15  rougher.input.feed_rate                     5287 non-null   float64\n",
      " 16  rougher.input.feed_size                     5289 non-null   float64\n",
      " 17  rougher.input.feed_sol                      5269 non-null   float64\n",
      " 18  rougher.input.feed_au                       5290 non-null   float64\n",
      " 19  rougher.input.floatbank10_sulfate           5285 non-null   float64\n",
      " 20  rougher.input.floatbank10_xanthate          5290 non-null   float64\n",
      " 21  rougher.input.floatbank11_sulfate           5282 non-null   float64\n",
      " 22  rougher.input.floatbank11_xanthate          5265 non-null   float64\n",
      " 23  rougher.state.floatbank10_a_air             5290 non-null   float64\n",
      " 24  rougher.state.floatbank10_a_level           5290 non-null   float64\n",
      " 25  rougher.state.floatbank10_b_air             5290 non-null   float64\n",
      " 26  rougher.state.floatbank10_b_level           5290 non-null   float64\n",
      " 27  rougher.state.floatbank10_c_air             5290 non-null   float64\n",
      " 28  rougher.state.floatbank10_c_level           5290 non-null   float64\n",
      " 29  rougher.state.floatbank10_d_air             5290 non-null   float64\n",
      " 30  rougher.state.floatbank10_d_level           5290 non-null   float64\n",
      " 31  rougher.state.floatbank10_e_air             5290 non-null   float64\n",
      " 32  rougher.state.floatbank10_e_level           5290 non-null   float64\n",
      " 33  rougher.state.floatbank10_f_air             5290 non-null   float64\n",
      " 34  rougher.state.floatbank10_f_level           5290 non-null   float64\n",
      " 35  secondary_cleaner.state.floatbank2_a_air    5287 non-null   float64\n",
      " 36  secondary_cleaner.state.floatbank2_a_level  5290 non-null   float64\n",
      " 37  secondary_cleaner.state.floatbank2_b_air    5288 non-null   float64\n",
      " 38  secondary_cleaner.state.floatbank2_b_level  5290 non-null   float64\n",
      " 39  secondary_cleaner.state.floatbank3_a_air    5281 non-null   float64\n",
      " 40  secondary_cleaner.state.floatbank3_a_level  5290 non-null   float64\n",
      " 41  secondary_cleaner.state.floatbank3_b_air    5290 non-null   float64\n",
      " 42  secondary_cleaner.state.floatbank3_b_level  5290 non-null   float64\n",
      " 43  secondary_cleaner.state.floatbank4_a_air    5290 non-null   float64\n",
      " 44  secondary_cleaner.state.floatbank4_a_level  5290 non-null   float64\n",
      " 45  secondary_cleaner.state.floatbank4_b_air    5290 non-null   float64\n",
      " 46  secondary_cleaner.state.floatbank4_b_level  5290 non-null   float64\n",
      " 47  secondary_cleaner.state.floatbank5_a_air    5290 non-null   float64\n",
      " 48  secondary_cleaner.state.floatbank5_a_level  5290 non-null   float64\n",
      " 49  secondary_cleaner.state.floatbank5_b_air    5290 non-null   float64\n",
      " 50  secondary_cleaner.state.floatbank5_b_level  5290 non-null   float64\n",
      " 51  secondary_cleaner.state.floatbank6_a_air    5290 non-null   float64\n",
      " 52  secondary_cleaner.state.floatbank6_a_level  5290 non-null   float64\n",
      "dtypes: float64(52), object(1)\n",
      "memory usage: 2.1+ MB\n"
     ]
    }
   ],
   "source": [
    "test.info()"
   ]
  },
  {
   "cell_type": "code",
   "execution_count": 7,
   "metadata": {},
   "outputs": [
    {
     "data": {
      "text/html": [
       "<div>\n",
       "<style scoped>\n",
       "    .dataframe tbody tr th:only-of-type {\n",
       "        vertical-align: middle;\n",
       "    }\n",
       "\n",
       "    .dataframe tbody tr th {\n",
       "        vertical-align: top;\n",
       "    }\n",
       "\n",
       "    .dataframe thead th {\n",
       "        text-align: right;\n",
       "    }\n",
       "</style>\n",
       "<table border=\"1\" class=\"dataframe\">\n",
       "  <thead>\n",
       "    <tr style=\"text-align: right;\">\n",
       "      <th></th>\n",
       "      <th>date</th>\n",
       "      <th>final.output.concentrate_ag</th>\n",
       "      <th>final.output.concentrate_pb</th>\n",
       "      <th>final.output.concentrate_sol</th>\n",
       "      <th>final.output.concentrate_au</th>\n",
       "      <th>final.output.recovery</th>\n",
       "      <th>final.output.tail_ag</th>\n",
       "      <th>final.output.tail_pb</th>\n",
       "      <th>final.output.tail_sol</th>\n",
       "      <th>final.output.tail_au</th>\n",
       "      <th>...</th>\n",
       "      <th>secondary_cleaner.state.floatbank4_a_air</th>\n",
       "      <th>secondary_cleaner.state.floatbank4_a_level</th>\n",
       "      <th>secondary_cleaner.state.floatbank4_b_air</th>\n",
       "      <th>secondary_cleaner.state.floatbank4_b_level</th>\n",
       "      <th>secondary_cleaner.state.floatbank5_a_air</th>\n",
       "      <th>secondary_cleaner.state.floatbank5_a_level</th>\n",
       "      <th>secondary_cleaner.state.floatbank5_b_air</th>\n",
       "      <th>secondary_cleaner.state.floatbank5_b_level</th>\n",
       "      <th>secondary_cleaner.state.floatbank6_a_air</th>\n",
       "      <th>secondary_cleaner.state.floatbank6_a_level</th>\n",
       "    </tr>\n",
       "  </thead>\n",
       "  <tbody>\n",
       "    <tr>\n",
       "      <th>0</th>\n",
       "      <td>2016-01-15 00:00:00</td>\n",
       "      <td>6.055403</td>\n",
       "      <td>9.889648</td>\n",
       "      <td>5.507324</td>\n",
       "      <td>42.192020</td>\n",
       "      <td>70.541216</td>\n",
       "      <td>10.411962</td>\n",
       "      <td>0.895447</td>\n",
       "      <td>16.904297</td>\n",
       "      <td>2.143149</td>\n",
       "      <td>...</td>\n",
       "      <td>14.016835</td>\n",
       "      <td>-502.488007</td>\n",
       "      <td>12.099931</td>\n",
       "      <td>-504.715942</td>\n",
       "      <td>9.925633</td>\n",
       "      <td>-498.310211</td>\n",
       "      <td>8.079666</td>\n",
       "      <td>-500.470978</td>\n",
       "      <td>14.151341</td>\n",
       "      <td>-605.841980</td>\n",
       "    </tr>\n",
       "    <tr>\n",
       "      <th>1</th>\n",
       "      <td>2016-01-15 01:00:00</td>\n",
       "      <td>6.029369</td>\n",
       "      <td>9.968944</td>\n",
       "      <td>5.257781</td>\n",
       "      <td>42.701629</td>\n",
       "      <td>69.266198</td>\n",
       "      <td>10.462676</td>\n",
       "      <td>0.927452</td>\n",
       "      <td>16.634514</td>\n",
       "      <td>2.224930</td>\n",
       "      <td>...</td>\n",
       "      <td>13.992281</td>\n",
       "      <td>-505.503262</td>\n",
       "      <td>11.950531</td>\n",
       "      <td>-501.331529</td>\n",
       "      <td>10.039245</td>\n",
       "      <td>-500.169983</td>\n",
       "      <td>7.984757</td>\n",
       "      <td>-500.582168</td>\n",
       "      <td>13.998353</td>\n",
       "      <td>-599.787184</td>\n",
       "    </tr>\n",
       "    <tr>\n",
       "      <th>2</th>\n",
       "      <td>2016-01-15 02:00:00</td>\n",
       "      <td>6.055926</td>\n",
       "      <td>10.213995</td>\n",
       "      <td>5.383759</td>\n",
       "      <td>42.657501</td>\n",
       "      <td>68.116445</td>\n",
       "      <td>10.507046</td>\n",
       "      <td>0.953716</td>\n",
       "      <td>16.208849</td>\n",
       "      <td>2.257889</td>\n",
       "      <td>...</td>\n",
       "      <td>14.015015</td>\n",
       "      <td>-502.520901</td>\n",
       "      <td>11.912783</td>\n",
       "      <td>-501.133383</td>\n",
       "      <td>10.070913</td>\n",
       "      <td>-500.129135</td>\n",
       "      <td>8.013877</td>\n",
       "      <td>-500.517572</td>\n",
       "      <td>14.028663</td>\n",
       "      <td>-601.427363</td>\n",
       "    </tr>\n",
       "    <tr>\n",
       "      <th>3</th>\n",
       "      <td>2016-01-15 03:00:00</td>\n",
       "      <td>6.047977</td>\n",
       "      <td>9.977019</td>\n",
       "      <td>4.858634</td>\n",
       "      <td>42.689819</td>\n",
       "      <td>68.347543</td>\n",
       "      <td>10.422762</td>\n",
       "      <td>0.883763</td>\n",
       "      <td>16.532835</td>\n",
       "      <td>2.146849</td>\n",
       "      <td>...</td>\n",
       "      <td>14.036510</td>\n",
       "      <td>-500.857308</td>\n",
       "      <td>11.999550</td>\n",
       "      <td>-501.193686</td>\n",
       "      <td>9.970366</td>\n",
       "      <td>-499.201640</td>\n",
       "      <td>7.977324</td>\n",
       "      <td>-500.255908</td>\n",
       "      <td>14.005551</td>\n",
       "      <td>-599.996129</td>\n",
       "    </tr>\n",
       "    <tr>\n",
       "      <th>4</th>\n",
       "      <td>2016-01-15 04:00:00</td>\n",
       "      <td>6.148599</td>\n",
       "      <td>10.142511</td>\n",
       "      <td>4.939416</td>\n",
       "      <td>42.774141</td>\n",
       "      <td>66.927016</td>\n",
       "      <td>10.360302</td>\n",
       "      <td>0.792826</td>\n",
       "      <td>16.525686</td>\n",
       "      <td>2.055292</td>\n",
       "      <td>...</td>\n",
       "      <td>14.027298</td>\n",
       "      <td>-499.838632</td>\n",
       "      <td>11.953070</td>\n",
       "      <td>-501.053894</td>\n",
       "      <td>9.925709</td>\n",
       "      <td>-501.686727</td>\n",
       "      <td>7.894242</td>\n",
       "      <td>-500.356035</td>\n",
       "      <td>13.996647</td>\n",
       "      <td>-601.496691</td>\n",
       "    </tr>\n",
       "  </tbody>\n",
       "</table>\n",
       "<p>5 rows × 87 columns</p>\n",
       "</div>"
      ],
      "text/plain": [
       "                  date  final.output.concentrate_ag  \\\n",
       "0  2016-01-15 00:00:00                     6.055403   \n",
       "1  2016-01-15 01:00:00                     6.029369   \n",
       "2  2016-01-15 02:00:00                     6.055926   \n",
       "3  2016-01-15 03:00:00                     6.047977   \n",
       "4  2016-01-15 04:00:00                     6.148599   \n",
       "\n",
       "   final.output.concentrate_pb  final.output.concentrate_sol  \\\n",
       "0                     9.889648                      5.507324   \n",
       "1                     9.968944                      5.257781   \n",
       "2                    10.213995                      5.383759   \n",
       "3                     9.977019                      4.858634   \n",
       "4                    10.142511                      4.939416   \n",
       "\n",
       "   final.output.concentrate_au  final.output.recovery  final.output.tail_ag  \\\n",
       "0                    42.192020              70.541216             10.411962   \n",
       "1                    42.701629              69.266198             10.462676   \n",
       "2                    42.657501              68.116445             10.507046   \n",
       "3                    42.689819              68.347543             10.422762   \n",
       "4                    42.774141              66.927016             10.360302   \n",
       "\n",
       "   final.output.tail_pb  final.output.tail_sol  final.output.tail_au  ...  \\\n",
       "0              0.895447              16.904297              2.143149  ...   \n",
       "1              0.927452              16.634514              2.224930  ...   \n",
       "2              0.953716              16.208849              2.257889  ...   \n",
       "3              0.883763              16.532835              2.146849  ...   \n",
       "4              0.792826              16.525686              2.055292  ...   \n",
       "\n",
       "   secondary_cleaner.state.floatbank4_a_air  \\\n",
       "0                                 14.016835   \n",
       "1                                 13.992281   \n",
       "2                                 14.015015   \n",
       "3                                 14.036510   \n",
       "4                                 14.027298   \n",
       "\n",
       "   secondary_cleaner.state.floatbank4_a_level  \\\n",
       "0                                 -502.488007   \n",
       "1                                 -505.503262   \n",
       "2                                 -502.520901   \n",
       "3                                 -500.857308   \n",
       "4                                 -499.838632   \n",
       "\n",
       "   secondary_cleaner.state.floatbank4_b_air  \\\n",
       "0                                 12.099931   \n",
       "1                                 11.950531   \n",
       "2                                 11.912783   \n",
       "3                                 11.999550   \n",
       "4                                 11.953070   \n",
       "\n",
       "   secondary_cleaner.state.floatbank4_b_level  \\\n",
       "0                                 -504.715942   \n",
       "1                                 -501.331529   \n",
       "2                                 -501.133383   \n",
       "3                                 -501.193686   \n",
       "4                                 -501.053894   \n",
       "\n",
       "   secondary_cleaner.state.floatbank5_a_air  \\\n",
       "0                                  9.925633   \n",
       "1                                 10.039245   \n",
       "2                                 10.070913   \n",
       "3                                  9.970366   \n",
       "4                                  9.925709   \n",
       "\n",
       "   secondary_cleaner.state.floatbank5_a_level  \\\n",
       "0                                 -498.310211   \n",
       "1                                 -500.169983   \n",
       "2                                 -500.129135   \n",
       "3                                 -499.201640   \n",
       "4                                 -501.686727   \n",
       "\n",
       "   secondary_cleaner.state.floatbank5_b_air  \\\n",
       "0                                  8.079666   \n",
       "1                                  7.984757   \n",
       "2                                  8.013877   \n",
       "3                                  7.977324   \n",
       "4                                  7.894242   \n",
       "\n",
       "   secondary_cleaner.state.floatbank5_b_level  \\\n",
       "0                                 -500.470978   \n",
       "1                                 -500.582168   \n",
       "2                                 -500.517572   \n",
       "3                                 -500.255908   \n",
       "4                                 -500.356035   \n",
       "\n",
       "   secondary_cleaner.state.floatbank6_a_air  \\\n",
       "0                                 14.151341   \n",
       "1                                 13.998353   \n",
       "2                                 14.028663   \n",
       "3                                 14.005551   \n",
       "4                                 13.996647   \n",
       "\n",
       "   secondary_cleaner.state.floatbank6_a_level  \n",
       "0                                 -605.841980  \n",
       "1                                 -599.787184  \n",
       "2                                 -601.427363  \n",
       "3                                 -599.996129  \n",
       "4                                 -601.496691  \n",
       "\n",
       "[5 rows x 87 columns]"
      ]
     },
     "execution_count": 7,
     "metadata": {},
     "output_type": "execute_result"
    }
   ],
   "source": [
    "full.head()"
   ]
  },
  {
   "cell_type": "code",
   "execution_count": 8,
   "metadata": {},
   "outputs": [
    {
     "name": "stdout",
     "output_type": "stream",
     "text": [
      "<class 'pandas.core.frame.DataFrame'>\n",
      "RangeIndex: 19439 entries, 0 to 19438\n",
      "Data columns (total 87 columns):\n",
      " #   Column                                              Non-Null Count  Dtype  \n",
      "---  ------                                              --------------  -----  \n",
      " 0   date                                                19439 non-null  object \n",
      " 1   final.output.concentrate_ag                         19438 non-null  float64\n",
      " 2   final.output.concentrate_pb                         19438 non-null  float64\n",
      " 3   final.output.concentrate_sol                        19228 non-null  float64\n",
      " 4   final.output.concentrate_au                         19439 non-null  float64\n",
      " 5   final.output.recovery                               19439 non-null  float64\n",
      " 6   final.output.tail_ag                                19438 non-null  float64\n",
      " 7   final.output.tail_pb                                19338 non-null  float64\n",
      " 8   final.output.tail_sol                               19433 non-null  float64\n",
      " 9   final.output.tail_au                                19439 non-null  float64\n",
      " 10  primary_cleaner.input.sulfate                       19415 non-null  float64\n",
      " 11  primary_cleaner.input.depressant                    19402 non-null  float64\n",
      " 12  primary_cleaner.input.feed_size                     19439 non-null  float64\n",
      " 13  primary_cleaner.input.xanthate                      19335 non-null  float64\n",
      " 14  primary_cleaner.output.concentrate_ag               19439 non-null  float64\n",
      " 15  primary_cleaner.output.concentrate_pb               19323 non-null  float64\n",
      " 16  primary_cleaner.output.concentrate_sol              19069 non-null  float64\n",
      " 17  primary_cleaner.output.concentrate_au               19439 non-null  float64\n",
      " 18  primary_cleaner.output.tail_ag                      19435 non-null  float64\n",
      " 19  primary_cleaner.output.tail_pb                      19418 non-null  float64\n",
      " 20  primary_cleaner.output.tail_sol                     19377 non-null  float64\n",
      " 21  primary_cleaner.output.tail_au                      19439 non-null  float64\n",
      " 22  primary_cleaner.state.floatbank8_a_air              19435 non-null  float64\n",
      " 23  primary_cleaner.state.floatbank8_a_level            19438 non-null  float64\n",
      " 24  primary_cleaner.state.floatbank8_b_air              19435 non-null  float64\n",
      " 25  primary_cleaner.state.floatbank8_b_level            19438 non-null  float64\n",
      " 26  primary_cleaner.state.floatbank8_c_air              19437 non-null  float64\n",
      " 27  primary_cleaner.state.floatbank8_c_level            19438 non-null  float64\n",
      " 28  primary_cleaner.state.floatbank8_d_air              19436 non-null  float64\n",
      " 29  primary_cleaner.state.floatbank8_d_level            19438 non-null  float64\n",
      " 30  rougher.calculation.sulfate_to_au_concentrate       19437 non-null  float64\n",
      " 31  rougher.calculation.floatbank10_sulfate_to_au_feed  19437 non-null  float64\n",
      " 32  rougher.calculation.floatbank11_sulfate_to_au_feed  19437 non-null  float64\n",
      " 33  rougher.calculation.au_pb_ratio                     19439 non-null  float64\n",
      " 34  rougher.input.feed_ag                               19439 non-null  float64\n",
      " 35  rougher.input.feed_pb                               19339 non-null  float64\n",
      " 36  rougher.input.feed_rate                             19428 non-null  float64\n",
      " 37  rougher.input.feed_size                             19294 non-null  float64\n",
      " 38  rougher.input.feed_sol                              19340 non-null  float64\n",
      " 39  rougher.input.feed_au                               19439 non-null  float64\n",
      " 40  rougher.input.floatbank10_sulfate                   19405 non-null  float64\n",
      " 41  rougher.input.floatbank10_xanthate                  19431 non-null  float64\n",
      " 42  rougher.input.floatbank11_sulfate                   19395 non-null  float64\n",
      " 43  rougher.input.floatbank11_xanthate                  18986 non-null  float64\n",
      " 44  rougher.output.concentrate_ag                       19439 non-null  float64\n",
      " 45  rougher.output.concentrate_pb                       19439 non-null  float64\n",
      " 46  rougher.output.concentrate_sol                      19416 non-null  float64\n",
      " 47  rougher.output.concentrate_au                       19439 non-null  float64\n",
      " 48  rougher.output.recovery                             19439 non-null  float64\n",
      " 49  rougher.output.tail_ag                              19438 non-null  float64\n",
      " 50  rougher.output.tail_pb                              19439 non-null  float64\n",
      " 51  rougher.output.tail_sol                             19439 non-null  float64\n",
      " 52  rougher.output.tail_au                              19439 non-null  float64\n",
      " 53  rougher.state.floatbank10_a_air                     19438 non-null  float64\n",
      " 54  rougher.state.floatbank10_a_level                   19438 non-null  float64\n",
      " 55  rougher.state.floatbank10_b_air                     19438 non-null  float64\n",
      " 56  rougher.state.floatbank10_b_level                   19438 non-null  float64\n",
      " 57  rougher.state.floatbank10_c_air                     19438 non-null  float64\n",
      " 58  rougher.state.floatbank10_c_level                   19438 non-null  float64\n",
      " 59  rougher.state.floatbank10_d_air                     19439 non-null  float64\n",
      " 60  rougher.state.floatbank10_d_level                   19439 non-null  float64\n",
      " 61  rougher.state.floatbank10_e_air                     19003 non-null  float64\n",
      " 62  rougher.state.floatbank10_e_level                   19439 non-null  float64\n",
      " 63  rougher.state.floatbank10_f_air                     19439 non-null  float64\n",
      " 64  rougher.state.floatbank10_f_level                   19439 non-null  float64\n",
      " 65  secondary_cleaner.output.tail_ag                    19437 non-null  float64\n",
      " 66  secondary_cleaner.output.tail_pb                    19427 non-null  float64\n",
      " 67  secondary_cleaner.output.tail_sol                   17691 non-null  float64\n",
      " 68  secondary_cleaner.output.tail_au                    19439 non-null  float64\n",
      " 69  secondary_cleaner.state.floatbank2_a_air            19219 non-null  float64\n",
      " 70  secondary_cleaner.state.floatbank2_a_level          19438 non-null  float64\n",
      " 71  secondary_cleaner.state.floatbank2_b_air            19416 non-null  float64\n",
      " 72  secondary_cleaner.state.floatbank2_b_level          19438 non-null  float64\n",
      " 73  secondary_cleaner.state.floatbank3_a_air            19426 non-null  float64\n",
      " 74  secondary_cleaner.state.floatbank3_a_level          19438 non-null  float64\n",
      " 75  secondary_cleaner.state.floatbank3_b_air            19438 non-null  float64\n",
      " 76  secondary_cleaner.state.floatbank3_b_level          19438 non-null  float64\n",
      " 77  secondary_cleaner.state.floatbank4_a_air            19433 non-null  float64\n",
      " 78  secondary_cleaner.state.floatbank4_a_level          19438 non-null  float64\n",
      " 79  secondary_cleaner.state.floatbank4_b_air            19438 non-null  float64\n",
      " 80  secondary_cleaner.state.floatbank4_b_level          19438 non-null  float64\n",
      " 81  secondary_cleaner.state.floatbank5_a_air            19438 non-null  float64\n",
      " 82  secondary_cleaner.state.floatbank5_a_level          19438 non-null  float64\n",
      " 83  secondary_cleaner.state.floatbank5_b_air            19438 non-null  float64\n",
      " 84  secondary_cleaner.state.floatbank5_b_level          19438 non-null  float64\n",
      " 85  secondary_cleaner.state.floatbank6_a_air            19437 non-null  float64\n",
      " 86  secondary_cleaner.state.floatbank6_a_level          19438 non-null  float64\n",
      "dtypes: float64(86), object(1)\n",
      "memory usage: 12.9+ MB\n"
     ]
    }
   ],
   "source": [
    "full.info()"
   ]
  },
  {
   "cell_type": "markdown",
   "metadata": {},
   "source": [
    "по условию сказано, что соседние по времени значения обычно очень схожи, заполним пропуски предидущим значением. fillna(method=\"ffill\").\n",
    "полный датасет не заполняем, так как в нем отсутствую целевые признаки для тестовой части"
   ]
  },
  {
   "cell_type": "code",
   "execution_count": 9,
   "metadata": {},
   "outputs": [],
   "source": [
    "train = train.fillna(method=\"ffill\")\n",
    "test = test.fillna(method=\"ffill\")\n",
    "#full = full.fillna(method=\"ffill\")"
   ]
  },
  {
   "cell_type": "markdown",
   "metadata": {},
   "source": [
    "### проверка корректности показателя эффективности"
   ]
  },
  {
   "cell_type": "markdown",
   "metadata": {},
   "source": [
    "проверим корректность данных восстановления по формуле"
   ]
  },
  {
   "cell_type": "code",
   "execution_count": 10,
   "metadata": {},
   "outputs": [],
   "source": [
    "def recovery_calc (c, t, f):\n",
    "    return((c*(f-t)*100/(f*(c-t))))"
   ]
  },
  {
   "cell_type": "code",
   "execution_count": 11,
   "metadata": {},
   "outputs": [
    {
     "data": {
      "text/plain": [
       "{'rougher.output.recovery': 0        87.107763\n",
       " 1        86.843261\n",
       " 2        86.842308\n",
       " 3        87.226430\n",
       " 4        86.688794\n",
       "            ...    \n",
       " 14144    89.574376\n",
       " 14145    87.724007\n",
       " 14146    88.890579\n",
       " 14147    89.858126\n",
       " 14148    89.514960\n",
       " Length: 14149, dtype: float64}"
      ]
     },
     "execution_count": 11,
     "metadata": {},
     "output_type": "execute_result"
    }
   ],
   "source": [
    "some_test = {'rougher.output.recovery': [1, 2]}\n",
    "#some_test = pd.DataFrame(data=some_test)\n",
    "c = train['rougher.output.concentrate_au']\n",
    "t = train['rougher.output.tail_au']\n",
    "f = train['rougher.input.feed_au']\n",
    "some_test['rougher.output.recovery'] = recovery_calc(c, t, f)\n",
    "some_test"
   ]
  },
  {
   "cell_type": "code",
   "execution_count": 12,
   "metadata": {},
   "outputs": [
    {
     "data": {
      "text/plain": [
       "0        87.107763\n",
       "1        86.843261\n",
       "2        86.842308\n",
       "3        87.226430\n",
       "4        86.688794\n",
       "           ...    \n",
       "14144    89.574376\n",
       "14145    87.724007\n",
       "14146    88.890579\n",
       "14147    89.858126\n",
       "14148    89.514960\n",
       "Name: rougher.output.recovery, Length: 14149, dtype: float64"
      ]
     },
     "execution_count": 12,
     "metadata": {},
     "output_type": "execute_result"
    }
   ],
   "source": [
    "train['rougher.output.recovery']\n"
   ]
  },
  {
   "cell_type": "markdown",
   "metadata": {},
   "source": [
    "посчитаем MAE"
   ]
  },
  {
   "cell_type": "code",
   "execution_count": 13,
   "metadata": {},
   "outputs": [
    {
     "data": {
      "text/plain": [
       "1.1131451184435918e-14"
      ]
     },
     "execution_count": 13,
     "metadata": {},
     "output_type": "execute_result"
    }
   ],
   "source": [
    "mae_f(train['rougher.output.recovery'], some_test['rougher.output.recovery'])"
   ]
  },
  {
   "cell_type": "markdown",
   "metadata": {},
   "source": [
    "#### Вывод"
   ]
  },
  {
   "cell_type": "markdown",
   "metadata": {},
   "source": [
    "очень маленькая ошибка, значит данные в тренировочной таблице корректны."
   ]
  },
  {
   "cell_type": "markdown",
   "metadata": {},
   "source": [
    "### анализ признаков, отсутствующих в тестовой выборке"
   ]
  },
  {
   "cell_type": "code",
   "execution_count": 14,
   "metadata": {
    "scrolled": true
   },
   "outputs": [
    {
     "data": {
      "text/plain": [
       "Index(['date', 'final.output.concentrate_ag', 'final.output.concentrate_pb',\n",
       "       'final.output.concentrate_sol', 'final.output.concentrate_au',\n",
       "       'final.output.recovery', 'final.output.tail_ag', 'final.output.tail_pb',\n",
       "       'final.output.tail_sol', 'final.output.tail_au',\n",
       "       'primary_cleaner.input.sulfate', 'primary_cleaner.input.depressant',\n",
       "       'primary_cleaner.input.feed_size', 'primary_cleaner.input.xanthate',\n",
       "       'primary_cleaner.output.concentrate_ag',\n",
       "       'primary_cleaner.output.concentrate_pb',\n",
       "       'primary_cleaner.output.concentrate_sol',\n",
       "       'primary_cleaner.output.concentrate_au',\n",
       "       'primary_cleaner.output.tail_ag', 'primary_cleaner.output.tail_pb',\n",
       "       'primary_cleaner.output.tail_sol', 'primary_cleaner.output.tail_au',\n",
       "       'primary_cleaner.state.floatbank8_a_air',\n",
       "       'primary_cleaner.state.floatbank8_a_level',\n",
       "       'primary_cleaner.state.floatbank8_b_air',\n",
       "       'primary_cleaner.state.floatbank8_b_level',\n",
       "       'primary_cleaner.state.floatbank8_c_air',\n",
       "       'primary_cleaner.state.floatbank8_c_level',\n",
       "       'primary_cleaner.state.floatbank8_d_air',\n",
       "       'primary_cleaner.state.floatbank8_d_level',\n",
       "       'rougher.calculation.sulfate_to_au_concentrate',\n",
       "       'rougher.calculation.floatbank10_sulfate_to_au_feed',\n",
       "       'rougher.calculation.floatbank11_sulfate_to_au_feed',\n",
       "       'rougher.calculation.au_pb_ratio', 'rougher.input.feed_ag',\n",
       "       'rougher.input.feed_pb', 'rougher.input.feed_rate',\n",
       "       'rougher.input.feed_size', 'rougher.input.feed_sol',\n",
       "       'rougher.input.feed_au', 'rougher.input.floatbank10_sulfate',\n",
       "       'rougher.input.floatbank10_xanthate',\n",
       "       'rougher.input.floatbank11_sulfate',\n",
       "       'rougher.input.floatbank11_xanthate', 'rougher.output.concentrate_ag',\n",
       "       'rougher.output.concentrate_pb', 'rougher.output.concentrate_sol',\n",
       "       'rougher.output.concentrate_au', 'rougher.output.recovery',\n",
       "       'rougher.output.tail_ag', 'rougher.output.tail_pb',\n",
       "       'rougher.output.tail_sol', 'rougher.output.tail_au',\n",
       "       'rougher.state.floatbank10_a_air', 'rougher.state.floatbank10_a_level',\n",
       "       'rougher.state.floatbank10_b_air', 'rougher.state.floatbank10_b_level',\n",
       "       'rougher.state.floatbank10_c_air', 'rougher.state.floatbank10_c_level',\n",
       "       'rougher.state.floatbank10_d_air', 'rougher.state.floatbank10_d_level',\n",
       "       'rougher.state.floatbank10_e_air', 'rougher.state.floatbank10_e_level',\n",
       "       'rougher.state.floatbank10_f_air', 'rougher.state.floatbank10_f_level',\n",
       "       'secondary_cleaner.output.tail_ag', 'secondary_cleaner.output.tail_pb',\n",
       "       'secondary_cleaner.output.tail_sol', 'secondary_cleaner.output.tail_au',\n",
       "       'secondary_cleaner.state.floatbank2_a_air',\n",
       "       'secondary_cleaner.state.floatbank2_a_level',\n",
       "       'secondary_cleaner.state.floatbank2_b_air',\n",
       "       'secondary_cleaner.state.floatbank2_b_level',\n",
       "       'secondary_cleaner.state.floatbank3_a_air',\n",
       "       'secondary_cleaner.state.floatbank3_a_level',\n",
       "       'secondary_cleaner.state.floatbank3_b_air',\n",
       "       'secondary_cleaner.state.floatbank3_b_level',\n",
       "       'secondary_cleaner.state.floatbank4_a_air',\n",
       "       'secondary_cleaner.state.floatbank4_a_level',\n",
       "       'secondary_cleaner.state.floatbank4_b_air',\n",
       "       'secondary_cleaner.state.floatbank4_b_level',\n",
       "       'secondary_cleaner.state.floatbank5_a_air',\n",
       "       'secondary_cleaner.state.floatbank5_a_level',\n",
       "       'secondary_cleaner.state.floatbank5_b_air',\n",
       "       'secondary_cleaner.state.floatbank5_b_level',\n",
       "       'secondary_cleaner.state.floatbank6_a_air',\n",
       "       'secondary_cleaner.state.floatbank6_a_level'],\n",
       "      dtype='object')"
      ]
     },
     "execution_count": 14,
     "metadata": {},
     "output_type": "execute_result"
    }
   ],
   "source": [
    "train.columns"
   ]
  },
  {
   "cell_type": "code",
   "execution_count": 15,
   "metadata": {
    "scrolled": true
   },
   "outputs": [
    {
     "data": {
      "text/plain": [
       "Index(['date', 'primary_cleaner.input.sulfate',\n",
       "       'primary_cleaner.input.depressant', 'primary_cleaner.input.feed_size',\n",
       "       'primary_cleaner.input.xanthate',\n",
       "       'primary_cleaner.state.floatbank8_a_air',\n",
       "       'primary_cleaner.state.floatbank8_a_level',\n",
       "       'primary_cleaner.state.floatbank8_b_air',\n",
       "       'primary_cleaner.state.floatbank8_b_level',\n",
       "       'primary_cleaner.state.floatbank8_c_air',\n",
       "       'primary_cleaner.state.floatbank8_c_level',\n",
       "       'primary_cleaner.state.floatbank8_d_air',\n",
       "       'primary_cleaner.state.floatbank8_d_level', 'rougher.input.feed_ag',\n",
       "       'rougher.input.feed_pb', 'rougher.input.feed_rate',\n",
       "       'rougher.input.feed_size', 'rougher.input.feed_sol',\n",
       "       'rougher.input.feed_au', 'rougher.input.floatbank10_sulfate',\n",
       "       'rougher.input.floatbank10_xanthate',\n",
       "       'rougher.input.floatbank11_sulfate',\n",
       "       'rougher.input.floatbank11_xanthate', 'rougher.state.floatbank10_a_air',\n",
       "       'rougher.state.floatbank10_a_level', 'rougher.state.floatbank10_b_air',\n",
       "       'rougher.state.floatbank10_b_level', 'rougher.state.floatbank10_c_air',\n",
       "       'rougher.state.floatbank10_c_level', 'rougher.state.floatbank10_d_air',\n",
       "       'rougher.state.floatbank10_d_level', 'rougher.state.floatbank10_e_air',\n",
       "       'rougher.state.floatbank10_e_level', 'rougher.state.floatbank10_f_air',\n",
       "       'rougher.state.floatbank10_f_level',\n",
       "       'secondary_cleaner.state.floatbank2_a_air',\n",
       "       'secondary_cleaner.state.floatbank2_a_level',\n",
       "       'secondary_cleaner.state.floatbank2_b_air',\n",
       "       'secondary_cleaner.state.floatbank2_b_level',\n",
       "       'secondary_cleaner.state.floatbank3_a_air',\n",
       "       'secondary_cleaner.state.floatbank3_a_level',\n",
       "       'secondary_cleaner.state.floatbank3_b_air',\n",
       "       'secondary_cleaner.state.floatbank3_b_level',\n",
       "       'secondary_cleaner.state.floatbank4_a_air',\n",
       "       'secondary_cleaner.state.floatbank4_a_level',\n",
       "       'secondary_cleaner.state.floatbank4_b_air',\n",
       "       'secondary_cleaner.state.floatbank4_b_level',\n",
       "       'secondary_cleaner.state.floatbank5_a_air',\n",
       "       'secondary_cleaner.state.floatbank5_a_level',\n",
       "       'secondary_cleaner.state.floatbank5_b_air',\n",
       "       'secondary_cleaner.state.floatbank5_b_level',\n",
       "       'secondary_cleaner.state.floatbank6_a_air',\n",
       "       'secondary_cleaner.state.floatbank6_a_level'],\n",
       "      dtype='object')"
      ]
     },
     "execution_count": 15,
     "metadata": {},
     "output_type": "execute_result"
    }
   ],
   "source": [
    "test.columns"
   ]
  },
  {
   "cell_type": "code",
   "execution_count": 16,
   "metadata": {},
   "outputs": [
    {
     "name": "stdout",
     "output_type": "stream",
     "text": [
      "53 87\n"
     ]
    }
   ],
   "source": [
    "print(len(test.columns), len(train.columns))"
   ]
  },
  {
   "cell_type": "code",
   "execution_count": 17,
   "metadata": {},
   "outputs": [
    {
     "data": {
      "text/plain": [
       "['final.output.concentrate_ag',\n",
       " 'final.output.concentrate_pb',\n",
       " 'final.output.concentrate_sol',\n",
       " 'final.output.concentrate_au',\n",
       " 'final.output.recovery',\n",
       " 'final.output.tail_ag',\n",
       " 'final.output.tail_pb',\n",
       " 'final.output.tail_sol',\n",
       " 'final.output.tail_au',\n",
       " 'primary_cleaner.output.concentrate_ag',\n",
       " 'primary_cleaner.output.concentrate_pb',\n",
       " 'primary_cleaner.output.concentrate_sol',\n",
       " 'primary_cleaner.output.concentrate_au',\n",
       " 'primary_cleaner.output.tail_ag',\n",
       " 'primary_cleaner.output.tail_pb',\n",
       " 'primary_cleaner.output.tail_sol',\n",
       " 'primary_cleaner.output.tail_au',\n",
       " 'rougher.calculation.sulfate_to_au_concentrate',\n",
       " 'rougher.calculation.floatbank10_sulfate_to_au_feed',\n",
       " 'rougher.calculation.floatbank11_sulfate_to_au_feed',\n",
       " 'rougher.calculation.au_pb_ratio',\n",
       " 'rougher.output.concentrate_ag',\n",
       " 'rougher.output.concentrate_pb',\n",
       " 'rougher.output.concentrate_sol',\n",
       " 'rougher.output.concentrate_au',\n",
       " 'rougher.output.recovery',\n",
       " 'rougher.output.tail_ag',\n",
       " 'rougher.output.tail_pb',\n",
       " 'rougher.output.tail_sol',\n",
       " 'rougher.output.tail_au',\n",
       " 'secondary_cleaner.output.tail_ag',\n",
       " 'secondary_cleaner.output.tail_pb',\n",
       " 'secondary_cleaner.output.tail_sol',\n",
       " 'secondary_cleaner.output.tail_au']"
      ]
     },
     "execution_count": 17,
     "metadata": {},
     "output_type": "execute_result"
    }
   ],
   "source": [
    "diffs = []\n",
    "for value in train.columns:\n",
    "    if value not in test.columns:\n",
    "        diffs.append(value)\n",
    "diffs"
   ]
  },
  {
   "cell_type": "code",
   "execution_count": 18,
   "metadata": {},
   "outputs": [
    {
     "name": "stdout",
     "output_type": "stream",
     "text": [
      "<class 'pandas.core.frame.DataFrame'>\n",
      "RangeIndex: 14149 entries, 0 to 14148\n",
      "Data columns (total 34 columns):\n",
      " #   Column                                              Non-Null Count  Dtype  \n",
      "---  ------                                              --------------  -----  \n",
      " 0   final.output.concentrate_ag                         14149 non-null  float64\n",
      " 1   final.output.concentrate_pb                         14149 non-null  float64\n",
      " 2   final.output.concentrate_sol                        14149 non-null  float64\n",
      " 3   final.output.concentrate_au                         14149 non-null  float64\n",
      " 4   final.output.recovery                               14149 non-null  float64\n",
      " 5   final.output.tail_ag                                14149 non-null  float64\n",
      " 6   final.output.tail_pb                                14149 non-null  float64\n",
      " 7   final.output.tail_sol                               14149 non-null  float64\n",
      " 8   final.output.tail_au                                14149 non-null  float64\n",
      " 9   primary_cleaner.output.concentrate_ag               14149 non-null  float64\n",
      " 10  primary_cleaner.output.concentrate_pb               14149 non-null  float64\n",
      " 11  primary_cleaner.output.concentrate_sol              14149 non-null  float64\n",
      " 12  primary_cleaner.output.concentrate_au               14149 non-null  float64\n",
      " 13  primary_cleaner.output.tail_ag                      14149 non-null  float64\n",
      " 14  primary_cleaner.output.tail_pb                      14149 non-null  float64\n",
      " 15  primary_cleaner.output.tail_sol                     14149 non-null  float64\n",
      " 16  primary_cleaner.output.tail_au                      14149 non-null  float64\n",
      " 17  rougher.calculation.sulfate_to_au_concentrate       14149 non-null  float64\n",
      " 18  rougher.calculation.floatbank10_sulfate_to_au_feed  14149 non-null  float64\n",
      " 19  rougher.calculation.floatbank11_sulfate_to_au_feed  14149 non-null  float64\n",
      " 20  rougher.calculation.au_pb_ratio                     14149 non-null  float64\n",
      " 21  rougher.output.concentrate_ag                       14149 non-null  float64\n",
      " 22  rougher.output.concentrate_pb                       14149 non-null  float64\n",
      " 23  rougher.output.concentrate_sol                      14149 non-null  float64\n",
      " 24  rougher.output.concentrate_au                       14149 non-null  float64\n",
      " 25  rougher.output.recovery                             14149 non-null  float64\n",
      " 26  rougher.output.tail_ag                              14149 non-null  float64\n",
      " 27  rougher.output.tail_pb                              14149 non-null  float64\n",
      " 28  rougher.output.tail_sol                             14149 non-null  float64\n",
      " 29  rougher.output.tail_au                              14149 non-null  float64\n",
      " 30  secondary_cleaner.output.tail_ag                    14149 non-null  float64\n",
      " 31  secondary_cleaner.output.tail_pb                    14149 non-null  float64\n",
      " 32  secondary_cleaner.output.tail_sol                   14149 non-null  float64\n",
      " 33  secondary_cleaner.output.tail_au                    14149 non-null  float64\n",
      "dtypes: float64(34)\n",
      "memory usage: 3.7 MB\n"
     ]
    }
   ],
   "source": [
    "train[diffs].info()"
   ]
  },
  {
   "cell_type": "code",
   "execution_count": 19,
   "metadata": {},
   "outputs": [
    {
     "name": "stdout",
     "output_type": "stream",
     "text": [
      "<class 'pandas.core.frame.DataFrame'>\n",
      "RangeIndex: 19439 entries, 0 to 19438\n",
      "Data columns (total 34 columns):\n",
      " #   Column                                              Non-Null Count  Dtype  \n",
      "---  ------                                              --------------  -----  \n",
      " 0   final.output.concentrate_ag                         19438 non-null  float64\n",
      " 1   final.output.concentrate_pb                         19438 non-null  float64\n",
      " 2   final.output.concentrate_sol                        19228 non-null  float64\n",
      " 3   final.output.concentrate_au                         19439 non-null  float64\n",
      " 4   final.output.recovery                               19439 non-null  float64\n",
      " 5   final.output.tail_ag                                19438 non-null  float64\n",
      " 6   final.output.tail_pb                                19338 non-null  float64\n",
      " 7   final.output.tail_sol                               19433 non-null  float64\n",
      " 8   final.output.tail_au                                19439 non-null  float64\n",
      " 9   primary_cleaner.output.concentrate_ag               19439 non-null  float64\n",
      " 10  primary_cleaner.output.concentrate_pb               19323 non-null  float64\n",
      " 11  primary_cleaner.output.concentrate_sol              19069 non-null  float64\n",
      " 12  primary_cleaner.output.concentrate_au               19439 non-null  float64\n",
      " 13  primary_cleaner.output.tail_ag                      19435 non-null  float64\n",
      " 14  primary_cleaner.output.tail_pb                      19418 non-null  float64\n",
      " 15  primary_cleaner.output.tail_sol                     19377 non-null  float64\n",
      " 16  primary_cleaner.output.tail_au                      19439 non-null  float64\n",
      " 17  rougher.calculation.sulfate_to_au_concentrate       19437 non-null  float64\n",
      " 18  rougher.calculation.floatbank10_sulfate_to_au_feed  19437 non-null  float64\n",
      " 19  rougher.calculation.floatbank11_sulfate_to_au_feed  19437 non-null  float64\n",
      " 20  rougher.calculation.au_pb_ratio                     19439 non-null  float64\n",
      " 21  rougher.output.concentrate_ag                       19439 non-null  float64\n",
      " 22  rougher.output.concentrate_pb                       19439 non-null  float64\n",
      " 23  rougher.output.concentrate_sol                      19416 non-null  float64\n",
      " 24  rougher.output.concentrate_au                       19439 non-null  float64\n",
      " 25  rougher.output.recovery                             19439 non-null  float64\n",
      " 26  rougher.output.tail_ag                              19438 non-null  float64\n",
      " 27  rougher.output.tail_pb                              19439 non-null  float64\n",
      " 28  rougher.output.tail_sol                             19439 non-null  float64\n",
      " 29  rougher.output.tail_au                              19439 non-null  float64\n",
      " 30  secondary_cleaner.output.tail_ag                    19437 non-null  float64\n",
      " 31  secondary_cleaner.output.tail_pb                    19427 non-null  float64\n",
      " 32  secondary_cleaner.output.tail_sol                   17691 non-null  float64\n",
      " 33  secondary_cleaner.output.tail_au                    19439 non-null  float64\n",
      "dtypes: float64(34)\n",
      "memory usage: 5.0 MB\n"
     ]
    }
   ],
   "source": [
    "full[diffs].info()"
   ]
  },
  {
   "cell_type": "markdown",
   "metadata": {},
   "source": [
    "хм... а в полном датасете есть данные в этих полях в большем количестве, чем в размере треничровочного датасета.\n",
    "\n",
    "по сути это все столбцы с результатами этапов очистки. в моем понимании эти стоблцы не пригодны для обучения модели, так как  являются результатом какого-то этапа."
   ]
  },
  {
   "cell_type": "markdown",
   "metadata": {},
   "source": [
    "### подготовка данных к обучению"
   ]
  },
  {
   "cell_type": "markdown",
   "metadata": {},
   "source": [
    "пропуски мы уже заполнили, а кодировать и масштабировать данные я буду после раздела анализа"
   ]
  },
  {
   "cell_type": "markdown",
   "metadata": {},
   "source": [
    "## Анализ данных"
   ]
  },
  {
   "cell_type": "markdown",
   "metadata": {},
   "source": [
    "### Посмотрим, как меняется концентрация металлов (Au, Ag, Pb)"
   ]
  },
  {
   "cell_type": "code",
   "execution_count": 20,
   "metadata": {},
   "outputs": [
    {
     "data": {
      "image/png": "[encoded data removed]",
      "text/plain": [
       "<Figure size 432x288 with 1 Axes>"
      ]
     },
     "metadata": {
      "needs_background": "light"
     },
     "output_type": "display_data"
    }
   ],
   "source": [
    "train[['rougher.input.feed_au','rougher.input.feed_ag','rougher.input.feed_pb']].plot(\n",
    "    kind = 'hist',\n",
    "    bins= 50,\n",
    "    title = 'Входной состав'\n",
    ");"
   ]
  },
  {
   "cell_type": "code",
   "execution_count": 21,
   "metadata": {
    "scrolled": true
   },
   "outputs": [
    {
     "data": {
      "image/png": "[encoded data removed]",
      "text/plain": [
       "<Figure size 432x288 with 1 Axes>"
      ]
     },
     "metadata": {
      "needs_background": "light"
     },
     "output_type": "display_data"
    }
   ],
   "source": [
    "train[['rougher.output.concentrate_au','rougher.output.concentrate_ag','rougher.output.concentrate_pb']].plot(\n",
    "    kind = 'hist',\n",
    "    bins= 50,\n",
    "    title = 'Грубая очистка'\n",
    ");"
   ]
  },
  {
   "cell_type": "code",
   "execution_count": 22,
   "metadata": {},
   "outputs": [
    {
     "data": {
      "image/png": "[encoded data removed]",
      "text/plain": [
       "<Figure size 432x288 with 1 Axes>"
      ]
     },
     "metadata": {
      "needs_background": "light"
     },
     "output_type": "display_data"
    }
   ],
   "source": [
    "train[['primary_cleaner.output.concentrate_au',\n",
    "       'primary_cleaner.output.concentrate_ag',\n",
    "       'primary_cleaner.output.concentrate_pb']].plot(\n",
    "    kind = 'hist',\n",
    "    bins= 50,\n",
    "    title = 'Первичная очистка'\n",
    ");"
   ]
  },
  {
   "cell_type": "code",
   "execution_count": 23,
   "metadata": {},
   "outputs": [
    {
     "data": {
      "image/png": "[encoded data removed]",
      "text/plain": [
       "<Figure size 432x288 with 1 Axes>"
      ]
     },
     "metadata": {
      "needs_background": "light"
     },
     "output_type": "display_data"
    }
   ],
   "source": [
    "train[['final.output.concentrate_au',\n",
    "       'final.output.concentrate_ag',\n",
    "       'final.output.concentrate_pb']].plot(\n",
    "    kind = 'hist',\n",
    "    bins= 50,\n",
    "    title = 'Итоговый выход'\n",
    ");"
   ]
  },
  {
   "cell_type": "markdown",
   "metadata": {},
   "source": [
    "#### Вывод"
   ]
  },
  {
   "cell_type": "markdown",
   "metadata": {},
   "source": [
    "Концентрация золота растет, что вполне логично. ведь ради этого и работает весь технологический процесс.\n",
    "\n",
    "Концентрация Свинца остается практически неизменной после первой очистки.\n",
    "\n",
    "А вот концентрация Серебра падает, значит оно уходит из процесса вместе со \"шлаком\".\n",
    "\n",
    "так же стоит обратить внимание на то, что изменилось распределение концентраций. чем это вызвано затрудняюсь ответить, возможно с меньшим количеством мусора вожно сделать более точный количественный анализ, от сюда и разброс показаний меньше"
   ]
  },
  {
   "cell_type": "markdown",
   "metadata": {},
   "source": [
    "### Сравним распределения размеров гранул сырья на обучающей и тестовой выборках."
   ]
  },
  {
   "cell_type": "code",
   "execution_count": 24,
   "metadata": {},
   "outputs": [
    {
     "data": {
      "image/png": "[encoded data removed]",
      "text/plain": [
       "<Figure size 432x288 with 1 Axes>"
      ]
     },
     "metadata": {
      "needs_background": "light"
     },
     "output_type": "display_data"
    }
   ],
   "source": [
    "train['rougher.input.feed_size'].plot(\n",
    "    kind = 'hist',\n",
    "    bins= 50,\n",
    "    title = 'Тренировочная выборка'\n",
    ");"
   ]
  },
  {
   "cell_type": "code",
   "execution_count": 25,
   "metadata": {},
   "outputs": [
    {
     "data": {
      "image/png": "[encoded data removed]",
      "text/plain": [
       "<Figure size 432x288 with 1 Axes>"
      ]
     },
     "metadata": {
      "needs_background": "light"
     },
     "output_type": "display_data"
    }
   ],
   "source": [
    "test['rougher.input.feed_size'].plot(\n",
    "    kind = 'hist',\n",
    "    bins= 50,\n",
    "    title = 'Тестовая выборка'\n",
    ");"
   ]
  },
  {
   "cell_type": "markdown",
   "metadata": {},
   "source": [
    "#### Вывод"
   ]
  },
  {
   "cell_type": "markdown",
   "metadata": {},
   "source": [
    "визуально особых отличий нет, но на тренировочной выборке есть более большие выбросы."
   ]
  },
  {
   "cell_type": "code",
   "execution_count": 26,
   "metadata": {},
   "outputs": [],
   "source": [
    "s_test = pd.DataFrame(data=full['rougher.input.feed_au']+full['rougher.input.feed_ag']+full['rougher.input.feed_pb'],\n",
    "                     index = full.index)\n",
    "\n",
    "s_test['rougher.input.feed'] = full['rougher.input.feed_au']+full['rougher.input.feed_ag']+full['rougher.input.feed_pb']\n",
    "s_test['rougher.output.concentrate'] = full['rougher.output.concentrate_au']+full['rougher.output.concentrate_ag']+full['rougher.output.concentrate_pb']\n",
    "s_test['primary_cleaner.output.concentrate'] = full['primary_cleaner.output.concentrate_au']+full['primary_cleaner.output.concentrate_ag']+full['primary_cleaner.output.concentrate_pb']\n",
    "s_test['final.output.concentrate'] = full['final.output.concentrate_au']+full['final.output.concentrate_ag']+full['final.output.concentrate_pb']"
   ]
  },
  {
   "cell_type": "code",
   "execution_count": 27,
   "metadata": {},
   "outputs": [
    {
     "data": {
      "text/html": [
       "<div>\n",
       "<style scoped>\n",
       "    .dataframe tbody tr th:only-of-type {\n",
       "        vertical-align: middle;\n",
       "    }\n",
       "\n",
       "    .dataframe tbody tr th {\n",
       "        vertical-align: top;\n",
       "    }\n",
       "\n",
       "    .dataframe thead th {\n",
       "        text-align: right;\n",
       "    }\n",
       "</style>\n",
       "<table border=\"1\" class=\"dataframe\">\n",
       "  <thead>\n",
       "    <tr style=\"text-align: right;\">\n",
       "      <th></th>\n",
       "      <th>rougher.input.feed</th>\n",
       "      <th>rougher.output.concentrate</th>\n",
       "      <th>primary_cleaner.output.concentrate</th>\n",
       "      <th>final.output.concentrate</th>\n",
       "    </tr>\n",
       "  </thead>\n",
       "  <tbody>\n",
       "    <tr>\n",
       "      <th>0</th>\n",
       "      <td>14.871440</td>\n",
       "      <td>38.395653</td>\n",
       "      <td>53.111627</td>\n",
       "      <td>58.137072</td>\n",
       "    </tr>\n",
       "    <tr>\n",
       "      <th>1</th>\n",
       "      <td>14.905729</td>\n",
       "      <td>38.945647</td>\n",
       "      <td>53.174338</td>\n",
       "      <td>58.699942</td>\n",
       "    </tr>\n",
       "    <tr>\n",
       "      <th>2</th>\n",
       "      <td>14.638299</td>\n",
       "      <td>38.649756</td>\n",
       "      <td>52.927464</td>\n",
       "      <td>58.927421</td>\n",
       "    </tr>\n",
       "    <tr>\n",
       "      <th>3</th>\n",
       "      <td>14.199305</td>\n",
       "      <td>38.411473</td>\n",
       "      <td>43.979185</td>\n",
       "      <td>58.714815</td>\n",
       "    </tr>\n",
       "    <tr>\n",
       "      <th>4</th>\n",
       "      <td>13.511497</td>\n",
       "      <td>38.867359</td>\n",
       "      <td>52.121146</td>\n",
       "      <td>59.065251</td>\n",
       "    </tr>\n",
       "    <tr>\n",
       "      <th>...</th>\n",
       "      <td>...</td>\n",
       "      <td>...</td>\n",
       "      <td>...</td>\n",
       "      <td>...</td>\n",
       "    </tr>\n",
       "    <tr>\n",
       "      <th>19434</th>\n",
       "      <td>16.045275</td>\n",
       "      <td>40.712449</td>\n",
       "      <td>51.945355</td>\n",
       "      <td>61.295107</td>\n",
       "    </tr>\n",
       "    <tr>\n",
       "      <th>19435</th>\n",
       "      <td>15.104931</td>\n",
       "      <td>40.755632</td>\n",
       "      <td>52.161648</td>\n",
       "      <td>61.412113</td>\n",
       "    </tr>\n",
       "    <tr>\n",
       "      <th>19436</th>\n",
       "      <td>14.515579</td>\n",
       "      <td>32.589863</td>\n",
       "      <td>51.619196</td>\n",
       "      <td>61.340054</td>\n",
       "    </tr>\n",
       "    <tr>\n",
       "      <th>19437</th>\n",
       "      <td>14.313448</td>\n",
       "      <td>40.148948</td>\n",
       "      <td>50.273714</td>\n",
       "      <td>61.401016</td>\n",
       "    </tr>\n",
       "    <tr>\n",
       "      <th>19438</th>\n",
       "      <td>14.399936</td>\n",
       "      <td>40.465768</td>\n",
       "      <td>49.544487</td>\n",
       "      <td>61.635645</td>\n",
       "    </tr>\n",
       "  </tbody>\n",
       "</table>\n",
       "<p>19439 rows × 4 columns</p>\n",
       "</div>"
      ],
      "text/plain": [
       "       rougher.input.feed  rougher.output.concentrate  \\\n",
       "0               14.871440                   38.395653   \n",
       "1               14.905729                   38.945647   \n",
       "2               14.638299                   38.649756   \n",
       "3               14.199305                   38.411473   \n",
       "4               13.511497                   38.867359   \n",
       "...                   ...                         ...   \n",
       "19434           16.045275                   40.712449   \n",
       "19435           15.104931                   40.755632   \n",
       "19436           14.515579                   32.589863   \n",
       "19437           14.313448                   40.148948   \n",
       "19438           14.399936                   40.465768   \n",
       "\n",
       "       primary_cleaner.output.concentrate  final.output.concentrate  \n",
       "0                               53.111627                 58.137072  \n",
       "1                               53.174338                 58.699942  \n",
       "2                               52.927464                 58.927421  \n",
       "3                               43.979185                 58.714815  \n",
       "4                               52.121146                 59.065251  \n",
       "...                                   ...                       ...  \n",
       "19434                           51.945355                 61.295107  \n",
       "19435                           52.161648                 61.412113  \n",
       "19436                           51.619196                 61.340054  \n",
       "19437                           50.273714                 61.401016  \n",
       "19438                           49.544487                 61.635645  \n",
       "\n",
       "[19439 rows x 4 columns]"
      ]
     },
     "execution_count": 27,
     "metadata": {},
     "output_type": "execute_result"
    }
   ],
   "source": [
    "s_test= s_test.drop(0, axis = 1)\n",
    "s_test"
   ]
  },
  {
   "cell_type": "code",
   "execution_count": 28,
   "metadata": {},
   "outputs": [
    {
     "data": {
      "text/plain": [
       "<AxesSubplot:>"
      ]
     },
     "execution_count": 28,
     "metadata": {},
     "output_type": "execute_result"
    },
    {
     "data": {
      "image/png": "[encoded data removed]",
      "text/plain": [
       "<Figure size 432x288 with 1 Axes>"
      ]
     },
     "metadata": {
      "needs_background": "light"
     },
     "output_type": "display_data"
    }
   ],
   "source": [
    "#box = 1\n",
    "s_test.plot(\n",
    "    kind = 'box'\n",
    "\n",
    ")"
   ]
  },
  {
   "cell_type": "code",
   "execution_count": 29,
   "metadata": {},
   "outputs": [
    {
     "data": {
      "text/plain": [
       "<AxesSubplot:>"
      ]
     },
     "execution_count": 29,
     "metadata": {},
     "output_type": "execute_result"
    },
    {
     "data": {
      "image/png": "[encoded data removed]",
      "text/plain": [
       "<Figure size 1080x720 with 1 Axes>"
      ]
     },
     "metadata": {
      "needs_background": "light"
     },
     "output_type": "display_data"
    }
   ],
   "source": [
    "s_test.boxplot(figsize=(15,10))"
   ]
  },
  {
   "cell_type": "code",
   "execution_count": 30,
   "metadata": {},
   "outputs": [
    {
     "data": {
      "image/png": "[encoded data removed]",
      "text/plain": [
       "<Figure size 864x576 with 1 Axes>"
      ]
     },
     "metadata": {
      "needs_background": "light"
     },
     "output_type": "display_data"
    }
   ],
   "source": [
    "s_test.plot(\n",
    "    kind = 'hist',\n",
    "    bins= 70,\n",
    "    figsize = (12,8)\n",
    ");"
   ]
  },
  {
   "cell_type": "markdown",
   "metadata": {},
   "source": [
    "#### вывод"
   ]
  },
  {
   "cell_type": "markdown",
   "metadata": {},
   "source": [
    "нули по сумме всех трех металов? это явно какая-то ошибка."
   ]
  },
  {
   "cell_type": "markdown",
   "metadata": {},
   "source": [
    "### А теперь подготовим данные для машинного обучения"
   ]
  },
  {
   "cell_type": "markdown",
   "metadata": {},
   "source": [
    "избавимся от аномальных нулей и в тренировочной и в полной выборке"
   ]
  },
  {
   "cell_type": "code",
   "execution_count": 31,
   "metadata": {},
   "outputs": [],
   "source": [
    "index_to_drop = s_test[\n",
    "    (s_test['rougher.input.feed']==0) |\n",
    "    (s_test['rougher.output.concentrate']==0 )|\n",
    "    (s_test['primary_cleaner.output.concentrate']==0 )|\n",
    "    (s_test['final.output.concentrate']==0 )\n",
    "\n",
    "].index\n",
    "\n"
   ]
  },
  {
   "cell_type": "code",
   "execution_count": 32,
   "metadata": {},
   "outputs": [],
   "source": [
    "full = full.drop(index = index_to_drop)"
   ]
  },
  {
   "cell_type": "code",
   "execution_count": 33,
   "metadata": {},
   "outputs": [
    {
     "name": "stdout",
     "output_type": "stream",
     "text": [
      "<class 'pandas.core.frame.DataFrame'>\n",
      "Int64Index: 18848 entries, 0 to 19438\n",
      "Data columns (total 87 columns):\n",
      " #   Column                                              Non-Null Count  Dtype  \n",
      "---  ------                                              --------------  -----  \n",
      " 0   date                                                18848 non-null  object \n",
      " 1   final.output.concentrate_ag                         18847 non-null  float64\n",
      " 2   final.output.concentrate_pb                         18847 non-null  float64\n",
      " 3   final.output.concentrate_sol                        18641 non-null  float64\n",
      " 4   final.output.concentrate_au                         18848 non-null  float64\n",
      " 5   final.output.recovery                               18848 non-null  float64\n",
      " 6   final.output.tail_ag                                18848 non-null  float64\n",
      " 7   final.output.tail_pb                                18748 non-null  float64\n",
      " 8   final.output.tail_sol                               18844 non-null  float64\n",
      " 9   final.output.tail_au                                18848 non-null  float64\n",
      " 10  primary_cleaner.input.sulfate                       18841 non-null  float64\n",
      " 11  primary_cleaner.input.depressant                    18829 non-null  float64\n",
      " 12  primary_cleaner.input.feed_size                     18848 non-null  float64\n",
      " 13  primary_cleaner.input.xanthate                      18761 non-null  float64\n",
      " 14  primary_cleaner.output.concentrate_ag               18848 non-null  float64\n",
      " 15  primary_cleaner.output.concentrate_pb               18750 non-null  float64\n",
      " 16  primary_cleaner.output.concentrate_sol              18512 non-null  float64\n",
      " 17  primary_cleaner.output.concentrate_au               18848 non-null  float64\n",
      " 18  primary_cleaner.output.tail_ag                      18844 non-null  float64\n",
      " 19  primary_cleaner.output.tail_pb                      18827 non-null  float64\n",
      " 20  primary_cleaner.output.tail_sol                     18797 non-null  float64\n",
      " 21  primary_cleaner.output.tail_au                      18848 non-null  float64\n",
      " 22  primary_cleaner.state.floatbank8_a_air              18844 non-null  float64\n",
      " 23  primary_cleaner.state.floatbank8_a_level            18847 non-null  float64\n",
      " 24  primary_cleaner.state.floatbank8_b_air              18844 non-null  float64\n",
      " 25  primary_cleaner.state.floatbank8_b_level            18847 non-null  float64\n",
      " 26  primary_cleaner.state.floatbank8_c_air              18846 non-null  float64\n",
      " 27  primary_cleaner.state.floatbank8_c_level            18847 non-null  float64\n",
      " 28  primary_cleaner.state.floatbank8_d_air              18845 non-null  float64\n",
      " 29  primary_cleaner.state.floatbank8_d_level            18847 non-null  float64\n",
      " 30  rougher.calculation.sulfate_to_au_concentrate       18846 non-null  float64\n",
      " 31  rougher.calculation.floatbank10_sulfate_to_au_feed  18846 non-null  float64\n",
      " 32  rougher.calculation.floatbank11_sulfate_to_au_feed  18846 non-null  float64\n",
      " 33  rougher.calculation.au_pb_ratio                     18848 non-null  float64\n",
      " 34  rougher.input.feed_ag                               18848 non-null  float64\n",
      " 35  rougher.input.feed_pb                               18748 non-null  float64\n",
      " 36  rougher.input.feed_rate                             18837 non-null  float64\n",
      " 37  rougher.input.feed_size                             18709 non-null  float64\n",
      " 38  rougher.input.feed_sol                              18766 non-null  float64\n",
      " 39  rougher.input.feed_au                               18848 non-null  float64\n",
      " 40  rougher.input.floatbank10_sulfate                   18825 non-null  float64\n",
      " 41  rougher.input.floatbank10_xanthate                  18845 non-null  float64\n",
      " 42  rougher.input.floatbank11_sulfate                   18816 non-null  float64\n",
      " 43  rougher.input.floatbank11_xanthate                  18447 non-null  float64\n",
      " 44  rougher.output.concentrate_ag                       18848 non-null  float64\n",
      " 45  rougher.output.concentrate_pb                       18848 non-null  float64\n",
      " 46  rougher.output.concentrate_sol                      18829 non-null  float64\n",
      " 47  rougher.output.concentrate_au                       18848 non-null  float64\n",
      " 48  rougher.output.recovery                             18848 non-null  float64\n",
      " 49  rougher.output.tail_ag                              18847 non-null  float64\n",
      " 50  rougher.output.tail_pb                              18848 non-null  float64\n",
      " 51  rougher.output.tail_sol                             18848 non-null  float64\n",
      " 52  rougher.output.tail_au                              18848 non-null  float64\n",
      " 53  rougher.state.floatbank10_a_air                     18847 non-null  float64\n",
      " 54  rougher.state.floatbank10_a_level                   18847 non-null  float64\n",
      " 55  rougher.state.floatbank10_b_air                     18847 non-null  float64\n",
      " 56  rougher.state.floatbank10_b_level                   18847 non-null  float64\n",
      " 57  rougher.state.floatbank10_c_air                     18847 non-null  float64\n",
      " 58  rougher.state.floatbank10_c_level                   18847 non-null  float64\n",
      " 59  rougher.state.floatbank10_d_air                     18848 non-null  float64\n",
      " 60  rougher.state.floatbank10_d_level                   18848 non-null  float64\n",
      " 61  rougher.state.floatbank10_e_air                     18478 non-null  float64\n",
      " 62  rougher.state.floatbank10_e_level                   18848 non-null  float64\n",
      " 63  rougher.state.floatbank10_f_air                     18848 non-null  float64\n",
      " 64  rougher.state.floatbank10_f_level                   18848 non-null  float64\n",
      " 65  secondary_cleaner.output.tail_ag                    18847 non-null  float64\n",
      " 66  secondary_cleaner.output.tail_pb                    18838 non-null  float64\n",
      " 67  secondary_cleaner.output.tail_sol                   17145 non-null  float64\n",
      " 68  secondary_cleaner.output.tail_au                    18848 non-null  float64\n",
      " 69  secondary_cleaner.state.floatbank2_a_air            18632 non-null  float64\n",
      " 70  secondary_cleaner.state.floatbank2_a_level          18847 non-null  float64\n",
      " 71  secondary_cleaner.state.floatbank2_b_air            18839 non-null  float64\n",
      " 72  secondary_cleaner.state.floatbank2_b_level          18847 non-null  float64\n",
      " 73  secondary_cleaner.state.floatbank3_a_air            18836 non-null  float64\n",
      " 74  secondary_cleaner.state.floatbank3_a_level          18847 non-null  float64\n",
      " 75  secondary_cleaner.state.floatbank3_b_air            18847 non-null  float64\n",
      " 76  secondary_cleaner.state.floatbank3_b_level          18847 non-null  float64\n",
      " 77  secondary_cleaner.state.floatbank4_a_air            18844 non-null  float64\n",
      " 78  secondary_cleaner.state.floatbank4_a_level          18847 non-null  float64\n",
      " 79  secondary_cleaner.state.floatbank4_b_air            18847 non-null  float64\n",
      " 80  secondary_cleaner.state.floatbank4_b_level          18847 non-null  float64\n",
      " 81  secondary_cleaner.state.floatbank5_a_air            18847 non-null  float64\n",
      " 82  secondary_cleaner.state.floatbank5_a_level          18847 non-null  float64\n",
      " 83  secondary_cleaner.state.floatbank5_b_air            18847 non-null  float64\n",
      " 84  secondary_cleaner.state.floatbank5_b_level          18847 non-null  float64\n",
      " 85  secondary_cleaner.state.floatbank6_a_air            18847 non-null  float64\n",
      " 86  secondary_cleaner.state.floatbank6_a_level          18847 non-null  float64\n",
      "dtypes: float64(86), object(1)\n",
      "memory usage: 12.7+ MB\n"
     ]
    }
   ],
   "source": [
    "full.info()"
   ]
  },
  {
   "cell_type": "markdown",
   "metadata": {},
   "source": [
    "для тренировочной выборки повторим аналогичную калькуляцию (хотя в теории по индексам выше можно получить временные метки замеров и по ним и удалить, но боюсь запутаться)"
   ]
  },
  {
   "cell_type": "code",
   "execution_count": 35,
   "metadata": {},
   "outputs": [],
   "source": [
    "s_train = pd.DataFrame(data=train['rougher.input.feed_au'],\n",
    "                     index = full.index)\n",
    "\n",
    "s_train['rougher.input.feed'] = train['rougher.input.feed_au']+train['rougher.input.feed_ag']+train['rougher.input.feed_pb']\n",
    "s_train['rougher.output.concentrate'] = train['rougher.output.concentrate_au']+train['rougher.output.concentrate_ag']+train['rougher.output.concentrate_pb']\n",
    "s_train['primary_cleaner.output.concentrate'] = train['primary_cleaner.output.concentrate_au']+train['primary_cleaner.output.concentrate_ag']+train['primary_cleaner.output.concentrate_pb']\n",
    "s_train['final.output.concentrate'] = train['final.output.concentrate_au']+train['final.output.concentrate_ag']+train['final.output.concentrate_pb']"
   ]
  },
  {
   "cell_type": "code",
   "execution_count": 38,
   "metadata": {},
   "outputs": [],
   "source": [
    "s_train = s_train.drop('rougher.input.feed_au', axis = 1)\n"
   ]
  },
  {
   "cell_type": "code",
   "execution_count": 39,
   "metadata": {},
   "outputs": [],
   "source": [
    "index_to_drop = s_train[\n",
    "    (s_train['rougher.input.feed']==0) |\n",
    "    (s_train['rougher.output.concentrate']==0 )|\n",
    "    (s_train['primary_cleaner.output.concentrate']==0 )|\n",
    "    (s_train['final.output.concentrate']==0 )\n",
    "\n",
    "].index\n",
    "\n"
   ]
  },
  {
   "cell_type": "code",
   "execution_count": 40,
   "metadata": {},
   "outputs": [],
   "source": [
    "train = train.drop(index = index_to_drop)"
   ]
  },
  {
   "cell_type": "code",
   "execution_count": 41,
   "metadata": {},
   "outputs": [
    {
     "name": "stdout",
     "output_type": "stream",
     "text": [
      "<class 'pandas.core.frame.DataFrame'>\n",
      "Int64Index: 13794 entries, 0 to 14148\n",
      "Data columns (total 87 columns):\n",
      " #   Column                                              Non-Null Count  Dtype  \n",
      "---  ------                                              --------------  -----  \n",
      " 0   date                                                13794 non-null  object \n",
      " 1   final.output.concentrate_ag                         13794 non-null  float64\n",
      " 2   final.output.concentrate_pb                         13794 non-null  float64\n",
      " 3   final.output.concentrate_sol                        13794 non-null  float64\n",
      " 4   final.output.concentrate_au                         13794 non-null  float64\n",
      " 5   final.output.recovery                               13794 non-null  float64\n",
      " 6   final.output.tail_ag                                13794 non-null  float64\n",
      " 7   final.output.tail_pb                                13794 non-null  float64\n",
      " 8   final.output.tail_sol                               13794 non-null  float64\n",
      " 9   final.output.tail_au                                13794 non-null  float64\n",
      " 10  primary_cleaner.input.sulfate                       13794 non-null  float64\n",
      " 11  primary_cleaner.input.depressant                    13794 non-null  float64\n",
      " 12  primary_cleaner.input.feed_size                     13794 non-null  float64\n",
      " 13  primary_cleaner.input.xanthate                      13794 non-null  float64\n",
      " 14  primary_cleaner.output.concentrate_ag               13794 non-null  float64\n",
      " 15  primary_cleaner.output.concentrate_pb               13794 non-null  float64\n",
      " 16  primary_cleaner.output.concentrate_sol              13794 non-null  float64\n",
      " 17  primary_cleaner.output.concentrate_au               13794 non-null  float64\n",
      " 18  primary_cleaner.output.tail_ag                      13794 non-null  float64\n",
      " 19  primary_cleaner.output.tail_pb                      13794 non-null  float64\n",
      " 20  primary_cleaner.output.tail_sol                     13794 non-null  float64\n",
      " 21  primary_cleaner.output.tail_au                      13794 non-null  float64\n",
      " 22  primary_cleaner.state.floatbank8_a_air              13794 non-null  float64\n",
      " 23  primary_cleaner.state.floatbank8_a_level            13794 non-null  float64\n",
      " 24  primary_cleaner.state.floatbank8_b_air              13794 non-null  float64\n",
      " 25  primary_cleaner.state.floatbank8_b_level            13794 non-null  float64\n",
      " 26  primary_cleaner.state.floatbank8_c_air              13794 non-null  float64\n",
      " 27  primary_cleaner.state.floatbank8_c_level            13794 non-null  float64\n",
      " 28  primary_cleaner.state.floatbank8_d_air              13794 non-null  float64\n",
      " 29  primary_cleaner.state.floatbank8_d_level            13794 non-null  float64\n",
      " 30  rougher.calculation.sulfate_to_au_concentrate       13794 non-null  float64\n",
      " 31  rougher.calculation.floatbank10_sulfate_to_au_feed  13794 non-null  float64\n",
      " 32  rougher.calculation.floatbank11_sulfate_to_au_feed  13794 non-null  float64\n",
      " 33  rougher.calculation.au_pb_ratio                     13794 non-null  float64\n",
      " 34  rougher.input.feed_ag                               13794 non-null  float64\n",
      " 35  rougher.input.feed_pb                               13794 non-null  float64\n",
      " 36  rougher.input.feed_rate                             13794 non-null  float64\n",
      " 37  rougher.input.feed_size                             13794 non-null  float64\n",
      " 38  rougher.input.feed_sol                              13794 non-null  float64\n",
      " 39  rougher.input.feed_au                               13794 non-null  float64\n",
      " 40  rougher.input.floatbank10_sulfate                   13794 non-null  float64\n",
      " 41  rougher.input.floatbank10_xanthate                  13794 non-null  float64\n",
      " 42  rougher.input.floatbank11_sulfate                   13794 non-null  float64\n",
      " 43  rougher.input.floatbank11_xanthate                  13794 non-null  float64\n",
      " 44  rougher.output.concentrate_ag                       13794 non-null  float64\n",
      " 45  rougher.output.concentrate_pb                       13794 non-null  float64\n",
      " 46  rougher.output.concentrate_sol                      13794 non-null  float64\n",
      " 47  rougher.output.concentrate_au                       13794 non-null  float64\n",
      " 48  rougher.output.recovery                             13794 non-null  float64\n",
      " 49  rougher.output.tail_ag                              13794 non-null  float64\n",
      " 50  rougher.output.tail_pb                              13794 non-null  float64\n",
      " 51  rougher.output.tail_sol                             13794 non-null  float64\n",
      " 52  rougher.output.tail_au                              13794 non-null  float64\n",
      " 53  rougher.state.floatbank10_a_air                     13794 non-null  float64\n",
      " 54  rougher.state.floatbank10_a_level                   13794 non-null  float64\n",
      " 55  rougher.state.floatbank10_b_air                     13794 non-null  float64\n",
      " 56  rougher.state.floatbank10_b_level                   13794 non-null  float64\n",
      " 57  rougher.state.floatbank10_c_air                     13794 non-null  float64\n",
      " 58  rougher.state.floatbank10_c_level                   13794 non-null  float64\n",
      " 59  rougher.state.floatbank10_d_air                     13794 non-null  float64\n",
      " 60  rougher.state.floatbank10_d_level                   13794 non-null  float64\n",
      " 61  rougher.state.floatbank10_e_air                     13794 non-null  float64\n",
      " 62  rougher.state.floatbank10_e_level                   13794 non-null  float64\n",
      " 63  rougher.state.floatbank10_f_air                     13794 non-null  float64\n",
      " 64  rougher.state.floatbank10_f_level                   13794 non-null  float64\n",
      " 65  secondary_cleaner.output.tail_ag                    13794 non-null  float64\n",
      " 66  secondary_cleaner.output.tail_pb                    13794 non-null  float64\n",
      " 67  secondary_cleaner.output.tail_sol                   13794 non-null  float64\n",
      " 68  secondary_cleaner.output.tail_au                    13794 non-null  float64\n",
      " 69  secondary_cleaner.state.floatbank2_a_air            13794 non-null  float64\n",
      " 70  secondary_cleaner.state.floatbank2_a_level          13794 non-null  float64\n",
      " 71  secondary_cleaner.state.floatbank2_b_air            13794 non-null  float64\n",
      " 72  secondary_cleaner.state.floatbank2_b_level          13794 non-null  float64\n",
      " 73  secondary_cleaner.state.floatbank3_a_air            13794 non-null  float64\n",
      " 74  secondary_cleaner.state.floatbank3_a_level          13794 non-null  float64\n",
      " 75  secondary_cleaner.state.floatbank3_b_air            13794 non-null  float64\n",
      " 76  secondary_cleaner.state.floatbank3_b_level          13794 non-null  float64\n",
      " 77  secondary_cleaner.state.floatbank4_a_air            13794 non-null  float64\n",
      " 78  secondary_cleaner.state.floatbank4_a_level          13794 non-null  float64\n",
      " 79  secondary_cleaner.state.floatbank4_b_air            13794 non-null  float64\n",
      " 80  secondary_cleaner.state.floatbank4_b_level          13794 non-null  float64\n",
      " 81  secondary_cleaner.state.floatbank5_a_air            13794 non-null  float64\n",
      " 82  secondary_cleaner.state.floatbank5_a_level          13794 non-null  float64\n",
      " 83  secondary_cleaner.state.floatbank5_b_air            13794 non-null  float64\n",
      " 84  secondary_cleaner.state.floatbank5_b_level          13794 non-null  float64\n",
      " 85  secondary_cleaner.state.floatbank6_a_air            13794 non-null  float64\n",
      " 86  secondary_cleaner.state.floatbank6_a_level          13794 non-null  float64\n",
      "dtypes: float64(86), object(1)\n",
      "memory usage: 9.3+ MB\n"
     ]
    }
   ],
   "source": [
    "train.info()"
   ]
  },
  {
   "cell_type": "markdown",
   "metadata": {},
   "source": [
    "удалим из тренировочной выборки лишние столбцы, которые по сути являются результатом - переменная diffs, но исключим целевые признаки из этого списка"
   ]
  },
  {
   "cell_type": "code",
   "execution_count": 43,
   "metadata": {},
   "outputs": [
    {
     "data": {
      "text/plain": [
       "['final.output.concentrate_ag',\n",
       " 'final.output.concentrate_pb',\n",
       " 'final.output.concentrate_sol',\n",
       " 'final.output.concentrate_au',\n",
       " 'final.output.tail_ag',\n",
       " 'final.output.tail_pb',\n",
       " 'final.output.tail_sol',\n",
       " 'final.output.tail_au',\n",
       " 'primary_cleaner.output.concentrate_ag',\n",
       " 'primary_cleaner.output.concentrate_pb',\n",
       " 'primary_cleaner.output.concentrate_sol',\n",
       " 'primary_cleaner.output.concentrate_au',\n",
       " 'primary_cleaner.output.tail_ag',\n",
       " 'primary_cleaner.output.tail_pb',\n",
       " 'primary_cleaner.output.tail_sol',\n",
       " 'primary_cleaner.output.tail_au',\n",
       " 'rougher.calculation.sulfate_to_au_concentrate',\n",
       " 'rougher.calculation.floatbank10_sulfate_to_au_feed',\n",
       " 'rougher.calculation.floatbank11_sulfate_to_au_feed',\n",
       " 'rougher.calculation.au_pb_ratio',\n",
       " 'rougher.output.concentrate_ag',\n",
       " 'rougher.output.concentrate_pb',\n",
       " 'rougher.output.concentrate_sol',\n",
       " 'rougher.output.concentrate_au',\n",
       " 'rougher.output.tail_ag',\n",
       " 'rougher.output.tail_pb',\n",
       " 'rougher.output.tail_sol',\n",
       " 'rougher.output.tail_au',\n",
       " 'secondary_cleaner.output.tail_ag',\n",
       " 'secondary_cleaner.output.tail_pb',\n",
       " 'secondary_cleaner.output.tail_sol',\n",
       " 'secondary_cleaner.output.tail_au']"
      ]
     },
     "execution_count": 43,
     "metadata": {},
     "output_type": "execute_result"
    }
   ],
   "source": [
    "diffs_to_drop = []\n",
    "for value in diffs:\n",
    "    if (value not in 'rougher.output.recovery') and (value not in 'final.output.recovery'):\n",
    "        diffs_to_drop.append(value)\n",
    "diffs_to_drop"
   ]
  },
  {
   "cell_type": "code",
   "execution_count": 64,
   "metadata": {},
   "outputs": [],
   "source": [
    "train = train.drop(diffs_to_drop, axis=1)"
   ]
  },
  {
   "cell_type": "markdown",
   "metadata": {},
   "source": [
    "теперь в тустовую выборку добавим целевые признаки из общего датасета. соединим таблицы по дате"
   ]
  },
  {
   "cell_type": "code",
   "execution_count": 56,
   "metadata": {},
   "outputs": [
    {
     "name": "stdout",
     "output_type": "stream",
     "text": [
      "<class 'pandas.core.frame.DataFrame'>\n",
      "Int64Index: 5290 entries, 0 to 5289\n",
      "Data columns (total 55 columns):\n",
      " #   Column                                      Non-Null Count  Dtype  \n",
      "---  ------                                      --------------  -----  \n",
      " 0   date                                        5290 non-null   object \n",
      " 1   primary_cleaner.input.sulfate               5290 non-null   float64\n",
      " 2   primary_cleaner.input.depressant            5290 non-null   float64\n",
      " 3   primary_cleaner.input.feed_size             5290 non-null   float64\n",
      " 4   primary_cleaner.input.xanthate              5290 non-null   float64\n",
      " 5   primary_cleaner.state.floatbank8_a_air      5290 non-null   float64\n",
      " 6   primary_cleaner.state.floatbank8_a_level    5290 non-null   float64\n",
      " 7   primary_cleaner.state.floatbank8_b_air      5290 non-null   float64\n",
      " 8   primary_cleaner.state.floatbank8_b_level    5290 non-null   float64\n",
      " 9   primary_cleaner.state.floatbank8_c_air      5290 non-null   float64\n",
      " 10  primary_cleaner.state.floatbank8_c_level    5290 non-null   float64\n",
      " 11  primary_cleaner.state.floatbank8_d_air      5290 non-null   float64\n",
      " 12  primary_cleaner.state.floatbank8_d_level    5290 non-null   float64\n",
      " 13  rougher.input.feed_ag                       5290 non-null   float64\n",
      " 14  rougher.input.feed_pb                       5290 non-null   float64\n",
      " 15  rougher.input.feed_rate                     5290 non-null   float64\n",
      " 16  rougher.input.feed_size                     5290 non-null   float64\n",
      " 17  rougher.input.feed_sol                      5290 non-null   float64\n",
      " 18  rougher.input.feed_au                       5290 non-null   float64\n",
      " 19  rougher.input.floatbank10_sulfate           5290 non-null   float64\n",
      " 20  rougher.input.floatbank10_xanthate          5290 non-null   float64\n",
      " 21  rougher.input.floatbank11_sulfate           5290 non-null   float64\n",
      " 22  rougher.input.floatbank11_xanthate          5290 non-null   float64\n",
      " 23  rougher.state.floatbank10_a_air             5290 non-null   float64\n",
      " 24  rougher.state.floatbank10_a_level           5290 non-null   float64\n",
      " 25  rougher.state.floatbank10_b_air             5290 non-null   float64\n",
      " 26  rougher.state.floatbank10_b_level           5290 non-null   float64\n",
      " 27  rougher.state.floatbank10_c_air             5290 non-null   float64\n",
      " 28  rougher.state.floatbank10_c_level           5290 non-null   float64\n",
      " 29  rougher.state.floatbank10_d_air             5290 non-null   float64\n",
      " 30  rougher.state.floatbank10_d_level           5290 non-null   float64\n",
      " 31  rougher.state.floatbank10_e_air             5290 non-null   float64\n",
      " 32  rougher.state.floatbank10_e_level           5290 non-null   float64\n",
      " 33  rougher.state.floatbank10_f_air             5290 non-null   float64\n",
      " 34  rougher.state.floatbank10_f_level           5290 non-null   float64\n",
      " 35  secondary_cleaner.state.floatbank2_a_air    5290 non-null   float64\n",
      " 36  secondary_cleaner.state.floatbank2_a_level  5290 non-null   float64\n",
      " 37  secondary_cleaner.state.floatbank2_b_air    5290 non-null   float64\n",
      " 38  secondary_cleaner.state.floatbank2_b_level  5290 non-null   float64\n",
      " 39  secondary_cleaner.state.floatbank3_a_air    5290 non-null   float64\n",
      " 40  secondary_cleaner.state.floatbank3_a_level  5290 non-null   float64\n",
      " 41  secondary_cleaner.state.floatbank3_b_air    5290 non-null   float64\n",
      " 42  secondary_cleaner.state.floatbank3_b_level  5290 non-null   float64\n",
      " 43  secondary_cleaner.state.floatbank4_a_air    5290 non-null   float64\n",
      " 44  secondary_cleaner.state.floatbank4_a_level  5290 non-null   float64\n",
      " 45  secondary_cleaner.state.floatbank4_b_air    5290 non-null   float64\n",
      " 46  secondary_cleaner.state.floatbank4_b_level  5290 non-null   float64\n",
      " 47  secondary_cleaner.state.floatbank5_a_air    5290 non-null   float64\n",
      " 48  secondary_cleaner.state.floatbank5_a_level  5290 non-null   float64\n",
      " 49  secondary_cleaner.state.floatbank5_b_air    5290 non-null   float64\n",
      " 50  secondary_cleaner.state.floatbank5_b_level  5290 non-null   float64\n",
      " 51  secondary_cleaner.state.floatbank6_a_air    5290 non-null   float64\n",
      " 52  secondary_cleaner.state.floatbank6_a_level  5290 non-null   float64\n",
      " 53  rougher.output.recovery                     5123 non-null   float64\n",
      " 54  final.output.recovery                       5123 non-null   float64\n",
      "dtypes: float64(54), object(1)\n",
      "memory usage: 2.3+ MB\n"
     ]
    }
   ],
   "source": [
    "\n",
    "\n",
    "test = test.merge(full[['date','rougher.output.recovery', 'final.output.recovery']], how = 'left', on='date')\n",
    "test.info()"
   ]
  },
  {
   "cell_type": "markdown",
   "metadata": {},
   "source": [
    "получилось несколько строк с пустым целевым признаком. удаляем"
   ]
  },
  {
   "cell_type": "code",
   "execution_count": 58,
   "metadata": {},
   "outputs": [
    {
     "name": "stdout",
     "output_type": "stream",
     "text": [
      "<class 'pandas.core.frame.DataFrame'>\n",
      "Int64Index: 5123 entries, 0 to 5289\n",
      "Data columns (total 55 columns):\n",
      " #   Column                                      Non-Null Count  Dtype  \n",
      "---  ------                                      --------------  -----  \n",
      " 0   date                                        5123 non-null   object \n",
      " 1   primary_cleaner.input.sulfate               5123 non-null   float64\n",
      " 2   primary_cleaner.input.depressant            5123 non-null   float64\n",
      " 3   primary_cleaner.input.feed_size             5123 non-null   float64\n",
      " 4   primary_cleaner.input.xanthate              5123 non-null   float64\n",
      " 5   primary_cleaner.state.floatbank8_a_air      5123 non-null   float64\n",
      " 6   primary_cleaner.state.floatbank8_a_level    5123 non-null   float64\n",
      " 7   primary_cleaner.state.floatbank8_b_air      5123 non-null   float64\n",
      " 8   primary_cleaner.state.floatbank8_b_level    5123 non-null   float64\n",
      " 9   primary_cleaner.state.floatbank8_c_air      5123 non-null   float64\n",
      " 10  primary_cleaner.state.floatbank8_c_level    5123 non-null   float64\n",
      " 11  primary_cleaner.state.floatbank8_d_air      5123 non-null   float64\n",
      " 12  primary_cleaner.state.floatbank8_d_level    5123 non-null   float64\n",
      " 13  rougher.input.feed_ag                       5123 non-null   float64\n",
      " 14  rougher.input.feed_pb                       5123 non-null   float64\n",
      " 15  rougher.input.feed_rate                     5123 non-null   float64\n",
      " 16  rougher.input.feed_size                     5123 non-null   float64\n",
      " 17  rougher.input.feed_sol                      5123 non-null   float64\n",
      " 18  rougher.input.feed_au                       5123 non-null   float64\n",
      " 19  rougher.input.floatbank10_sulfate           5123 non-null   float64\n",
      " 20  rougher.input.floatbank10_xanthate          5123 non-null   float64\n",
      " 21  rougher.input.floatbank11_sulfate           5123 non-null   float64\n",
      " 22  rougher.input.floatbank11_xanthate          5123 non-null   float64\n",
      " 23  rougher.state.floatbank10_a_air             5123 non-null   float64\n",
      " 24  rougher.state.floatbank10_a_level           5123 non-null   float64\n",
      " 25  rougher.state.floatbank10_b_air             5123 non-null   float64\n",
      " 26  rougher.state.floatbank10_b_level           5123 non-null   float64\n",
      " 27  rougher.state.floatbank10_c_air             5123 non-null   float64\n",
      " 28  rougher.state.floatbank10_c_level           5123 non-null   float64\n",
      " 29  rougher.state.floatbank10_d_air             5123 non-null   float64\n",
      " 30  rougher.state.floatbank10_d_level           5123 non-null   float64\n",
      " 31  rougher.state.floatbank10_e_air             5123 non-null   float64\n",
      " 32  rougher.state.floatbank10_e_level           5123 non-null   float64\n",
      " 33  rougher.state.floatbank10_f_air             5123 non-null   float64\n",
      " 34  rougher.state.floatbank10_f_level           5123 non-null   float64\n",
      " 35  secondary_cleaner.state.floatbank2_a_air    5123 non-null   float64\n",
      " 36  secondary_cleaner.state.floatbank2_a_level  5123 non-null   float64\n",
      " 37  secondary_cleaner.state.floatbank2_b_air    5123 non-null   float64\n",
      " 38  secondary_cleaner.state.floatbank2_b_level  5123 non-null   float64\n",
      " 39  secondary_cleaner.state.floatbank3_a_air    5123 non-null   float64\n",
      " 40  secondary_cleaner.state.floatbank3_a_level  5123 non-null   float64\n",
      " 41  secondary_cleaner.state.floatbank3_b_air    5123 non-null   float64\n",
      " 42  secondary_cleaner.state.floatbank3_b_level  5123 non-null   float64\n",
      " 43  secondary_cleaner.state.floatbank4_a_air    5123 non-null   float64\n",
      " 44  secondary_cleaner.state.floatbank4_a_level  5123 non-null   float64\n",
      " 45  secondary_cleaner.state.floatbank4_b_air    5123 non-null   float64\n",
      " 46  secondary_cleaner.state.floatbank4_b_level  5123 non-null   float64\n",
      " 47  secondary_cleaner.state.floatbank5_a_air    5123 non-null   float64\n",
      " 48  secondary_cleaner.state.floatbank5_a_level  5123 non-null   float64\n",
      " 49  secondary_cleaner.state.floatbank5_b_air    5123 non-null   float64\n",
      " 50  secondary_cleaner.state.floatbank5_b_level  5123 non-null   float64\n",
      " 51  secondary_cleaner.state.floatbank6_a_air    5123 non-null   float64\n",
      " 52  secondary_cleaner.state.floatbank6_a_level  5123 non-null   float64\n",
      " 53  rougher.output.recovery                     5123 non-null   float64\n",
      " 54  final.output.recovery                       5123 non-null   float64\n",
      "dtypes: float64(54), object(1)\n",
      "memory usage: 2.2+ MB\n"
     ]
    }
   ],
   "source": [
    "test = test.dropna()\n",
    "test.info()"
   ]
  },
  {
   "cell_type": "markdown",
   "metadata": {},
   "source": [
    "теперь удалим столбец даты"
   ]
  },
  {
   "cell_type": "code",
   "execution_count": 59,
   "metadata": {},
   "outputs": [],
   "source": [
    "test = test.drop('date',axis=1)\n",
    "train = train.drop('date',axis=1)"
   ]
  },
  {
   "cell_type": "markdown",
   "metadata": {},
   "source": [
    "разбиваем выборки на ключевые и учебные, выделять валидационную выборку не будем, так как по заданию требуется кросс валидация"
   ]
  },
  {
   "cell_type": "code",
   "execution_count": 65,
   "metadata": {},
   "outputs": [],
   "source": [
    "test_feat = test.drop(['rougher.output.recovery', 'final.output.recovery'],axis=1)\n",
    "test_targ = test[['rougher.output.recovery', 'final.output.recovery']]\n",
    "train_feat = train.drop(['rougher.output.recovery', 'final.output.recovery'],axis=1)\n",
    "train_targ = train[['rougher.output.recovery', 'final.output.recovery']]"
   ]
  },
  {
   "cell_type": "markdown",
   "metadata": {},
   "source": [
    "масштабируем признаки"
   ]
  },
  {
   "cell_type": "code",
   "execution_count": 66,
   "metadata": {},
   "outputs": [],
   "source": [
    "scaler = StandardScaler()\n",
    "scaler.fit(train_feat)\n",
    "train_feat = scaler.transform(train_feat)\n",
    "test_feat = scaler.transform(test_feat)"
   ]
  },
  {
   "cell_type": "markdown",
   "metadata": {},
   "source": [
    "#### данные подготовлены к моделям обучения"
   ]
  },
  {
   "cell_type": "markdown",
   "metadata": {},
   "source": [
    "## Модель"
   ]
  },
  {
   "cell_type": "markdown",
   "metadata": {},
   "source": [
    "### функция sMAPE"
   ]
  },
  {
   "cell_type": "code",
   "execution_count": 68,
   "metadata": {},
   "outputs": [],
   "source": [
    "def sMAPE_calc(predict, target):\n",
    "    predict_rougher = predict['rougher.output.recovery']\n",
    "    predict_final = predict['final.output.recovery']\n",
    "    target_rougher = target[:,0]\n",
    "    target_final = target[:,1]\n",
    "    sMAPE_rougher = np.sum(abs(target_rougher - predict_rougher) / (\n",
    "        (abs(target_rougher) + abs(predict_rougher)) / 2))\n",
    "    sMAPE_rougher = sMAPE_rougher / len(target_rougher) * 100\n",
    "       \n",
    "    sMAPE_final = np.sum(abs(target_final - predict_final) / ((abs(target_final) + abs(predict_final)) / 2))\n",
    "    sMAPE_final = sMAPE_final / len(target_final) * 100\n",
    "    \n",
    "    sMAPE = 0.25 * sMAPE_rougher + 0.75 * sMAPE_final\n",
    "    return sMAPE"
   ]
  },
  {
   "cell_type": "markdown",
   "metadata": {},
   "source": [
    "### проверяем"
   ]
  },
  {
   "cell_type": "markdown",
   "metadata": {},
   "source": [
    "дерево"
   ]
  },
  {
   "cell_type": "code",
   "execution_count": 71,
   "metadata": {},
   "outputs": [],
   "source": [
    "custom_Scoring=make_scorer(sMAPE_calc, greater_is_better=True)"
   ]
  },
  {
   "cell_type": "code",
   "execution_count": 84,
   "metadata": {},
   "outputs": [
    {
     "name": "stdout",
     "output_type": "stream",
     "text": [
      "средняя ошибка: 9.462434673551911\n",
      "при глубине 1\n"
     ]
    }
   ],
   "source": [
    "best_res = 10**9\n",
    "for depth in range(1, 11):\n",
    "    model = DecisionTreeRegressor(random_state = 12345, max_depth = depth)\n",
    "    \n",
    "    scores=cross_val_score(model, train_feat , train_targ, cv=5, scoring=custom_Scoring)\n",
    "    res = scores.mean()\n",
    "    if res< best_res:\n",
    "        best_res = res\n",
    "        best_depth = depth\n",
    "print('средняя ошибка:', best_res)\n",
    "print('при глубине',best_depth)\n"
   ]
  },
  {
   "cell_type": "code",
   "execution_count": 88,
   "metadata": {},
   "outputs": [
    {
     "name": "stdout",
     "output_type": "stream",
     "text": [
      "10.170167963453839 2 61\n"
     ]
    }
   ],
   "source": [
    "model = RandomForestRegressor(random_state = 12345, n_estimators = 10, max_depth = 10)\n",
    "scores=cross_val_score(model, train_feat , train_targ, cv=5, scoring=custom_Scoring)\n",
    "res = scores.mean()\n",
    "print(res, depth, est)"
   ]
  },
  {
   "cell_type": "code",
   "execution_count": 90,
   "metadata": {},
   "outputs": [
    {
     "name": "stdout",
     "output_type": "stream",
     "text": [
      "9.799303905090122 1 1\n",
      "9.515731620366783 1 11\n",
      "9.472296475278478 1 21\n",
      "9.468133825277322 1 31\n",
      "9.42916147015114 1 41\n",
      "9.41398441558478 1 51\n",
      "9.41526327762438 1 61\n",
      "9.400018329442533 1 71\n",
      "9.398478589295895 1 81\n",
      "9.387410115997445 1 91\n",
      "9.38617971234385 1 101\n",
      "9.802256380971993 2 1\n",
      "9.409439698512653 2 11\n",
      "9.330583383370302 2 21\n",
      "9.348048435490302 2 31\n",
      "9.319631743715744 2 41\n",
      "9.296239279564736 2 51\n",
      "9.284963513799596 2 61\n",
      "9.289395699412553 2 71\n",
      "9.288279795047325 2 81\n",
      "9.288577504242685 2 91\n",
      "9.293684148321143 2 101\n",
      "10.1572551981504 3 1\n",
      "9.281463453275348 3 11\n",
      "9.23176549712472 3 21\n",
      "9.188934571182283 3 31\n",
      "9.145941802252056 3 41\n",
      "9.117197822219108 3 51\n",
      "9.095840108982419 3 61\n",
      "9.099670503794513 3 71\n",
      "9.087084363130435 3 81\n",
      "9.07189397801468 3 91\n",
      "9.084210753562314 3 101\n",
      "10.11719594755644 4 1\n",
      "9.286999797377238 4 11\n",
      "9.285875658293714 4 21\n",
      "9.16661475360867 4 31\n",
      "9.213439109022014 4 41\n",
      "9.201204149892598 4 51\n",
      "9.174006295384334 4 61\n",
      "9.208398413689071 4 71\n",
      "9.195309935613787 4 81\n",
      "9.167422928045312 4 91\n",
      "9.186656733647117 4 101\n",
      "12.391262090651662 5 1\n",
      "9.562038391766361 5 11\n",
      "9.510803748003179 5 21\n",
      "9.360669524543647 5 31\n",
      "9.350391482452277 5 41\n",
      "9.342097160905656 5 51\n",
      "9.316636648716038 5 61\n",
      "9.361438354518219 5 71\n",
      "9.336050973140058 5 81\n",
      "9.308651572805541 5 91\n",
      "9.323662701064782 5 101\n",
      "средняя ошибка: 9.07189397801468\n",
      "при глубине 3 и деревьях 91\n"
     ]
    }
   ],
   "source": [
    "best_res = 10**9\n",
    "for depth in range(1, 6):\n",
    "    for est in range(1, 102, 10):\n",
    "        model = RandomForestRegressor(random_state = 12345, n_estimators = est, max_depth = depth)\n",
    "\n",
    "        scores=cross_val_score(model, train_feat , train_targ, cv=5, scoring=custom_Scoring)\n",
    "        res = scores.mean()\n",
    "        print(res, depth, est)\n",
    "        if res< best_res:\n",
    "            best_res = res\n",
    "            best_depth = depth\n",
    "            best_est = est\n",
    "print('средняя ошибка:', best_res)\n",
    "print('при глубине',best_depth, 'и деревьях', best_est)"
   ]
  },
  {
   "cell_type": "code",
   "execution_count": 92,
   "metadata": {},
   "outputs": [
    {
     "name": "stdout",
     "output_type": "stream",
     "text": [
      "10.519913225975447\n"
     ]
    }
   ],
   "source": [
    "model = LinearRegression()\n",
    "scores=cross_val_score(model, train_feat , train_targ, cv=5, scoring=custom_Scoring)\n",
    "res = scores.mean()\n",
    "print(res)"
   ]
  },
  {
   "cell_type": "markdown",
   "metadata": {},
   "source": [
    "победитель - случайный лес при 91 дереве глубине 3. посчитаем крос валидацию dummy модели, убедимся в адекватности найденной."
   ]
  },
  {
   "cell_type": "markdown",
   "metadata": {},
   "source": [
    "### dummy model"
   ]
  },
  {
   "cell_type": "code",
   "execution_count": 95,
   "metadata": {},
   "outputs": [
    {
     "name": "stdout",
     "output_type": "stream",
     "text": [
      "10.101500399830575\n"
     ]
    }
   ],
   "source": [
    "model =  DummyRegressor()\n",
    "scores=cross_val_score(model, train_feat , train_targ, cv=5, scoring=custom_Scoring)\n",
    "res = scores.mean()\n",
    "print(res)"
   ]
  },
  {
   "cell_type": "markdown",
   "metadata": {},
   "source": [
    "#### вывод"
   ]
  },
  {
   "cell_type": "markdown",
   "metadata": {},
   "source": [
    "подобранный лес точно лучше"
   ]
  },
  {
   "cell_type": "markdown",
   "metadata": {},
   "source": [
    "### Тестируем"
   ]
  },
  {
   "cell_type": "markdown",
   "metadata": {},
   "source": [
    "обучим уже модель с определенными параметрами на всей тренировочной выборке"
   ]
  },
  {
   "cell_type": "code",
   "execution_count": 103,
   "metadata": {},
   "outputs": [
    {
     "data": {
      "text/plain": [
       "array([[85.34855739, 69.76025645],\n",
       "       [85.29650492, 69.69346538],\n",
       "       [85.29650492, 69.69346538],\n",
       "       ...,\n",
       "       [91.98990472, 74.30141819],\n",
       "       [91.98990472, 74.30141819],\n",
       "       [91.98990472, 74.30141819]])"
      ]
     },
     "execution_count": 103,
     "metadata": {},
     "output_type": "execute_result"
    }
   ],
   "source": [
    "model = RandomForestRegressor(random_state = 12345, n_estimators = 91, max_depth = 3)\n",
    "model.fit(train_feat , train_targ)\n",
    "preds = model.predict(test_feat)\n",
    "\n",
    "preds"
   ]
  },
  {
   "cell_type": "code",
   "execution_count": 104,
   "metadata": {},
   "outputs": [
    {
     "data": {
      "text/plain": [
       "7.0149925734567695"
      ]
     },
     "execution_count": 104,
     "metadata": {},
     "output_type": "execute_result"
    }
   ],
   "source": [
    "#preds = pd.DataFrame(preds)\n",
    "#preds.columns=['rougher.output.recovery', 'final.output.recovery']\n",
    "score = sMAPE_calc(test_targ, preds)\n",
    "score"
   ]
  },
  {
   "cell_type": "markdown",
   "metadata": {},
   "source": [
    "что-то не так с функцией скора, нумерованные и именованные столбцы почему-то тут не в том порядке попадают, поэтому таргеты и предикты скормил в обратном порядке. (глядя на формулу sMape от замены местами таргета и предикта не меняется ничего)"
   ]
  },
  {
   "cell_type": "markdown",
   "metadata": {},
   "source": [
    "## Общий вывод"
   ]
  },
  {
   "cell_type": "markdown",
   "metadata": {},
   "source": [
    "Модель обучена, проверена на адекватность, протестирована на тестовой выборке. можно использовать и на других данных, подготовив их тем же способом, что и при обучении."
   ]
  }
 ],
 "metadata": {
  "ExecuteTimeLog": [
   {
    "duration": 405,
    "start_time": "2022-07-23T19:08:47.106Z"
   },
   {
    "duration": 1878,
    "start_time": "2022-07-23T19:10:28.595Z"
   },
   {
    "duration": 29,
    "start_time": "2022-07-23T19:10:39.138Z"
   },
   {
    "duration": 31,
    "start_time": "2022-07-23T19:11:27.095Z"
   },
   {
    "duration": 22,
    "start_time": "2022-07-23T19:12:20.041Z"
   },
   {
    "duration": 15,
    "start_time": "2022-07-23T19:12:28.526Z"
   },
   {
    "duration": 23,
    "start_time": "2022-07-23T19:12:37.998Z"
   },
   {
    "duration": 17,
    "start_time": "2022-07-23T19:12:45.353Z"
   },
   {
    "duration": 46,
    "start_time": "2022-07-24T07:51:56.549Z"
   },
   {
    "duration": 381,
    "start_time": "2022-07-24T07:52:04.502Z"
   },
   {
    "duration": 2898,
    "start_time": "2022-07-24T07:52:04.886Z"
   },
   {
    "duration": 28,
    "start_time": "2022-07-24T07:52:07.786Z"
   },
   {
    "duration": 19,
    "start_time": "2022-07-24T07:52:07.816Z"
   },
   {
    "duration": 37,
    "start_time": "2022-07-24T07:52:07.836Z"
   },
   {
    "duration": 18,
    "start_time": "2022-07-24T07:52:07.875Z"
   },
   {
    "duration": 25,
    "start_time": "2022-07-24T07:52:07.895Z"
   },
   {
    "duration": 26,
    "start_time": "2022-07-24T07:52:07.946Z"
   },
   {
    "duration": 33,
    "start_time": "2022-07-24T07:52:07.974Z"
   },
   {
    "duration": 399,
    "start_time": "2022-07-24T07:52:55.952Z"
   },
   {
    "duration": 657,
    "start_time": "2022-07-24T07:52:56.353Z"
   },
   {
    "duration": 34,
    "start_time": "2022-07-24T07:52:57.012Z"
   },
   {
    "duration": 17,
    "start_time": "2022-07-24T07:52:57.048Z"
   },
   {
    "duration": 18,
    "start_time": "2022-07-24T07:52:57.066Z"
   },
   {
    "duration": 19,
    "start_time": "2022-07-24T07:52:57.086Z"
   },
   {
    "duration": 42,
    "start_time": "2022-07-24T07:52:57.107Z"
   },
   {
    "duration": 19,
    "start_time": "2022-07-24T07:52:57.150Z"
   },
   {
    "duration": 20,
    "start_time": "2022-07-24T07:52:57.171Z"
   },
   {
    "duration": 3,
    "start_time": "2022-07-24T09:02:10.157Z"
   },
   {
    "duration": 65,
    "start_time": "2022-07-24T09:11:16.364Z"
   },
   {
    "duration": 32,
    "start_time": "2022-07-24T09:11:26.709Z"
   },
   {
    "duration": 388,
    "start_time": "2022-07-24T09:12:00.562Z"
   },
   {
    "duration": 692,
    "start_time": "2022-07-24T09:12:00.952Z"
   },
   {
    "duration": 27,
    "start_time": "2022-07-24T09:12:01.645Z"
   },
   {
    "duration": 25,
    "start_time": "2022-07-24T09:12:01.674Z"
   },
   {
    "duration": 20,
    "start_time": "2022-07-24T09:12:01.701Z"
   },
   {
    "duration": 40,
    "start_time": "2022-07-24T09:12:01.723Z"
   },
   {
    "duration": 53,
    "start_time": "2022-07-24T09:12:01.765Z"
   },
   {
    "duration": 45,
    "start_time": "2022-07-24T09:12:01.820Z"
   },
   {
    "duration": 20,
    "start_time": "2022-07-24T09:12:01.867Z"
   },
   {
    "duration": 4,
    "start_time": "2022-07-24T09:12:01.889Z"
   },
   {
    "duration": 76,
    "start_time": "2022-07-24T09:12:01.895Z"
   },
   {
    "duration": 8,
    "start_time": "2022-07-24T09:21:39.320Z"
   },
   {
    "duration": 966,
    "start_time": "2022-07-24T09:22:00.671Z"
   },
   {
    "duration": 6,
    "start_time": "2022-07-24T09:22:51.616Z"
   },
   {
    "duration": 3,
    "start_time": "2022-07-24T09:23:19.991Z"
   },
   {
    "duration": 9,
    "start_time": "2022-07-24T09:23:20.681Z"
   },
   {
    "duration": 6,
    "start_time": "2022-07-24T09:23:28.698Z"
   },
   {
    "duration": 713,
    "start_time": "2022-07-24T09:37:52.120Z"
   },
   {
    "duration": 5,
    "start_time": "2022-07-24T09:44:25.267Z"
   },
   {
    "duration": 5,
    "start_time": "2022-07-24T09:44:40.971Z"
   },
   {
    "duration": 4,
    "start_time": "2022-07-24T10:07:08.737Z"
   },
   {
    "duration": 5,
    "start_time": "2022-07-24T10:07:16.666Z"
   },
   {
    "duration": 4,
    "start_time": "2022-07-24T10:08:40.408Z"
   },
   {
    "duration": 16,
    "start_time": "2022-07-24T10:14:54.193Z"
   },
   {
    "duration": 3,
    "start_time": "2022-07-24T10:42:21.385Z"
   },
   {
    "duration": 47,
    "start_time": "2022-07-24T10:43:08.429Z"
   },
   {
    "duration": 57,
    "start_time": "2022-07-24T10:44:26.282Z"
   },
   {
    "duration": 4,
    "start_time": "2022-07-24T10:44:41.791Z"
   },
   {
    "duration": 6,
    "start_time": "2022-07-24T10:44:50.933Z"
   },
   {
    "duration": 27,
    "start_time": "2022-07-24T10:59:31.673Z"
   },
   {
    "duration": 16,
    "start_time": "2022-07-24T10:59:53.289Z"
   },
   {
    "duration": 14,
    "start_time": "2022-07-24T11:00:12.771Z"
   },
   {
    "duration": 60,
    "start_time": "2022-07-24T12:09:28.360Z"
   },
   {
    "duration": 531,
    "start_time": "2022-07-24T12:11:39.533Z"
   },
   {
    "duration": 342,
    "start_time": "2022-07-24T12:12:10.837Z"
   },
   {
    "duration": 521,
    "start_time": "2022-07-24T12:15:03.685Z"
   },
   {
    "duration": 356,
    "start_time": "2022-07-24T12:15:15.926Z"
   },
   {
    "duration": 129,
    "start_time": "2022-07-24T12:16:15.839Z"
   },
   {
    "duration": 443,
    "start_time": "2022-07-24T12:16:58.756Z"
   },
   {
    "duration": 346,
    "start_time": "2022-07-24T12:17:11.495Z"
   },
   {
    "duration": 459,
    "start_time": "2022-07-24T12:18:11.552Z"
   },
   {
    "duration": 365,
    "start_time": "2022-07-24T12:20:34.385Z"
   },
   {
    "duration": 14,
    "start_time": "2022-07-24T12:21:23.667Z"
   },
   {
    "duration": 327,
    "start_time": "2022-07-24T12:22:09.561Z"
   },
   {
    "duration": 341,
    "start_time": "2022-07-24T12:22:19.131Z"
   },
   {
    "duration": 450,
    "start_time": "2022-07-24T12:22:26.531Z"
   },
   {
    "duration": 362,
    "start_time": "2022-07-24T12:34:00.880Z"
   },
   {
    "duration": 384,
    "start_time": "2022-07-24T12:34:15.765Z"
   },
   {
    "duration": 169,
    "start_time": "2022-07-24T12:34:36.148Z"
   },
   {
    "duration": 192,
    "start_time": "2022-07-24T12:35:02.860Z"
   },
   {
    "duration": 51,
    "start_time": "2022-07-24T12:36:01.999Z"
   },
   {
    "duration": 50,
    "start_time": "2022-07-24T12:36:57.460Z"
   },
   {
    "duration": 374,
    "start_time": "2022-07-24T12:37:00.124Z"
   },
   {
    "duration": 172,
    "start_time": "2022-07-24T12:37:03.248Z"
   },
   {
    "duration": 360,
    "start_time": "2022-07-24T13:20:23.427Z"
   },
   {
    "duration": 6,
    "start_time": "2022-07-24T13:32:03.157Z"
   },
   {
    "duration": 9,
    "start_time": "2022-07-24T13:34:47.654Z"
   },
   {
    "duration": 8,
    "start_time": "2022-07-24T13:35:09.557Z"
   },
   {
    "duration": 8,
    "start_time": "2022-07-24T13:37:15.518Z"
   },
   {
    "duration": 57,
    "start_time": "2022-07-24T13:37:58.437Z"
   },
   {
    "duration": 10,
    "start_time": "2022-07-24T13:38:05.160Z"
   },
   {
    "duration": 20,
    "start_time": "2022-07-24T13:38:26.537Z"
   },
   {
    "duration": 4,
    "start_time": "2022-07-24T13:39:08.219Z"
   },
   {
    "duration": 10,
    "start_time": "2022-07-24T13:40:24.009Z"
   },
   {
    "duration": 8,
    "start_time": "2022-07-24T13:40:55.998Z"
   },
   {
    "duration": 7,
    "start_time": "2022-07-24T13:45:52.288Z"
   },
   {
    "duration": 3,
    "start_time": "2022-07-24T13:45:54.405Z"
   },
   {
    "duration": 4,
    "start_time": "2022-07-24T13:46:11.430Z"
   },
   {
    "duration": 8,
    "start_time": "2022-07-24T13:46:14.715Z"
   },
   {
    "duration": 3,
    "start_time": "2022-07-24T13:46:15.285Z"
   },
   {
    "duration": 10,
    "start_time": "2022-07-24T13:46:26.905Z"
   },
   {
    "duration": 12,
    "start_time": "2022-07-24T13:46:44.274Z"
   },
   {
    "duration": 13,
    "start_time": "2022-07-24T13:47:14.877Z"
   },
   {
    "duration": 11,
    "start_time": "2022-07-24T13:47:47.403Z"
   },
   {
    "duration": 12,
    "start_time": "2022-07-24T13:47:57.541Z"
   },
   {
    "duration": 12,
    "start_time": "2022-07-24T13:48:31.058Z"
   },
   {
    "duration": 264,
    "start_time": "2022-07-24T13:48:39.416Z"
   },
   {
    "duration": 154,
    "start_time": "2022-07-24T13:48:58.215Z"
   },
   {
    "duration": 255,
    "start_time": "2022-07-24T13:59:08.435Z"
   },
   {
    "duration": 250,
    "start_time": "2022-07-24T13:59:32.739Z"
   },
   {
    "duration": 476,
    "start_time": "2022-07-24T14:13:41.303Z"
   },
   {
    "duration": 510,
    "start_time": "2022-07-24T14:14:22.507Z"
   },
   {
    "duration": 761,
    "start_time": "2022-07-24T14:14:42.360Z"
   },
   {
    "duration": 278,
    "start_time": "2022-07-24T14:20:30.704Z"
   },
   {
    "duration": 10,
    "start_time": "2022-07-24T14:21:39.246Z"
   },
   {
    "duration": 8,
    "start_time": "2022-07-24T14:24:05.200Z"
   },
   {
    "duration": 6,
    "start_time": "2022-07-24T14:25:03.004Z"
   },
   {
    "duration": 12,
    "start_time": "2022-07-24T14:25:12.564Z"
   },
   {
    "duration": 18,
    "start_time": "2022-07-24T14:25:34.268Z"
   },
   {
    "duration": 21,
    "start_time": "2022-07-24T14:26:16.162Z"
   },
   {
    "duration": 1040,
    "start_time": "2022-07-24T14:28:47.761Z"
   },
   {
    "duration": 773,
    "start_time": "2022-07-24T14:28:48.803Z"
   },
   {
    "duration": 27,
    "start_time": "2022-07-24T14:28:49.578Z"
   },
   {
    "duration": 16,
    "start_time": "2022-07-24T14:28:49.606Z"
   },
   {
    "duration": 39,
    "start_time": "2022-07-24T14:28:49.624Z"
   },
   {
    "duration": 14,
    "start_time": "2022-07-24T14:28:49.665Z"
   },
   {
    "duration": 17,
    "start_time": "2022-07-24T14:28:49.681Z"
   },
   {
    "duration": 21,
    "start_time": "2022-07-24T14:28:49.699Z"
   },
   {
    "duration": 37,
    "start_time": "2022-07-24T14:28:49.721Z"
   },
   {
    "duration": 3,
    "start_time": "2022-07-24T14:28:49.760Z"
   },
   {
    "duration": 13,
    "start_time": "2022-07-24T14:28:49.764Z"
   },
   {
    "duration": 8,
    "start_time": "2022-07-24T14:28:49.778Z"
   },
   {
    "duration": 7,
    "start_time": "2022-07-24T14:28:49.787Z"
   },
   {
    "duration": 4,
    "start_time": "2022-07-24T14:28:49.797Z"
   },
   {
    "duration": 7,
    "start_time": "2022-07-24T14:28:49.803Z"
   },
   {
    "duration": 7,
    "start_time": "2022-07-24T14:28:49.811Z"
   },
   {
    "duration": 27,
    "start_time": "2022-07-24T14:28:49.820Z"
   },
   {
    "duration": 32,
    "start_time": "2022-07-24T14:28:49.849Z"
   },
   {
    "duration": 14,
    "start_time": "2022-07-24T14:28:49.882Z"
   },
   {
    "duration": 616,
    "start_time": "2022-07-24T14:28:49.897Z"
   },
   {
    "duration": 367,
    "start_time": "2022-07-24T14:28:50.515Z"
   },
   {
    "duration": 457,
    "start_time": "2022-07-24T14:28:50.885Z"
   },
   {
    "duration": 368,
    "start_time": "2022-07-24T14:28:51.346Z"
   },
   {
    "duration": 178,
    "start_time": "2022-07-24T14:28:51.717Z"
   },
   {
    "duration": 195,
    "start_time": "2022-07-24T14:28:51.897Z"
   },
   {
    "duration": 11,
    "start_time": "2022-07-24T14:28:52.094Z"
   },
   {
    "duration": 13,
    "start_time": "2022-07-24T14:28:52.106Z"
   },
   {
    "duration": 169,
    "start_time": "2022-07-24T14:28:52.121Z"
   },
   {
    "duration": 248,
    "start_time": "2022-07-24T14:28:52.291Z"
   },
   {
    "duration": 731,
    "start_time": "2022-07-24T14:28:52.541Z"
   },
   {
    "duration": 6,
    "start_time": "2022-07-24T14:30:24.334Z"
   },
   {
    "duration": 11,
    "start_time": "2022-07-24T14:30:24.887Z"
   },
   {
    "duration": 19,
    "start_time": "2022-07-24T14:30:25.265Z"
   },
   {
    "duration": 112,
    "start_time": "2022-07-24T14:30:26.612Z"
   },
   {
    "duration": 13,
    "start_time": "2022-07-24T14:34:03.297Z"
   },
   {
    "duration": 16,
    "start_time": "2022-07-24T14:34:04.886Z"
   },
   {
    "duration": 14,
    "start_time": "2022-07-24T14:34:27.535Z"
   },
   {
    "duration": 5,
    "start_time": "2022-07-24T14:35:11.243Z"
   },
   {
    "duration": 7,
    "start_time": "2022-07-24T14:36:08.859Z"
   },
   {
    "duration": 9,
    "start_time": "2022-07-24T14:36:09.918Z"
   },
   {
    "duration": 25,
    "start_time": "2022-07-24T14:36:13.239Z"
   },
   {
    "duration": 5,
    "start_time": "2022-07-24T15:03:27.970Z"
   },
   {
    "duration": 5,
    "start_time": "2022-07-24T15:04:00.630Z"
   },
   {
    "duration": 54,
    "start_time": "2022-07-24T15:05:50.464Z"
   },
   {
    "duration": 15,
    "start_time": "2022-07-24T15:10:19.358Z"
   },
   {
    "duration": 14,
    "start_time": "2022-07-24T15:10:46.768Z"
   },
   {
    "duration": 12,
    "start_time": "2022-07-24T15:11:10.484Z"
   },
   {
    "duration": 19,
    "start_time": "2022-07-24T15:11:35.136Z"
   },
   {
    "duration": 20,
    "start_time": "2022-07-24T15:12:41.746Z"
   },
   {
    "duration": 17,
    "start_time": "2022-07-24T15:14:02.240Z"
   },
   {
    "duration": 12,
    "start_time": "2022-07-24T15:14:48.259Z"
   },
   {
    "duration": 12,
    "start_time": "2022-07-24T15:14:59.419Z"
   },
   {
    "duration": 11,
    "start_time": "2022-07-24T15:15:12.034Z"
   },
   {
    "duration": 12,
    "start_time": "2022-07-24T15:15:19.657Z"
   },
   {
    "duration": 24,
    "start_time": "2022-07-24T15:15:35.145Z"
   },
   {
    "duration": 24,
    "start_time": "2022-07-24T15:15:56.858Z"
   },
   {
    "duration": 10,
    "start_time": "2022-07-24T15:26:24.915Z"
   },
   {
    "duration": 18,
    "start_time": "2022-07-24T15:27:37.519Z"
   },
   {
    "duration": 9,
    "start_time": "2022-07-24T15:29:19.865Z"
   },
   {
    "duration": 13,
    "start_time": "2022-07-24T15:34:50.624Z"
   },
   {
    "duration": 901,
    "start_time": "2022-07-24T15:36:56.559Z"
   },
   {
    "duration": 12,
    "start_time": "2022-07-24T15:37:40.718Z"
   },
   {
    "duration": 43,
    "start_time": "2022-07-24T15:40:40.078Z"
   },
   {
    "duration": 7,
    "start_time": "2022-07-24T15:42:05.278Z"
   },
   {
    "duration": 11,
    "start_time": "2022-07-24T15:42:21.528Z"
   },
   {
    "duration": 24,
    "start_time": "2022-07-24T15:42:23.733Z"
   },
   {
    "duration": 4,
    "start_time": "2022-07-24T15:54:25.304Z"
   },
   {
    "duration": 4,
    "start_time": "2022-07-24T15:59:27.014Z"
   },
   {
    "duration": 3,
    "start_time": "2022-07-24T15:59:52.982Z"
   },
   {
    "duration": 61,
    "start_time": "2022-07-24T16:07:31.630Z"
   },
   {
    "duration": 3,
    "start_time": "2022-07-24T16:16:01.185Z"
   },
   {
    "duration": 16,
    "start_time": "2022-07-24T16:20:22.792Z"
   },
   {
    "duration": 9,
    "start_time": "2022-07-24T16:20:45.525Z"
   },
   {
    "duration": 95,
    "start_time": "2022-07-24T16:21:12.109Z"
   },
   {
    "duration": 5638,
    "start_time": "2022-07-24T16:22:08.825Z"
   },
   {
    "duration": 1477,
    "start_time": "2022-07-24T16:25:14.312Z"
   },
   {
    "duration": 4,
    "start_time": "2022-07-24T16:25:47.852Z"
   },
   {
    "duration": 1614,
    "start_time": "2022-07-24T16:25:55.979Z"
   },
   {
    "duration": 4708,
    "start_time": "2022-07-24T16:26:05.620Z"
   },
   {
    "duration": 1189,
    "start_time": "2022-07-24T16:26:30.483Z"
   },
   {
    "duration": 951,
    "start_time": "2022-07-24T16:26:43.284Z"
   },
   {
    "duration": 4456,
    "start_time": "2022-07-24T16:28:02.577Z"
   },
   {
    "duration": 4773,
    "start_time": "2022-07-24T16:32:59.108Z"
   },
   {
    "duration": 16899,
    "start_time": "2022-07-24T16:35:33.027Z"
   },
   {
    "duration": 62,
    "start_time": "2022-07-24T16:37:08.441Z"
   },
   {
    "duration": 0,
    "start_time": "2022-07-24T16:39:58.413Z"
   },
   {
    "duration": 8925,
    "start_time": "2022-07-24T16:40:54.365Z"
   },
   {
    "duration": 16249,
    "start_time": "2022-07-24T16:41:29.160Z"
   },
   {
    "duration": 89924,
    "start_time": "2022-07-24T16:41:58.433Z"
   },
   {
    "duration": 1579115,
    "start_time": "2022-07-24T16:43:49.414Z"
   },
   {
    "duration": 2199,
    "start_time": "2022-07-24T17:11:55.848Z"
   },
   {
    "duration": 1504,
    "start_time": "2022-07-24T17:12:10.260Z"
   },
   {
    "duration": 4,
    "start_time": "2022-07-24T17:13:34.863Z"
   },
   {
    "duration": 35,
    "start_time": "2022-07-24T17:14:36.472Z"
   },
   {
    "duration": 44,
    "start_time": "2022-07-24T17:14:45.609Z"
   },
   {
    "duration": 92,
    "start_time": "2022-07-24T17:16:33.544Z"
   },
   {
    "duration": 3,
    "start_time": "2022-07-24T17:17:14.114Z"
   },
   {
    "duration": 12763,
    "start_time": "2022-07-24T17:19:05.971Z"
   },
   {
    "duration": 12982,
    "start_time": "2022-07-24T17:20:15.558Z"
   },
   {
    "duration": 8,
    "start_time": "2022-07-24T17:21:17.960Z"
   },
   {
    "duration": 9,
    "start_time": "2022-07-24T17:22:24.723Z"
   },
   {
    "duration": 541,
    "start_time": "2022-07-24T17:22:46.059Z"
   },
   {
    "duration": 12749,
    "start_time": "2022-07-24T17:24:07.260Z"
   },
   {
    "duration": 7,
    "start_time": "2022-07-24T17:24:43.583Z"
   }
  ],
  "kernelspec": {
   "display_name": "Python 3 (ipykernel)",
   "language": "python",
   "name": "python3"
  },
  "language_info": {
   "codemirror_mode": {
    "name": "ipython",
    "version": 3
   },
   "file_extension": ".py",
   "mimetype": "text/x-python",
   "name": "python",
   "nbconvert_exporter": "python",
   "pygments_lexer": "ipython3",
   "version": "3.10.9"
  },
  "toc": {
   "base_numbering": 1,
   "nav_menu": {},
   "number_sections": true,
   "sideBar": true,
   "skip_h1_title": true,
   "title_cell": "Содержание",
   "title_sidebar": "Contents",
   "toc_cell": true,
   "toc_position": {},
   "toc_section_display": true,
   "toc_window_display": true
  }
 },
 "nbformat": 4,
 "nbformat_minor": 2
}
